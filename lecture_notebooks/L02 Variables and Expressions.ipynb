{
 "cells": [
  {
   "cell_type": "markdown",
   "metadata": {
    "id": "cjsgMup6ktUd",
    "slideshow": {
     "slide_type": "slide"
    }
   },
   "source": [
    "# Lecture 2 - Variables and Expressions (https://bit.ly/intro_python_02)\n",
    "\n",
    "Today:\n",
    "* Variables\n",
    "* Assignment is not equals\n",
    "* Copying References\n",
    "* Expressions\n",
    "* Statements\n",
    "* Variable Names\n",
    "* Operators\n",
    "* Abbreviated assignment\n",
    "* Boolean Types\n",
    "* Comparison operators\n",
    "* Logical operators\n",
    "* Type Conversion To the Boolean Type  \n",
    "* Order of operations\n",
    "* Simplifying Complex Expressions\n"
   ]
  },
  {
   "cell_type": "markdown",
   "metadata": {
    "id": "OkA6aiONlE7b",
    "slideshow": {
     "slide_type": "slide"
    }
   },
   "source": [
    "# Variables"
   ]
  },
  {
   "cell_type": "code",
   "execution_count": 3,
   "metadata": {
    "executionInfo": {
     "elapsed": 363,
     "status": "ok",
     "timestamp": 1607391378206,
     "user": {
      "displayName": "Benedict Paten",
      "photoUrl": "https://lh3.googleusercontent.com/a-/AOh14Gh2rYrrH6yoNnUp0Oj4p4ouybc6ZcWGyPmKFtIY=s64",
      "userId": "06399644931392855882"
     },
     "user_tz": 480
    },
    "id": "7vBJtWFslI-G",
    "slideshow": {
     "slide_type": "fragment"
    }
   },
   "outputs": [],
   "source": [
    "# As in algebra, we use variables to 'refer' to things\n",
    "\n",
    "x = 1 # x is a variable referring to the int 1\n",
    "\n",
    "y = \"foo\" # y is a variable referring to the string \"foo\""
   ]
  },
  {
   "cell_type": "markdown",
   "metadata": {
    "id": "S0j3Xtd1DhKp",
    "slideshow": {
     "slide_type": "fragment"
    }
   },
   "source": [
    "Think of x as \"referring to 1\". That is x is really a reference to the 'object' representing 1. \n",
    "  * x -----> 1\n",
    "  * y ------> \"foo\"\n",
    "\n",
    "Under the hood, in general, there is a piece of memory (bits) representing x \n",
    "that stores the location of where the value 1 is actually stored in memory. \n",
    "\n",
    "Sometimes, in some languages, x or y stores the content directly, e.g. x is actually \n",
    "memory representing 1. However in Python variables are references."
   ]
  },
  {
   "cell_type": "markdown",
   "metadata": {
    "id": "s8eUIhrM9xjr",
    "slideshow": {
     "slide_type": "slide"
    }
   },
   "source": [
    "# Assignment is not equals"
   ]
  },
  {
   "cell_type": "code",
   "execution_count": 4,
   "metadata": {
    "colab": {
     "base_uri": "https://localhost:8080/"
    },
    "executionInfo": {
     "elapsed": 349,
     "status": "ok",
     "timestamp": 1607391380918,
     "user": {
      "displayName": "Benedict Paten",
      "photoUrl": "https://lh3.googleusercontent.com/a-/AOh14Gh2rYrrH6yoNnUp0Oj4p4ouybc6ZcWGyPmKFtIY=s64",
      "userId": "06399644931392855882"
     },
     "user_tz": 480
    },
    "id": "1ADmdsvtEpAw",
    "outputId": "9ade660c-a1b3-47e7-d1df-cbc2143b5d70",
    "slideshow": {
     "slide_type": "fragment"
    }
   },
   "outputs": [
    {
     "name": "stdout",
     "output_type": "stream",
     "text": [
      "foo\n"
     ]
    }
   ],
   "source": [
    "# The consequence of this \"refers to\" notion is that \n",
    "# equals sign in Python means \"assignment\" not \"equals\"\n",
    "\n",
    "x = 1 # x refers to 1\n",
    "\n",
    "# Because = means assignment, we can update assignments, without it\n",
    "# being meaningless in a math sense\n",
    "\n",
    "x = \"foo\" # x now refers to \"foo\", not an assertion that 1 = \"foo\"!\n",
    "\n",
    "#What's the value of x?\n",
    "print(x)"
   ]
  },
  {
   "cell_type": "markdown",
   "metadata": {
    "id": "toK-UKQ198jr",
    "slideshow": {
     "slide_type": "slide"
    }
   },
   "source": [
    "# Copying references"
   ]
  },
  {
   "cell_type": "code",
   "execution_count": 5,
   "metadata": {
    "colab": {
     "base_uri": "https://localhost:8080/"
    },
    "executionInfo": {
     "elapsed": 373,
     "status": "ok",
     "timestamp": 1607391393919,
     "user": {
      "displayName": "Benedict Paten",
      "photoUrl": "https://lh3.googleusercontent.com/a-/AOh14Gh2rYrrH6yoNnUp0Oj4p4ouybc6ZcWGyPmKFtIY=s64",
      "userId": "06399644931392855882"
     },
     "user_tz": 480
    },
    "id": "FndrQqcuFho6",
    "outputId": "3f7bfc04-874e-4ad0-e328-ef219333c8c5",
    "slideshow": {
     "slide_type": "fragment"
    }
   },
   "outputs": [
    {
     "name": "stdout",
     "output_type": "stream",
     "text": [
      "5\n"
     ]
    }
   ],
   "source": [
    "# We can also copy variables\n",
    "\n",
    "x = 5\n",
    "\n",
    "y = x # Now x and y refer to the same thing (5)\n",
    "\n",
    "print(y)"
   ]
  },
  {
   "cell_type": "code",
   "execution_count": 4,
   "metadata": {
    "colab": {
     "base_uri": "https://localhost:8080/"
    },
    "executionInfo": {
     "elapsed": 411,
     "status": "ok",
     "timestamp": 1607391407291,
     "user": {
      "displayName": "Benedict Paten",
      "photoUrl": "https://lh3.googleusercontent.com/a-/AOh14Gh2rYrrH6yoNnUp0Oj4p4ouybc6ZcWGyPmKFtIY=s64",
      "userId": "06399644931392855882"
     },
     "user_tz": 480
    },
    "id": "4ous2ZHC6Z1h",
    "outputId": "7b6a6f09-34a4-42b3-a068-5232da47c35d",
    "slideshow": {
     "slide_type": "fragment"
    }
   },
   "outputs": [
    {
     "name": "stdout",
     "output_type": "stream",
     "text": [
      "10\n",
      "5\n"
     ]
    }
   ],
   "source": [
    "# But note, reassignment and copying can be co-mingled:\n",
    "\n",
    "x = 5\n",
    "\n",
    "y = x # Now x and y refer to the same thing (5)\n",
    "\n",
    "x = 10 # But now we change what x refers to, this doesn't change y!\n",
    "\n",
    "print(x) \n",
    "print(y)"
   ]
  },
  {
   "cell_type": "markdown",
   "metadata": {
    "id": "sQLo2H1qGadW",
    "slideshow": {
     "slide_type": "slide"
    }
   },
   "source": [
    "# Variable Names\n",
    "\n",
    "Variables don't have to be single letters (in fact, that's a terrible idea), but can be **any combination of alpha-numeric characters and the '_' symbol, providing they don't start with a number and aren't already a reserved keyword**. Remember this!"
   ]
  },
  {
   "cell_type": "code",
   "execution_count": 7,
   "metadata": {
    "colab": {
     "base_uri": "https://localhost:8080/"
    },
    "executionInfo": {
     "elapsed": 424,
     "status": "ok",
     "timestamp": 1607391414262,
     "user": {
      "displayName": "Benedict Paten",
      "photoUrl": "https://lh3.googleusercontent.com/a-/AOh14Gh2rYrrH6yoNnUp0Oj4p4ouybc6ZcWGyPmKFtIY=s64",
      "userId": "06399644931392855882"
     },
     "user_tz": 480
    },
    "id": "p92pX5KtHHHk",
    "outputId": "3f342de4-5e6a-4e09-ffca-46fd608459dd",
    "slideshow": {
     "slide_type": "subslide"
    }
   },
   "outputs": [
    {
     "name": "stdout",
     "output_type": "stream",
     "text": [
      "4\n"
     ]
    }
   ],
   "source": [
    "# Variable names\n",
    "\n",
    "foo = 1 # Legit variable name\n",
    "\n",
    "bar2 = 2 # Also legit\n",
    "\n",
    "_boo = 3 # Legit\n",
    "\n",
    "super_helpful_variable_name = 4 # Legit\n",
    "\n",
    "somePeopleLikeCamelCase = 5 # Fine variable name\n",
    "\n",
    "print(super_helpful_variable_name)"
   ]
  },
  {
   "cell_type": "code",
   "execution_count": 8,
   "metadata": {
    "colab": {
     "base_uri": "https://localhost:8080/",
     "height": 130
    },
    "executionInfo": {
     "elapsed": 381,
     "status": "error",
     "timestamp": 1607391419362,
     "user": {
      "displayName": "Benedict Paten",
      "photoUrl": "https://lh3.googleusercontent.com/a-/AOh14Gh2rYrrH6yoNnUp0Oj4p4ouybc6ZcWGyPmKFtIY=s64",
      "userId": "06399644931392855882"
     },
     "user_tz": 480
    },
    "id": "wkwn4Z1PHcjy",
    "outputId": "03ea9788-5615-4905-91de-02ae1765e4b7",
    "slideshow": {
     "slide_type": "subslide"
    }
   },
   "outputs": [
    {
     "ename": "SyntaxError",
     "evalue": "ignored",
     "output_type": "error",
     "traceback": [
      "\u001b[0;36m  File \u001b[0;32m\"<ipython-input-8-2cac54369f60>\"\u001b[0;36m, line \u001b[0;32m3\u001b[0m\n\u001b[0;31m    3l33t = 4 # Not okay\u001b[0m\n\u001b[0m        ^\u001b[0m\n\u001b[0;31mSyntaxError\u001b[0m\u001b[0;31m:\u001b[0m invalid syntax\n"
     ]
    }
   ],
   "source": [
    "# Not okay\n",
    "\n",
    "3l33t = 4 # Not okay, starts with a number\n",
    "\n",
    "not^okay = 5 # Not okay, contains an illegal character\n",
    "\n",
    "and = 6 # Not okay, is a reserved keyword\n",
    "\n",
    "# Etc."
   ]
  },
  {
   "cell_type": "markdown",
   "metadata": {
    "id": "U9VGvqwEHQtf",
    "slideshow": {
     "slide_type": "subslide"
    }
   },
   "source": [
    "Reserved key words, see Chapter 2 of the open textbook:\n",
    "\n",
    "http://openbookproject.net/thinkcs/python/english3e/variables_expressions_statements.html"
   ]
  },
  {
   "cell_type": "markdown",
   "metadata": {
    "id": "bHeo34G5IWAN",
    "slideshow": {
     "slide_type": "slide"
    }
   },
   "source": [
    "# Expressions"
   ]
  },
  {
   "cell_type": "code",
   "execution_count": 6,
   "metadata": {
    "colab": {
     "base_uri": "https://localhost:8080/"
    },
    "executionInfo": {
     "elapsed": 349,
     "status": "ok",
     "timestamp": 1607391427113,
     "user": {
      "displayName": "Benedict Paten",
      "photoUrl": "https://lh3.googleusercontent.com/a-/AOh14Gh2rYrrH6yoNnUp0Oj4p4ouybc6ZcWGyPmKFtIY=s64",
      "userId": "06399644931392855882"
     },
     "user_tz": 480
    },
    "id": "dhSAuuO-Ich7",
    "outputId": "4207f127-b0be-4ba3-c85e-813ab30a4ae7",
    "slideshow": {
     "slide_type": "fragment"
    }
   },
   "outputs": [
    {
     "data": {
      "text/plain": [
       "1"
      ]
     },
     "execution_count": 6,
     "metadata": {},
     "output_type": "execute_result"
    }
   ],
   "source": [
    "# Now we have basic types and variables, we can do stuff with them\n",
    "\n",
    "x = 1\n",
    "\n",
    "y = 2\n",
    "\n",
    "x + y - 2 # This is an expression, the interpreter\n",
    "# has to \"evaluate it\" to figure out the value by \n",
    "# combining variables (x, y), \n",
    "# values (2) and operators (+, -)"
   ]
  },
  {
   "cell_type": "code",
   "execution_count": 10,
   "metadata": {
    "colab": {
     "base_uri": "https://localhost:8080/"
    },
    "executionInfo": {
     "elapsed": 373,
     "status": "ok",
     "timestamp": 1607391431652,
     "user": {
      "displayName": "Benedict Paten",
      "photoUrl": "https://lh3.googleusercontent.com/a-/AOh14Gh2rYrrH6yoNnUp0Oj4p4ouybc6ZcWGyPmKFtIY=s64",
      "userId": "06399644931392855882"
     },
     "user_tz": 480
    },
    "id": "ega2_raeI6uc",
    "outputId": "2e98e03f-f8e3-4a04-f134-52f3c027ba67",
    "slideshow": {
     "slide_type": "fragment"
    }
   },
   "outputs": [
    {
     "data": {
      "text/plain": [
       "float"
      ]
     },
     "execution_count": 10,
     "metadata": {
      "tags": []
     },
     "output_type": "execute_result"
    }
   ],
   "source": [
    "# When we're calling a function (we'll learn about functions soon) (here the \"type\" function), \n",
    "# we're also evaluating an expression\n",
    "\n",
    "type(3.14)"
   ]
  },
  {
   "cell_type": "markdown",
   "metadata": {
    "id": "OlhlFm06JFmO",
    "slideshow": {
     "slide_type": "fragment"
    }
   },
   "source": [
    "**Definition:** An expression is a combination of values, variables, operators, and calls to functions. Expressions need to be evaluated and result in a value (could be number, a string, an object, a list, etc.) \n"
   ]
  },
  {
   "cell_type": "markdown",
   "metadata": {
    "slideshow": {
     "slide_type": "subslide"
    }
   },
   "source": [
    "# Challenge 1"
   ]
  },
  {
   "cell_type": "code",
   "execution_count": 8,
   "metadata": {
    "slideshow": {
     "slide_type": "fragment"
    }
   },
   "outputs": [],
   "source": [
    "# Write an expression that uses x and y and evaluates to 3\n",
    "x = 1\n",
    "y = 2\n",
    "\n"
   ]
  },
  {
   "cell_type": "markdown",
   "metadata": {
    "slideshow": {
     "slide_type": "slide"
    }
   },
   "source": [
    "# Statements"
   ]
  },
  {
   "cell_type": "code",
   "execution_count": 12,
   "metadata": {
    "colab": {
     "base_uri": "https://localhost:8080/"
    },
    "executionInfo": {
     "elapsed": 614,
     "status": "ok",
     "timestamp": 1607391462358,
     "user": {
      "displayName": "Benedict Paten",
      "photoUrl": "https://lh3.googleusercontent.com/a-/AOh14Gh2rYrrH6yoNnUp0Oj4p4ouybc6ZcWGyPmKFtIY=s64",
      "userId": "06399644931392855882"
     },
     "user_tz": 480
    },
    "id": "MhVakYkCJ0wv",
    "outputId": "75f12273-51e2-4c97-91be-b93aa1d4c604",
    "slideshow": {
     "slide_type": "fragment"
    }
   },
   "outputs": [
    {
     "name": "stdout",
     "output_type": "stream",
     "text": [
      "boo\n"
     ]
    }
   ],
   "source": [
    "# Statements are instructions to the interpreter\n",
    "\n",
    "x = 1 # This is a statement, you're telling Python, make x refer to the value 1\n",
    "\n",
    "if x > 0: # Conditionals (like if (and others we'll see soon, \n",
    "  # are also \"statements\"))\n",
    "  print(\"boo\")"
   ]
  },
  {
   "cell_type": "markdown",
   "metadata": {
    "id": "Fmbh2g2FKdNd",
    "slideshow": {
     "slide_type": "fragment"
    }
   },
   "source": [
    "* A statement is everything that can make up a line of Python code.\n",
    "\n",
    "* A statement does something.\n",
    "\n",
    "* A simple computer program is a sequence of statements\n",
    "\n",
    "Note, therefore, that expressions are statements as well.\n",
    "\n",
    "* All expressions are statements.\n",
    "* Not all statements are expressions.\n",
    "\n",
    "\n",
    "Note: you may see slightly different definitions in textbooks, but I like these"
   ]
  },
  {
   "cell_type": "markdown",
   "metadata": {
    "id": "mNIC7nQkOxEP",
    "slideshow": {
     "slide_type": "slide"
    }
   },
   "source": [
    "# Operators"
   ]
  },
  {
   "cell_type": "code",
   "execution_count": 13,
   "metadata": {
    "colab": {
     "base_uri": "https://localhost:8080/"
    },
    "executionInfo": {
     "elapsed": 395,
     "status": "ok",
     "timestamp": 1607391472811,
     "user": {
      "displayName": "Benedict Paten",
      "photoUrl": "https://lh3.googleusercontent.com/a-/AOh14Gh2rYrrH6yoNnUp0Oj4p4ouybc6ZcWGyPmKFtIY=s64",
      "userId": "06399644931392855882"
     },
     "user_tz": 480
    },
    "id": "o-rCwk1oOwM1",
    "outputId": "755ba91e-de2a-4182-ce62-687d269f404b",
    "slideshow": {
     "slide_type": "subslide"
    }
   },
   "outputs": [
    {
     "data": {
      "text/plain": [
       "17"
      ]
     },
     "execution_count": 13,
     "metadata": {
      "tags": []
     },
     "output_type": "execute_result"
    }
   ],
   "source": [
    "# Operators perform basic operations on objects\n",
    "\n",
    "# Let's start with arithmetic operators\n",
    "\n",
    "x = 12\n",
    "y = 5\n",
    "\n",
    "x + y # + is the addition operator, duh"
   ]
  },
  {
   "cell_type": "code",
   "execution_count": 14,
   "metadata": {
    "colab": {
     "base_uri": "https://localhost:8080/"
    },
    "executionInfo": {
     "elapsed": 386,
     "status": "ok",
     "timestamp": 1607391476046,
     "user": {
      "displayName": "Benedict Paten",
      "photoUrl": "https://lh3.googleusercontent.com/a-/AOh14Gh2rYrrH6yoNnUp0Oj4p4ouybc6ZcWGyPmKFtIY=s64",
      "userId": "06399644931392855882"
     },
     "user_tz": 480
    },
    "id": "RTsa3LB9PzAK",
    "outputId": "2cb111a5-d282-41f3-b67f-69058e3f23b5",
    "slideshow": {
     "slide_type": "subslide"
    }
   },
   "outputs": [
    {
     "data": {
      "text/plain": [
       "60"
      ]
     },
     "execution_count": 14,
     "metadata": {
      "tags": []
     },
     "output_type": "execute_result"
    }
   ],
   "source": [
    "x * y # multiplication"
   ]
  },
  {
   "cell_type": "code",
   "execution_count": 10,
   "metadata": {
    "colab": {
     "base_uri": "https://localhost:8080/"
    },
    "executionInfo": {
     "elapsed": 372,
     "status": "ok",
     "timestamp": 1607391477584,
     "user": {
      "displayName": "Benedict Paten",
      "photoUrl": "https://lh3.googleusercontent.com/a-/AOh14Gh2rYrrH6yoNnUp0Oj4p4ouybc6ZcWGyPmKFtIY=s64",
      "userId": "06399644931392855882"
     },
     "user_tz": 480
    },
    "id": "vZaiIhnOP4UW",
    "outputId": "aaf74190-452c-44ac-8faa-70270bac0384",
    "slideshow": {
     "slide_type": "subslide"
    }
   },
   "outputs": [
    {
     "data": {
      "text/plain": [
       "1"
      ]
     },
     "execution_count": 10,
     "metadata": {},
     "output_type": "execute_result"
    }
   ],
   "source": [
    "x ** y # exponentiation "
   ]
  },
  {
   "cell_type": "markdown",
   "metadata": {
    "slideshow": {
     "slide_type": "fragment"
    }
   },
   "source": [
    "Note: The ** operator may be new to you, so try and remember it and difference with the * operator."
   ]
  },
  {
   "cell_type": "code",
   "execution_count": 1,
   "metadata": {
    "colab": {
     "base_uri": "https://localhost:8080/"
    },
    "executionInfo": {
     "elapsed": 383,
     "status": "ok",
     "timestamp": 1607391479027,
     "user": {
      "displayName": "Benedict Paten",
      "photoUrl": "https://lh3.googleusercontent.com/a-/AOh14Gh2rYrrH6yoNnUp0Oj4p4ouybc6ZcWGyPmKFtIY=s64",
      "userId": "06399644931392855882"
     },
     "user_tz": 480
    },
    "id": "tpccI3SiP7Ol",
    "outputId": "9214331e-4f89-4374-cf52-b994b7c0b2c2",
    "slideshow": {
     "slide_type": "subslide"
    }
   },
   "outputs": [
    {
     "data": {
      "text/plain": [
       "3.5"
      ]
     },
     "execution_count": 1,
     "metadata": {},
     "output_type": "execute_result"
    }
   ],
   "source": [
    "x = 7\n",
    "y = 2\n",
    "\n",
    "x / y # What's the value of this one ?"
   ]
  },
  {
   "cell_type": "code",
   "execution_count": 2,
   "metadata": {
    "colab": {
     "base_uri": "https://localhost:8080/"
    },
    "executionInfo": {
     "elapsed": 389,
     "status": "ok",
     "timestamp": 1607391480313,
     "user": {
      "displayName": "Benedict Paten",
      "photoUrl": "https://lh3.googleusercontent.com/a-/AOh14Gh2rYrrH6yoNnUp0Oj4p4ouybc6ZcWGyPmKFtIY=s64",
      "userId": "06399644931392855882"
     },
     "user_tz": 480
    },
    "id": "BFUrcwMXQEL3",
    "outputId": "3bd6b58a-c8dc-435d-9a27-ad1f03930f60",
    "slideshow": {
     "slide_type": "subslide"
    }
   },
   "outputs": [
    {
     "data": {
      "text/plain": [
       "3"
      ]
     },
     "execution_count": 2,
     "metadata": {},
     "output_type": "execute_result"
    }
   ],
   "source": [
    "x // y # And this one?"
   ]
  },
  {
   "cell_type": "markdown",
   "metadata": {
    "pycharm": {
     "name": "#%% md\n"
    },
    "slideshow": {
     "slide_type": "fragment"
    }
   },
   "source": [
    "Note: learn and remember the difference between the integer division (//) and division (/) operators!"
   ]
  },
  {
   "cell_type": "code",
   "execution_count": 18,
   "metadata": {
    "colab": {
     "base_uri": "https://localhost:8080/"
    },
    "executionInfo": {
     "elapsed": 378,
     "status": "ok",
     "timestamp": 1607391482032,
     "user": {
      "displayName": "Benedict Paten",
      "photoUrl": "https://lh3.googleusercontent.com/a-/AOh14Gh2rYrrH6yoNnUp0Oj4p4ouybc6ZcWGyPmKFtIY=s64",
      "userId": "06399644931392855882"
     },
     "user_tz": 480
    },
    "id": "tHknzzHjp-wF",
    "outputId": "2e373b3c-1bfb-4825-d4c7-4a02db28efc8",
    "slideshow": {
     "slide_type": "subslide"
    }
   },
   "outputs": [
    {
     "data": {
      "text/plain": [
       "-12"
      ]
     },
     "execution_count": 18,
     "metadata": {
      "tags": []
     },
     "output_type": "execute_result"
    }
   ],
   "source": [
    "-x # Yup, we have negation"
   ]
  },
  {
   "cell_type": "markdown",
   "metadata": {
    "id": "pTCYcOf4qDrm",
    "slideshow": {
     "slide_type": "fragment"
    }
   },
   "source": [
    "Note: \n",
    "  * Negation is an example of a unary operator (it takes one operand)\n",
    "\n",
    "  * The other operators are binary (they take two operands)"
   ]
  },
  {
   "cell_type": "code",
   "execution_count": 19,
   "metadata": {
    "colab": {
     "base_uri": "https://localhost:8080/"
    },
    "executionInfo": {
     "elapsed": 364,
     "status": "ok",
     "timestamp": 1607391485528,
     "user": {
      "displayName": "Benedict Paten",
      "photoUrl": "https://lh3.googleusercontent.com/a-/AOh14Gh2rYrrH6yoNnUp0Oj4p4ouybc6ZcWGyPmKFtIY=s64",
      "userId": "06399644931392855882"
     },
     "user_tz": 480
    },
    "id": "wKJ17ugFsXo1",
    "outputId": "359750e3-3454-4c56-f20d-40a0c665c67c",
    "slideshow": {
     "slide_type": "subslide"
    }
   },
   "outputs": [
    {
     "data": {
      "text/plain": [
       "1"
      ]
     },
     "execution_count": 19,
     "metadata": {
      "tags": []
     },
     "output_type": "execute_result"
    }
   ],
   "source": [
    "5 % 2 # The modulus operator, it returns the \"remainder\""
   ]
  },
  {
   "cell_type": "code",
   "execution_count": 1,
   "metadata": {
    "colab": {
     "base_uri": "https://localhost:8080/"
    },
    "executionInfo": {
     "elapsed": 335,
     "status": "ok",
     "timestamp": 1607391487065,
     "user": {
      "displayName": "Benedict Paten",
      "photoUrl": "https://lh3.googleusercontent.com/a-/AOh14Gh2rYrrH6yoNnUp0Oj4p4ouybc6ZcWGyPmKFtIY=s64",
      "userId": "06399644931392855882"
     },
     "user_tz": 480
    },
    "id": "-d4YQzH1slYv",
    "outputId": "2047f716-b6da-4148-b2c9-308ad5297796",
    "slideshow": {
     "slide_type": "subslide"
    }
   },
   "outputs": [
    {
     "data": {
      "text/plain": [
       "0"
      ]
     },
     "execution_count": 1,
     "metadata": {},
     "output_type": "execute_result"
    }
   ],
   "source": [
    "# It's a good way to determine if a number is divisible by another,\n",
    "# because if it is, the expression value will be 0\n",
    "4 % 2\n",
    "\n",
    "# In general, modular arithmetic is very important in both math and programming!"
   ]
  },
  {
   "cell_type": "markdown",
   "metadata": {
    "slideshow": {
     "slide_type": "subslide"
    }
   },
   "source": [
    "# Challenge 2"
   ]
  },
  {
   "cell_type": "code",
   "execution_count": null,
   "metadata": {
    "slideshow": {
     "slide_type": "fragment"
    }
   },
   "outputs": [],
   "source": [
    "x = 5\n",
    "y = 2\n",
    "# Write a statement that divides x by y, forgetting the remainder, storing the result in a variable z"
   ]
  },
  {
   "cell_type": "markdown",
   "metadata": {
    "id": "-_noHbEBglV5",
    "slideshow": {
     "slide_type": "slide"
    }
   },
   "source": [
    "# Operator Overloading"
   ]
  },
  {
   "cell_type": "code",
   "execution_count": 21,
   "metadata": {
    "colab": {
     "base_uri": "https://localhost:8080/"
    },
    "executionInfo": {
     "elapsed": 367,
     "status": "ok",
     "timestamp": 1607391491626,
     "user": {
      "displayName": "Benedict Paten",
      "photoUrl": "https://lh3.googleusercontent.com/a-/AOh14Gh2rYrrH6yoNnUp0Oj4p4ouybc6ZcWGyPmKFtIY=s64",
      "userId": "06399644931392855882"
     },
     "user_tz": 480
    },
    "id": "VM61C-mG8z10",
    "outputId": "eb800a43-f593-4dd0-b149-c9c40f311a1c",
    "slideshow": {
     "slide_type": "fragment"
    }
   },
   "outputs": [
    {
     "data": {
      "text/plain": [
       "27"
      ]
     },
     "execution_count": 21,
     "metadata": {
      "tags": []
     },
     "output_type": "execute_result"
    }
   ],
   "source": [
    "5 + 10 + 12 # We can use \"+\" to add together strings of numbers"
   ]
  },
  {
   "cell_type": "code",
   "execution_count": 3,
   "metadata": {
    "colab": {
     "base_uri": "https://localhost:8080/",
     "height": 35
    },
    "executionInfo": {
     "elapsed": 344,
     "status": "ok",
     "timestamp": 1607391522629,
     "user": {
      "displayName": "Benedict Paten",
      "photoUrl": "https://lh3.googleusercontent.com/a-/AOh14Gh2rYrrH6yoNnUp0Oj4p4ouybc6ZcWGyPmKFtIY=s64",
      "userId": "06399644931392855882"
     },
     "user_tz": 480
    },
    "id": "zsIwvpbFRzvf",
    "outputId": "2bc48222-e07d-4f25-ef67-6e3be2cd7aab",
    "slideshow": {
     "slide_type": "fragment"
    }
   },
   "outputs": [
    {
     "data": {
      "text/plain": [
       "'Thisiscontrived'"
      ]
     },
     "execution_count": 3,
     "metadata": {},
     "output_type": "execute_result"
    }
   ],
   "source": [
    "# Some arithmetic operators are also \"overloaded\" to work with strings\n",
    "# (This is an example of \"polymorphism\", that we'll meet again much later)\n",
    "\n",
    "\"This\" + \"is\" + \"contrived\" # The '+' concatenates strings"
   ]
  },
  {
   "cell_type": "code",
   "execution_count": 25,
   "metadata": {
    "colab": {
     "base_uri": "https://localhost:8080/",
     "height": 198
    },
    "executionInfo": {
     "elapsed": 319,
     "status": "error",
     "timestamp": 1607391525883,
     "user": {
      "displayName": "Benedict Paten",
      "photoUrl": "https://lh3.googleusercontent.com/a-/AOh14Gh2rYrrH6yoNnUp0Oj4p4ouybc6ZcWGyPmKFtIY=s64",
      "userId": "06399644931392855882"
     },
     "user_tz": 480
    },
    "id": "cggT1iCJN7AI",
    "outputId": "57c8840f-f089-4328-e414-5a97914ce860",
    "slideshow": {
     "slide_type": "subslide"
    }
   },
   "outputs": [
    {
     "ename": "TypeError",
     "evalue": "ignored",
     "output_type": "error",
     "traceback": [
      "\u001b[0;31m---------------------------------------------------------------------------\u001b[0m",
      "\u001b[0;31mTypeError\u001b[0m                                 Traceback (most recent call last)",
      "\u001b[0;32m<ipython-input-25-e895b5477219>\u001b[0m in \u001b[0;36m<module>\u001b[0;34m()\u001b[0m\n\u001b[1;32m      2\u001b[0m \u001b[0;31m# a number together\u001b[0m\u001b[0;34m\u001b[0m\u001b[0;34m\u001b[0m\u001b[0;34m\u001b[0m\u001b[0m\n\u001b[1;32m      3\u001b[0m \u001b[0;34m\u001b[0m\u001b[0m\n\u001b[0;32m----> 4\u001b[0;31m \u001b[0;34m\"this\"\u001b[0m \u001b[0;34m+\u001b[0m \u001b[0;36m5\u001b[0m\u001b[0;34m\u001b[0m\u001b[0;34m\u001b[0m\u001b[0m\n\u001b[0m",
      "\u001b[0;31mTypeError\u001b[0m: must be str, not int"
     ]
    }
   ],
   "source": [
    "# Note, this doesn't work because Python doesn't know how to add a string and\n",
    "# a number together\n",
    "\n",
    "\"this\" + 5"
   ]
  },
  {
   "cell_type": "markdown",
   "metadata": {
    "id": "9XAjll9RUokG",
    "slideshow": {
     "slide_type": "slide"
    }
   },
   "source": [
    "# Abbreviated Assignment\n",
    "\n",
    "You will see this a lot:"
   ]
  },
  {
   "cell_type": "code",
   "execution_count": 26,
   "metadata": {
    "colab": {
     "base_uri": "https://localhost:8080/"
    },
    "executionInfo": {
     "elapsed": 343,
     "status": "ok",
     "timestamp": 1607391531326,
     "user": {
      "displayName": "Benedict Paten",
      "photoUrl": "https://lh3.googleusercontent.com/a-/AOh14Gh2rYrrH6yoNnUp0Oj4p4ouybc6ZcWGyPmKFtIY=s64",
      "userId": "06399644931392855882"
     },
     "user_tz": 480
    },
    "id": "Ls-IKDqWUu0u",
    "outputId": "ccf895e0-81d1-4501-c0a6-a08dddb0dbe2",
    "slideshow": {
     "slide_type": "subslide"
    }
   },
   "outputs": [
    {
     "data": {
      "text/plain": [
       "11"
      ]
     },
     "execution_count": 26,
     "metadata": {
      "tags": []
     },
     "output_type": "execute_result"
    }
   ],
   "source": [
    "x = 1\n",
    "\n",
    "# Instead of writing\n",
    "\n",
    "x = x + 5\n",
    "\n",
    "# you can use the shorthand:\n",
    "\n",
    "x += 5 # This means \"add 5 to the value x refers to\"\n",
    "\n",
    "x"
   ]
  },
  {
   "cell_type": "markdown",
   "metadata": {
    "id": "1zKtAWt7Uvzo",
    "slideshow": {
     "slide_type": "subslide"
    }
   },
   "source": [
    "This works for all the obvious math operators:"
   ]
  },
  {
   "cell_type": "code",
   "execution_count": 27,
   "metadata": {
    "colab": {
     "base_uri": "https://localhost:8080/"
    },
    "executionInfo": {
     "elapsed": 370,
     "status": "ok",
     "timestamp": 1607391536440,
     "user": {
      "displayName": "Benedict Paten",
      "photoUrl": "https://lh3.googleusercontent.com/a-/AOh14Gh2rYrrH6yoNnUp0Oj4p4ouybc6ZcWGyPmKFtIY=s64",
      "userId": "06399644931392855882"
     },
     "user_tz": 480
    },
    "id": "DWhES0_nU0xS",
    "outputId": "93b32e09-3dff-49b0-ed65-0121ead40033",
    "slideshow": {
     "slide_type": "subslide"
    }
   },
   "outputs": [
    {
     "name": "stdout",
     "output_type": "stream",
     "text": [
      "22\n"
     ]
    }
   ],
   "source": [
    "\n",
    "\n",
    "x *= 2 # multiply x by 2, aka x = x * 2\n",
    "\n",
    "print(x)"
   ]
  },
  {
   "cell_type": "code",
   "execution_count": 28,
   "metadata": {
    "colab": {
     "base_uri": "https://localhost:8080/"
    },
    "executionInfo": {
     "elapsed": 357,
     "status": "ok",
     "timestamp": 1607391540567,
     "user": {
      "displayName": "Benedict Paten",
      "photoUrl": "https://lh3.googleusercontent.com/a-/AOh14Gh2rYrrH6yoNnUp0Oj4p4ouybc6ZcWGyPmKFtIY=s64",
      "userId": "06399644931392855882"
     },
     "user_tz": 480
    },
    "id": "536MyapkU21H",
    "outputId": "d9cf7d10-91f6-412e-f8ab-355a8488bdb4",
    "slideshow": {
     "slide_type": "subslide"
    }
   },
   "outputs": [
    {
     "name": "stdout",
     "output_type": "stream",
     "text": [
      "19\n"
     ]
    }
   ],
   "source": [
    "x -= 3 # subtract three, aka x = x - 3\n",
    "\n",
    "print(x)"
   ]
  },
  {
   "cell_type": "code",
   "execution_count": 29,
   "metadata": {
    "colab": {
     "base_uri": "https://localhost:8080/"
    },
    "executionInfo": {
     "elapsed": 372,
     "status": "ok",
     "timestamp": 1607391542854,
     "user": {
      "displayName": "Benedict Paten",
      "photoUrl": "https://lh3.googleusercontent.com/a-/AOh14Gh2rYrrH6yoNnUp0Oj4p4ouybc6ZcWGyPmKFtIY=s64",
      "userId": "06399644931392855882"
     },
     "user_tz": 480
    },
    "id": "GonNznhrU6E1",
    "outputId": "092d1fb9-e1c9-4786-d001-36518e69dd74",
    "slideshow": {
     "slide_type": "subslide"
    }
   },
   "outputs": [
    {
     "name": "stdout",
     "output_type": "stream",
     "text": [
      "9.5\n"
     ]
    }
   ],
   "source": [
    "x /= 2 # divide by 2 \n",
    "\n",
    "print(x)"
   ]
  },
  {
   "cell_type": "code",
   "execution_count": 18,
   "metadata": {
    "colab": {
     "base_uri": "https://localhost:8080/"
    },
    "executionInfo": {
     "elapsed": 358,
     "status": "ok",
     "timestamp": 1607391544853,
     "user": {
      "displayName": "Benedict Paten",
      "photoUrl": "https://lh3.googleusercontent.com/a-/AOh14Gh2rYrrH6yoNnUp0Oj4p4ouybc6ZcWGyPmKFtIY=s64",
      "userId": "06399644931392855882"
     },
     "user_tz": 480
    },
    "id": "Sm7tItanU8WA",
    "outputId": "c5bbbc82-a61d-4cf8-cc55-cc1161489f4a",
    "slideshow": {
     "slide_type": "subslide"
    }
   },
   "outputs": [
    {
     "name": "stdout",
     "output_type": "stream",
     "text": [
      "2\n"
     ]
    }
   ],
   "source": [
    "x //= 2 # divide by 2 and forget fraction\n",
    "\n",
    "print(x)"
   ]
  },
  {
   "cell_type": "code",
   "execution_count": 31,
   "metadata": {
    "colab": {
     "base_uri": "https://localhost:8080/"
    },
    "executionInfo": {
     "elapsed": 387,
     "status": "ok",
     "timestamp": 1607391549191,
     "user": {
      "displayName": "Benedict Paten",
      "photoUrl": "https://lh3.googleusercontent.com/a-/AOh14Gh2rYrrH6yoNnUp0Oj4p4ouybc6ZcWGyPmKFtIY=s64",
      "userId": "06399644931392855882"
     },
     "user_tz": 480
    },
    "id": "WRp0r1tAU_Kg",
    "outputId": "877fa5c8-c703-4696-a147-da34228da6f3",
    "slideshow": {
     "slide_type": "subslide"
    }
   },
   "outputs": [
    {
     "name": "stdout",
     "output_type": "stream",
     "text": [
      "0.0\n"
     ]
    }
   ],
   "source": [
    "x %= 2 # Take x mod 2 and store the result in x, i.e. x = x % 2\n",
    "\n",
    "print(x)"
   ]
  },
  {
   "cell_type": "markdown",
   "metadata": {
    "slideshow": {
     "slide_type": "subslide"
    }
   },
   "source": [
    "# Challenge 3"
   ]
  },
  {
   "cell_type": "code",
   "execution_count": null,
   "metadata": {
    "slideshow": {
     "slide_type": "fragment"
    }
   },
   "outputs": [],
   "source": [
    "x = 7 \n",
    "y = 2\n",
    "# Use abbreviated assignment to subtract y from x, storing the result as x"
   ]
  },
  {
   "cell_type": "markdown",
   "metadata": {
    "id": "6oYe0AgQl7kl",
    "slideshow": {
     "slide_type": "slide"
    }
   },
   "source": [
    "# Boolean Type\n",
    "\n",
    "Python has a special boolean (binary) type, which can either be 'True' or 'False'. \n",
    "\n",
    "This is essential for logical expressions.\n"
   ]
  },
  {
   "cell_type": "code",
   "execution_count": 32,
   "metadata": {
    "colab": {
     "base_uri": "https://localhost:8080/"
    },
    "executionInfo": {
     "elapsed": 342,
     "status": "ok",
     "timestamp": 1607391563443,
     "user": {
      "displayName": "Benedict Paten",
      "photoUrl": "https://lh3.googleusercontent.com/a-/AOh14Gh2rYrrH6yoNnUp0Oj4p4ouybc6ZcWGyPmKFtIY=s64",
      "userId": "06399644931392855882"
     },
     "user_tz": 480
    },
    "id": "12mmMhhGmEmz",
    "outputId": "b52afd9e-f599-4cd7-e635-58f70bff9a18",
    "slideshow": {
     "slide_type": "fragment"
    }
   },
   "outputs": [
    {
     "data": {
      "text/plain": [
       "bool"
      ]
     },
     "execution_count": 32,
     "metadata": {
      "tags": []
     },
     "output_type": "execute_result"
    }
   ],
   "source": [
    "type(True)"
   ]
  },
  {
   "cell_type": "code",
   "execution_count": 33,
   "metadata": {
    "colab": {
     "base_uri": "https://localhost:8080/"
    },
    "executionInfo": {
     "elapsed": 387,
     "status": "ok",
     "timestamp": 1607391564807,
     "user": {
      "displayName": "Benedict Paten",
      "photoUrl": "https://lh3.googleusercontent.com/a-/AOh14Gh2rYrrH6yoNnUp0Oj4p4ouybc6ZcWGyPmKFtIY=s64",
      "userId": "06399644931392855882"
     },
     "user_tz": 480
    },
    "id": "IN_9Y3UdmPVi",
    "outputId": "fe44676e-cbf3-4151-b441-2bf6bb4447a3",
    "slideshow": {
     "slide_type": "fragment"
    }
   },
   "outputs": [
    {
     "data": {
      "text/plain": [
       "bool"
      ]
     },
     "execution_count": 33,
     "metadata": {
      "tags": []
     },
     "output_type": "execute_result"
    }
   ],
   "source": [
    "type(False)"
   ]
  },
  {
   "cell_type": "markdown",
   "metadata": {
    "id": "SjGU71_1QWqx",
    "slideshow": {
     "slide_type": "slide"
    }
   },
   "source": [
    "# Comparison Operators\n",
    "\n",
    " Booleans are used for making decisions in your program.\n",
    " \n",
    " To do this we use comparison operators (and logical operators, which we'll see next), which evaluate to booleans."
   ]
  },
  {
   "cell_type": "code",
   "execution_count": 34,
   "metadata": {
    "colab": {
     "base_uri": "https://localhost:8080/"
    },
    "executionInfo": {
     "elapsed": 601,
     "status": "ok",
     "timestamp": 1607391567269,
     "user": {
      "displayName": "Benedict Paten",
      "photoUrl": "https://lh3.googleusercontent.com/a-/AOh14Gh2rYrrH6yoNnUp0Oj4p4ouybc6ZcWGyPmKFtIY=s64",
      "userId": "06399644931392855882"
     },
     "user_tz": 480
    },
    "id": "bKqHlRGZ6Vyz",
    "outputId": "989aeb11-c58f-4f9a-b43c-9ca6f21ebe34",
    "slideshow": {
     "slide_type": "subslide"
    }
   },
   "outputs": [
    {
     "data": {
      "text/plain": [
       "False"
      ]
     },
     "execution_count": 34,
     "metadata": {
      "tags": []
     },
     "output_type": "execute_result"
    }
   ],
   "source": [
    "x = 5\n",
    "y = 10\n",
    "\n",
    "x > y # The greater than operator compares two things"
   ]
  },
  {
   "cell_type": "code",
   "execution_count": 6,
   "metadata": {
    "colab": {
     "base_uri": "https://localhost:8080/"
    },
    "executionInfo": {
     "elapsed": 361,
     "status": "ok",
     "timestamp": 1607391568662,
     "user": {
      "displayName": "Benedict Paten",
      "photoUrl": "https://lh3.googleusercontent.com/a-/AOh14Gh2rYrrH6yoNnUp0Oj4p4ouybc6ZcWGyPmKFtIY=s64",
      "userId": "06399644931392855882"
     },
     "user_tz": 480
    },
    "id": "WowJC26dmoPX",
    "outputId": "fd4ea3be-d279-45e5-b6e2-5aeb14e4fb6f",
    "slideshow": {
     "slide_type": "subslide"
    }
   },
   "outputs": [
    {
     "data": {
      "text/plain": [
       "bool"
      ]
     },
     "execution_count": 6,
     "metadata": {},
     "output_type": "execute_result"
    }
   ],
   "source": [
    "# To see the relationship with Booleans\n",
    "x = 5\n",
    "y = 10\n",
    "\n",
    "\n",
    "type(x > y)"
   ]
  },
  {
   "cell_type": "code",
   "execution_count": 36,
   "metadata": {
    "colab": {
     "base_uri": "https://localhost:8080/"
    },
    "executionInfo": {
     "elapsed": 385,
     "status": "ok",
     "timestamp": 1607391570353,
     "user": {
      "displayName": "Benedict Paten",
      "photoUrl": "https://lh3.googleusercontent.com/a-/AOh14Gh2rYrrH6yoNnUp0Oj4p4ouybc6ZcWGyPmKFtIY=s64",
      "userId": "06399644931392855882"
     },
     "user_tz": 480
    },
    "id": "SJcNUseq6VzG",
    "outputId": "e12c144f-3997-416b-9cd5-66c3b31a5a02",
    "slideshow": {
     "slide_type": "subslide"
    }
   },
   "outputs": [
    {
     "data": {
      "text/plain": [
       "False"
      ]
     },
     "execution_count": 36,
     "metadata": {
      "tags": []
     },
     "output_type": "execute_result"
    }
   ],
   "source": [
    "# There are a bunch of these\n",
    "\n",
    "x >= y # Is x greater than or equal to y?"
   ]
  },
  {
   "cell_type": "code",
   "execution_count": 37,
   "metadata": {
    "colab": {
     "base_uri": "https://localhost:8080/"
    },
    "executionInfo": {
     "elapsed": 403,
     "status": "ok",
     "timestamp": 1607391571943,
     "user": {
      "displayName": "Benedict Paten",
      "photoUrl": "https://lh3.googleusercontent.com/a-/AOh14Gh2rYrrH6yoNnUp0Oj4p4ouybc6ZcWGyPmKFtIY=s64",
      "userId": "06399644931392855882"
     },
     "user_tz": 480
    },
    "id": "hDYP9S1J6VzI",
    "outputId": "1c178c9c-9aa6-41a2-eb98-de7169e6cba9",
    "slideshow": {
     "slide_type": "subslide"
    }
   },
   "outputs": [
    {
     "data": {
      "text/plain": [
       "True"
      ]
     },
     "execution_count": 37,
     "metadata": {
      "tags": []
     },
     "output_type": "execute_result"
    }
   ],
   "source": [
    "x < y # Is x less than y?"
   ]
  },
  {
   "cell_type": "code",
   "execution_count": 38,
   "metadata": {
    "colab": {
     "base_uri": "https://localhost:8080/"
    },
    "executionInfo": {
     "elapsed": 343,
     "status": "ok",
     "timestamp": 1607391579454,
     "user": {
      "displayName": "Benedict Paten",
      "photoUrl": "https://lh3.googleusercontent.com/a-/AOh14Gh2rYrrH6yoNnUp0Oj4p4ouybc6ZcWGyPmKFtIY=s64",
      "userId": "06399644931392855882"
     },
     "user_tz": 480
    },
    "id": "i_JdqLQi6VzK",
    "outputId": "9d69d1b9-25c8-4bd3-b678-436670d83b96",
    "slideshow": {
     "slide_type": "subslide"
    }
   },
   "outputs": [
    {
     "data": {
      "text/plain": [
       "True"
      ]
     },
     "execution_count": 38,
     "metadata": {
      "tags": []
     },
     "output_type": "execute_result"
    }
   ],
   "source": [
    "x <= y # Less than or equals?"
   ]
  },
  {
   "cell_type": "code",
   "execution_count": 8,
   "metadata": {
    "colab": {
     "base_uri": "https://localhost:8080/"
    },
    "executionInfo": {
     "elapsed": 321,
     "status": "ok",
     "timestamp": 1607391580841,
     "user": {
      "displayName": "Benedict Paten",
      "photoUrl": "https://lh3.googleusercontent.com/a-/AOh14Gh2rYrrH6yoNnUp0Oj4p4ouybc6ZcWGyPmKFtIY=s64",
      "userId": "06399644931392855882"
     },
     "user_tz": 480
    },
    "id": "fXbNwOfd6VzM",
    "outputId": "878ea4b5-c993-4510-ce61-bb94482ba231",
    "slideshow": {
     "slide_type": "subslide"
    }
   },
   "outputs": [
    {
     "data": {
      "text/plain": [
       "False"
      ]
     },
     "execution_count": 8,
     "metadata": {},
     "output_type": "execute_result"
    }
   ],
   "source": [
    "# What about this one?\n",
    "\n",
    "x == y"
   ]
  },
  {
   "cell_type": "markdown",
   "metadata": {
    "id": "oEu8nmKg6VzR",
    "slideshow": {
     "slide_type": "fragment"
    }
   },
   "source": [
    "* As we discussed earlier, in Python (and many languages) '=' is the assignment operator\n",
    "* Comparison equals is  '=='. Some people find this weird, but you get over it.\n"
   ]
  },
  {
   "cell_type": "code",
   "execution_count": 40,
   "metadata": {
    "colab": {
     "base_uri": "https://localhost:8080/"
    },
    "executionInfo": {
     "elapsed": 336,
     "status": "ok",
     "timestamp": 1607391583102,
     "user": {
      "displayName": "Benedict Paten",
      "photoUrl": "https://lh3.googleusercontent.com/a-/AOh14Gh2rYrrH6yoNnUp0Oj4p4ouybc6ZcWGyPmKFtIY=s64",
      "userId": "06399644931392855882"
     },
     "user_tz": 480
    },
    "id": "hkZW2hBN_F9k",
    "outputId": "b95dc957-8a08-4321-fc66-b2e182f523db",
    "slideshow": {
     "slide_type": "subslide"
    }
   },
   "outputs": [
    {
     "data": {
      "text/plain": [
       "True"
      ]
     },
     "execution_count": 40,
     "metadata": {
      "tags": []
     },
     "output_type": "execute_result"
    }
   ],
   "source": [
    "# Python also has the not logical equals operator !=\n",
    "\n",
    "x != y # Read this as \"does x not equal y?\""
   ]
  },
  {
   "cell_type": "markdown",
   "metadata": {
    "slideshow": {
     "slide_type": "subslide"
    }
   },
   "source": [
    "Here's a summary of comparison operators:\n",
    "\n",
    "| Syntax   | Operator  | Example  |\n",
    "|:-------- |:---------|:--------:|\n",
    "| ==\t   | Equal\t  | x == y\t|\n",
    "| !=\t   | Not equal|\tx != y\t|\n",
    "| >\t       | Greater than |\tx > y |\t\n",
    "| <\t       | Less than | x < y\t|\n",
    "| >=\t   | Greater than or equal to |\tx >= y\t|\n",
    "| <=\t   | Less than or equal to\t| x <= y |"
   ]
  },
  {
   "cell_type": "markdown",
   "metadata": {
    "slideshow": {
     "slide_type": "slide"
    }
   },
   "source": [
    "# Logical Operators\n",
    "\n",
    "Aka the \"relational operators\", which allow us to compare values"
   ]
  },
  {
   "cell_type": "code",
   "execution_count": 41,
   "metadata": {
    "colab": {
     "base_uri": "https://localhost:8080/"
    },
    "executionInfo": {
     "elapsed": 344,
     "status": "ok",
     "timestamp": 1607391585169,
     "user": {
      "displayName": "Benedict Paten",
      "photoUrl": "https://lh3.googleusercontent.com/a-/AOh14Gh2rYrrH6yoNnUp0Oj4p4ouybc6ZcWGyPmKFtIY=s64",
      "userId": "06399644931392855882"
     },
     "user_tz": 480
    },
    "id": "IGoHXsjM6VzR",
    "outputId": "49896c73-c773-4e13-b826-19ff54a18be8",
    "slideshow": {
     "slide_type": "subslide"
    }
   },
   "outputs": [
    {
     "data": {
      "text/plain": [
       "True"
      ]
     },
     "execution_count": 41,
     "metadata": {
      "tags": []
     },
     "output_type": "execute_result"
    }
   ],
   "source": [
    "# We can compose logical statements into complex expressions \n",
    "# using logical 'and' and 'or'\n",
    "\n",
    "x = 5\n",
    "y = 10\n",
    "z = 7\n",
    "\n",
    "x >= y or z > x # Says: True if x is greater than or equal to y or z is greater than x"
   ]
  },
  {
   "cell_type": "code",
   "execution_count": 42,
   "metadata": {
    "colab": {
     "base_uri": "https://localhost:8080/"
    },
    "executionInfo": {
     "elapsed": 366,
     "status": "ok",
     "timestamp": 1607391587116,
     "user": {
      "displayName": "Benedict Paten",
      "photoUrl": "https://lh3.googleusercontent.com/a-/AOh14Gh2rYrrH6yoNnUp0Oj4p4ouybc6ZcWGyPmKFtIY=s64",
      "userId": "06399644931392855882"
     },
     "user_tz": 480
    },
    "id": "BI0J-9Bt6VzV",
    "outputId": "17a0145a-4299-4342-fe62-f20df8342b62",
    "slideshow": {
     "slide_type": "subslide"
    }
   },
   "outputs": [
    {
     "data": {
      "text/plain": [
       "True"
      ]
     },
     "execution_count": 42,
     "metadata": {
      "tags": []
     },
     "output_type": "execute_result"
    }
   ],
   "source": [
    "# Similarly\n",
    "\n",
    "y > x and y > z # Says: True if y is greater than x AND y is greater than z"
   ]
  },
  {
   "cell_type": "code",
   "execution_count": 43,
   "metadata": {
    "colab": {
     "base_uri": "https://localhost:8080/"
    },
    "executionInfo": {
     "elapsed": 344,
     "status": "ok",
     "timestamp": 1607391588715,
     "user": {
      "displayName": "Benedict Paten",
      "photoUrl": "https://lh3.googleusercontent.com/a-/AOh14Gh2rYrrH6yoNnUp0Oj4p4ouybc6ZcWGyPmKFtIY=s64",
      "userId": "06399644931392855882"
     },
     "user_tz": 480
    },
    "id": "fYlNC0fz6VzY",
    "outputId": "abf04d8b-c83b-4ee8-ee70-ec4fc25269ed",
    "slideshow": {
     "slide_type": "subslide"
    }
   },
   "outputs": [
    {
     "data": {
      "text/plain": [
       "False"
      ]
     },
     "execution_count": 43,
     "metadata": {
      "tags": []
     },
     "output_type": "execute_result"
    }
   ],
   "source": [
    "# There is also the unary negation operator: not\n",
    "\n",
    "not True"
   ]
  },
  {
   "cell_type": "code",
   "execution_count": 44,
   "metadata": {
    "colab": {
     "base_uri": "https://localhost:8080/"
    },
    "executionInfo": {
     "elapsed": 345,
     "status": "ok",
     "timestamp": 1607391590335,
     "user": {
      "displayName": "Benedict Paten",
      "photoUrl": "https://lh3.googleusercontent.com/a-/AOh14Gh2rYrrH6yoNnUp0Oj4p4ouybc6ZcWGyPmKFtIY=s64",
      "userId": "06399644931392855882"
     },
     "user_tz": 480
    },
    "id": "ffSYgAtK6Vze",
    "outputId": "cdf7bcbc-8c10-4244-b435-c49b1bbc592e",
    "slideshow": {
     "slide_type": "subslide"
    }
   },
   "outputs": [
    {
     "data": {
      "text/plain": [
       "True"
      ]
     },
     "execution_count": 44,
     "metadata": {
      "tags": []
     },
     "output_type": "execute_result"
    }
   ],
   "source": [
    "# Use it to switch True to False and vice versa:\n",
    "\n",
    "y = 0\n",
    "x = 1\n",
    "\n",
    "not y > x"
   ]
  },
  {
   "cell_type": "markdown",
   "metadata": {
    "id": "cNDSDbL86Vzh",
    "slideshow": {
     "slide_type": "subslide"
    }
   },
   "source": [
    "Logical comparisons also work with strings"
   ]
  },
  {
   "cell_type": "code",
   "execution_count": 45,
   "metadata": {
    "colab": {
     "base_uri": "https://localhost:8080/"
    },
    "executionInfo": {
     "elapsed": 338,
     "status": "ok",
     "timestamp": 1607391592411,
     "user": {
      "displayName": "Benedict Paten",
      "photoUrl": "https://lh3.googleusercontent.com/a-/AOh14Gh2rYrrH6yoNnUp0Oj4p4ouybc6ZcWGyPmKFtIY=s64",
      "userId": "06399644931392855882"
     },
     "user_tz": 480
    },
    "id": "NEN92T0s6Vzk",
    "outputId": "9442c91d-f428-463a-fea0-0343ce7b5acd",
    "slideshow": {
     "slide_type": "fragment"
    }
   },
   "outputs": [
    {
     "data": {
      "text/plain": [
       "False"
      ]
     },
     "execution_count": 45,
     "metadata": {
      "tags": []
     },
     "output_type": "execute_result"
    }
   ],
   "source": [
    "# String comparison\n",
    "\n",
    "\"cats\" > \"dogs\" # ?"
   ]
  },
  {
   "cell_type": "markdown",
   "metadata": {
    "slideshow": {
     "slide_type": "subslide"
    }
   },
   "source": [
    "Here's a summary comparison of logical operators:\n",
    "\n",
    "| Operator | Summary | Example |\n",
    "|:-------- |:---------|:--------:|\n",
    "| and | True if both statements are true | x < 5 and  y < 7 |\n",
    "| or | True if one of the statements is true | x < 5 or y < 10 |\n",
    "| not | Reverse the result, False if the result is true | not(x > 5 and y < 6) |"
   ]
  },
  {
   "cell_type": "markdown",
   "metadata": {
    "slideshow": {
     "slide_type": "subslide"
    }
   },
   "source": [
    "# Challenge 4"
   ]
  },
  {
   "cell_type": "code",
   "execution_count": null,
   "metadata": {
    "slideshow": {
     "slide_type": "fragment"
    }
   },
   "outputs": [],
   "source": [
    "x = int(input(\"Enter a number\"))\n",
    "y = int(input(\"Enter a second number\"))\n",
    "# Write a logical expression that is True if and only if \n",
    "# x is greater than y or x is divisible by y"
   ]
  },
  {
   "cell_type": "markdown",
   "metadata": {
    "slideshow": {
     "slide_type": "slide"
    }
   },
   "source": [
    "# Truthy and Falsy Values\n",
    "\n",
    "Values can evaluate as either True or False in logical expressions despite not being of a boolean type\n",
    "\n",
    "This is an example of automatic type conversion, where a non-boolean is being converted to a boolean"
   ]
  },
  {
   "cell_type": "code",
   "execution_count": 1,
   "metadata": {
    "slideshow": {
     "slide_type": "fragment"
    }
   },
   "outputs": [
    {
     "data": {
      "text/plain": [
       "False"
      ]
     },
     "execution_count": 1,
     "metadata": {},
     "output_type": "execute_result"
    }
   ],
   "source": [
    "bool(\"\") # The empty string is false"
   ]
  },
  {
   "cell_type": "code",
   "execution_count": 2,
   "metadata": {
    "slideshow": {
     "slide_type": "fragment"
    }
   },
   "outputs": [
    {
     "data": {
      "text/plain": [
       "True"
      ]
     },
     "execution_count": 2,
     "metadata": {},
     "output_type": "execute_result"
    }
   ],
   "source": [
    "bool(\"hello\") # A non-empty string is true"
   ]
  },
  {
   "cell_type": "markdown",
   "metadata": {
    "slideshow": {
     "slide_type": "fragment"
    }
   },
   "source": [
    "We'll see more examples of how different types map to True and False later (but see the note for a summary, looking ahead)"
   ]
  },
  {
   "cell_type": "markdown",
   "metadata": {
    "slideshow": {
     "slide_type": "subslide"
    }
   },
   "source": [
    "This becomes increasingly helpful as we start to deal with more complex data structures. \n",
    "\n",
    "#### The values that will evaluate as false are:\n",
    "- Empty lists []\n",
    "- Empty tuples ()\n",
    "- Empty dictionaries {}\n",
    "- Empty sets set()\n",
    "- Empty strings \"\"\n",
    "- Empty ranges range(0)\n",
    "- And any numeric type that is 0; Int, Float, Complex\n",
    "\n",
    "In contrast the values that evaluate as true are:\n",
    "- Non-Empty strings \"hello\"\n",
    "- Non-Empty tuples (\"apple\", \"banana\")\n",
    "- Non-Empty dictionaries { id: 10, name: \"Aiden\"}\n",
    "- No\n",
    "- Any Non zero numeric type"
   ]
  },
  {
   "cell_type": "markdown",
   "metadata": {
    "id": "CLy5-zuqmV6k",
    "slideshow": {
     "slide_type": "slide"
    }
   },
   "source": [
    "# Order of operations\n",
    "\n",
    "This is a boring topic, but if you don't understand it, you'll write lots of bugs"
   ]
  },
  {
   "cell_type": "markdown",
   "metadata": {
    "slideshow": {
     "slide_type": "fragment"
    }
   },
   "source": [
    "* Just like math, Python follows PEMDAS - or PE(MD)(AS). \n",
    "  * That is: Parentheses, Exponentiation, Multiplication and Division (left to right), and Addition and Subtraction(left to right)\n",
    "* After PE(MD)(AS), in order of precedence:\n",
    "  * are the comparison operators (e.g. greater than, less than, etc.) - all have equal precedence and are evaluated left to right\n",
    "  * and lastly the logical operators “not”, “and”, & “or” in that order (not before and, before or)"
   ]
  },
  {
   "cell_type": "code",
   "execution_count": 47,
   "metadata": {
    "colab": {
     "base_uri": "https://localhost:8080/"
    },
    "executionInfo": {
     "elapsed": 342,
     "status": "ok",
     "timestamp": 1607391600951,
     "user": {
      "displayName": "Benedict Paten",
      "photoUrl": "https://lh3.googleusercontent.com/a-/AOh14Gh2rYrrH6yoNnUp0Oj4p4ouybc6ZcWGyPmKFtIY=s64",
      "userId": "06399644931392855882"
     },
     "user_tz": 480
    },
    "id": "g0g2n8E7mkSf",
    "outputId": "df09bf20-fa8c-4ed9-e670-97503a94867d",
    "slideshow": {
     "slide_type": "subslide"
    }
   },
   "outputs": [
    {
     "data": {
      "text/plain": [
       "8"
      ]
     },
     "execution_count": 47,
     "metadata": {
      "tags": []
     },
     "output_type": "execute_result"
    }
   ],
   "source": [
    "# e.g.\n",
    "\n",
    "x = 2\n",
    "y = 3\n",
    "\n",
    "x * y + x # Yup, this works just like math"
   ]
  },
  {
   "cell_type": "code",
   "execution_count": 48,
   "metadata": {
    "colab": {
     "base_uri": "https://localhost:8080/"
    },
    "executionInfo": {
     "elapsed": 366,
     "status": "ok",
     "timestamp": 1607391602661,
     "user": {
      "displayName": "Benedict Paten",
      "photoUrl": "https://lh3.googleusercontent.com/a-/AOh14Gh2rYrrH6yoNnUp0Oj4p4ouybc6ZcWGyPmKFtIY=s64",
      "userId": "06399644931392855882"
     },
     "user_tz": 480
    },
    "id": "kcKJf8C0nGIQ",
    "outputId": "d4675860-1131-433d-c9dc-78a447ca072b",
    "slideshow": {
     "slide_type": "subslide"
    }
   },
   "outputs": [
    {
     "data": {
      "text/plain": [
       "10"
      ]
     },
     "execution_count": 48,
     "metadata": {
      "tags": []
     },
     "output_type": "execute_result"
    }
   ],
   "source": [
    "x * (y + x) # If you want to force the addition \n",
    "# before the multiplication you can use brackets, like in math\n",
    "\n",
    "# Technically, the brackets have highest precedence of any operator"
   ]
  },
  {
   "cell_type": "code",
   "execution_count": 49,
   "metadata": {
    "colab": {
     "base_uri": "https://localhost:8080/"
    },
    "executionInfo": {
     "elapsed": 350,
     "status": "ok",
     "timestamp": 1607391604199,
     "user": {
      "displayName": "Benedict Paten",
      "photoUrl": "https://lh3.googleusercontent.com/a-/AOh14Gh2rYrrH6yoNnUp0Oj4p4ouybc6ZcWGyPmKFtIY=s64",
      "userId": "06399644931392855882"
     },
     "user_tz": 480
    },
    "id": "Y7Zjv-vPoEjQ",
    "outputId": "5780e325-2091-4cd1-8a89-00f26eccda95",
    "slideshow": {
     "slide_type": "subslide"
    }
   },
   "outputs": [
    {
     "data": {
      "text/plain": [
       "8"
      ]
     },
     "execution_count": 49,
     "metadata": {
      "tags": []
     },
     "output_type": "execute_result"
    }
   ],
   "source": [
    "# Exponents have higher precedence than division/multiplication\n",
    "\n",
    "2 * 2**2 # The exponent happens first"
   ]
  },
  {
   "cell_type": "code",
   "execution_count": 50,
   "metadata": {
    "colab": {
     "base_uri": "https://localhost:8080/"
    },
    "executionInfo": {
     "elapsed": 372,
     "status": "ok",
     "timestamp": 1607391605731,
     "user": {
      "displayName": "Benedict Paten",
      "photoUrl": "https://lh3.googleusercontent.com/a-/AOh14Gh2rYrrH6yoNnUp0Oj4p4ouybc6ZcWGyPmKFtIY=s64",
      "userId": "06399644931392855882"
     },
     "user_tz": 480
    },
    "id": "QO7dKEBPnsoH",
    "outputId": "b5fe6c37-fe98-46f4-ba9c-f7c117422efc",
    "slideshow": {
     "slide_type": "subslide"
    }
   },
   "outputs": [
    {
     "data": {
      "text/plain": [
       "True"
      ]
     },
     "execution_count": 50,
     "metadata": {
      "tags": []
     },
     "output_type": "execute_result"
    }
   ],
   "source": [
    "# Arithmetic operators have precidence over logical operators\n",
    "\n",
    "x * y > x + y # This could also be written (x * y) > (x + y)"
   ]
  },
  {
   "cell_type": "code",
   "execution_count": 51,
   "metadata": {
    "colab": {
     "base_uri": "https://localhost:8080/"
    },
    "executionInfo": {
     "elapsed": 499,
     "status": "ok",
     "timestamp": 1607391607443,
     "user": {
      "displayName": "Benedict Paten",
      "photoUrl": "https://lh3.googleusercontent.com/a-/AOh14Gh2rYrrH6yoNnUp0Oj4p4ouybc6ZcWGyPmKFtIY=s64",
      "userId": "06399644931392855882"
     },
     "user_tz": 480
    },
    "id": "AZ32yKDSsARP",
    "outputId": "320ef43f-b98f-4d1f-8f1d-c694a9e08aa1",
    "slideshow": {
     "slide_type": "subslide"
    }
   },
   "outputs": [
    {
     "data": {
      "text/plain": [
       "False"
      ]
     },
     "execution_count": 51,
     "metadata": {
      "tags": []
     },
     "output_type": "execute_result"
    }
   ],
   "source": [
    "# Sometimes it is helpful to use brackets, because it's hard to remember\n",
    "# the order of operations, consider this..\n",
    "\n",
    "not 3 * 5 > 10 and 2 > 1"
   ]
  },
  {
   "cell_type": "code",
   "execution_count": 52,
   "metadata": {
    "colab": {
     "base_uri": "https://localhost:8080/"
    },
    "executionInfo": {
     "elapsed": 541,
     "status": "ok",
     "timestamp": 1607391609440,
     "user": {
      "displayName": "Benedict Paten",
      "photoUrl": "https://lh3.googleusercontent.com/a-/AOh14Gh2rYrrH6yoNnUp0Oj4p4ouybc6ZcWGyPmKFtIY=s64",
      "userId": "06399644931392855882"
     },
     "user_tz": 480
    },
    "id": "1hIvAe9PtOFQ",
    "outputId": "d0f2cc99-323d-4411-eaea-f3f107cd5bb2",
    "slideshow": {
     "slide_type": "subslide"
    }
   },
   "outputs": [
    {
     "data": {
      "text/plain": [
       "False"
      ]
     },
     "execution_count": 52,
     "metadata": {
      "tags": []
     },
     "output_type": "execute_result"
    }
   ],
   "source": [
    "# Which I think is much clearer as..\n",
    "\n",
    "(not 3 * 5 > 10) and (2 > 1) # The brackets are just there for clarity"
   ]
  },
  {
   "cell_type": "code",
   "execution_count": 53,
   "metadata": {
    "colab": {
     "base_uri": "https://localhost:8080/"
    },
    "executionInfo": {
     "elapsed": 363,
     "status": "ok",
     "timestamp": 1607391611076,
     "user": {
      "displayName": "Benedict Paten",
      "photoUrl": "https://lh3.googleusercontent.com/a-/AOh14Gh2rYrrH6yoNnUp0Oj4p4ouybc6ZcWGyPmKFtIY=s64",
      "userId": "06399644931392855882"
     },
     "user_tz": 480
    },
    "id": "HDtWTEzotec7",
    "outputId": "bcb4c84f-1088-46d7-f8c3-0eb85f438f36",
    "slideshow": {
     "slide_type": "subslide"
    }
   },
   "outputs": [
    {
     "data": {
      "text/plain": [
       "True"
      ]
     },
     "execution_count": 53,
     "metadata": {
      "tags": []
     },
     "output_type": "execute_result"
    }
   ],
   "source": [
    "# Or maybe even.. \n",
    "\n",
    "(not (3 * 5 > 10)) or (2 > 1)"
   ]
  },
  {
   "cell_type": "code",
   "execution_count": null,
   "metadata": {
    "slideshow": {
     "slide_type": "fragment"
    }
   },
   "outputs": [],
   "source": [
    "# Suggested exercise: play with >, <, >=, <=, not, and, or, () \n",
    "# and see if they do what you expect\n",
    "\n",
    "## Also definitely read text book on this for more thorough treatment"
   ]
  },
  {
   "cell_type": "markdown",
   "metadata": {
    "slideshow": {
     "slide_type": "subslide"
    }
   },
   "source": [
    "# Simplifying Complex Expressions"
   ]
  },
  {
   "cell_type": "code",
   "execution_count": 38,
   "metadata": {
    "slideshow": {
     "slide_type": "fragment"
    }
   },
   "outputs": [
    {
     "data": {
      "text/plain": [
       "True"
      ]
     },
     "execution_count": 38,
     "metadata": {},
     "output_type": "execute_result"
    }
   ],
   "source": [
    "# Sometimes you're faced with a complex expression like:\n",
    "\n",
    "x = \"cats\"\n",
    "y = \"dogs\"\n",
    "\n",
    "not (x > y or not x < y) or x == y # This is not very easy to parse!\n",
    "\n",
    "# To understand it try breaking it down into pieces by substituting the sub-expressions for True or False\n",
    "# step by step, applying the precedence rules\n",
    "\n",
    "not (False or not True) or False  # Here I substituted sub-expressions with True or False\n",
    "\n",
    "not (False or False) or False  # More substitution\n",
    "\n",
    "not False or False # And again\n",
    "\n",
    "True or False # Nearly there\n",
    "\n",
    "True  ## Done\n",
    " \n",
    "# Obviously, the computer has no problem evaluating this...\n",
    "\n",
    "not (x > y or not x < y) or x == y  # Yup, it's True"
   ]
  },
  {
   "cell_type": "markdown",
   "metadata": {
    "slideshow": {
     "slide_type": "fragment"
    }
   },
   "source": [
    "Suggested exercise: try making up a complex expression and then simplify it by hand. You can use the Python interpretor to check that your result is correct."
   ]
  },
  {
   "cell_type": "markdown",
   "metadata": {
    "slideshow": {
     "slide_type": "subslide"
    }
   },
   "source": [
    "# Challenge 5"
   ]
  },
  {
   "cell_type": "code",
   "execution_count": null,
   "metadata": {
    "slideshow": {
     "slide_type": "fragment"
    }
   },
   "outputs": [],
   "source": [
    "# Change the expression below so that the 'not' is applied after the 'or' \n",
    "not 3 * 5 > 10 or 2 > 1"
   ]
  },
  {
   "cell_type": "markdown",
   "metadata": {
    "slideshow": {
     "slide_type": "subslide"
    }
   },
   "source": [
    "# Challenge 6"
   ]
  },
  {
   "cell_type": "code",
   "execution_count": null,
   "metadata": {
    "slideshow": {
     "slide_type": "fragment"
    }
   },
   "outputs": [],
   "source": [
    "# Simplify the following expression\n",
    "x = 3 \n",
    "y = 2\n",
    "\n",
    "not x > y and not x < y or x//y == 2  ## Simplify me"
   ]
  },
  {
   "cell_type": "markdown",
   "metadata": {
    "id": "ZwejXNuJaC-g",
    "slideshow": {
     "slide_type": "slide"
    }
   },
   "source": [
    "# Reading\n",
    "\n",
    "Openbook:\n",
    "\n",
    "* Read Chapter 2 on expressions, variables, statements and operators:\n",
    "  * http://openbookproject.net/thinkcs/python/english3e/variables_expressions_statements.html\n",
    "\n",
    "   \n",
    "# Homework\n",
    "\n",
    "* Go to Canvas and complete the second lecture quiz, which involves completing each challenge problem\n",
    "* See \"Reading 2\" in Zybooks\n",
    "* Finish Assignment 1 in Notebook Grader (see Canvas for link)"
   ]
  },
  {
   "cell_type": "markdown",
   "metadata": {
    "slideshow": {
     "slide_type": "slide"
    }
   },
   "source": [
    "# Practice Problems\n",
    "\n",
    "Some practice problems, for fun"
   ]
  },
  {
   "cell_type": "code",
   "execution_count": null,
   "metadata": {
    "slideshow": {
     "slide_type": "subslide"
    }
   },
   "outputs": [],
   "source": [
    "# What is the final value of x? (Try to figure it out before you run the code!)\n",
    "\n",
    "x = 10\n",
    "y = 3\n",
    "x *= 2\n",
    "x //= y\n",
    "x += 4"
   ]
  },
  {
   "cell_type": "code",
   "execution_count": null,
   "metadata": {
    "slideshow": {
     "slide_type": "subslide"
    }
   },
   "outputs": [],
   "source": [
    "# What will each of these expressions evaluate to (True or False)? \n",
    "# (Again, work it out in your head/on paper, then play with the code)\n",
    "\n",
    "a = 15\n",
    "b = 4\n",
    "\n",
    "expr1 = a % b == 3\n",
    "expr2 = a // b > b\n",
    "expr3 = not (a < b) and b != 0"
   ]
  },
  {
   "cell_type": "code",
   "execution_count": null,
   "metadata": {
    "slideshow": {
     "slide_type": "subslide"
    }
   },
   "outputs": [],
   "source": [
    "# Given x = 5 and y = 2, simplify the following expression step by step: (write it down as a sequence of lines - use\n",
    "# print on each line to check you did it right!)\n",
    "\n",
    "result = not (x // y > 1) and (y * 2 >= x or x % y == 1)\n",
    "\n",
    "# Show your work by writing out each step of simplification\n",
    "# Remember order of operations: \n",
    "# 1. Arithmetic operations (//,*,%,+,-)\n",
    "# 2. Comparisons (>,>=,==)\n",
    "# 3. not\n",
    "# 4. and\n",
    "# 5. or"
   ]
  }
 ],
 "metadata": {
  "celltoolbar": "Slideshow",
  "colab": {
   "collapsed_sections": [
    "cjsgMup6ktUd"
   ],
   "name": "L02 Variables and Expressions.ipynb",
   "provenance": [
    {
     "file_id": "17GPUwfjMAW-SkqDI2qb9LangNzYzgNH_",
     "timestamp": 1547074807405
    }
   ]
  },
  "kernelspec": {
   "display_name": "intro_python_env",
   "language": "python",
   "name": "intro_python_env"
  },
  "language_info": {
   "codemirror_mode": {
    "name": "ipython",
    "version": 3
   },
   "file_extension": ".py",
   "mimetype": "text/x-python",
   "name": "python",
   "nbconvert_exporter": "python",
   "pygments_lexer": "ipython3",
   "version": "3.11.9"
  }
 },
 "nbformat": 4,
 "nbformat_minor": 1
}
