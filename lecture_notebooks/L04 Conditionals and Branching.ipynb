{
 "cells": [
  {
   "cell_type": "markdown",
   "metadata": {
    "id": "Uz6CuQUwlUsK",
    "slideshow": {
     "slide_type": "slide"
    }
   },
   "source": [
    "# Lecture 4 - Conditionals and Branching (https://bit.ly/intro_python_04)\n",
    "\n",
    "Today:\n",
    "* Conditional control flow:\n",
    "  * If statements\n",
    "  * Else\n",
    "  * Elif\n",
    "  * Nested conditionals\n",
    "  * Inline conditionals\n",
    "  * Pass\n",
    "* First looping control flow:\n",
    "  * While loops\n",
    "* Control flow examples \n"
   ]
  },
  {
   "cell_type": "markdown",
   "metadata": {
    "id": "vE5fhwAet5B6",
    "slideshow": {
     "slide_type": "slide"
    }
   },
   "source": [
    "# Conditional Control Flow\n",
    "\n",
    "In previous lectures we saw boolean expressions (expressions that result in either True or False), now let's start to use logic to control the \"flow\" of our programs.\n",
    "\n",
    "* Just like reading a book, recall Python reads\n",
    "each line of code in turn, progressively updating it's \"state\" (aka memory) with variables and definitions. \n",
    "\n",
    "* The flow is not necessarily linear through the lines of code, the program can skip lines and jump around using \"conditionals\" and other methods of control flow.\n",
    "\n",
    "* Imagine Python has a cursor and these conditionals cause it to skip or include lines depending on their logical value, it's easiest to understand this by example."
   ]
  },
  {
   "cell_type": "markdown",
   "metadata": {
    "id": "GUovzl4O6lqn",
    "slideshow": {
     "slide_type": "slide"
    }
   },
   "source": [
    "# If\n",
    "\n",
    "The if statement decides to do something based on the result of a logical expression.\n",
    "\n",
    "<img src=\"https://raw.githubusercontent.com/benedictpaten/intro_python/main/lecture_notebooks/figures/graffles/if.jpg\" width=400 height=400 />\n",
    "\n"
   ]
  },
  {
   "cell_type": "code",
   "execution_count": 32,
   "metadata": {
    "colab": {
     "base_uri": "https://localhost:8080/",
     "height": 52
    },
    "executionInfo": {
     "elapsed": 483,
     "status": "ok",
     "timestamp": 1570142288296,
     "user": {
      "displayName": "Benedict Paten",
      "photoUrl": "https://lh3.googleusercontent.com/a-/AAuE7mBMnWy8dDR7jyTHNy9tPaRx6DCyA3QKrIcuQ7R4=s64",
      "userId": "06399644931392855882"
     },
     "user_tz": 420
    },
    "id": "B6fK-_sU6lqo",
    "outputId": "ae318066-ae9b-4d66-d837-e68b288f689e",
    "scrolled": true,
    "slideshow": {
     "slide_type": "subslide"
    }
   },
   "outputs": [
    {
     "name": "stdout",
     "output_type": "stream",
     "text": [
      "Dogs really are the best\n",
      "more stuff\n",
      "etc..\n",
      "blah\n"
     ]
    }
   ],
   "source": [
    "if \"dogs\" > \"cats\": # Strings are compared lexicographically (dictionary ordering)\n",
    "    print(\"Dogs really are the best\") \n",
    "    print(\"more stuff\")\n",
    "    print(\"etc..\")\n",
    "\n",
    "\n",
    "print(\"blah\")\n",
    "  \n",
    "  \n",
    "# The general structure of an if statement is:\n",
    "\n",
    "# if expression:\n",
    "  # statement block\n",
    "  \n",
    "# more statements"
   ]
  },
  {
   "cell_type": "markdown",
   "metadata": {
    "id": "VaBVgBIT_7uD",
    "slideshow": {
     "slide_type": "fragment"
    }
   },
   "source": [
    "You read the above as \"if expression is True\" then execute the \"statement block\", which is composed of one or more indented lines. After the if, regardless of if the expression is true the program continues executing more statements.\n",
    "\n",
    "**Critically note the indent of the statement block - only stuff indented by a tab width will get run.**"
   ]
  },
  {
   "cell_type": "markdown",
   "metadata": {
    "slideshow": {
     "slide_type": "subslide"
    }
   },
   "source": [
    "# Challenge 1"
   ]
  },
  {
   "cell_type": "code",
   "execution_count": 3,
   "metadata": {
    "slideshow": {
     "slide_type": "fragment"
    }
   },
   "outputs": [
    {
     "name": "stdout",
     "output_type": "stream",
     "text": [
      "Input a number: 6\n",
      "Input another number: 10\n",
      "Hello\n"
     ]
    }
   ],
   "source": [
    "x = float(input(\"Input a number: \"))\n",
    "y = float(input(\"Input another number: \"))\n",
    "\n",
    "# Write an if statement such that if the product of x and y is larger than 50 print \"Hello\"\n"
   ]
  },
  {
   "cell_type": "markdown",
   "metadata": {
    "id": "HQ6_JVLQxXdk",
    "slideshow": {
     "slide_type": "slide"
    }
   },
   "source": [
    "# Else\n",
    "\n",
    "Else is the partner of if:\n",
    "\n",
    "<img src=\"https://raw.githubusercontent.com/benedictpaten/intro_python/main/lecture_notebooks/figures/graffles/if%3Aelse.jpg\" width=400 height=400 />\n",
    "\n",
    "We can use if/else to control flow - choosing to do one thing or the other\n"
   ]
  },
  {
   "cell_type": "code",
   "execution_count": 5,
   "metadata": {
    "colab": {
     "base_uri": "https://localhost:8080/"
    },
    "executionInfo": {
     "elapsed": 14309,
     "status": "ok",
     "timestamp": 1607538910708,
     "user": {
      "displayName": "Benedict Paten",
      "photoUrl": "https://lh3.googleusercontent.com/a-/AOh14Gh2rYrrH6yoNnUp0Oj4p4ouybc6ZcWGyPmKFtIY=s64",
      "userId": "06399644931392855882"
     },
     "user_tz": 480
    },
    "id": "KZI1QLl96lqr",
    "outputId": "6b9884e3-4ebc-4bc7-d9bc-fb2ac43cc497",
    "slideshow": {
     "slide_type": "subslide"
    }
   },
   "outputs": [
    {
     "name": "stdout",
     "output_type": "stream",
     "text": [
      "Enter a number: 2\n",
      "Enter another number: 10\n",
      "The first number you input is smaller or equal to the second number you input\n"
     ]
    }
   ],
   "source": [
    "value1 = float(input(\"Enter a number: \")) # Read a first number\n",
    "# from the user\n",
    "\n",
    "value2 = float(input(\"Enter another number: \")) # Read a second number\n",
    "# from the user\n",
    "\n",
    "if value1 > value2:\n",
    "  print(\"The first number you input is bigger\")\n",
    "else:\n",
    "  print(\"The first number you input is smaller or equal to the second number you input\")\n"
   ]
  },
  {
   "cell_type": "markdown",
   "metadata": {
    "id": "rfY-d-Y9AWua",
    "slideshow": {
     "slide_type": "fragment"
    }
   },
   "source": [
    "You read the above as if expression is True then execute statement block1 else execute statement block2.\n",
    "\n",
    "Again, critical to note that only indented code counts in the statement blocks."
   ]
  },
  {
   "cell_type": "code",
   "execution_count": null,
   "metadata": {
    "id": "ELOHTigjyhMt",
    "slideshow": {
     "slide_type": "subslide"
    }
   },
   "outputs": [],
   "source": [
    "# The general structure of an if/else statement is:\n",
    "\n",
    "if expression:\n",
    "  statement block1\n",
    "else:\n",
    "  statement block2"
   ]
  },
  {
   "cell_type": "markdown",
   "metadata": {
    "slideshow": {
     "slide_type": "subslide"
    }
   },
   "source": [
    "# Challenge 2"
   ]
  },
  {
   "cell_type": "code",
   "execution_count": 11,
   "metadata": {
    "slideshow": {
     "slide_type": "fragment"
    }
   },
   "outputs": [
    {
     "name": "stdout",
     "output_type": "stream",
     "text": [
      "Input a weight in grams: 1250\n",
      "Enter 'kilos' or 'lbs': kilos\n",
      "The weight is {x/1000} kilos\n"
     ]
    }
   ],
   "source": [
    "x = float(input(\"Input a weight in grams: \"))\n",
    "y = input(\"Enter 'kilos' or 'lbs': \")\n",
    "\n",
    "# Write an if/else statement such that if y equals 'kilos' print the input weight in kilograms \n",
    "# else print the weight in lbs\n",
    "# There are 1000 grams in a kilogram, there are 453.592 grams in a lb.\n"
   ]
  },
  {
   "cell_type": "markdown",
   "metadata": {
    "id": "N48eQTsU-33z",
    "slideshow": {
     "slide_type": "slide"
    }
   },
   "source": [
    "# Else and elif\n",
    "\n",
    "Elif is the partner of if and else:\n",
    "\n",
    "<img src=\"https://raw.githubusercontent.com/benedictpaten/intro_python/main/lecture_notebooks/figures/graffles/if%3Aelif%3Aelse.jpg\" width=400 height=400 />\n"
   ]
  },
  {
   "cell_type": "code",
   "execution_count": 15,
   "metadata": {
    "colab": {
     "base_uri": "https://localhost:8080/"
    },
    "executionInfo": {
     "elapsed": 19064,
     "status": "ok",
     "timestamp": 1607539084982,
     "user": {
      "displayName": "Benedict Paten",
      "photoUrl": "https://lh3.googleusercontent.com/a-/AOh14Gh2rYrrH6yoNnUp0Oj4p4ouybc6ZcWGyPmKFtIY=s64",
      "userId": "06399644931392855882"
     },
     "user_tz": 480
    },
    "id": "G3r0A_6A6lqu",
    "outputId": "06a1d65b-b538-4f6a-bf51-c6c209b5b167",
    "slideshow": {
     "slide_type": "subslide"
    }
   },
   "outputs": [
    {
     "name": "stdout",
     "output_type": "stream",
     "text": [
      "What's your favorite number? : 12\n",
      "Your favorite number is greater than mine\n"
     ]
    }
   ],
   "source": [
    "# If, else and elif\n",
    "\n",
    "x = float(input(\"What's your favorite number? : \"))\n",
    "\n",
    "if x == 7:\n",
    "  print(\"We have the same favorite number!\")\n",
    "elif x < 2:\n",
    "  print(\"Your favorite number is way less than mine\")\n",
    "elif x < 7:\n",
    "  print(\"Your favorite number is less than mine\")\n",
    "else:\n",
    "  print(\"Your favorite number is greater than mine\")\n",
    "  "
   ]
  },
  {
   "cell_type": "markdown",
   "metadata": {
    "id": "79QIBoDX6lqz",
    "slideshow": {
     "slide_type": "subslide"
    }
   },
   "source": [
    "* Note: You can string together if, elif and else to have control determined by multiple chaining expressions"
   ]
  },
  {
   "cell_type": "code",
   "execution_count": null,
   "metadata": {
    "id": "qzOPIrG7zAIL",
    "slideshow": {
     "slide_type": "fragment"
    }
   },
   "outputs": [],
   "source": [
    "# The general structure of an if/elif/else statement is:\n",
    "\n",
    "if expression:\n",
    "  statement block1\n",
    "elif expression2:\n",
    "  statement block2 \n",
    "elif expression3:\n",
    "  ...\n",
    "else:\n",
    "  statement blockN\n",
    "  \n",
    "# You read this as if expression is True then execute statement block1 else\n",
    "# if expression2 is true execute statement block2, etc. until you get to the \n",
    "# else, whose statement block is only evaluated if all the previous expressions\n",
    "# are false.\n",
    "\n",
    "# It is important to understand that only one statement block will get run in this\n",
    "# logic, so the order of the expressions is important.\n",
    "\n",
    "# Again, critical to note that only indented code counts in the statement blocks.\n",
    "# In general Python uses these indents to govern control flow"
   ]
  },
  {
   "cell_type": "markdown",
   "metadata": {
    "slideshow": {
     "slide_type": "subslide"
    }
   },
   "source": [
    "# Challenge 3"
   ]
  },
  {
   "cell_type": "code",
   "execution_count": 20,
   "metadata": {},
   "outputs": [
    {
     "name": "stdout",
     "output_type": "stream",
     "text": [
      "Input a weight in grams: 1250\n",
      "Enter 'kilos', 'lbs', 'ounces' or 'tons': kilos\n",
      "The weight is   1.25 kilos\n"
     ]
    }
   ],
   "source": [
    "x = float(input(\"Input a weight in grams: \"))\n",
    "y = input(\"Enter 'kilos', 'lbs', 'ounces' or 'tons': \")\n",
    "\n",
    "# Modify the program you wrote in challenge 2 to print the desired weight\n",
    "# There are 1000 grams in a kilogram\n",
    "# there are 453.592 grams in a lb.\n",
    "# there are 28.3495 grams in an ounce\n",
    "# there are 907185 grams in a ton\n",
    "# if the user does not correctly input either 'kilos', 'lbs', 'ounces' or 'tons' print \"unknown unit, please try again\"\n"
   ]
  },
  {
   "cell_type": "markdown",
   "metadata": {
    "id": "Uy6j31wLA5E3",
    "slideshow": {
     "slide_type": "slide"
    }
   },
   "source": [
    "# Nested conditionals"
   ]
  },
  {
   "cell_type": "code",
   "execution_count": null,
   "metadata": {
    "colab": {
     "base_uri": "https://localhost:8080/"
    },
    "executionInfo": {
     "elapsed": 4263,
     "status": "ok",
     "timestamp": 1607539159638,
     "user": {
      "displayName": "Benedict Paten",
      "photoUrl": "https://lh3.googleusercontent.com/a-/AOh14Gh2rYrrH6yoNnUp0Oj4p4ouybc6ZcWGyPmKFtIY=s64",
      "userId": "06399644931392855882"
     },
     "user_tz": 480
    },
    "id": "wuj_LMwIa3M2",
    "outputId": "d0306f6f-8bc8-475d-ac2c-f08141e3919c",
    "slideshow": {
     "slide_type": "fragment"
    }
   },
   "outputs": [
    {
     "name": "stdout",
     "output_type": "stream",
     "text": [
      "Give me a number? : 11\n",
      "x is greater than 10\n"
     ]
    }
   ],
   "source": [
    "# Consider the following if/elif/else block\n",
    "\n",
    "x = float(input(\"Give me a number? : \"))\n",
    "\n",
    "if not x > 2:\n",
    "    print(\"x is less than or equal to 2\")\n",
    "elif x < 5:\n",
    "    print(\"x is greater than 2 but less than 5\")\n",
    "elif x <= 10:   \n",
    "    print(\"x is greater than or equal to 5 but less than or equal to 10\")\n",
    "else:\n",
    "    print(\"x is greater than 10\")"
   ]
  },
  {
   "cell_type": "code",
   "execution_count": 15,
   "metadata": {
    "colab": {
     "base_uri": "https://localhost:8080/"
    },
    "executionInfo": {
     "elapsed": 5650,
     "status": "ok",
     "timestamp": 1607539207669,
     "user": {
      "displayName": "Benedict Paten",
      "photoUrl": "https://lh3.googleusercontent.com/a-/AOh14Gh2rYrrH6yoNnUp0Oj4p4ouybc6ZcWGyPmKFtIY=s64",
      "userId": "06399644931392855882"
     },
     "user_tz": 480
    },
    "id": "EkL6WUVCrMgC",
    "outputId": "8730049d-331e-4738-9a20-136902516d76",
    "slideshow": {
     "slide_type": "subslide"
    }
   },
   "outputs": [
    {
     "name": "stdout",
     "output_type": "stream",
     "text": [
      "Give me a number? : 10\n",
      "x is greater than or equal to 5 but less than or equal to 10\n"
     ]
    }
   ],
   "source": [
    "# You can achieve the same with nested if statements:\n",
    "\n",
    "x = float(input(\"Give me a number? : \"))\n",
    "\n",
    "if x < 5:\n",
    "  if not x > 2: # This if is nested in the outer if statement, \n",
    "    # it is only tested if the outer conditional evaluates to True\n",
    "    print(\"x is less than or equal to 2\")\n",
    "  else:\n",
    "    print(\"x is greater than 2 but less than 5\")\n",
    "else:\n",
    "  if x <= 10: \n",
    "    print(\"x is greater than or equal to 5 but less than or equal to 10\")\n",
    "  else:\n",
    "    print(\"x is greater than 10\")\n"
   ]
  },
  {
   "cell_type": "markdown",
   "metadata": {
    "id": "QKLjfm0nBAVA",
    "slideshow": {
     "slide_type": "fragment"
    }
   },
   "source": [
    "The if/elif/else version is clearer and easier to read (so better, IMO), but the nested version insures you only ever execute 2 conditional statements, where as in the former you may test 3 (if the first two conditionals evaluate to False). \n",
    "\n",
    "In general, you will find nesting allows more varied and complex control flow."
   ]
  },
  {
   "cell_type": "markdown",
   "metadata": {
    "id": "6DuN8AbvBfEv",
    "slideshow": {
     "slide_type": "slide"
    }
   },
   "source": [
    "# Inline conditionals\n",
    "\n",
    "Just as in natural languages, Python has short hand abbreviations, like we saw with abbreviated assignment.\n",
    "\n",
    "Inline conditionals are \"syntactic sugar\", a shorthand for doing conditional evaluation on one line."
   ]
  },
  {
   "cell_type": "code",
   "execution_count": 30,
   "metadata": {
    "colab": {
     "base_uri": "https://localhost:8080/"
    },
    "executionInfo": {
     "elapsed": 340,
     "status": "ok",
     "timestamp": 1607539463026,
     "user": {
      "displayName": "Benedict Paten",
      "photoUrl": "https://lh3.googleusercontent.com/a-/AOh14Gh2rYrrH6yoNnUp0Oj4p4ouybc6ZcWGyPmKFtIY=s64",
      "userId": "06399644931392855882"
     },
     "user_tz": 480
    },
    "id": "uUfU9TWy6lq0",
    "outputId": "8ede0ef2-94fe-43b2-c775-b24232b083ad",
    "slideshow": {
     "slide_type": "fragment"
    }
   },
   "outputs": [
    {
     "name": "stdout",
     "output_type": "stream",
     "text": [
      "tails\n",
      "heads\n"
     ]
    }
   ],
   "source": [
    "import random # This adds functions from a module for \n",
    "# making random numbers\n",
    "# (don't worry, we'll cover this later)\n",
    "\n",
    "# Consider picking a random flip of a coin...\n",
    "if random.random() > 0.5:\n",
    "  x = \"heads\"\n",
    "else:\n",
    "  x = \"tails\"\n",
    "\n",
    "print(x)\n",
    "\n",
    "# This if/else structure can be written \"inline\"\n",
    "x = \"heads\" if random.random() > 0.5 else \"tails\"\n",
    "\n",
    "print(x)"
   ]
  },
  {
   "cell_type": "markdown",
   "metadata": {
    "id": "bJcwPSeE75es",
    "slideshow": {
     "slide_type": "slide"
    }
   },
   "source": [
    "# Pass\n",
    "\n",
    "Sometimes, when you're writing code you want a placeholder statement use pass.\n",
    "Pass is another reserved keyword in Python."
   ]
  },
  {
   "cell_type": "code",
   "execution_count": 24,
   "metadata": {
    "id": "OxcP-RfCCMSK",
    "slideshow": {
     "slide_type": "fragment"
    }
   },
   "outputs": [],
   "source": [
    "x = 6\n",
    "\n",
    "if x > 5:\n",
    "  pass # Pass acts as a placeholder for the code you will write\n",
    "else:\n",
    "  print(\"hello\")"
   ]
  },
  {
   "cell_type": "markdown",
   "metadata": {
    "id": "ftjUa2adLc5_",
    "slideshow": {
     "slide_type": "slide"
    }
   },
   "source": [
    "# While \n",
    "\n",
    "The while statement is the first looping statement we're going to see.\n",
    "\n",
    "The basic idea is that it may be useful to repeatedly execute a statement block \n",
    "to progressively update the state of the program.\n",
    "\n",
    "<img src=\"https://raw.githubusercontent.com/benedictpaten/intro_python/main/lecture_notebooks/figures/graffles/while.jpg\" width=400 height=400 />"
   ]
  },
  {
   "cell_type": "code",
   "execution_count": null,
   "metadata": {
    "id": "ir-G5cOq5MT_",
    "slideshow": {
     "slide_type": "subslide"
    }
   },
   "outputs": [],
   "source": [
    "# The while statement has the general structure:\n",
    "\n",
    "while expression:\n",
    "  statement block to evaluate while expression is true\n",
    "  \n",
    "more stuff outside of the while"
   ]
  },
  {
   "cell_type": "code",
   "execution_count": 1,
   "metadata": {
    "colab": {
     "base_uri": "https://localhost:8080/"
    },
    "executionInfo": {
     "elapsed": 874,
     "status": "ok",
     "timestamp": 1607540792103,
     "user": {
      "displayName": "Benedict Paten",
      "photoUrl": "https://lh3.googleusercontent.com/a-/AOh14Gh2rYrrH6yoNnUp0Oj4p4ouybc6ZcWGyPmKFtIY=s64",
      "userId": "06399644931392855882"
     },
     "user_tz": 480
    },
    "id": "ypUMLaFI5bur",
    "outputId": "958214bb-fbb8-46ab-fb7a-13a3ac6dc872",
    "slideshow": {
     "slide_type": "subslide"
    }
   },
   "outputs": [
    {
     "name": "stdout",
     "output_type": "stream",
     "text": [
      " i is: 0\n",
      " i is: 1\n",
      " i is: 2\n",
      " i is: 3\n",
      " i is: 4\n",
      " i is: 5\n",
      " i is: 6\n",
      " i is: 7\n",
      " i is: 8\n",
      " i is: 9\n",
      "we're done! i is:  10\n"
     ]
    }
   ],
   "source": [
    "# A first example\n",
    "\n",
    "i = 0 \n",
    "\n",
    "while i < 10: \n",
    "  print(\" i is:\", i)\n",
    "  i += 1 \n",
    "\n",
    "print(\"we're done! i is: \", i)  # This line is executed after the while loop has finished "
   ]
  },
  {
   "cell_type": "markdown",
   "metadata": {
    "id": "LCD8jy9q5hvn",
    "slideshow": {
     "slide_type": "subslide"
    }
   },
   "source": [
    "Let's look at this carefully:"
   ]
  },
  {
   "cell_type": "code",
   "execution_count": 23,
   "metadata": {
    "colab": {
     "base_uri": "https://localhost:8080/"
    },
    "executionInfo": {
     "elapsed": 2528,
     "status": "ok",
     "timestamp": 1607540624762,
     "user": {
      "displayName": "Benedict Paten",
      "photoUrl": "https://lh3.googleusercontent.com/a-/AOh14Gh2rYrrH6yoNnUp0Oj4p4ouybc6ZcWGyPmKFtIY=s64",
      "userId": "06399644931392855882"
     },
     "user_tz": 480
    },
    "id": "0OZHhCcKL18l",
    "outputId": "25b9d60c-10f4-4390-8697-9f6588c8e3ea",
    "slideshow": {
     "slide_type": "subslide"
    }
   },
   "outputs": [
    {
     "name": "stdout",
     "output_type": "stream",
     "text": [
      " i is: 0\n",
      " i is: 1\n",
      " i is: 2\n",
      " i is: 3\n",
      " i is: 4\n",
      " i is: 5\n",
      " i is: 6\n",
      " i is: 7\n",
      " i is: 8\n",
      " i is: 9\n",
      "we're done! i is:  10\n"
     ]
    }
   ],
   "source": [
    "i = 0 # This is the setup, at the beginning of the loop i will equal 0\n",
    "\n",
    "while i < 10: # This expression is re-evaluated until it is no longer true\n",
    "  # The statement block gets run over and over\n",
    "  print(\" i is:\", i) # This statement causes the series of \"i is:\" lines in the output\n",
    "  i += 1 # Here we update i, if we didn't change i we'd loop infinitely\n",
    "\n",
    "print(\"we're done! i is: \", i)  # This line is executed after the while loop has finished \n",
    "\n",
    "\n",
    "# You read this program as:\n",
    "\n",
    "# Set i to 0\n",
    "\n",
    "# check if i < 0, if it is:\n",
    "  # print \"i is: \", i\n",
    "  # add one to i\n",
    "  # go back to the start of the while loop\n",
    "\n",
    "# print \"we're done\""
   ]
  },
  {
   "cell_type": "markdown",
   "metadata": {
    "id": "4nQGkC6165O0",
    "slideshow": {
     "slide_type": "subslide"
    }
   },
   "source": [
    "To get this flow into your head think about a curser moving through the\n",
    "program from top-to-bottom going back to the top of loop at the end \n",
    "of each loop of the while. In effect, you can unroll the flow in your head:\n"
   ]
  },
  {
   "cell_type": "code",
   "execution_count": null,
   "metadata": {
    "colab": {
     "base_uri": "https://localhost:8080/"
    },
    "executionInfo": {
     "elapsed": 576,
     "status": "ok",
     "timestamp": 1607541107944,
     "user": {
      "displayName": "Benedict Paten",
      "photoUrl": "https://lh3.googleusercontent.com/a-/AOh14Gh2rYrrH6yoNnUp0Oj4p4ouybc6ZcWGyPmKFtIY=s64",
      "userId": "06399644931392855882"
     },
     "user_tz": 480
    },
    "id": "bO11b2B45zr_",
    "outputId": "8d087eac-23a0-4212-8072-de09e90887ce",
    "slideshow": {
     "slide_type": "subslide"
    }
   },
   "outputs": [
    {
     "name": "stdout",
     "output_type": "stream",
     "text": [
      " i is: 0\n",
      " i is: 1\n",
      " i is: 2\n",
      " i is: 3\n",
      " i is: 4\n",
      " i is: 5\n",
      " i is: 6\n",
      " i is: 7\n",
      " i is: 8\n",
      " i is: 9\n",
      "we're done! i is:  10\n"
     ]
    }
   ],
   "source": [
    "# Equivalent to the other above code with a while loop:\n",
    "\n",
    "i = 0 \n",
    "print(\" i is:\", i)\n",
    "i += 1 # i is 1\n",
    "print(\" i is:\", i)\n",
    "i += 1 # i is 2\n",
    "print(\" i is:\", i)\n",
    "i += 1 # i is 3\n",
    "print(\" i is:\", i)\n",
    "i += 1 # i is 4\n",
    "print(\" i is:\", i)\n",
    "i += 1 # i is 5\n",
    "print(\" i is:\", i)\n",
    "i += 1 # i is 6\n",
    "print(\" i is:\", i)\n",
    "i += 1 # i is 7\n",
    "print(\" i is:\", i)\n",
    "i += 1 # i is 8\n",
    "print(\" i is:\", i)\n",
    "i += 1 # i is 9\n",
    "print(\" i is:\", i)\n",
    "i += 1 # i is 10\n",
    "print(\"we're done! i is: \", i)  "
   ]
  },
  {
   "cell_type": "markdown",
   "metadata": {
    "id": "B-F46B4H6jM1",
    "slideshow": {
     "slide_type": "subslide"
    }
   },
   "source": [
    "Unrolling the code shows we could have explicitly done the same thing without a loop, but it's very repetitive and long and if we want to change the value of i that we count up to we have to edit many lines of code:"
   ]
  },
  {
   "cell_type": "code",
   "execution_count": 24,
   "metadata": {
    "slideshow": {
     "slide_type": "notes"
    }
   },
   "outputs": [
    {
     "name": "stdout",
     "output_type": "stream",
     "text": [
      "Before ['1', '2', '3']\n",
      "After [1, 2, 3]\n"
     ]
    }
   ],
   "source": [
    "# Illustrating using a loop to convert the values in a list - revisiting \n",
    "# challenge from the previous lecture\n",
    "\n",
    "x = [ \"1\", \"2\", \"3\" ]\n",
    "\n",
    "print(\"Before\", x)\n",
    "\n",
    "i = 0\n",
    "while i < len(x):\n",
    "    x[i] = int(x[i])\n",
    "    i += 1\n",
    "\n",
    "print(\"After\", x)\n"
   ]
  },
  {
   "cell_type": "markdown",
   "metadata": {
    "slideshow": {
     "slide_type": "subslide"
    }
   },
   "source": [
    "# Challenge 4"
   ]
  },
  {
   "cell_type": "code",
   "execution_count": 31,
   "metadata": {
    "slideshow": {
     "slide_type": "fragment"
    }
   },
   "outputs": [
    {
     "name": "stdout",
     "output_type": "stream",
     "text": [
      "Enter a mantra: I'm getting better at Python, honestly\n",
      "How many times do you want me to repeat it? : 20\n",
      "I'm getting better at Python, honestly\n",
      "I'm getting better at Python, honestly\n",
      "I'm getting better at Python, honestly\n",
      "I'm getting better at Python, honestly\n",
      "I'm getting better at Python, honestly\n",
      "I'm getting better at Python, honestly\n",
      "I'm getting better at Python, honestly\n",
      "I'm getting better at Python, honestly\n",
      "I'm getting better at Python, honestly\n",
      "I'm getting better at Python, honestly\n",
      "I'm getting better at Python, honestly\n",
      "I'm getting better at Python, honestly\n",
      "I'm getting better at Python, honestly\n",
      "I'm getting better at Python, honestly\n",
      "I'm getting better at Python, honestly\n",
      "I'm getting better at Python, honestly\n",
      "I'm getting better at Python, honestly\n",
      "I'm getting better at Python, honestly\n",
      "I'm getting better at Python, honestly\n",
      "I'm getting better at Python, honestly\n"
     ]
    }
   ],
   "source": [
    "x = input(\"Enter a mantra: \")\n",
    "y = int(input(\"How many times do you want me to repeat it? : \"))\n",
    "\n",
    "# Write code to print x y times\n"
   ]
  },
  {
   "cell_type": "markdown",
   "metadata": {
    "id": "66UdL8pLaYO2",
    "slideshow": {
     "slide_type": "slide"
    }
   },
   "source": [
    "# Example: Calculating the sum of odd numbers"
   ]
  },
  {
   "cell_type": "code",
   "execution_count": 29,
   "metadata": {
    "colab": {
     "base_uri": "https://localhost:8080/"
    },
    "executionInfo": {
     "elapsed": 11137,
     "status": "ok",
     "timestamp": 1607549549001,
     "user": {
      "displayName": "Benedict Paten",
      "photoUrl": "https://lh3.googleusercontent.com/a-/AOh14Gh2rYrrH6yoNnUp0Oj4p4ouybc6ZcWGyPmKFtIY=s64",
      "userId": "06399644931392855882"
     },
     "user_tz": 480
    },
    "id": "HO0xOmC8DzkI",
    "outputId": "c83a044a-fbf2-406b-9ae4-b4a540dcf8b6",
    "slideshow": {
     "slide_type": "fragment"
    }
   },
   "outputs": [
    {
     "name": "stdout",
     "output_type": "stream",
     "text": [
      "Please enter an integer: 3\n",
      "Please enter a larger integer: 10\n",
      "Sum of odd integers is 24\n"
     ]
    }
   ],
   "source": [
    "# Calculate the sum of odd numbered integers in the range x, x+1, x+2, ... y-1\n",
    "\n",
    "x = int(input(\"Please enter an integer: \"))\n",
    "y = int(input(\"Please enter a larger integer: \"))\n",
    "\n",
    "assert y > x # Check the input is okay\n",
    "\n",
    "z = 0 # This is a counter for the sum\n",
    "i = x\n",
    "while i < y: # We calculate the sum up to but excluding y\n",
    "  if i % 2 == 1: # This conditional is true if i is odd\n",
    "    z += i\n",
    "  i += 1\n",
    "\n",
    "print(\"Sum of odd integers is\", z)"
   ]
  },
  {
   "cell_type": "markdown",
   "metadata": {
    "id": "SCdB4AkyYU2L",
    "slideshow": {
     "slide_type": "slide"
    }
   },
   "source": [
    "# Example: Calculating Fibonacci Numbers (Harder Example!)\n",
    "\n",
    "We can use loops do repetitive, repeating calculations\n",
    "\n",
    "Let's calculate Fibonacci numbers. The ith Fibonacci number is the sum of \n",
    "the preceding two Fibonacci numbers in the sequence, the i-1th and i-2th Fibonacci numbers. \n",
    "\n",
    "The first Fibonacci number is 0 and the second is 1. \n",
    "\n",
    "The Fibonacci sequence is therefore 0, 1, 1, 2, 3, 5, 8, 13, ..."
   ]
  },
  {
   "cell_type": "code",
   "execution_count": 3,
   "metadata": {
    "colab": {
     "base_uri": "https://localhost:8080/"
    },
    "executionInfo": {
     "elapsed": 3122,
     "status": "ok",
     "timestamp": 1607549176002,
     "user": {
      "displayName": "Benedict Paten",
      "photoUrl": "https://lh3.googleusercontent.com/a-/AOh14Gh2rYrrH6yoNnUp0Oj4p4ouybc6ZcWGyPmKFtIY=s64",
      "userId": "06399644931392855882"
     },
     "user_tz": 480
    },
    "id": "gpLlOyLxOQue",
    "outputId": "5f91215e-77ca-4bf3-f018-e098b322802c",
    "slideshow": {
     "slide_type": "subslide"
    }
   },
   "outputs": [
    {
     "name": "stdout",
     "output_type": "stream",
     "text": [
      "What Fibonacci number do you want ?: 5\n",
      "In the loop, the  3  th fib number is 1\n",
      "In the loop, the  4  th fib number is 2\n",
      "In the loop, the  5  th fib number is 3\n",
      "Fibonacci number  5  is:  3\n"
     ]
    }
   ],
   "source": [
    "# A calculater for Fibonacci numbers\n",
    "\n",
    "x = 0 # The first Fibonacci number\n",
    "y = 1 # The second Fibonacci number\n",
    "\n",
    "j = int(input(\"What Fibonacci number do you want ?: \"))\n",
    "\n",
    "i = 3 # Our counter\n",
    "\n",
    "while i <= j:\n",
    "  z = x + y # The ith Fibonacci number\n",
    "  print(\"In the loop, the \", i, \" th fib number is\", z)\n",
    "  \n",
    "  # Update x and y \n",
    "  x = y # x is now the i-1th Fibonacci number\n",
    "  y = z # y is now the ith Fibonacci number\n",
    "  \n",
    "  i += 1\n",
    "  \n",
    "if j == 1:\n",
    "  print(\"Fibonacci number 1 is: 0\")\n",
    "else:\n",
    "  print(\"Fibonacci number \", j, \" is: \", y)"
   ]
  },
  {
   "cell_type": "markdown",
   "metadata": {
    "id": "_KTnjyZqZjs6",
    "slideshow": {
     "slide_type": "fragment"
    }
   },
   "source": [
    "You should be able to understand the above, if it hasn't stuck yet don't worry, but spend some time \"unrolling\" the code in your head to see how the flow of execution works.\n"
   ]
  },
  {
   "cell_type": "markdown",
   "metadata": {
    "slideshow": {
     "slide_type": "subslide"
    }
   },
   "source": [
    "# Challenge 5"
   ]
  },
  {
   "cell_type": "code",
   "execution_count": 35,
   "metadata": {
    "slideshow": {
     "slide_type": "fragment"
    }
   },
   "outputs": [
    {
     "name": "stdout",
     "output_type": "stream",
     "text": [
      "Please enter an integer: 5\n",
      "Please enter a power: 3\n",
      "5 to the power of 3 is 125\n"
     ]
    }
   ],
   "source": [
    "x = int(input(\"Please enter an integer: \"))\n",
    "y = int(input(\"Please enter a power: \"))\n",
    "\n",
    "# Write a program to find x**y without using the power operator \n",
    "# (hint: using a while loop!). Print the resulting number"
   ]
  },
  {
   "cell_type": "markdown",
   "metadata": {
    "id": "f2jTGrfA5kx5",
    "slideshow": {
     "slide_type": "slide"
    }
   },
   "source": [
    "# Reading\n",
    "\n",
    "Chapter 5 of the open book: http://openbookproject.net/thinkcs/python/english3e/conditionals.html\n",
    "\n",
    "# Homework \n",
    "\n",
    "* Go to Canvas and complete the lecture quiz, which involves completing each challenge problem\n",
    "* ZyBook: Reading 4\n"
   ]
  },
  {
   "cell_type": "markdown",
   "metadata": {
    "slideshow": {
     "slide_type": "slide"
    }
   },
   "source": [
    "# Practice Problems"
   ]
  },
  {
   "cell_type": "code",
   "execution_count": 4,
   "metadata": {
    "slideshow": {
     "slide_type": "subslide"
    }
   },
   "outputs": [],
   "source": [
    "# ## Problem 1: Temperature Converter\n",
    "# Write a program that converts temperatures between Fahrenheit and Celsius.\n",
    "# \n",
    "# Requirements:\n",
    "# 1. Ask user for temperature value (as float)\n",
    "# 2. Ask user for current unit ('F' or 'C')\n",
    "# 3. Validate the input - print error if invalid unit\n",
    "# 4. Convert and print temperature in other unit\n",
    "# 5. Print \"Below freezing!\" if temperature is below freezing point\n",
    "#\n",
    "# Formulas:\n",
    "# - C = (F - 32) * 5/9\n",
    "# - F = (C * 9/5) + 32\n",
    "\n",
    "# Your code here:\n",
    "\n",
    "\n",
    "\n",
    "# Test your code with:\n",
    "# - 32°F (should be 0°C)\n",
    "# - 0°C (should be 32°F)\n",
    "# - -40°F (should be -40°C and show \"Below freezing!\")\n",
    "# - Invalid unit input"
   ]
  },
  {
   "cell_type": "code",
   "execution_count": null,
   "metadata": {
    "slideshow": {
     "slide_type": "subslide"
    }
   },
   "outputs": [],
   "source": [
    "# ## Problem 2: Grade Calculator\n",
    "# Write a program that converts numerical grades to letter grades with plus/minus modifiers.\n",
    "#\n",
    "# Requirements:\n",
    "# 1. Get numerical grade (0-100)\n",
    "# 2. Validate input range\n",
    "# 3. Convert to letter grade:\n",
    "#    - A: 90-100\n",
    "#    - B: 80-89 \n",
    "#    - C: 70-79\n",
    "#    - D: 60-69\n",
    "#    - F: Below 60\n",
    "# 4. Add '+' for scores ending in 8 or 9 (except A and F)\n",
    "# 5. Add '-' for scores ending in 0 or 1 (except F)\n",
    "\n",
    "# Your code here:\n",
    "\n",
    "\n",
    "# Test your code with:\n",
    "# - 95 (should be A)\n",
    "# - 88 (should be B+)\n",
    "# - 81 (should be B-)\n",
    "# - 60 (should be D-)\n",
    "# - 45 (should be F)\n",
    "# - 102 (should show error)"
   ]
  },
  {
   "cell_type": "code",
   "execution_count": null,
   "metadata": {
    "slideshow": {
     "slide_type": "subslide"
    }
   },
   "outputs": [],
   "source": [
    "# ## Problem 3: Number Guessing Game\n",
    "# Create a number guessing game where the computer has chosen 42 as its number.\n",
    "#\n",
    "# Requirements:\n",
    "# 1. Give user 5 guesses to find number between 1-100\n",
    "# 2. After each guess, tell user if guess was:\n",
    "#    - Too high\n",
    "#    - Too low  \n",
    "#    - Correct\n",
    "# 3. Show remaining guesses after each attempt\n",
    "# 4. End game and reveal number if user runs out of guesses\n",
    "\n",
    "\n",
    "# Your code here:\n",
    "\n",
    "\n",
    "\n",
    "# Test your code by:\n",
    "# 1. Guessing too high then too low\n",
    "# 2. Running out of guesses\n",
    "# 3. Finding the number (42)"
   ]
  },
  {
   "cell_type": "code",
   "execution_count": null,
   "metadata": {
    "slideshow": {
     "slide_type": "subslide"
    }
   },
   "outputs": [],
   "source": [
    "# ## Problem 4: Simple Calculator\n",
    "# Create a calculator that handles basic operations.\n",
    "#\n",
    "# Requirements:\n",
    "# 1. Get two numbers from user\n",
    "# 2. Get operation (+, -, *, /, %)  \n",
    "# 3. Validate input (check for division by zero)\n",
    "# 4. Format result to 2 decimal places\n",
    "# 5. Ask if user wants another calculation\n",
    "\n",
    "# Your code here:\n",
    "\n",
    "\n",
    "# Test your code with:\n",
    "# - 10 + 5\n",
    "# - 10 / 0 (should show error)\n",
    "# - 10 / 3 (check decimal formatting)\n",
    "# - Invalid operation\n",
    "# - Test continuing/ending program"
   ]
  },
  {
   "cell_type": "code",
   "execution_count": null,
   "metadata": {
    "slideshow": {
     "slide_type": "subslide"
    }
   },
   "outputs": [],
   "source": [
    "# ## Problem 5: Password Strength Checker\n",
    "# Write a program that checks if a password meets security requirements.\n",
    "# Use a loop to repeatedly query the user in the event that the password does not meet the requirements\n",
    "# below.\n",
    "#\n",
    "# Requirements:\n",
    "# 1. Must be at least 8 characters\n",
    "# 2. Must have at least one uppercase letter\n",
    "# 3. Must have at least one lowercase letter\n",
    "# 4. Must have at least one number\n",
    "# 5. Print specific feedback about which rules weren't met\n",
    "\n",
    "# Your code here:\n",
    "\n",
    "\n",
    "# Test your code with:\n",
    "# - \"password\" (too weak - no upper case or numbers)\n",
    "# - \"Password1\" (should pass)\n",
    "# - \"Pw1\" (too short)\n",
    "# - \"PASSWORD123\" (no lowercase)"
   ]
  }
 ],
 "metadata": {
  "celltoolbar": "Slideshow",
  "colab": {
   "collapsed_sections": [],
   "name": "L04 Conditionals and Branching.ipynb",
   "provenance": [
    {
     "file_id": "1kkmlQW4vnBVbvlK3b2I29lUrre_3gD2y",
     "timestamp": 1547248458335
    },
    {
     "file_id": "17GPUwfjMAW-SkqDI2qb9LangNzYzgNH_",
     "timestamp": 1547074807405
    }
   ]
  },
  "kernelspec": {
   "display_name": "intro_python_env",
   "language": "python",
   "name": "intro_python_env"
  },
  "language_info": {
   "codemirror_mode": {
    "name": "ipython",
    "version": 3
   },
   "file_extension": ".py",
   "mimetype": "text/x-python",
   "name": "python",
   "nbconvert_exporter": "python",
   "pygments_lexer": "ipython3",
   "version": "3.11.9"
  }
 },
 "nbformat": 4,
 "nbformat_minor": 1
}