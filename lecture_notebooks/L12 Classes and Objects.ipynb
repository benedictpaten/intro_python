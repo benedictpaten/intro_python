{
 "cells": [
  {
   "cell_type": "markdown",
   "metadata": {
    "id": "5UyFJYXOx-WH",
    "slideshow": {
     "slide_type": "slide"
    }
   },
   "source": [
    "# Lecture 12 - Classes and Objects (https://bit.ly/intro_python_12)\n",
    "\n",
    "* The basics of Python classes and objects:\n",
    "  * Classes and Objects\n",
    " \t* The \\__init__ constructor method\n",
    " \t* Object membership: Dot notation and classes\n",
    " \t* Everything is an object in Python!\n",
    " \t* Methods: adding functions to a class and the self argument\n",
    " \t* Object vs. class variables\n",
    " \t* Objects Mutability\n",
    "* Is vs. =="
   ]
  },
  {
   "cell_type": "markdown",
   "metadata": {
    "id": "cMTiXTrGR1-y",
    "slideshow": {
     "slide_type": "slide"
    }
   },
   "source": [
    "# Object Oriented Programming (OOP)\n",
    "\n",
    " * As programs grow it is increasingly important to manage complexity, particularly to ensure that the state (all the variables and code) of the whole program are well organized. \n",
    " \n",
    " * We've seen **scope** rules and **modules** as ways of ensuring that **namespaces** don't become too complex. \n",
    "  * e.g. ensuring that variables in one scope (e.g. a function) do not alter identically named variables in another scope.\n",
    "  * Without these rules, we couldn't as easily reuse simple variable names like i, j, k across different bits of our program, because calling a function or importing a module might alter their value in unexpected ways.\n",
    " \n",
    " * In a non-OOP language like C, equivalents of modules and scope rules are all there are to manage complexity and avoid unexpected namespace collisions.\n",
    " \n",
    " * Python, however, is an OOP in which all elements of a program are \"objects\".\n",
    " \n",
    " * Objects are, loosely, a combination of functions and variables that allow you to create rich types.\n",
    " \n",
    " * Objects also provide \"interfaces\", ways of providing functionality abstract from the exact means by which it is implemented. In this way we'll learn about the concepts of \"polymorphism\" and the related concept of \"inheritence\"."
   ]
  },
  {
   "cell_type": "markdown",
   "metadata": {
    "id": "RfH9iOJpKnV7",
    "slideshow": {
     "slide_type": "slide"
    }
   },
   "source": [
    "#  Classes and Objects\n",
    "\n",
    "A Python object is defined by creating a class definition. This uses the keyword \"class\":"
   ]
  },
  {
   "cell_type": "code",
   "execution_count": 1,
   "metadata": {
    "id": "bLaJky0K3AD2",
    "slideshow": {
     "slide_type": "fragment"
    }
   },
   "outputs": [],
   "source": [
    "class Point:\n",
    "  \"\"\" Point class represents and manipulates x,y coords. \"\"\" # we'll develop on this idea\n",
    "  pass"
   ]
  },
  {
   "cell_type": "markdown",
   "metadata": {
    "id": "2WQDsWcnYsj1",
    "slideshow": {
     "slide_type": "fragment"
    }
   },
   "source": [
    "In general classes have the following syntax:"
   ]
  },
  {
   "cell_type": "code",
   "execution_count": null,
   "metadata": {
    "id": "xF7knWJ4Yv-5",
    "slideshow": {
     "slide_type": "fragment"
    }
   },
   "outputs": [],
   "source": [
    "class NameOfClass: #(Pep 8 says use CamelCase for class names)\n",
    "  \"\"\" Docstring describing the class \"\"\" # Docstring, which is optional but strongly advised\n",
    "  # Class stuff\n",
    "\n",
    "#other statements outside of the class\n",
    "#(Python uses the same indented whitespace \n",
    "#rules to define what belongs to a class)"
   ]
  },
  {
   "cell_type": "markdown",
   "metadata": {
    "id": "SN3z_BEa4BJx",
    "slideshow": {
     "slide_type": "fragment"
    }
   },
   "source": [
    "Much like the relationship between function definitions and function calls: **objects are instances of classes**, created as follows:"
   ]
  },
  {
   "cell_type": "code",
   "execution_count": null,
   "metadata": {
    "colab": {
     "base_uri": "https://localhost:8080/",
     "height": 34
    },
    "executionInfo": {
     "elapsed": 551,
     "status": "ok",
     "timestamp": 1573601734179,
     "user": {
      "displayName": "Benedict Paten",
      "photoUrl": "https://lh3.googleusercontent.com/a-/AAuE7mBMnWy8dDR7jyTHNy9tPaRx6DCyA3QKrIcuQ7R4=s64",
      "userId": "06399644931392855882"
     },
     "user_tz": 480
    },
    "id": "W8PSnxc_3_m1",
    "outputId": "068ffba4-4ba7-40be-951f-d5e69c3849c6",
    "slideshow": {
     "slide_type": "fragment"
    }
   },
   "outputs": [
    {
     "data": {
      "text/plain": [
       "__main__.Point"
      ]
     },
     "execution_count": 2,
     "metadata": {
      "tags": []
     },
     "output_type": "execute_result"
    }
   ],
   "source": [
    "p = Point() # Create an object of type Point, \n",
    "# the general syntax is ClassName(arguments), where ClassName\n",
    "# is the name of the class. This looks like a function call, and \n",
    "# it essentially is, but the return value is a new Point object\n",
    "\n",
    "type(p) # p is now an object, an \"instance of\" class Point"
   ]
  },
  {
   "cell_type": "markdown",
   "metadata": {
    "id": "-5-Ukx1s4dYw",
    "slideshow": {
     "slide_type": "slide"
    }
   },
   "source": [
    "# \\__init__()\n",
    "\n",
    "* Python Classes can contain functions, termed methods. \n",
    "\n",
    "* The first example of a method we'll see is \\__init__.\n",
    "\n",
    "* \\__init__ is the object's \"constructor\", it allows us to instantiate the object by adding variables to a class as follows:"
   ]
  },
  {
   "cell_type": "code",
   "execution_count": 3,
   "metadata": {
    "executionInfo": {
     "elapsed": 723,
     "status": "ok",
     "timestamp": 1607911577003,
     "user": {
      "displayName": "Benedict Paten",
      "photoUrl": "https://lh3.googleusercontent.com/a-/AOh14Gh2rYrrH6yoNnUp0Oj4p4ouybc6ZcWGyPmKFtIY=s64",
      "userId": "06399644931392855882"
     },
     "user_tz": 480
    },
    "id": "_jfs8HBnKrPQ",
    "slideshow": {
     "slide_type": "fragment"
    }
   },
   "outputs": [],
   "source": [
    "class Point:\n",
    "  \"\"\" Point class represents and manipulates x,y coords. \"\"\"\n",
    "\n",
    "  def __init__(self, x=0, y=0):\n",
    "    \"\"\" Create a new point at the origin \n",
    "    \n",
    "    This method will be called implicitly when we make a point object.\n",
    "    \"\"\"\n",
    "    self.x = x # The self argument to method represents the\n",
    "    # object, and allows you to assign stuff to the object\n",
    "    self.y = y\n"
   ]
  },
  {
   "cell_type": "markdown",
   "metadata": {
    "id": "tgUCAlkN-8w7",
    "slideshow": {
     "slide_type": "fragment"
    }
   },
   "source": [
    "* The key difference between a method and a function, apart from a method belonging to a class, is the first argument: **self**. \n",
    "\n",
    "* It is called \"self\" by convention - you could name it what you like (but don't! - call it self!)\n",
    "\n",
    "* self is a reference to the object itself. it is how we reference things belonging to the object, like variables. "
   ]
  },
  {
   "cell_type": "markdown",
   "metadata": {
    "id": "PLrrQ0uq6j00",
    "slideshow": {
     "slide_type": "subslide"
    }
   },
   "source": [
    "We can now create a Point object using much the same syntax we use for calling any function:"
   ]
  },
  {
   "cell_type": "code",
   "execution_count": 6,
   "metadata": {
    "executionInfo": {
     "elapsed": 836,
     "status": "ok",
     "timestamp": 1607901543656,
     "user": {
      "displayName": "Benedict Paten",
      "photoUrl": "https://lh3.googleusercontent.com/a-/AOh14Gh2rYrrH6yoNnUp0Oj4p4ouybc6ZcWGyPmKFtIY=s64",
      "userId": "06399644931392855882"
     },
     "user_tz": 480
    },
    "id": "dpAjByq22flF",
    "slideshow": {
     "slide_type": "fragment"
    }
   },
   "outputs": [],
   "source": [
    "p = Point(10, 11) # Make an object of type Point, this implicitly calls the __init__() method\n",
    "# making 10 to the x argument, and 11 the y argument"
   ]
  },
  {
   "cell_type": "markdown",
   "metadata": {
    "slideshow": {
     "slide_type": "fragment"
    }
   },
   "source": [
    "To understand the implicit stuff happening:"
   ]
  },
  {
   "cell_type": "code",
   "execution_count": 13,
   "metadata": {
    "slideshow": {
     "slide_type": "fragment"
    }
   },
   "outputs": [],
   "source": [
    "# When you write \"p = Point(10, 11)\" this happens...\n",
    "\n",
    "p = Point.__new__(Point) # Roughly, this allocates the memory for the p object and sets up the object\n",
    "Point.__init__(p, 10, 11) # This then \"instantiates\" the variables, e.g. x and y "
   ]
  },
  {
   "cell_type": "markdown",
   "metadata": {
    "id": "n5JZwJmuLXSQ",
    "slideshow": {
     "slide_type": "slide"
    }
   },
   "source": [
    "# Object membership: Dot notation and classes\n",
    "\n",
    "To access the variables in a class"
   ]
  },
  {
   "cell_type": "code",
   "execution_count": 14,
   "metadata": {
    "colab": {
     "base_uri": "https://localhost:8080/",
     "height": 34
    },
    "executionInfo": {
     "elapsed": 290,
     "status": "ok",
     "timestamp": 1573602204578,
     "user": {
      "displayName": "Benedict Paten",
      "photoUrl": "https://lh3.googleusercontent.com/a-/AAuE7mBMnWy8dDR7jyTHNy9tPaRx6DCyA3QKrIcuQ7R4=s64",
      "userId": "06399644931392855882"
     },
     "user_tz": 480
    },
    "id": "UsqoomyqK-Sp",
    "outputId": "8baee511-ea61-4156-8550-027df6259550",
    "slideshow": {
     "slide_type": "fragment"
    }
   },
   "outputs": [
    {
     "name": "stdout",
     "output_type": "stream",
     "text": [
      "10 11\n"
     ]
    }
   ],
   "source": [
    "print(p.x, p.y) # This syntax has the form \"object.attribute\""
   ]
  },
  {
   "cell_type": "code",
   "execution_count": null,
   "metadata": {
    "colab": {
     "base_uri": "https://localhost:8080/",
     "height": 34
    },
    "executionInfo": {
     "elapsed": 374,
     "status": "ok",
     "timestamp": 1573602222322,
     "user": {
      "displayName": "Benedict Paten",
      "photoUrl": "https://lh3.googleusercontent.com/a-/AAuE7mBMnWy8dDR7jyTHNy9tPaRx6DCyA3QKrIcuQ7R4=s64",
      "userId": "06399644931392855882"
     },
     "user_tz": 480
    },
    "id": "1ys_lhrmLgaK",
    "outputId": "6d236eb0-b3fa-4761-c0d7-7c808059a9b8",
    "slideshow": {
     "slide_type": "fragment"
    }
   },
   "outputs": [
    {
     "name": "stdout",
     "output_type": "stream",
     "text": [
      "5 10\n"
     ]
    }
   ],
   "source": [
    "p.x = 5 # We can update the values of x and y by reassignment\n",
    "p.y = 10\n",
    "\n",
    "print(p.x, p.y)"
   ]
  },
  {
   "cell_type": "markdown",
   "metadata": {
    "slideshow": {
     "slide_type": "slide"
    }
   },
   "source": [
    "# Classes vs. Objects\n",
    "\n",
    "The following silly diagram illustrates the difference between a Class and Objects of that class:\n",
    "\n",
    "<img src=\"https://upload.wikimedia.org/wikipedia/commons/thumb/6/62/CPT-OOP-objects_and_classes.svg/2560px-CPT-OOP-objects_and_classes.svg.png\" width=800 height=400 />\n"
   ]
  },
  {
   "cell_type": "code",
   "execution_count": 5,
   "metadata": {
    "slideshow": {
     "slide_type": "subslide"
    }
   },
   "outputs": [
    {
     "name": "stdout",
     "output_type": "stream",
     "text": [
      "p.x 10 p.y 11\n",
      "q.x 4 q.y 2\n",
      "Objects the same: False\n"
     ]
    }
   ],
   "source": [
    "# As the previous picture illustrates, we are free to make as many objects of a class as we like:\n",
    "\n",
    "p = Point(10, 11) # p and q are distinct objects of the same class\n",
    "q = Point(4, 2)\n",
    "\n",
    "print(\"p.x\", p.x, \"p.y\", p.y) # Different x and y values\n",
    "print(\"q.x\", q.x, \"q.y\", q.y)\n",
    "print(\"Objects the same:\", p == q) # Not the same object"
   ]
  },
  {
   "cell_type": "markdown",
   "metadata": {
    "slideshow": {
     "slide_type": "subslide"
    }
   },
   "source": [
    "# Challenge 1"
   ]
  },
  {
   "cell_type": "code",
   "execution_count": 1,
   "metadata": {
    "slideshow": {
     "slide_type": "fragment"
    }
   },
   "outputs": [
    {
     "name": "stdout",
     "output_type": "stream",
     "text": [
      "purple\n"
     ]
    }
   ],
   "source": [
    "# Write a class definition for a new class called \"Vehicle\". \n",
    "# Add an __init__ method that takes a single argument \"color\" and \n",
    "# sets the value as an attribute \"color\"\n",
    "\n",
    "\n",
    "# This code should work:\n",
    "v = Vehicle(\"purple\")\n",
    "print(v.color)"
   ]
  },
  {
   "cell_type": "markdown",
   "metadata": {
    "slideshow": {
     "slide_type": "slide"
    }
   },
   "source": [
    "# What is the type of p (and q)?"
   ]
  },
  {
   "cell_type": "code",
   "execution_count": 8,
   "metadata": {
    "slideshow": {
     "slide_type": "fragment"
    }
   },
   "outputs": [
    {
     "name": "stdout",
     "output_type": "stream",
     "text": [
      "<class '__main__.Point'>\n",
      "<class '__main__.Point'>\n"
     ]
    }
   ],
   "source": [
    "print(type(p))\n",
    "print(type(q))"
   ]
  },
  {
   "cell_type": "markdown",
   "metadata": {
    "slideshow": {
     "slide_type": "fragment"
    }
   },
   "source": [
    "Which leads us to our next discovery.."
   ]
  },
  {
   "cell_type": "markdown",
   "metadata": {
    "id": "YZm69sZRRsQn",
    "slideshow": {
     "slide_type": "slide"
    }
   },
   "source": [
    "# Everything is an object in Python!!!!\n",
    "\n",
    "Before today we've seen lots of basic Python elements: ints, strings, floats, booleans, lists, tuples, etc. \n",
    "\n",
    "Every instance of these types is actually an object (mind blown!) and has a class (wow!) consider a string:"
   ]
  },
  {
   "cell_type": "code",
   "execution_count": null,
   "metadata": {
    "colab": {
     "base_uri": "https://localhost:8080/",
     "height": 34
    },
    "executionInfo": {
     "elapsed": 348,
     "status": "ok",
     "timestamp": 1573602247980,
     "user": {
      "displayName": "Benedict Paten",
      "photoUrl": "https://lh3.googleusercontent.com/a-/AAuE7mBMnWy8dDR7jyTHNy9tPaRx6DCyA3QKrIcuQ7R4=s64",
      "userId": "06399644931392855882"
     },
     "user_tz": 480
    },
    "id": "HZqD5JoJ9ujf",
    "outputId": "42480de3-7a07-4921-cf12-a0a31f1415dc",
    "slideshow": {
     "slide_type": "fragment"
    }
   },
   "outputs": [
    {
     "data": {
      "text/plain": [
       "str"
      ]
     },
     "execution_count": 8,
     "metadata": {
      "tags": []
     },
     "output_type": "execute_result"
    }
   ],
   "source": [
    "type(\"hello\")"
   ]
  },
  {
   "cell_type": "code",
   "execution_count": 1,
   "metadata": {
    "colab": {
     "base_uri": "https://localhost:8080/",
     "height": 34
    },
    "executionInfo": {
     "elapsed": 434,
     "status": "ok",
     "timestamp": 1573602255762,
     "user": {
      "displayName": "Benedict Paten",
      "photoUrl": "https://lh3.googleusercontent.com/a-/AAuE7mBMnWy8dDR7jyTHNy9tPaRx6DCyA3QKrIcuQ7R4=s64",
      "userId": "06399644931392855882"
     },
     "user_tz": 480
    },
    "id": "ok0uTDxL-pBK",
    "outputId": "5679b7da-7bc0-48bd-80c8-7ed0704d5d44",
    "slideshow": {
     "slide_type": "fragment"
    }
   },
   "outputs": [
    {
     "data": {
      "text/plain": [
       "str"
      ]
     },
     "execution_count": 1,
     "metadata": {},
     "output_type": "execute_result"
    }
   ],
   "source": [
    "\"hello\".__class__ # We can also use the __class__ variable of any object to find the \"type\" or \n",
    "# class of the object, i.e. __class__ is an attribute on the object that refers to the class from \n",
    "# which the object was created. "
   ]
  },
  {
   "cell_type": "code",
   "execution_count": null,
   "metadata": {
    "colab": {
     "base_uri": "https://localhost:8080/",
     "height": 1000
    },
    "executionInfo": {
     "elapsed": 303,
     "status": "ok",
     "timestamp": 1573602268524,
     "user": {
      "displayName": "Benedict Paten",
      "photoUrl": "https://lh3.googleusercontent.com/a-/AAuE7mBMnWy8dDR7jyTHNy9tPaRx6DCyA3QKrIcuQ7R4=s64",
      "userId": "06399644931392855882"
     },
     "user_tz": 480
    },
    "id": "eglFDImz-akm",
    "outputId": "6d619a3f-28f2-4a56-b18f-359f043374ed",
    "slideshow": {
     "slide_type": "fragment"
    }
   },
   "outputs": [
    {
     "data": {
      "text/plain": [
       "['__add__',\n",
       " '__class__',\n",
       " '__contains__',\n",
       " '__delattr__',\n",
       " '__dir__',\n",
       " '__doc__',\n",
       " '__eq__',\n",
       " '__format__',\n",
       " '__ge__',\n",
       " '__getattribute__',\n",
       " '__getitem__',\n",
       " '__getnewargs__',\n",
       " '__gt__',\n",
       " '__hash__',\n",
       " '__init__',\n",
       " '__init_subclass__',\n",
       " '__iter__',\n",
       " '__le__',\n",
       " '__len__',\n",
       " '__lt__',\n",
       " '__mod__',\n",
       " '__mul__',\n",
       " '__ne__',\n",
       " '__new__',\n",
       " '__reduce__',\n",
       " '__reduce_ex__',\n",
       " '__repr__',\n",
       " '__rmod__',\n",
       " '__rmul__',\n",
       " '__setattr__',\n",
       " '__sizeof__',\n",
       " '__str__',\n",
       " '__subclasshook__',\n",
       " 'capitalize',\n",
       " 'casefold',\n",
       " 'center',\n",
       " 'count',\n",
       " 'encode',\n",
       " 'endswith',\n",
       " 'expandtabs',\n",
       " 'find',\n",
       " 'format',\n",
       " 'format_map',\n",
       " 'index',\n",
       " 'isalnum',\n",
       " 'isalpha',\n",
       " 'isdecimal',\n",
       " 'isdigit',\n",
       " 'isidentifier',\n",
       " 'islower',\n",
       " 'isnumeric',\n",
       " 'isprintable',\n",
       " 'isspace',\n",
       " 'istitle',\n",
       " 'isupper',\n",
       " 'join',\n",
       " 'ljust',\n",
       " 'lower',\n",
       " 'lstrip',\n",
       " 'maketrans',\n",
       " 'partition',\n",
       " 'replace',\n",
       " 'rfind',\n",
       " 'rindex',\n",
       " 'rjust',\n",
       " 'rpartition',\n",
       " 'rsplit',\n",
       " 'rstrip',\n",
       " 'split',\n",
       " 'splitlines',\n",
       " 'startswith',\n",
       " 'strip',\n",
       " 'swapcase',\n",
       " 'title',\n",
       " 'translate',\n",
       " 'upper',\n",
       " 'zfill']"
      ]
     },
     "execution_count": 10,
     "metadata": {
      "tags": []
     },
     "output_type": "execute_result"
    }
   ],
   "source": [
    "dir(\"hello\")"
   ]
  },
  {
   "cell_type": "markdown",
   "metadata": {
    "slideshow": {
     "slide_type": "subslide"
    }
   },
   "source": [
    "What about the attributes of our point object, p?"
   ]
  },
  {
   "cell_type": "code",
   "execution_count": null,
   "metadata": {
    "colab": {
     "base_uri": "https://localhost:8080/",
     "height": 507
    },
    "executionInfo": {
     "elapsed": 349,
     "status": "ok",
     "timestamp": 1573602304109,
     "user": {
      "displayName": "Benedict Paten",
      "photoUrl": "https://lh3.googleusercontent.com/a-/AAuE7mBMnWy8dDR7jyTHNy9tPaRx6DCyA3QKrIcuQ7R4=s64",
      "userId": "06399644931392855882"
     },
     "user_tz": 480
    },
    "id": "uq5KpijFAXrf",
    "outputId": "27b26598-d9ed-4e4a-92c6-9b6eead85a8d",
    "slideshow": {
     "slide_type": "fragment"
    }
   },
   "outputs": [
    {
     "data": {
      "text/plain": [
       "['__class__',\n",
       " '__delattr__',\n",
       " '__dict__',\n",
       " '__dir__',\n",
       " '__doc__',\n",
       " '__eq__',\n",
       " '__format__',\n",
       " '__ge__',\n",
       " '__getattribute__',\n",
       " '__gt__',\n",
       " '__hash__',\n",
       " '__init__',\n",
       " '__init_subclass__',\n",
       " '__le__',\n",
       " '__lt__',\n",
       " '__module__',\n",
       " '__ne__',\n",
       " '__new__',\n",
       " '__reduce__',\n",
       " '__reduce_ex__',\n",
       " '__repr__',\n",
       " '__setattr__',\n",
       " '__sizeof__',\n",
       " '__str__',\n",
       " '__subclasshook__',\n",
       " '__weakref__',\n",
       " 'x',\n",
       " 'y']"
      ]
     },
     "execution_count": 12,
     "metadata": {
      "tags": []
     },
     "output_type": "execute_result"
    }
   ],
   "source": [
    "dir(p)"
   ]
  },
  {
   "cell_type": "markdown",
   "metadata": {
    "slideshow": {
     "slide_type": "fragment"
    }
   },
   "source": [
    "Note that in addition to the x and y variables, p has many additional attributes, we'll learn about where those come from when we study inheritance. "
   ]
  },
  {
   "cell_type": "markdown",
   "metadata": {
    "id": "ZVH9QrmLL2OS",
    "slideshow": {
     "slide_type": "slide"
    }
   },
   "source": [
    "# Methods: Adding Functions to an object\n",
    "\n",
    "* The \\__init__() we added was an instance of a **method**, a function belonging to an object.\n",
    "\n",
    "* We are free to add user defined methods:\n"
   ]
  },
  {
   "cell_type": "code",
   "execution_count": null,
   "metadata": {
    "id": "DjkEz_2DMA4x",
    "slideshow": {
     "slide_type": "fragment"
    }
   },
   "outputs": [],
   "source": [
    "class Point:\n",
    "  \"\"\" Create a new Point, at coordinates x, y \"\"\"\n",
    "\n",
    "  def __init__(self, x=0, y=0):\n",
    "    \"\"\" Create a new point at x, y \"\"\"\n",
    "    self.x = x\n",
    "    self.y = y\n",
    "\n",
    "  def distance_from_origin(self): # We see the \"self\" argument again\n",
    "    \"\"\" Compute my distance from the origin \"\"\"\n",
    "    return ((self.x ** 2) + (self.y ** 2)) ** 0.5 # This is just Pythagorus's theorem"
   ]
  },
  {
   "cell_type": "code",
   "execution_count": null,
   "metadata": {
    "colab": {
     "base_uri": "https://localhost:8080/",
     "height": 34
    },
    "executionInfo": {
     "elapsed": 419,
     "status": "ok",
     "timestamp": 1573602799832,
     "user": {
      "displayName": "Benedict Paten",
      "photoUrl": "https://lh3.googleusercontent.com/a-/AAuE7mBMnWy8dDR7jyTHNy9tPaRx6DCyA3QKrIcuQ7R4=s64",
      "userId": "06399644931392855882"
     },
     "user_tz": 480
    },
    "id": "Cs-_HBW-MZ8H",
    "outputId": "6a5229cb-a122-43f6-edce-7742366aab33",
    "slideshow": {
     "slide_type": "fragment"
    }
   },
   "outputs": [
    {
     "data": {
      "text/plain": [
       "5.0"
      ]
     },
     "execution_count": 23,
     "metadata": {
      "tags": []
     },
     "output_type": "execute_result"
    }
   ],
   "source": [
    "p = Point(3, 4)\n",
    "\n",
    "p.distance_from_origin()"
   ]
  },
  {
   "cell_type": "markdown",
   "metadata": {
    "id": "47UIdaWFCOL6",
    "slideshow": {
     "slide_type": "fragment"
    }
   },
   "source": [
    "* Adding methods to a class definition is a natural way to group functionality (e.g. in this example, geometric functions) with variables (more generally state), (e.g. in this example, with coordinates).\n",
    "\n",
    "* To recap, the only major structural differences between a regular function and a method are:\n",
    "  * The \"self\" argument\n",
    "  * The use of dot notation to invoke the function\n",
    "  \n"
   ]
  },
  {
   "cell_type": "markdown",
   "metadata": {
    "slideshow": {
     "slide_type": "subslide"
    }
   },
   "source": [
    "# Challenge 2"
   ]
  },
  {
   "cell_type": "code",
   "execution_count": 2,
   "metadata": {
    "slideshow": {
     "slide_type": "fragment"
    }
   },
   "outputs": [
    {
     "name": "stdout",
     "output_type": "stream",
     "text": [
      "The color of the vehicle is purple\n"
     ]
    }
   ],
   "source": [
    "# Expand the Vehicle class you wrote in Challenge 1 by adding a method\n",
    "# print_color, which prints the color of the Vehicle to the screen\n",
    "\n",
    "\n",
    "\n",
    "# This code should work\n",
    "v = Vehicle(\"purple\")\n",
    "v.print_color()"
   ]
  },
  {
   "cell_type": "markdown",
   "metadata": {
    "id": "c4kF3OFFI0eo",
    "slideshow": {
     "slide_type": "slide"
    }
   },
   "source": [
    "# Object vs. class variables\n",
    "\n",
    "As we said earlier, the variables defined in the constructor are unique\n",
    "to an object:"
   ]
  },
  {
   "cell_type": "code",
   "execution_count": 7,
   "metadata": {
    "colab": {
     "base_uri": "https://localhost:8080/"
    },
    "executionInfo": {
     "elapsed": 705,
     "status": "ok",
     "timestamp": 1607911746547,
     "user": {
      "displayName": "Benedict Paten",
      "photoUrl": "https://lh3.googleusercontent.com/a-/AOh14Gh2rYrrH6yoNnUp0Oj4p4ouybc6ZcWGyPmKFtIY=s64",
      "userId": "06399644931392855882"
     },
     "user_tz": 480
    },
    "id": "uT3atnUxLcYm",
    "outputId": "d08eca43-29fa-4b93-ef49-a878e06d87d8",
    "slideshow": {
     "slide_type": "fragment"
    }
   },
   "outputs": [
    {
     "name": "stdout",
     "output_type": "stream",
     "text": [
      "3 4 10 12\n"
     ]
    }
   ],
   "source": [
    "p = Point(3, 4)\n",
    "q = Point(10 ,12) # Make a second point\n",
    "\n",
    "print(p.x, p.y, q.x, q.y)  # Each point object (p and q) \n",
    "# has its own x and y"
   ]
  },
  {
   "cell_type": "markdown",
   "metadata": {
    "id": "UHWmQ4VzPRyF",
    "slideshow": {
     "slide_type": "subslide"
    }
   },
   "source": [
    "If you want to create a variable shared by all objects you can use a **class variable**:"
   ]
  },
  {
   "cell_type": "code",
   "execution_count": 8,
   "metadata": {
    "colab": {
     "base_uri": "https://localhost:8080/"
    },
    "executionInfo": {
     "elapsed": 720,
     "status": "ok",
     "timestamp": 1607911766447,
     "user": {
      "displayName": "Benedict Paten",
      "photoUrl": "https://lh3.googleusercontent.com/a-/AOh14Gh2rYrrH6yoNnUp0Oj4p4ouybc6ZcWGyPmKFtIY=s64",
      "userId": "06399644931392855882"
     },
     "user_tz": 480
    },
    "id": "EpGKO-ADPuKY",
    "outputId": "5ed91ed1-076e-4053-cc76-ebc45db744d7",
    "slideshow": {
     "slide_type": "fragment"
    }
   },
   "outputs": [
    {
     "name": "stdout",
     "output_type": "stream",
     "text": [
      "Before 10 10\n",
      "After 20 20\n"
     ]
    }
   ],
   "source": [
    "class Point:\n",
    "  \"\"\" Create a new Point, at coordinates x, y \"\"\"\n",
    "\n",
    "  # Class variables are defined outside of __init__ and are shared\n",
    "  # by all objects of the class\n",
    "  theta = 10\n",
    "\n",
    "  def __init__(self, x=0, y=0):\n",
    "    \"\"\" Create a new point at x, y \"\"\"\n",
    "    self.x = x\n",
    "    self.y = y\n",
    "\n",
    "  # Etc.\n",
    "  \n",
    "p = Point(3, 4)\n",
    "q = Point(9, 10) \n",
    "\n",
    "print(\"Before\", p.theta, q.theta)\n",
    "\n",
    "Point.theta = 20 # There is only one theta, so we just\n",
    "# changed theta value for all Point objects -note the use of the class name\n",
    "\n",
    "print(\"After\", p.theta, q.theta) \n"
   ]
  },
  {
   "cell_type": "markdown",
   "metadata": {
    "id": "EHQ3hZWQQZvQ",
    "slideshow": {
     "slide_type": "fragment"
    }
   },
   "source": [
    "The benefit of class variables being shared is primarily memory - if you have something that is the same across all objects of a class, use a class variable."
   ]
  },
  {
   "cell_type": "code",
   "execution_count": 9,
   "metadata": {
    "colab": {
     "base_uri": "https://localhost:8080/"
    },
    "executionInfo": {
     "elapsed": 763,
     "status": "ok",
     "timestamp": 1607911778698,
     "user": {
      "displayName": "Benedict Paten",
      "photoUrl": "https://lh3.googleusercontent.com/a-/AOh14Gh2rYrrH6yoNnUp0Oj4p4ouybc6ZcWGyPmKFtIY=s64",
      "userId": "06399644931392855882"
     },
     "user_tz": 480
    },
    "id": "60r39t4VyZSo",
    "outputId": "e47c398a-399f-43c6-dd3a-d3a9e189a773",
    "slideshow": {
     "slide_type": "subslide"
    }
   },
   "outputs": [
    {
     "name": "stdout",
     "output_type": "stream",
     "text": [
      "Again 5 20\n",
      "20\n"
     ]
    }
   ],
   "source": [
    "# Note, this doesn't work the way you might expect:\n",
    "\n",
    "p.theta = 5\n",
    "\n",
    "print(\"Again\", p.theta, q.theta) \n",
    "\n",
    "# This is because assigning to p.theta creates a new object variable that overrides \n",
    "# the class variable in the scope of the object - it's those pesky scope rules again\n",
    "\n",
    "print(Point.theta)"
   ]
  },
  {
   "cell_type": "markdown",
   "metadata": {
    "slideshow": {
     "slide_type": "subslide"
    }
   },
   "source": [
    "# Challenge 3"
   ]
  },
  {
   "cell_type": "code",
   "execution_count": 3,
   "metadata": {
    "slideshow": {
     "slide_type": "fragment"
    }
   },
   "outputs": [
    {
     "name": "stdout",
     "output_type": "stream",
     "text": [
      "The color is purple\n",
      "100\n"
     ]
    }
   ],
   "source": [
    "# Redefine the Vehicle class from Challenges 1 and 2 to \n",
    "# include a class variable \"speed_limit\" setting it to 100\n",
    "\n",
    "\n",
    "\n",
    "# This code should work\n",
    "v = Vehicle(\"purple\")\n",
    "v.print_color()\n",
    "print(v.speed_limit)\n",
    "\n",
    "Vehicle.speed_limit = 50"
   ]
  },
  {
   "cell_type": "markdown",
   "metadata": {
    "id": "xIC6Gf32QoXP",
    "slideshow": {
     "slide_type": "slide"
    }
   },
   "source": [
    " # Object Mutability\n",
    " \n",
    " Python objects are mutable."
   ]
  },
  {
   "cell_type": "code",
   "execution_count": 10,
   "metadata": {
    "colab": {
     "base_uri": "https://localhost:8080/"
    },
    "executionInfo": {
     "elapsed": 792,
     "status": "ok",
     "timestamp": 1607911832561,
     "user": {
      "displayName": "Benedict Paten",
      "photoUrl": "https://lh3.googleusercontent.com/a-/AOh14Gh2rYrrH6yoNnUp0Oj4p4ouybc6ZcWGyPmKFtIY=s64",
      "userId": "06399644931392855882"
     },
     "user_tz": 480
    },
    "id": "MXyKWy2wKAL4",
    "outputId": "f286e558-3828-4b21-fe4d-e56afa6ead20",
    "slideshow": {
     "slide_type": "fragment"
    }
   },
   "outputs": [
    {
     "name": "stdout",
     "output_type": "stream",
     "text": [
      "10\n",
      "1\n"
     ]
    }
   ],
   "source": [
    "p = Point(5, 10)\n",
    "\n",
    "p.x += 5 # You can directly modify variables\n",
    "\n",
    "print(p.x)\n",
    "\n",
    "# You can even add new variables to an object\n",
    "p.new_variable = 1\n",
    "\n",
    "print(p.new_variable)"
   ]
  },
  {
   "cell_type": "code",
   "execution_count": null,
   "metadata": {
    "colab": {
     "base_uri": "https://localhost:8080/",
     "height": 219
    },
    "executionInfo": {
     "elapsed": 429,
     "status": "error",
     "timestamp": 1573603367495,
     "user": {
      "displayName": "Benedict Paten",
      "photoUrl": "https://lh3.googleusercontent.com/a-/AAuE7mBMnWy8dDR7jyTHNy9tPaRx6DCyA3QKrIcuQ7R4=s64",
      "userId": "06399644931392855882"
     },
     "user_tz": 480
    },
    "id": "F-iqtMhWKiwv",
    "outputId": "c53305fe-333b-4039-82b7-462c5f174cfc",
    "slideshow": {
     "slide_type": "fragment"
    }
   },
   "outputs": [
    {
     "ename": "AttributeError",
     "evalue": "ignored",
     "output_type": "error",
     "traceback": [
      "\u001B[0;31m---------------------------------------------------------------------------\u001B[0m",
      "\u001B[0;31mAttributeError\u001B[0m                            Traceback (most recent call last)",
      "\u001B[0;32m<ipython-input-33-1dd05f795aa7>\u001B[0m in \u001B[0;36m<module>\u001B[0;34m()\u001B[0m\n\u001B[1;32m      2\u001B[0m \u001B[0mq\u001B[0m \u001B[0;34m=\u001B[0m \u001B[0mPoint\u001B[0m\u001B[0;34m(\u001B[0m\u001B[0;36m5\u001B[0m\u001B[0;34m,\u001B[0m \u001B[0;36m10\u001B[0m\u001B[0;34m)\u001B[0m\u001B[0;34m\u001B[0m\u001B[0;34m\u001B[0m\u001B[0m\n\u001B[1;32m      3\u001B[0m \u001B[0;34m\u001B[0m\u001B[0m\n\u001B[0;32m----> 4\u001B[0;31m \u001B[0mq\u001B[0m\u001B[0;34m.\u001B[0m\u001B[0mnew_variable\u001B[0m \u001B[0;31m# This doesn't exist,\u001B[0m\u001B[0;34m\u001B[0m\u001B[0;34m\u001B[0m\u001B[0m\n\u001B[0m\u001B[1;32m      5\u001B[0m \u001B[0;31m# because you only added \"new_variable\" to q\u001B[0m\u001B[0;34m\u001B[0m\u001B[0;34m\u001B[0m\u001B[0;34m\u001B[0m\u001B[0m\n",
      "\u001B[0;31mAttributeError\u001B[0m: 'Point' object has no attribute 'new_variable'"
     ]
    }
   ],
   "source": [
    "# But note, this doesn't add a \"new_variable\" to other points \n",
    "# you might have or create\n",
    "\n",
    "q = Point(5, 10)\n",
    "\n",
    "q.new_variable # This doesn't exist, \n",
    "# because you only added \"new_variable\" to q"
   ]
  },
  {
   "cell_type": "markdown",
   "metadata": {
    "id": "73mwHvO3LApm",
    "slideshow": {
     "slide_type": "subslide"
    }
   },
   "source": [
    "# Modifier Methods\n",
    "\n",
    "* In general, when changing an object, it is often helpful/cleaner to add \"modifier\" functions to change the underlying variables, e.g.:"
   ]
  },
  {
   "cell_type": "code",
   "execution_count": null,
   "metadata": {
    "colab": {
     "base_uri": "https://localhost:8080/",
     "height": 34
    },
    "executionInfo": {
     "elapsed": 304,
     "status": "ok",
     "timestamp": 1573603551840,
     "user": {
      "displayName": "Benedict Paten",
      "photoUrl": "https://lh3.googleusercontent.com/a-/AAuE7mBMnWy8dDR7jyTHNy9tPaRx6DCyA3QKrIcuQ7R4=s64",
      "userId": "06399644931392855882"
     },
     "user_tz": 480
    },
    "id": "3X80Tbi8LBje",
    "outputId": "57b12dcc-ca2f-45f6-9dde-8f976e8ea79a",
    "slideshow": {
     "slide_type": "fragment"
    }
   },
   "outputs": [
    {
     "name": "stdout",
     "output_type": "stream",
     "text": [
      "5 10\n"
     ]
    }
   ],
   "source": [
    "class Point:\n",
    "  \"\"\" Create a new Point, at coordinates x, y \"\"\"\n",
    "\n",
    "  def __init__(self, x=0, y=0):\n",
    "    \"\"\" Create a new point at x, y \"\"\"\n",
    "    self.x = x\n",
    "    self.y = y\n",
    "\n",
    "  def move(self, deltaX, deltaY):\n",
    "    \"\"\" Moves coordinates of point \n",
    "    ( this is a modifier method, which you call to \n",
    "      change x and y)\n",
    "    \"\"\" \n",
    "    self.x += deltaX\n",
    "    self.y += deltaY\n",
    "  \n",
    "p = Point()\n",
    "\n",
    "p.move(5, 10)\n",
    "\n",
    "print(p.x, p.y)\n",
    "  "
   ]
  },
  {
   "cell_type": "markdown",
   "metadata": {
    "id": "vBsLiWKcMQwl",
    "slideshow": {
     "slide_type": "fragment"
    }
   },
   "source": [
    "* Modifiers can be used to check changes make sense (using asserts or exceptions)\n",
    "* Modifiers can be used to create more abstract interfaces (avoiding direct variable access)\n",
    "* Sometimes however, modifiers can just be busy work - your mileage may vary"
   ]
  },
  {
   "cell_type": "markdown",
   "metadata": {
    "slideshow": {
     "slide_type": "subslide"
    }
   },
   "source": [
    "# Challenge 4"
   ]
  },
  {
   "cell_type": "code",
   "execution_count": 4,
   "metadata": {
    "slideshow": {
     "slide_type": "fragment"
    }
   },
   "outputs": [
    {
     "name": "stdout",
     "output_type": "stream",
     "text": [
      "The color is purple\n",
      "The color is green\n"
     ]
    }
   ],
   "source": [
    "# Redefine the Vehicle class from Challenge 3 to include a modifier method \"respray\" that takes a color argument\n",
    "# and sets the color variable\n",
    "\n",
    "\n",
    "# This code should work\n",
    "v = Vehicle(\"purple\")\n",
    "v.print_color()\n",
    "v.respray(\"green\")\n",
    "v.print_color()"
   ]
  },
  {
   "cell_type": "markdown",
   "metadata": {
    "id": "2Yuc8SctO79J",
    "slideshow": {
     "slide_type": "slide"
    }
   },
   "source": [
    "# Is vs. ==\n",
    "\n",
    "So far we have seen == as a way to test if two things are equal.\n",
    "\n",
    "We can also ask if they represent the exact same object (i.e. same instance of a class at a given location in computer memory)"
   ]
  },
  {
   "cell_type": "code",
   "execution_count": null,
   "metadata": {
    "id": "ue4Ztfs-ZUVJ",
    "slideshow": {
     "slide_type": "fragment"
    }
   },
   "outputs": [],
   "source": [
    "x = 1\n",
    "y = 1\n",
    "\n",
    "x == y # Clearly, 1 = 1.\n",
    "\n",
    "# Under the hood Python is testing if x and y refer to are equivalent, even if they\n",
    "# represent two separate instances in memory of the same thing."
   ]
  },
  {
   "cell_type": "code",
   "execution_count": null,
   "metadata": {
    "colab": {
     "base_uri": "https://localhost:8080/",
     "height": 34
    },
    "executionInfo": {
     "elapsed": 309,
     "status": "ok",
     "timestamp": 1573603711820,
     "user": {
      "displayName": "Benedict Paten",
      "photoUrl": "https://lh3.googleusercontent.com/a-/AAuE7mBMnWy8dDR7jyTHNy9tPaRx6DCyA3QKrIcuQ7R4=s64",
      "userId": "06399644931392855882"
     },
     "user_tz": 480
    },
    "id": "mdbazTzkax-5",
    "outputId": "71ce5fef-5c5e-4555-b800-4fe05746d846",
    "slideshow": {
     "slide_type": "fragment"
    }
   },
   "outputs": [
    {
     "data": {
      "text/plain": [
       "True"
      ]
     },
     "execution_count": 36,
     "metadata": {
      "tags": []
     },
     "output_type": "execute_result"
    }
   ],
   "source": [
    "x is y # This is asking if x is referring to the same thing in memory as y.\n",
    "\n",
    "# Python is generally smart enough to cache numbers, strings, etc. so that it doesn't duplicate\n",
    "# memory storing the same thing twice - although be careful about relying on this caching\n",
    "\n",
    "# Because numbers, strings and tuples are immutable this caching does not affect\n",
    "# the behavior of the program."
   ]
  },
  {
   "cell_type": "code",
   "execution_count": null,
   "metadata": {
    "colab": {
     "base_uri": "https://localhost:8080/",
     "height": 34
    },
    "executionInfo": {
     "elapsed": 527,
     "status": "ok",
     "timestamp": 1573604050290,
     "user": {
      "displayName": "Benedict Paten",
      "photoUrl": "https://lh3.googleusercontent.com/a-/AAuE7mBMnWy8dDR7jyTHNy9tPaRx6DCyA3QKrIcuQ7R4=s64",
      "userId": "06399644931392855882"
     },
     "user_tz": 480
    },
    "id": "OHfy_seEbg8a",
    "outputId": "e6cb8ce2-4897-4520-f1d2-d6874abfe631",
    "slideshow": {
     "slide_type": "subslide"
    }
   },
   "outputs": [
    {
     "data": {
      "text/plain": [
       "True"
      ]
     },
     "execution_count": 41,
     "metadata": {
      "tags": []
     },
     "output_type": "execute_result"
    }
   ],
   "source": [
    "x = [ 1 ]\n",
    "y = [ 1 ]\n",
    "\n",
    "\n",
    "x == y # The two lists are equivalent"
   ]
  },
  {
   "cell_type": "code",
   "execution_count": null,
   "metadata": {
    "colab": {
     "base_uri": "https://localhost:8080/",
     "height": 34
    },
    "executionInfo": {
     "elapsed": 320,
     "status": "ok",
     "timestamp": 1573603736185,
     "user": {
      "displayName": "Benedict Paten",
      "photoUrl": "https://lh3.googleusercontent.com/a-/AAuE7mBMnWy8dDR7jyTHNy9tPaRx6DCyA3QKrIcuQ7R4=s64",
      "userId": "06399644931392855882"
     },
     "user_tz": 480
    },
    "id": "TOg3FSdHbqGK",
    "outputId": "545d55e4-e49e-441b-eb79-5995b295e36e",
    "slideshow": {
     "slide_type": "fragment"
    }
   },
   "outputs": [
    {
     "data": {
      "text/plain": [
       "False"
      ]
     },
     "execution_count": 38,
     "metadata": {
      "tags": []
     },
     "output_type": "execute_result"
    }
   ],
   "source": [
    "x is y # But they are not the same instance in memory, why?"
   ]
  },
  {
   "cell_type": "markdown",
   "metadata": {
    "id": "lTFyhXRQbxvv",
    "slideshow": {
     "slide_type": "fragment"
    }
   },
   "source": [
    "If Python decided to cache x and y to the same list in memory then changes to x would affect y and vice versa, leading to odd behaviour, e.g.:"
   ]
  },
  {
   "cell_type": "code",
   "execution_count": null,
   "metadata": {
    "colab": {
     "base_uri": "https://localhost:8080/",
     "height": 34
    },
    "executionInfo": {
     "elapsed": 359,
     "status": "ok",
     "timestamp": 1573604056843,
     "user": {
      "displayName": "Benedict Paten",
      "photoUrl": "https://lh3.googleusercontent.com/a-/AAuE7mBMnWy8dDR7jyTHNy9tPaRx6DCyA3QKrIcuQ7R4=s64",
      "userId": "06399644931392855882"
     },
     "user_tz": 480
    },
    "id": "twR9Y5WXb8jt",
    "outputId": "f0f89ef2-aea6-4737-b46b-8af6645cc7cd",
    "slideshow": {
     "slide_type": "subslide"
    }
   },
   "outputs": [
    {
     "name": "stdout",
     "output_type": "stream",
     "text": [
      "[1, 2] [1]\n"
     ]
    }
   ],
   "source": [
    "# Consider\n",
    "\n",
    "x = [ 1 ]\n",
    "y = [ 1 ]\n",
    "\n",
    "x.append(2)\n",
    "\n",
    "print(x, y) # The append to x did not affect y"
   ]
  },
  {
   "cell_type": "code",
   "execution_count": null,
   "metadata": {
    "colab": {
     "base_uri": "https://localhost:8080/",
     "height": 34
    },
    "executionInfo": {
     "elapsed": 218,
     "status": "ok",
     "timestamp": 1573604067134,
     "user": {
      "displayName": "Benedict Paten",
      "photoUrl": "https://lh3.googleusercontent.com/a-/AAuE7mBMnWy8dDR7jyTHNy9tPaRx6DCyA3QKrIcuQ7R4=s64",
      "userId": "06399644931392855882"
     },
     "user_tz": 480
    },
    "id": "QHgoxbZacbA0",
    "outputId": "88ec70d1-baf0-4dc3-e9a8-d5b97d9bacfc",
    "slideshow": {
     "slide_type": "fragment"
    }
   },
   "outputs": [
    {
     "data": {
      "text/plain": [
       "False"
      ]
     },
     "execution_count": 43,
     "metadata": {
      "tags": []
     },
     "output_type": "execute_result"
    }
   ],
   "source": [
    "# Now x neither 'is' or is 'equal to' y\n",
    "\n",
    "x == y or x is y"
   ]
  },
  {
   "cell_type": "code",
   "execution_count": 1,
   "metadata": {
    "id": "FbPa8yo8ckPO",
    "slideshow": {
     "slide_type": "subslide"
    }
   },
   "outputs": [
    {
     "data": {
      "text/plain": [
       "True"
      ]
     },
     "execution_count": 1,
     "metadata": {},
     "output_type": "execute_result"
    }
   ],
   "source": [
    "# But there is nothing stopping you making multiple references\n",
    "# to the same list\n",
    "\n",
    "x = [ 1 ]\n",
    "y = x\n",
    "\n",
    "x == y # Yep, true."
   ]
  },
  {
   "cell_type": "code",
   "execution_count": 2,
   "metadata": {
    "id": "LgVluFpgcs61",
    "slideshow": {
     "slide_type": "fragment"
    }
   },
   "outputs": [
    {
     "name": "stdout",
     "output_type": "stream",
     "text": [
      "[1, 2]\n"
     ]
    }
   ],
   "source": [
    "x is y # Yep, also true.\n",
    "\n",
    "y.append(2)\n",
    "\n",
    "print(x)"
   ]
  },
  {
   "cell_type": "markdown",
   "metadata": {
    "id": "Y1jmDmUhcxyn",
    "slideshow": {
     "slide_type": "fragment"
    }
   },
   "source": [
    "The take home here: \n",
    "  * == is for equivalence\n",
    "  * 'is' is for testing if references point to the same thing in memory"
   ]
  },
  {
   "cell_type": "markdown",
   "metadata": {
    "id": "KZP9y5sgyVm8",
    "slideshow": {
     "slide_type": "slide"
    }
   },
   "source": [
    "# Reading\n",
    "\n",
    "* Open book Chapter 15: http://openbookproject.net/thinkcs/python/english3e/classes_and_objects_I.html\n",
    "\n",
    "* Open book Chapter 16: \n",
    "http://openbookproject.net/thinkcs/python/english3e/classes_and_objects_II.html\n",
    "\n",
    "# Homework\n",
    "\n",
    "* Go to Canvas and complete the lecture quiz, which involves completing each challenge problem\n",
    "* ZyBook Reading 12\n"
   ]
  },
  {
   "cell_type": "markdown",
   "metadata": {
    "slideshow": {
     "slide_type": "slide"
    }
   },
   "source": [
    "# Practice Problems"
   ]
  },
  {
   "cell_type": "code",
   "execution_count": null,
   "metadata": {
    "slideshow": {
     "slide_type": "slide"
    }
   },
   "outputs": [],
   "source": [
    "\"\"\"\n",
    "Practice Problems for Python Classes and Objects\n",
    "\"\"\"\n",
    "\n",
    "# Problem 1: Basic Class Creation\n",
    "# Create a class called Rectangle that takes width and height in its constructor.\n",
    "# The class should store these as instance variables.\n",
    "# Replace the pass statement with your code.\n",
    "\n",
    "class Rectangle:\n",
    "    pass\n",
    "\n",
    "# Tests for Problem 1\n",
    "r = Rectangle(10, 20)\n",
    "assert r.width == 10, \"Problem 1: Width not set correctly\" \n",
    "assert r.height == 20, \"Problem 1: Height not set correctly\""
   ]
  },
  {
   "cell_type": "code",
   "execution_count": null,
   "metadata": {
    "slideshow": {
     "slide_type": "slide"
    }
   },
   "outputs": [],
   "source": [
    "# Problem 2: Adding Methods\n",
    "# Create a class called Counter that has:\n",
    "# - An __init__ method that sets the count to 0\n",
    "# - An increment() method that adds 1 to count\n",
    "# - A decrement() method that subtracts 1 from count\n",
    "# - A get_count() method that returns the current count\n",
    "# Replace the pass statement with your code.\n",
    "\n",
    "class Counter:\n",
    "    pass\n",
    "\n",
    "# Tests for Problem 2\n",
    "c = Counter()\n",
    "assert c.get_count() == 0, \"Problem 2: Initial count should be 0\"\n",
    "c.increment()\n",
    "c.increment()\n",
    "assert c.get_count() == 2, \"Problem 2: Count should be 2 after two increments\"\n",
    "c.decrement()\n",
    "assert c.get_count() == 1, \"Problem 2: Count should be 1 after one decrement\"\n"
   ]
  },
  {
   "cell_type": "code",
   "execution_count": null,
   "metadata": {
    "slideshow": {
     "slide_type": "slide"
    }
   },
   "outputs": [],
   "source": [
    "# Problem 3: Class Variables\n",
    "# Create a class called Student that:\n",
    "# - Has a class variable school_name set to \"Python High School\"\n",
    "# - Takes name and grade in constructor as instance variables\n",
    "# - Has a class method change_school() that updates school_name\n",
    "# Replace the pass statement with your code.\n",
    "\n",
    "class Student:\n",
    "    pass\n",
    "\n",
    "# Tests for Problem 3\n",
    "s1 = Student(\"Alice\", 10)\n",
    "s2 = Student(\"Bob\", 11)\n",
    "assert s1.school_name == \"Python High School\", \"Problem 3: School name not set correctly\"\n",
    "assert s2.school_name == \"Python High School\", \"Problem 3: School name not set correctly\"\n",
    "Student.change_school(\"Python Academy\")\n",
    "assert s1.school_name == \"Python Academy\", \"Problem 3: School name not updated for s1\"\n",
    "assert s2.school_name == \"Python Academy\", \"Problem 3: School name not updated for s2\"\n",
    "\n"
   ]
  },
  {
   "cell_type": "code",
   "execution_count": null,
   "metadata": {
    "slideshow": {
     "slide_type": "slide"
    }
   },
   "outputs": [],
   "source": [
    "# Problem 4: Object Methods and State\n",
    "# Create a BankAccount class that:\n",
    "# - Takes an initial_balance in constructor\n",
    "# - Has deposit(amount) method that adds to balance\n",
    "# - Has withdraw(amount) method that subtracts from balance\n",
    "# - Has get_balance() method that returns current balance\n",
    "# - Doesn't allow withdraw to make balance negative (return False in this case, otherwise return True)\n",
    "# Replace the pass statement with your code.\n",
    "\n",
    "class BankAccount:\n",
    "    pass\n",
    "\n",
    "# Tests for Problem 4\n",
    "acct = BankAccount(100)\n",
    "assert acct.get_balance() == 100, \"Problem 4: Initial balance incorrect\"\n",
    "acct.deposit(50)\n",
    "assert acct.get_balance() == 150, \"Problem 4: Balance after deposit incorrect\"\n",
    "acct.withdraw(30)\n",
    "assert acct.get_balance() == 120, \"Problem 4: Balance after withdrawal incorrect\"\n",
    "assert not acct.withdraw(200), \"Problem 4: Should not allow withdrawal greater than balance\""
   ]
  }
 ],
 "metadata": {
  "celltoolbar": "Slideshow",
  "colab": {
   "collapsed_sections": [],
   "name": "L12 Classes and Objects.ipynb",
   "provenance": []
  },
  "kernelspec": {
   "display_name": "intro_python_env",
   "language": "python",
   "name": "intro_python_env"
  },
  "language_info": {
   "codemirror_mode": {
    "name": "ipython",
    "version": 3
   },
   "file_extension": ".py",
   "mimetype": "text/x-python",
   "name": "python",
   "nbconvert_exporter": "python",
   "pygments_lexer": "ipython3",
   "version": "3.11.9"
  }
 },
 "nbformat": 4,
 "nbformat_minor": 1
}