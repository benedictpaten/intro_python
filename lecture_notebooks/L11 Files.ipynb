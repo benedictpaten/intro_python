{
 "cells": [
  {
   "cell_type": "markdown",
   "metadata": {
    "id": "5UyFJYXOx-WH",
    "slideshow": {
     "slide_type": "slide"
    }
   },
   "source": [
    "# Lecture 11 - Files (https://bit.ly/intro_python_11)\n",
    "\n",
    "Today:\n",
    "* Files.\n",
    "  * Writing Files\n",
    "  * Reading files\n",
    "  * With keyword\n",
    "  * For loops on file handles\n",
    "  * Binary files \n",
    "  * Large worked example (Fasta file processing)\n",
    "  * Directories\n",
    "  * Web file retrieval\n",
    "\n"
   ]
  },
  {
   "cell_type": "markdown",
   "metadata": {
    "id": "iT7epkfjCAq6",
    "slideshow": {
     "slide_type": "slide"
    }
   },
   "source": [
    "# Motivation\n",
    "\n",
    "* Up to now we've mainly used input() to get input to the programs we've written.\n",
    "\n",
    "* In the real world, this is not the way we generally get data into a program. Rather we read and write data to and from files.\n",
    "\n",
    "* Files, like documents, or spread sheets or images, are just semantically organized arrays of bits. \n",
    "\n",
    "* They can exist on a disk, be pulled from the internet or be created transiently as we pipe inputs and outputs from our programs. \n",
    "\n",
    "* They can be small, and they can be very large. Typically the data associated with a scientific analysis will be large relative to the size of the program. For this reason we have to think about processing the data in stages using streaming. \n",
    "\n",
    "Anyway, let's dive in... (as an aside, the examples today will show larger code samples than we've seen previously - you're leveling up)"
   ]
  },
  {
   "cell_type": "markdown",
   "metadata": {
    "id": "SZ27fsOR87Cw",
    "slideshow": {
     "slide_type": "slide"
    }
   },
   "source": [
    "# Writing Files\n",
    "\n",
    "Let's first look at creating a file. You'll often want to do this when writing out the results of some analysis."
   ]
  },
  {
   "cell_type": "code",
   "execution_count": 3,
   "metadata": {
    "id": "38xJY3yOui52",
    "slideshow": {
     "slide_type": "fragment"
    }
   },
   "outputs": [],
   "source": [
    "my_file = open(\"test.txt\", \"w\") # Call to open() opens a file\n",
    "# test.txt in the working directory of the Python program.\n",
    "# The \"w\" string argument (short for \"write\"), tells open()\n",
    "# that you intend to write to the file. \n",
    "\n",
    "# If test.txt does not exist before this point it is created as an empty file.\n",
    "\n",
    "# If test.txt existed before this point its contents are now overwritten - \n",
    "# so be careful opening files for writing\n",
    "\n",
    "# my_file (the return value from open) is a \"file handle\", that is you use it\n",
    "# to handle the communication with the file\n",
    "\n",
    "\n",
    "\n",
    "# The write method of the file_handle object is a lot like print(), except\n",
    "# the contents of the string arguments are written to the file, instead of the\n",
    "# screen, and write does not add newlines to the end of the string (so you add them\n",
    "# explicitly, as in this example)\n",
    "my_file.write(\"My first file written from Python\\n\") \n",
    "my_file.write(\"---------------------------------\\n\")\n",
    "my_file.write(\"Hello, world!\\n\")\n",
    "\n",
    "my_file.close() # This closes the file. You can't keep using my_file after this\n",
    "# as the file connection is closed. It is important to close the file when \n",
    "# you're done to ensure the file writing is completed successfully (although Python\n",
    "# will clean things up automatically on exit, you shouldn't rely on this in cases\n",
    "# where you're program gets terminated prematurely)"
   ]
  },
  {
   "cell_type": "markdown",
   "metadata": {
    "id": "2cf01WIn7pJZ",
    "slideshow": {
     "slide_type": "notes"
    }
   },
   "source": [
    "Note: (Do matched demo from terminal to show contents of file)\n"
   ]
  },
  {
   "cell_type": "markdown",
   "metadata": {
    "id": "KjJ_lZssTKgN",
    "slideshow": {
     "slide_type": "subslide"
    }
   },
   "source": [
    "**To append to the end of an existing file:** "
   ]
  },
  {
   "cell_type": "code",
   "execution_count": 4,
   "metadata": {
    "id": "2EpL3R5WBeVf",
    "slideshow": {
     "slide_type": "fragment"
    }
   },
   "outputs": [],
   "source": [
    "my_file = open(\"test.txt\", \"a\") # The 'a' argument (short for append) opens an \n",
    "# existing file to append to it \n",
    "# If test.txt does not exist then 'a' creates the file, just like 'w'\n",
    "\n",
    "my_file.write(\"Hello, again!\\n\") \n",
    "\n",
    "my_file.close() # Again, always close the file"
   ]
  },
  {
   "cell_type": "markdown",
   "metadata": {
    "id": "bf-ylIdLTQpE",
    "slideshow": {
     "slide_type": "notes"
    }
   },
   "source": [
    "Note: (Continue matched demo from terminal to show contents of appended to file)"
   ]
  },
  {
   "cell_type": "markdown",
   "metadata": {
    "id": "0Csg1vPc8_7C",
    "slideshow": {
     "slide_type": "slide"
    }
   },
   "source": [
    "# Reading Files"
   ]
  },
  {
   "cell_type": "code",
   "execution_count": 6,
   "metadata": {
    "colab": {
     "base_uri": "https://localhost:8080/",
     "height": 157
    },
    "executionInfo": {
     "elapsed": 503,
     "status": "ok",
     "timestamp": 1572561573602,
     "user": {
      "displayName": "Benedict Paten",
      "photoUrl": "https://lh3.googleusercontent.com/a-/AAuE7mBMnWy8dDR7jyTHNy9tPaRx6DCyA3QKrIcuQ7R4=s64",
      "userId": "06399644931392855882"
     },
     "user_tz": 420
    },
    "id": "CAhQ4GB07xBM",
    "outputId": "031dc175-94e2-4a44-e410-0e5eb5e2dfe2",
    "slideshow": {
     "slide_type": "fragment"
    }
   },
   "outputs": [
    {
     "name": "stdout",
     "output_type": "stream",
     "text": [
      "My first file written from Python\n",
      "---------------------------------\n",
      "Hello, world!\n",
      "Hello, again!\n"
     ]
    }
   ],
   "source": [
    "mynewhandle = open(\"test.txt\", \"r\") # This opens the file, \"r\" argument means \"read\"\n",
    "\n",
    "# The following loop walks through\n",
    "# the file line by line\n",
    "\n",
    "while True:                            # Keep reading forever\n",
    "  \n",
    "    theline = mynewhandle.readline()   # Try to read next line using readline()\n",
    "    \n",
    "    if theline == \"\":              # When done, readline returns the empty string ''\n",
    "      # allowing us to detect the end of the file and to leave the loop\n",
    "      \n",
    "        break                          #     leave the loop\n",
    "\n",
    "    # Now process the line we've just read\n",
    "    print(theline, end=\"\")\n",
    "\n",
    "mynewhandle.close() # This might seem less important, as you're just reading \n",
    "# from the file, however most underlying operating systems have limits on\n",
    "# the number of active file handles, so it is good to cleanup. It is also \n",
    "# generally a bad idea to have multiple file handles open on one file (unless they are\n",
    "# all read only file handles)"
   ]
  },
  {
   "cell_type": "markdown",
   "metadata": {
    "id": "XpE5L7547yKT",
    "slideshow": {
     "slide_type": "fragment"
    }
   },
   "source": [
    "What is nice about the above loop is that regardless of the number of files, Python only stores one line in memory, allowing it to process arbitrarily large files."
   ]
  },
  {
   "cell_type": "markdown",
   "metadata": {
    "slideshow": {
     "slide_type": "subslide"
    }
   },
   "source": [
    "**Python will complain if you try to open a file that doesn't exist...**"
   ]
  },
  {
   "cell_type": "code",
   "execution_count": 16,
   "metadata": {
    "colab": {
     "base_uri": "https://localhost:8080/",
     "height": 166
    },
    "executionInfo": {
     "elapsed": 925,
     "status": "error",
     "timestamp": 1572561338378,
     "user": {
      "displayName": "Benedict Paten",
      "photoUrl": "https://lh3.googleusercontent.com/a-/AAuE7mBMnWy8dDR7jyTHNy9tPaRx6DCyA3QKrIcuQ7R4=s64",
      "userId": "06399644931392855882"
     },
     "user_tz": 420
    },
    "id": "aTvzYDew7yiC",
    "outputId": "94122b46-28f1-431b-a42b-b5351990a730",
    "slideshow": {
     "slide_type": "fragment"
    }
   },
   "outputs": [
    {
     "ename": "FileNotFoundError",
     "evalue": "[Errno 2] No such file or directory: 'wharrah.txt'",
     "output_type": "error",
     "traceback": [
      "\u001b[0;31m---------------------------------------------------------------------------\u001b[0m",
      "\u001b[0;31mFileNotFoundError\u001b[0m                         Traceback (most recent call last)",
      "\u001b[0;32m/var/folders/ft/hp0lkfys73s96bby40t4tnnr0000gn/T/ipykernel_1350/671020910.py\u001b[0m in \u001b[0;36m<module>\u001b[0;34m\u001b[0m\n\u001b[0;32m----> 1\u001b[0;31m \u001b[0mmynewhandle\u001b[0m \u001b[0;34m=\u001b[0m \u001b[0mopen\u001b[0m\u001b[0;34m(\u001b[0m\u001b[0;34m\"wharrah.txt\"\u001b[0m\u001b[0;34m,\u001b[0m \u001b[0;34m\"r\"\u001b[0m\u001b[0;34m)\u001b[0m\u001b[0;34m\u001b[0m\u001b[0;34m\u001b[0m\u001b[0m\n\u001b[0m",
      "\u001b[0;31mFileNotFoundError\u001b[0m: [Errno 2] No such file or directory: 'wharrah.txt'"
     ]
    }
   ],
   "source": [
    "mynewhandle = open(\"wharrah.txt\", \"r\")"
   ]
  },
  {
   "cell_type": "markdown",
   "metadata": {
    "id": "ooeE2DB6FCRM",
    "slideshow": {
     "slide_type": "subslide"
    }
   },
   "source": [
    "**To read contents of file into memory in one go use read()**"
   ]
  },
  {
   "cell_type": "code",
   "execution_count": 17,
   "metadata": {
    "colab": {
     "base_uri": "https://localhost:8080/",
     "height": 122
    },
    "executionInfo": {
     "elapsed": 950,
     "status": "ok",
     "timestamp": 1572561373895,
     "user": {
      "displayName": "Benedict Paten",
      "photoUrl": "https://lh3.googleusercontent.com/a-/AAuE7mBMnWy8dDR7jyTHNy9tPaRx6DCyA3QKrIcuQ7R4=s64",
      "userId": "06399644931392855882"
     },
     "user_tz": 420
    },
    "id": "aGPsxgzYGuf1",
    "outputId": "1578e898-5c5e-4634-8238-8135069427ae",
    "slideshow": {
     "slide_type": "fragment"
    }
   },
   "outputs": [
    {
     "name": "stdout",
     "output_type": "stream",
     "text": [
      "<class 'str'>\n",
      "My first file written from Python\n",
      "---------------------------------\n",
      "Hello, world!\n",
      "Hello, again!\n",
      "\n"
     ]
    }
   ],
   "source": [
    "fh = open(\"test.txt\", \"r\") # I often use fh to denote a file handle, for some reason\n",
    "\n",
    "content = fh.read() # Read the contents of the file\n",
    "\n",
    "print(type(content)) # Yup, content is a string\n",
    "\n",
    "print(content)\n",
    "\n",
    "fh.close()"
   ]
  },
  {
   "cell_type": "markdown",
   "metadata": {
    "id": "fUUcCij9H0Vi",
    "slideshow": {
     "slide_type": "subslide"
    }
   },
   "source": [
    "**readlines will read all the lines in a file:**"
   ]
  },
  {
   "cell_type": "code",
   "execution_count": 18,
   "metadata": {
    "colab": {
     "base_uri": "https://localhost:8080/",
     "height": 72
    },
    "executionInfo": {
     "elapsed": 954,
     "status": "ok",
     "timestamp": 1572561427610,
     "user": {
      "displayName": "Benedict Paten",
      "photoUrl": "https://lh3.googleusercontent.com/a-/AAuE7mBMnWy8dDR7jyTHNy9tPaRx6DCyA3QKrIcuQ7R4=s64",
      "userId": "06399644931392855882"
     },
     "user_tz": 420
    },
    "id": "UyOOG16sHugL",
    "outputId": "85bde637-6439-490f-cec9-0398d9bc293a",
    "slideshow": {
     "slide_type": "fragment"
    }
   },
   "outputs": [
    {
     "name": "stdout",
     "output_type": "stream",
     "text": [
      "<class 'list'>\n",
      "['My first file written from Python\\n', '---------------------------------\\n', 'Hello, world!\\n', 'Hello, again!\\n']\n"
     ]
    }
   ],
   "source": [
    "fh = open(\"test.txt\") # I often use fh to denote a file handle, for some reason\n",
    "# If you don't give the second argument it defaults to read only\n",
    "\n",
    "content = fh.readlines() # Read the contents of the file\n",
    "\n",
    "print(type(content)) # Yup, content is now a list of strings\n",
    "\n",
    "print(content)\n",
    "\n",
    "fh.close()"
   ]
  },
  {
   "cell_type": "markdown",
   "metadata": {
    "slideshow": {
     "slide_type": "subslide"
    }
   },
   "source": [
    "# Challenge 1"
   ]
  },
  {
   "cell_type": "code",
   "execution_count": 8,
   "metadata": {
    "id": "UgYsFrEKE4Y4",
    "slideshow": {
     "slide_type": "fragment"
    }
   },
   "outputs": [
    {
     "name": "stdout",
     "output_type": "stream",
     "text": [
      "The original list [0, 1, 2, 3, 4, 5, 6, 7, 8, 9, 10, 11, 12, 13, 14, 15, 16, 17, 18, 19, 20, 21, 22, 23, 24, 25, 26, 27, 28, 29, 30, 31, 32, 33, 34, 35, 36, 37, 38, 39, 40, 41, 42, 43, 44, 45, 46, 47, 48, 49, 50, 51, 52, 53, 54, 55, 56, 57, 58, 59, 60, 61, 62, 63, 64, 65, 66, 67, 68, 69, 70, 71, 72, 73, 74, 75, 76, 77, 78, 79, 80, 81, 82, 83, 84, 85, 86, 87, 88, 89, 90, 91, 92, 93, 94, 95, 96, 97, 98, 99]\n",
      "The new list [0, 1, 2, 3, 4, 5, 6, 7, 8, 9, 10, 11, 12, 13, 14, 15, 16, 17, 18, 19, 20, 21, 22, 23, 24, 25, 26, 27, 28, 29, 30, 31, 32, 33, 34, 35, 36, 37, 38, 39, 40, 41, 42, 43, 44, 45, 46, 47, 48, 49, 50, 51, 52, 53, 54, 55, 56, 57, 58, 59, 60, 61, 62, 63, 64, 65, 66, 67, 68, 69, 70, 71, 72, 73, 74, 75, 76, 77, 78, 79, 80, 81, 82, 83, 84, 85, 86, 87, 88, 89, 90, 91, 92, 93, 94, 95, 96, 97, 98, 99]\n"
     ]
    }
   ],
   "source": [
    "# Complete the following code.\n",
    "\n",
    "l = list(range(100))\n",
    "\n",
    "## Write the numbers in l to a file \"out.txt\"\n",
    "\n",
    "## Read the numbers from out.txt into a new list, \"l2\"\n",
    "\n",
    "## check that l == l2\n"
   ]
  },
  {
   "cell_type": "markdown",
   "metadata": {
    "id": "nq84RePQIrbm",
    "slideshow": {
     "slide_type": "slide"
    }
   },
   "source": [
    "# The with Keyword\n",
    "\n",
    "Good programming is often about anticipating errors and dealing with them.\n",
    "\n",
    "The 'with' keyword is both useful short-hand and good defensive programming. We don't need to know the details (curious: https://docs.python.org/2.5/whatsnew/pep-343.html), but basically it cleans up the file handle for you"
   ]
  },
  {
   "cell_type": "code",
   "execution_count": 19,
   "metadata": {
    "colab": {
     "base_uri": "https://localhost:8080/",
     "height": 236
    },
    "executionInfo": {
     "elapsed": 513,
     "status": "error",
     "timestamp": 1572561758891,
     "user": {
      "displayName": "Benedict Paten",
      "photoUrl": "https://lh3.googleusercontent.com/a-/AAuE7mBMnWy8dDR7jyTHNy9tPaRx6DCyA3QKrIcuQ7R4=s64",
      "userId": "06399644931392855882"
     },
     "user_tz": 420
    },
    "id": "tZU5iNqQIqcF",
    "outputId": "3f0b7911-5255-493c-d0f5-ac5fa63030a3",
    "slideshow": {
     "slide_type": "fragment"
    }
   },
   "outputs": [
    {
     "ename": "AssertionError",
     "evalue": "",
     "output_type": "error",
     "traceback": [
      "\u001b[0;31m---------------------------------------------------------------------------\u001b[0m",
      "\u001b[0;31mAssertionError\u001b[0m                            Traceback (most recent call last)",
      "\u001b[0;32m/var/folders/ft/hp0lkfys73s96bby40t4tnnr0000gn/T/ipykernel_1350/439454266.py\u001b[0m in \u001b[0;36m<module>\u001b[0;34m\u001b[0m\n\u001b[1;32m      3\u001b[0m   \u001b[0;31m# in processing the file\u001b[0m\u001b[0;34m\u001b[0m\u001b[0;34m\u001b[0m\u001b[0;34m\u001b[0m\u001b[0m\n\u001b[1;32m      4\u001b[0m \u001b[0;34m\u001b[0m\u001b[0m\n\u001b[0;32m----> 5\u001b[0;31m   \u001b[0;32massert\u001b[0m \u001b[0;32mFalse\u001b[0m \u001b[0;31m# This causes an error, but fh will still be closed\u001b[0m\u001b[0;34m\u001b[0m\u001b[0;34m\u001b[0m\u001b[0m\n\u001b[0m\u001b[1;32m      6\u001b[0m \u001b[0;34m\u001b[0m\u001b[0m\n\u001b[1;32m      7\u001b[0m   \u001b[0mcontent\u001b[0m \u001b[0;34m=\u001b[0m \u001b[0mfh\u001b[0m\u001b[0;34m.\u001b[0m\u001b[0mreadlines\u001b[0m\u001b[0;34m(\u001b[0m\u001b[0;34m)\u001b[0m\u001b[0;34m\u001b[0m\u001b[0;34m\u001b[0m\u001b[0m\n",
      "\u001b[0;31mAssertionError\u001b[0m: "
     ]
    }
   ],
   "source": [
    "with open(\"test.txt\") as fh: # With removes the need for the \"fh.close()\" statement\n",
    "  # and is better because fh.close() is guaranteed to be run even if there is an error\n",
    "  # in processing the file\n",
    "  \n",
    "  assert False # This causes an error, but fh will still be closed\n",
    "  \n",
    "  content = fh.readlines() \n",
    "  print(content)\n",
    "  \n",
    "  \n",
    "# For files the syntax is:\n",
    "# with OPEN_EXPRESSION as FILE_HANDLE:\n",
    "#   STATEMENTS THAT USE FILE_HANDLE"
   ]
  },
  {
   "cell_type": "markdown",
   "metadata": {
    "id": "Ji9VkG3QO2JH",
    "slideshow": {
     "slide_type": "slide"
    }
   },
   "source": [
    "# For loop on file:"
   ]
  },
  {
   "cell_type": "code",
   "execution_count": 20,
   "metadata": {
    "colab": {
     "base_uri": "https://localhost:8080/",
     "height": 87
    },
    "executionInfo": {
     "elapsed": 869,
     "status": "ok",
     "timestamp": 1572561908305,
     "user": {
      "displayName": "Benedict Paten",
      "photoUrl": "https://lh3.googleusercontent.com/a-/AAuE7mBMnWy8dDR7jyTHNy9tPaRx6DCyA3QKrIcuQ7R4=s64",
      "userId": "06399644931392855882"
     },
     "user_tz": 420
    },
    "id": "PbI6o-TXOtJ2",
    "outputId": "1b95e776-e61a-4e34-d5c9-69f433f80672",
    "slideshow": {
     "slide_type": "fragment"
    }
   },
   "outputs": [
    {
     "name": "stdout",
     "output_type": "stream",
     "text": [
      "My first file written from Python\n",
      "---------------------------------\n",
      "Hello, world!\n",
      "Hello, again!\n"
     ]
    }
   ],
   "source": [
    "# If you run a for loop on a file handle open for reading then\n",
    "# it defaults to reading lines, this is compact and memory efficient (because\n",
    "# we only read a line at a time from the file)\n",
    "\n",
    "with open(\"test.txt\", \"r\") as fh:\n",
    "  for line in fh:\n",
    "    print(line, end=\"\") # end=\"\" stops print() from adding a newline to the end"
   ]
  },
  {
   "cell_type": "markdown",
   "metadata": {
    "slideshow": {
     "slide_type": "subslide"
    }
   },
   "source": [
    "# Challenge 2"
   ]
  },
  {
   "cell_type": "code",
   "execution_count": 16,
   "metadata": {
    "slideshow": {
     "slide_type": "fragment"
    }
   },
   "outputs": [],
   "source": [
    "zhivago = \"\"\"On they went, singing \" Rest Eternal, \" and whenever they \n",
    "stopped, their feet, the horses, and the gusts of wind seemed to\n",
    "carry on their singing. \n",
    "\n",
    "Passers-by made way for the procession, counted the wreaths, \n",
    "and crossed themselves. Some joined in out of curiosity and \n",
    "asked: \" Who is being buried? \" — \" Zhivago, \" they were told. \n",
    "— \" Oh, I see. That's what it is. \" — \"It isn't him. It's his wife.\n",
    "\n",
    "\" — \" Well, it comes to the same thing. May her soul rest in \n",
    "peace. It ' s a fine funeral. \"\"\"\n",
    "\n",
    "# Write the zhivago string to the file \"zhivago.txt\". Use 'with' to cleanup the file handle.\n",
    "\n",
    "# Now read the contents of zhivago.txt, using a for loop to iterate over the lines, printing each to the screen. \n",
    "# When reading the file again use with.\n",
    "\n"
   ]
  },
  {
   "cell_type": "markdown",
   "metadata": {
    "id": "YSP_EVs7QpgW",
    "slideshow": {
     "slide_type": "slide"
    }
   },
   "source": [
    "# Binary Files\n",
    "\n",
    "All the files we've seen so far are assumed to be text files (i.e. composed of human readable stuff). However, Python can also happily process binary files, which are just files with arbitrary bits in them. \n",
    "\n",
    "On the left we've opened a binary file (a jpeg) - the bits aren't organized so that they can be decoded as text. We can't assume that the bits in such a binary file are organized into bytes that represent meaningful text characters with white space, etc. On the right is the jpeg when properly decoded as an image.\n",
    "\n",
    "\n",
    "<img src=\"https://raw.githubusercontent.com/benedictpaten/intro_python/main/lecture_notebooks/figures/binary%20files.jpg\" width=1000 height=500 />\n"
   ]
  },
  {
   "cell_type": "code",
   "execution_count": 21,
   "metadata": {
    "colab": {
     "base_uri": "https://localhost:8080/",
     "height": 72
    },
    "executionInfo": {
     "elapsed": 477,
     "status": "ok",
     "timestamp": 1572562141485,
     "user": {
      "displayName": "Benedict Paten",
      "photoUrl": "https://lh3.googleusercontent.com/a-/AAuE7mBMnWy8dDR7jyTHNy9tPaRx6DCyA3QKrIcuQ7R4=s64",
      "userId": "06399644931392855882"
     },
     "user_tz": 420
    },
    "id": "AzQsT6aPXhkj",
    "outputId": "8f494076-51a6-404c-fb08-a54bee4a392c",
    "slideshow": {
     "slide_type": "subslide"
    }
   },
   "outputs": [],
   "source": [
    "# Reading and writing binary data\n",
    "\n",
    "with open(\"test.txt\", \"rb\") as f: # Here we treat test.txt as a binary file - any file\n",
    "  # can be considered just a collection of bits\n",
    "  \n",
    "  with open(\"test2.txt\", \"wb\") as g: # Note the nested with statements\n",
    "\n",
    "    while True:\n",
    "      buf = f.read(1024) # The argument to read tells it to read a set number of \n",
    "      # bytes - each byte is an 8 bit (8 0's or 1's) words into the \"buf\" object, \n",
    "      # which is a string\n",
    "\n",
    "      #print(buf)\n",
    "      \n",
    "      if len(buf) == 0: # We're at the end\n",
    "         break\n",
    "          \n",
    "      g.write(buf)"
   ]
  },
  {
   "cell_type": "markdown",
   "metadata": {
    "id": "WgWDW4p-Y2Xb",
    "slideshow": {
     "slide_type": "fragment"
    }
   },
   "source": [
    "Now we can see that test2.txt is just a copy of the original file:"
   ]
  },
  {
   "cell_type": "code",
   "execution_count": 22,
   "metadata": {
    "colab": {
     "base_uri": "https://localhost:8080/",
     "height": 87
    },
    "executionInfo": {
     "elapsed": 867,
     "status": "ok",
     "timestamp": 1572562209509,
     "user": {
      "displayName": "Benedict Paten",
      "photoUrl": "https://lh3.googleusercontent.com/a-/AAuE7mBMnWy8dDR7jyTHNy9tPaRx6DCyA3QKrIcuQ7R4=s64",
      "userId": "06399644931392855882"
     },
     "user_tz": 420
    },
    "id": "oRO95FSoY9MI",
    "outputId": "75db7488-f6d9-4604-a510-77519a48b61e",
    "slideshow": {
     "slide_type": "fragment"
    }
   },
   "outputs": [
    {
     "name": "stdout",
     "output_type": "stream",
     "text": [
      "My first file written from Python\n",
      "---------------------------------\n",
      "Hello, world!\n",
      "Hello, again!\n"
     ]
    }
   ],
   "source": [
    "with open(\"test2.txt\") as fh:\n",
    "  for line in fh:\n",
    "    print(line, end=\"\") # end=\"\" stops print() from adding a newline to the end"
   ]
  },
  {
   "cell_type": "markdown",
   "metadata": {
    "id": "h0iDQunV8V9W",
    "slideshow": {
     "slide_type": "slide"
    }
   },
   "source": [
    "# Directories\n",
    "\n",
    "In most systems the operating has access to a file system in which files are kept. Getting into details\n",
    "is beyond the scope of this course, because it requires us getting into operating system stuff - but let's cover the very basics.\n",
    "\n",
    "For more see: https://docs.python.org/3/library/os.html and https://docs.python.org/3/library/os.path.html\n",
    "\n",
    "By default when you open/write a file in Python uses the current working directory."
   ]
  },
  {
   "cell_type": "code",
   "execution_count": 33,
   "metadata": {
    "colab": {
     "base_uri": "https://localhost:8080/",
     "height": 34
    },
    "executionInfo": {
     "elapsed": 954,
     "status": "ok",
     "timestamp": 1572562873979,
     "user": {
      "displayName": "Benedict Paten",
      "photoUrl": "https://lh3.googleusercontent.com/a-/AAuE7mBMnWy8dDR7jyTHNy9tPaRx6DCyA3QKrIcuQ7R4=s64",
      "userId": "06399644931392855882"
     },
     "user_tz": 420
    },
    "id": "sdevYDXf8XT6",
    "outputId": "76fbef28-9349-4e4a-ae84-1fab16b66865",
    "slideshow": {
     "slide_type": "fragment"
    }
   },
   "outputs": [
    {
     "data": {
      "text/plain": [
       "'/Users/benedictpaten/PycharmProjects/intro_python/lecture_notebooks'"
      ]
     },
     "execution_count": 33,
     "metadata": {},
     "output_type": "execute_result"
    }
   ],
   "source": [
    "import os # This module provides all sorts of useful functions \n",
    "# for working with the operating system\n",
    "\n",
    "os.getcwd() # getcwd() tells us what working directory we're in. \n",
    "# (If you're using Google Collaboratory, this is some directory on\n",
    "# some (virtual) machine in Google Cloud Platform)"
   ]
  },
  {
   "cell_type": "code",
   "execution_count": 34,
   "metadata": {
    "colab": {
     "base_uri": "https://localhost:8080/",
     "height": 34
    },
    "executionInfo": {
     "elapsed": 901,
     "status": "ok",
     "timestamp": 1572562959521,
     "user": {
      "displayName": "Benedict Paten",
      "photoUrl": "https://lh3.googleusercontent.com/a-/AAuE7mBMnWy8dDR7jyTHNy9tPaRx6DCyA3QKrIcuQ7R4=s64",
      "userId": "06399644931392855882"
     },
     "user_tz": 420
    },
    "id": "y-ug5LCkjl4c",
    "outputId": "759cc447-56c4-46b2-be7a-7c8f5299ecd0",
    "slideshow": {
     "slide_type": "fragment"
    }
   },
   "outputs": [
    {
     "data": {
      "text/plain": [
       "['L03 More Types.ipynb',\n",
       " 'L11 Files.ipynb',\n",
       " '.DS_Store',\n",
       " 'L18 Data Science .ipynb',\n",
       " 'test2.txt',\n",
       " 'L06 Functions.ipynb',\n",
       " 'L10 Modules.ipynb',\n",
       " 'L08 Strings.ipynb',\n",
       " 'L05 Loops.ipynb',\n",
       " 'L04 Conditionals and Branching.ipynb',\n",
       " 'L13 Classes and Polymorphism.ipynb',\n",
       " 'L02 Variables and Expressions.ipynb',\n",
       " 'L07 Functions Continued.ipynb',\n",
       " 'L16 Exceptions and Unit Testing.ipynb',\n",
       " 'L-- Syllabus.ipynb',\n",
       " 'figures',\n",
       " 'L15 More Functions and Recursion.ipynb',\n",
       " 'L14 Inheritance.ipynb',\n",
       " 'test.txt',\n",
       " '.ipynb_checkpoints',\n",
       " 'L17 Search Algorithms.ipynb',\n",
       " 'data',\n",
       " 'L12 Classes and Objects.ipynb',\n",
       " 'cancer_data.csv',\n",
       " 'L09 Tuples, Lists and Dictionaries.ipynb',\n",
       " 'L01 Intro.ipynb',\n",
       " 'local.txt']"
      ]
     },
     "execution_count": 34,
     "metadata": {},
     "output_type": "execute_result"
    }
   ],
   "source": [
    "os.listdir(os.getcwd()) # listdir() tells us what files are in the working directory"
   ]
  },
  {
   "cell_type": "code",
   "execution_count": 35,
   "metadata": {
    "colab": {
     "base_uri": "https://localhost:8080/",
     "height": 34
    },
    "executionInfo": {
     "elapsed": 845,
     "status": "ok",
     "timestamp": 1572563150292,
     "user": {
      "displayName": "Benedict Paten",
      "photoUrl": "https://lh3.googleusercontent.com/a-/AAuE7mBMnWy8dDR7jyTHNy9tPaRx6DCyA3QKrIcuQ7R4=s64",
      "userId": "06399644931392855882"
     },
     "user_tz": 420
    },
    "id": "Se2Rr5isj6I7",
    "outputId": "b6014ba6-cd3f-4094-8b28-cc80ddc97724",
    "slideshow": {
     "slide_type": "subslide"
    }
   },
   "outputs": [
    {
     "data": {
      "text/plain": [
       "[]"
      ]
     },
     "execution_count": 35,
     "metadata": {},
     "output_type": "execute_result"
    }
   ],
   "source": [
    "# We can create a directory like so:\n",
    "\n",
    "os.mkdir(\"new_directory\")  # This creates a new directory in the current working directory\n",
    "\n",
    "os.listdir(os.getcwd() + \"/new_directory\") # Now \"new_directory\" is a directory in our working directory"
   ]
  },
  {
   "cell_type": "code",
   "execution_count": 36,
   "metadata": {
    "colab": {
     "base_uri": "https://localhost:8080/",
     "height": 34
    },
    "executionInfo": {
     "elapsed": 623,
     "status": "ok",
     "timestamp": 1572563281536,
     "user": {
      "displayName": "Benedict Paten",
      "photoUrl": "https://lh3.googleusercontent.com/a-/AAuE7mBMnWy8dDR7jyTHNy9tPaRx6DCyA3QKrIcuQ7R4=s64",
      "userId": "06399644931392855882"
     },
     "user_tz": 420
    },
    "id": "3LTGLKkqkRVB",
    "outputId": "eeb04894-a7e2-4ca6-94ed-69ac8cba96b2",
    "slideshow": {
     "slide_type": "subslide"
    }
   },
   "outputs": [
    {
     "data": {
      "text/plain": [
       "['test.txt']"
      ]
     },
     "execution_count": 36,
     "metadata": {},
     "output_type": "execute_result"
    }
   ],
   "source": [
    "# We can write a file in our new directory like so:\n",
    "\n",
    "# Python uses strings to indicate file paths, generally we can indicate file\n",
    "# paths with the / symbol, so new_directory/test.txt is a file \"test.txt\" in the \n",
    "# directory \"new_directory\"\n",
    "\n",
    "with open(\"new_directory/test.txt\", \"w\") as fh:\n",
    "  fh.write(\"Hello again!\")\n",
    "    \n",
    "os.listdir(os.getcwd() + \"/new_directory\") # Now \"new_directory\" is a directory in our working directory"
   ]
  },
  {
   "cell_type": "markdown",
   "metadata": {
    "id": "v7VoOWRTp66n",
    "slideshow": {
     "slide_type": "subslide"
    }
   },
   "source": [
    "It is worth mentioning how to delete a file, because your Python programs/scripts should try not make lots of messy files:"
   ]
  },
  {
   "cell_type": "code",
   "execution_count": 27,
   "metadata": {
    "colab": {
     "base_uri": "https://localhost:8080/",
     "height": 34
    },
    "executionInfo": {
     "elapsed": 491,
     "status": "ok",
     "timestamp": 1572563337020,
     "user": {
      "displayName": "Benedict Paten",
      "photoUrl": "https://lh3.googleusercontent.com/a-/AAuE7mBMnWy8dDR7jyTHNy9tPaRx6DCyA3QKrIcuQ7R4=s64",
      "userId": "06399644931392855882"
     },
     "user_tz": 420
    },
    "id": "Q8OHe-OKp9La",
    "outputId": "1deb2c8d-fdf6-48ba-94f3-ad0286e7ca66",
    "slideshow": {
     "slide_type": "fragment"
    }
   },
   "outputs": [
    {
     "data": {
      "text/plain": [
       "[]"
      ]
     },
     "execution_count": 27,
     "metadata": {},
     "output_type": "execute_result"
    }
   ],
   "source": [
    "os.remove(\"new_directory/test.txt\") # This removes the file test.txt from new_directory\n",
    "\n",
    "os.listdir(os.getcwd() + \"/new_directory\") # Now the directory is empty"
   ]
  },
  {
   "cell_type": "code",
   "execution_count": 28,
   "metadata": {
    "colab": {
     "base_uri": "https://localhost:8080/",
     "height": 34
    },
    "executionInfo": {
     "elapsed": 678,
     "status": "ok",
     "timestamp": 1572563338388,
     "user": {
      "displayName": "Benedict Paten",
      "photoUrl": "https://lh3.googleusercontent.com/a-/AAuE7mBMnWy8dDR7jyTHNy9tPaRx6DCyA3QKrIcuQ7R4=s64",
      "userId": "06399644931392855882"
     },
     "user_tz": 420
    },
    "id": "ql-fl1mvqVwr",
    "outputId": "33bf49bd-2eaf-4494-8848-3e1ff68b8670",
    "slideshow": {
     "slide_type": "fragment"
    }
   },
   "outputs": [
    {
     "data": {
      "text/plain": [
       "['L03 More Types.ipynb',\n",
       " 'L11 Files.ipynb',\n",
       " '.DS_Store',\n",
       " 'L18 Data Science .ipynb',\n",
       " 'test2.txt',\n",
       " 'L06 Functions.ipynb',\n",
       " 'L10 Modules.ipynb',\n",
       " 'L08 Strings.ipynb',\n",
       " 'L05 Loops.ipynb',\n",
       " 'L04 Conditionals and Branching.ipynb',\n",
       " 'L13 Classes and Polymorphism.ipynb',\n",
       " 'L02 Variables and Expressions.ipynb',\n",
       " 'L07 Functions Continued.ipynb',\n",
       " 'L16 Exceptions and Unit Testing.ipynb',\n",
       " 'L-- Syllabus.ipynb',\n",
       " 'figures',\n",
       " 'L15 More Functions and Recursion.ipynb',\n",
       " 'L14 Inheritance.ipynb',\n",
       " 'test.txt',\n",
       " '.ipynb_checkpoints',\n",
       " 'L17 Search Algorithms.ipynb',\n",
       " 'data',\n",
       " 'L12 Classes and Objects.ipynb',\n",
       " 'cancer_data.csv',\n",
       " 'L09 Tuples, Lists and Dictionaries.ipynb',\n",
       " 'L01 Intro.ipynb']"
      ]
     },
     "execution_count": 28,
     "metadata": {},
     "output_type": "execute_result"
    }
   ],
   "source": [
    "# Similarly you can remove empty directories\n",
    "os.rmdir(\"new_directory\") # This will error out if the directory is not empty\n",
    "\n",
    "os.listdir(os.getcwd()) # new_directory is gone"
   ]
  },
  {
   "cell_type": "markdown",
   "metadata": {
    "slideshow": {
     "slide_type": "subslide"
    }
   },
   "source": [
    "# Challenge 3"
   ]
  },
  {
   "cell_type": "code",
   "execution_count": 11,
   "metadata": {
    "slideshow": {
     "slide_type": "fragment"
    }
   },
   "outputs": [
    {
     "name": "stdout",
     "output_type": "stream",
     "text": [
      "Current working directory /Users/benedictpaten/PycharmProjects/intro_python/lecture_notebooks\n",
      "File L03 More Types.ipynb\n",
      "File out.txt\n",
      "File revision_session.ipynb\n",
      "File L11 Files.ipynb\n",
      "File .DS_Store\n",
      "File L18 Data Science .ipynb\n",
      "File test2.txt\n",
      "File L06 Functions.ipynb\n",
      "File L10 Modules.ipynb\n",
      "File new_directory\n",
      "File L08 Strings.ipynb\n",
      "File L05 Loops.ipynb\n",
      "File L04 Conditionals and Branching.ipynb\n",
      "File alice_in_wonderland.txt\n",
      "File L13 Classes and Polymorphism.ipynb\n",
      "File L02 Variables and Expressions.ipynb\n",
      "File L07 Functions Continued.ipynb\n",
      "File L16 Exceptions and Unit Testing.ipynb\n",
      "File out.csv\n",
      "File temp.txt\n",
      "File L-- Syllabus.ipynb\n",
      "File figures\n",
      "File L15 More Functions and Recursion.ipynb\n",
      "File L14 Inheritance.ipynb\n",
      "File test.txt\n",
      "File .ipynb_checkpoints\n",
      "File zhivago.txt\n",
      "File L17 Search Algorithms.ipynb\n",
      "File Revision Session Fall 2022.ipynb\n",
      "File data\n",
      "File L12 Classes and Objects.ipynb\n",
      "File cancer_data.csv\n",
      "File L09 Tuples, Lists and Dictionaries.ipynb\n",
      "File L01 Intro.ipynb\n",
      "File local.txt\n"
     ]
    }
   ],
   "source": [
    "# Iterate through the files in your current working directory and print their names\n"
   ]
  },
  {
   "cell_type": "markdown",
   "metadata": {
    "id": "LeFOCs6H8dfE",
    "slideshow": {
     "slide_type": "slide"
    }
   },
   "source": [
    "# Getting Data from the Internet"
   ]
  },
  {
   "cell_type": "code",
   "execution_count": 1,
   "metadata": {
    "colab": {
     "base_uri": "https://localhost:8080/",
     "height": 69
    },
    "executionInfo": {
     "elapsed": 494,
     "status": "ok",
     "timestamp": 1572563503696,
     "user": {
      "displayName": "Benedict Paten",
      "photoUrl": "https://lh3.googleusercontent.com/a-/AAuE7mBMnWy8dDR7jyTHNy9tPaRx6DCyA3QKrIcuQ7R4=s64",
      "userId": "06399644931392855882"
     },
     "user_tz": 420
    },
    "id": "b-OAJZVF8iq7",
    "outputId": "6296a5bd-eb88-4ffa-e0c4-14f1de11ab57",
    "slideshow": {
     "slide_type": "fragment"
    }
   },
   "outputs": [
    {
     "name": "stdout",
     "output_type": "stream",
     "text": [
      "1,2,3\n",
      "4,5,6\n",
      "7,8,9\n"
     ]
    }
   ],
   "source": [
    "import urllib.request\n",
    "\n",
    "url = \"https://raw.githubusercontent.com/DataBiosphere/toil/master/src/toil/test/wdl/test.csv\"\n",
    "local_copy = \"local.txt\"\n",
    "\n",
    "urllib.request.urlretrieve(url, local_copy) # This function copies the thing the url points at into\n",
    "# a local file copy\n",
    "\n",
    "with open(local_copy) as fh: # Print the file\n",
    "  for line in fh:\n",
    "    print(line, end=\"\")"
   ]
  },
  {
   "cell_type": "markdown",
   "metadata": {
    "id": "jZBKbIBn9Woa",
    "slideshow": {
     "slide_type": "slide"
    }
   },
   "source": [
    "# Challenge 4: File Processing Example\n",
    "\n",
    "Here's a fairly complete worked example of doing file writing and parsing using the simplest bioinformatics format, the fasta file.\n",
    "\n",
    "A fasta file is a file that stores nucleotide (like DNA, RNA,) and amino-acid (protein) sequences.\n",
    "\n",
    "This is a code comprehension exercise, i.e. to complete the task you need to read the code and understand what it is doing. "
   ]
  },
  {
   "cell_type": "code",
   "execution_count": 14,
   "metadata": {
    "colab": {
     "base_uri": "https://localhost:8080/",
     "height": 282
    },
    "executionInfo": {
     "elapsed": 880,
     "status": "ok",
     "timestamp": 1572562678463,
     "user": {
      "displayName": "Benedict Paten",
      "photoUrl": "https://lh3.googleusercontent.com/a-/AAuE7mBMnWy8dDR7jyTHNy9tPaRx6DCyA3QKrIcuQ7R4=s64",
      "userId": "06399644931392855882"
     },
     "user_tz": 420
    },
    "id": "2YPQzixw8B1q",
    "outputId": "e2d5bde6-702d-4ca5-bca4-373e4ad1591b",
    "slideshow": {
     "slide_type": "fragment"
    }
   },
   "outputs": [],
   "source": [
    "\"\"\"\n",
    "Example creating read and write methods for fasta files.\n",
    "\n",
    "Fasta format is a dead simple text (ascii) file:\n",
    "\n",
    ">HEADER_1\n",
    "SEQUENCE_LINE_1\n",
    "SEQUENCE_LINE_2\n",
    "...\n",
    "SEQUENCE_LINE_N\n",
    ">HEADER_2\n",
    "SEQUENCE_LINE_1\n",
    "SEQUENCE_LINE_2\n",
    "...\n",
    "SEQUENCE_LINE_N\n",
    "\n",
    "Where HEADER_ lines give a string descriptor of the sequence\n",
    "and the SEQUENCE_LINE_ lines are concatenated together to form the actual \n",
    "amino-acid or nucleotide sequence.\n",
    "\"\"\"\n",
    "\n",
    "def writeFasta(fileHandle, header, sequence, sequenceLineWidth=100):\n",
    "  \"\"\" Function writes a fasta file to the given file handle.\n",
    "  \"\"\"\n",
    "  fileHandle.write('>' + header + \"\\n\") # Write the header line\n",
    "  \n",
    "  # Now write the sequence\n",
    "  for i in range(0,len(sequence),sequenceLineWidth): # Step through sequence sequenceLineWidth characters\n",
    "    # at a time\n",
    "    \n",
    "    # Write the next sequenceLineWidth chars of the sequence\n",
    "    fileHandle.write(sequence[i:i+sequenceLineWidth] + \"\\n\") \n",
    "    \n",
    "def readFasta(fileHandle):\n",
    "    \"\"\" Read a single sequence and header from a fasta file.\n",
    "    \"\"\"\n",
    "    while True:\n",
    "        # Read the header line, skipping and lines not beginning with a '>'\n",
    "        while True:  # Keep looping until we break\n",
    "            l = fileHandle.readline()\n",
    "\n",
    "            if len(l) == 0:  # If we have reached the end of the file, terminate\n",
    "                return None  # None is a standard NULL or 0 quantity used to indicate\n",
    "            # termination\n",
    "\n",
    "            if l[0] == '>':  # Is a valid header line\n",
    "                header = l[1:-1]  # Get the  header between the '>' and the '\\n'\n",
    "                break\n",
    "\n",
    "        # Now read the sequence\n",
    "        substrings = []\n",
    "        while True:\n",
    "            i = fileHandle.tell()  # tell() gives the index that the file handle is at in the file\n",
    "\n",
    "            l = fileHandle.readline()\n",
    "\n",
    "            if len(l) == 0:  # We have reached the end of the file\n",
    "                break\n",
    "\n",
    "            if l[0] == '>':  # We have encountered the start of another sequence\n",
    "                fileHandle.seek(i)  # Roll back the file handle to the point before we called readline()\n",
    "                # this is like \"undoing\" the readline() call\n",
    "                break\n",
    "\n",
    "            substrings.append(l[:-1])  # Add the line, minus the newline to substrings\n",
    "\n",
    "        yield header, \"\".join(substrings)\n",
    "\n",
    "  \n",
    "# A few test sequences\n",
    "dna_sequences = {\n",
    "    \"a_dummy_dna_string\":\"GATTACA\",\n",
    "    \"gi 556503834 ref NC_000913.3 Escherichia coli str. K-12 substr. MG1655, complete genome\":\"AGCTTTTCATTCTGACTGCAACGGGCAATATGTCTCTGTGTGGATTAAAAAAAGAGTGTCTGATAGCAGCTTCTGAACTGGTTACCTGCCGTGAGTAAATTAAAATTTTATTGACTTAGGTCACTAAATACTTTAACCAATATAGGCATAGCGCACAGACAGATAAAAATTACAGAGTACACAACATCCATGAAACGCATTAGCACCACCATTACCACCACCATCACCATTACCACAGGTAACGGTGCGGGCTGACGCGTACAGGAAACACAGAAAAAAGCCCGCACCTGACAGTGCGGGCTTTTTTTTTCGACCAAAGGTAACGAGGTAACAACCATGCGAGTGTTGAAGTTCGGCGGTACATCAGTGGCAAATGCAGAACGTTTTCTGCGTGTTGCCGATATTCTGGAAAGCAATGCCAGGCAGGGGCAGGTGGCCACCGTCCTCTCTGCCCCCGCCAAAATCACCAACCACCTGGTGGCGATGATTGAAAAAACCATTAGCGGCCAGGATGCTTTACCCAATATCAGCGATGCCGAACGTATTTTTGCCGAACTTTTGACGGGACTCGCCGCCGCCCAGCCGGGGTTCCCGCTGGCGCAATTGAAAACTTTCGTCGATCAGGAATTTGCCCAAATAAAACATGTCCTGCATGGCATTAGTTTGTTGGGGCAGTGCCCGGATAGCATCAACGCTGCGC\",\n",
    "    \"another_dummy_dna_string\":\"CGGCGCGCGTCTTTGCAGCGATGTCACGCGCCCGTATTTCCGTGGTGCTGATTACGCAATCATCTTCCGAATACAGCATCAGTTTCTGCGTTCCACAAAGCGACTGTGTGCGAGCTGAACGGGCAATGCAGGAAGAGTTC\"\n",
    "}\n",
    "\n",
    "# Challenge: \n",
    "# (1) Write the sequences in \"dna_sequences\" into a file \"fasta.fa\" using the writeFasta function, \n",
    "# for each pair in the dictionary using the key as the header and the value as the sequence\n",
    "\n",
    "# (2) Make an empty dictionary called dna_sequences_copy\n",
    "\n",
    "# (3) Read the sequences in \"fasta.fa\" using the readFasta function, putting the header:sequence pairs\n",
    "# into dna_sequences_copy\n",
    "\n",
    "\n",
    "# We can check it all worked\n",
    "assert dna_sequences == dna_sequences_copy\n"
   ]
  },
  {
   "cell_type": "markdown",
   "metadata": {
    "id": "KZP9y5sgyVm8",
    "slideshow": {
     "slide_type": "slide"
    }
   },
   "source": [
    "# Reading\n",
    "\n",
    "* Open book Chapter 13 on files: http://openbookproject.net/thinkcs/python/english3e/files.html\n",
    "\n",
    "# Homework\n",
    "\n",
    "* Go to Canvas and complete the lecture quiz, which involves completing each challenge problem\n",
    "* ZyBook Reading 11\n",
    "\n"
   ]
  },
  {
   "cell_type": "markdown",
   "metadata": {
    "slideshow": {
     "slide_type": "slide"
    }
   },
   "source": [
    "# Practice Problems"
   ]
  },
  {
   "cell_type": "code",
   "execution_count": null,
   "metadata": {
    "slideshow": {
     "slide_type": "slide"
    }
   },
   "outputs": [],
   "source": [
    "# Problem 1: Basic File Writing\n",
    "# Write a function that takes a string and writes it to a file named \"output.txt\".\n",
    "# The function should add a newline character after the string.\n",
    "\n",
    "def write_string_to_file(content):\n",
    "    pass # Code to write\n",
    "\n",
    "# Test\n",
    "test_string = \"Hello, World!\"\n",
    "write_string_to_file(test_string)\n",
    "with open(\"output.txt\", \"r\") as f:\n",
    "    assert f.read().strip() == test_string"
   ]
  },
  {
   "cell_type": "code",
   "execution_count": null,
   "metadata": {
    "slideshow": {
     "slide_type": "slide"
    }
   },
   "outputs": [],
   "source": [
    "# Problem 2: Line Counter\n",
    "# Write a function, count_lines, that counts the number of lines in a text file.\n",
    "# Empty lines should be included in the count.\n",
    "\n",
    "# Code to write\n",
    "\n",
    "# Test\n",
    "with open(\"test.txt\", \"w\") as f:\n",
    "    f.write(\"Line 1\\nLine 2\\n\\nLine 4\")\n",
    "assert count_lines(\"test.txt\") == 4"
   ]
  },
  {
   "cell_type": "code",
   "execution_count": null,
   "metadata": {
    "slideshow": {
     "slide_type": "slide"
    }
   },
   "outputs": [],
   "source": [
    "# Problem 3: Word Counter\n",
    "# Write a function, count_words, that reads a text file and returns a dictionary where:\n",
    "# - keys are words (converted to lowercase)\n",
    "# - values are the number of times each word appears\n",
    "# Words are separated by whitespace\n",
    "\n",
    "# Code to write\n",
    "\n",
    "# Test\n",
    "with open(\"words.txt\", \"w\") as f:\n",
    "    f.write(\"The cat and the dog and THE CAT\")\n",
    "expected = {\"the\": 3, \"cat\": 2, \"and\": 2, \"dog\": 1}\n",
    "assert count_words(\"words.txt\") == expected"
   ]
  },
  {
   "cell_type": "code",
   "execution_count": null,
   "metadata": {
    "slideshow": {
     "slide_type": "slide"
    }
   },
   "outputs": [],
   "source": [
    "# Problem 4: File Appender with Line Numbers\n",
    "# Write a function, append_numbered_lines, that appends numbered lines to a file.\n",
    "# If the file exists, read it first to find the number of lines and continue numbering from the last line number.\n",
    "# The function should create the file if it doesn't exist.\n",
    "# Return the total number of lines after appending.\n",
    "\n",
    "# Write your code here\n",
    "\n",
    "\n",
    "# Test\n",
    "test_lines = [\"First line\", \"Second line\"]\n",
    "total_lines = append_numbered_lines(\"numbered.txt\", test_lines)\n",
    "assert total_lines == 2\n",
    "more_lines = [\"Third line\"]\n",
    "total_lines = append_numbered_lines(\"numbered.txt\", more_lines)\n",
    "assert total_lines == 3\n",
    "with open(\"numbered.txt\", \"r\") as f:\n",
    "    assert f.read() == \"1 First Line\\n2 Second Line\\n3 Third Line\\n\""
   ]
  },
  {
   "cell_type": "code",
   "execution_count": null,
   "metadata": {
    "slideshow": {
     "slide_type": "slide"
    }
   },
   "outputs": [],
   "source": [
    "# Problem 5: Binary File Copier\n",
    "# Write a function, copy_binary_file, that copies a binary file in chunks and returns the total bytes copied.\n",
    "# Use a chunk size of 1024 bytes.\n",
    "\n",
    "# Code to write\n",
    "\n",
    "# Test\n",
    "# Create a test binary file\n",
    "with open(\"source.bin\", \"wb\") as f:\n",
    "    f.write(b\"Binary content\" * 100)  # Create some binary content\n",
    "\n",
    "bytes_copied = copy_binary_file(\"source.bin\", \"destination.bin\")\n",
    "assert bytes_copied > 0  # Should return positive number of bytes copied\n",
    "\n",
    "# Verify files are identical\n",
    "with open(\"source.bin\", \"rb\") as f1, open(\"destination.bin\", \"rb\") as f2:\n",
    "    assert f1.read() == f2.read()  # Content should match"
   ]
  }
 ],
 "metadata": {
  "celltoolbar": "Slideshow",
  "colab": {
   "collapsed_sections": [],
   "name": "L11 Files.ipynb",
   "provenance": []
  },
  "kernelspec": {
   "display_name": "Python 3",
   "language": "python",
   "name": "python3"
  },
  "language_info": {
   "codemirror_mode": {
    "name": "ipython",
    "version": 3
   },
   "file_extension": ".py",
   "mimetype": "text/x-python",
   "name": "python",
   "nbconvert_exporter": "python",
   "pygments_lexer": "ipython3",
   "version": "3.9.16"
  }
 },
 "nbformat": 4,
 "nbformat_minor": 1
}
