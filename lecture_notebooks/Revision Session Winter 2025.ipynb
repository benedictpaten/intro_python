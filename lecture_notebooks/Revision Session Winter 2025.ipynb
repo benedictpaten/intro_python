{
 "cells": [
  {
   "cell_type": "code",
   "execution_count": null,
   "id": "635c8462",
   "metadata": {},
   "outputs": [],
   "source": [
    "# Revision session - Winter 2025\n",
    "\n",
    "# Topics to cover:\n",
    "\n",
    "# Loops and sequences\n",
    "# Generators\n",
    "# Composition vs. inheritence \n",
    "# Files (opening, reading, etc.)\n",
    "# Classes\n",
    "# Recursion\n",
    "# Algorithms, specifically linear and binary search"
   ]
  },
  {
   "cell_type": "code",
   "execution_count": 5,
   "id": "edb11ffd",
   "metadata": {},
   "outputs": [
    {
     "name": "stdout",
     "output_type": "stream",
     "text": [
      "0 1 2 3 4 5 6 7 8 9 a list of strings a long string"
     ]
    }
   ],
   "source": [
    "# Loops and sequences\n",
    "\n",
    "x = range(10)  # this is the same as range(0, 10, 1) (start, end, step)\n",
    "\n",
    "for i in x:\n",
    "    print(i, end=\" \") # This is going to print each number in x in turn, e.g. 1,2, 3, ... 9\n",
    "    \n",
    "# x doesn't have to be a sequence of numbers \n",
    "x = [ \"a\", \"list\", \"of\", \"strings\"]\n",
    "\n",
    "for i in x: \n",
    "    print(i, end=\" \") # This is going to print each string in x in turn\n",
    "    \n",
    "x = \"a long string\"\n",
    "\n",
    "for i in x:\n",
    "    print(i, end=\" \")  # This will print each character in the sequence in turn (one one line)\n",
    "    \n",
    "# For loops are very general, they can iterate over any generator-able sequence\n",
    "# e.g. keys in a dictionary, items in a set, etc."
   ]
  },
  {
   "cell_type": "code",
   "execution_count": null,
   "id": "bb9c92c1",
   "metadata": {},
   "outputs": [],
   "source": [
    "# While loops\n",
    "\n",
    "for i in range(10): # each number from 0 through 9\n",
    "    print(i)\n",
    "\n",
    "# Is the same as:    \n",
    "i = 0\n",
    "while i < 10: \n",
    "    print(i)\n",
    "    i += 1  # In a while loop you generally update a loop variable\n",
    "    \n",
    "# While can be paired with break - lets do the same thing\n",
    "# This is the same as the above\n",
    "i = 0\n",
    "while True:\n",
    "    if i >= 10:\n",
    "        break\n",
    "    print(i)\n",
    "    i += 1"
   ]
  },
  {
   "cell_type": "code",
   "execution_count": 3,
   "id": "6efb2e78",
   "metadata": {},
   "outputs": [
    {
     "name": "stdout",
     "output_type": "stream",
     "text": [
      "The next cube number: 0\n",
      "The next cube number: 1\n",
      "The next cube number: 8\n",
      "The next cube number: 27\n",
      "The next cube number: 64\n",
      "The next cube number: 125\n",
      "The next cube number: 216\n",
      "The next cube number: 343\n",
      "The next cube number: 512\n",
      "The next cube number: 729\n"
     ]
    }
   ],
   "source": [
    "# Generators\n",
    "\n",
    "# A generator for the first i cube numbers\n",
    "\n",
    "def cube_numbers(i):\n",
    "    \"\"\" A generator function to create cube numbers\"\"\"\n",
    "    for j in range(i):\n",
    "        yield j ** 3 # generate the next cube number\n",
    "        \n",
    "\n",
    "for x in cube_numbers(10): # Exercising our generator function\n",
    "    print(f\"The next cube number: {x}\")"
   ]
  },
  {
   "cell_type": "code",
   "execution_count": null,
   "id": "85dac4af",
   "metadata": {},
   "outputs": [],
   "source": [
    "# Composition vs. inheritence \n",
    "\n",
    "# inheritence generally is used when the relationship between \n",
    "# objects is an \"is a\" relationship\n",
    "# for example a \"hand\" in a game of cards \"is a\" kind of \"deck\"\n",
    "\n",
    "# composition generally is used when the relationship between \n",
    "# objects is a \"has a\" one\n",
    "# e.g. a line \"has a\" pair of points"
   ]
  },
  {
   "cell_type": "code",
   "execution_count": null,
   "id": "0be60c2f",
   "metadata": {},
   "outputs": [],
   "source": [
    "# Files (opening, reading, etc.)\n",
    "\n",
    "## Write the first ten square numbers to a file called \"squares.txt\", \n",
    "## then read the numbers back from the file and check the read numbers are as expected\n",
    "\n",
    "# This writes the numbers in the file\n",
    "with open(\"squares.txt\", \"w\") as f:\n",
    "    for i in range(10):\n",
    "        f.write(f\"{i*i}\\n\") # write a square number on a line\n",
    "        \n",
    "# Now do the reading\n",
    "l = []\n",
    "with open(\"squares.txt\", \"r\") as f: \n",
    "    for line in f:\n",
    "        l.append(int(line)) # Add the square number to a list\n",
    "        \n",
    "assert l == [i*i for i in range(10)]  # Check we got the first ten square numbers"
   ]
  },
  {
   "cell_type": "code",
   "execution_count": null,
   "id": "eccfc73f",
   "metadata": {},
   "outputs": [],
   "source": [
    "# Classes\n",
    "\n",
    "class Foo: #(any_thing_you_are_inheriting_from):\n",
    "    \"\"\" The class docstring goes immediately below the class definition line \"\"\"\n",
    "    \n",
    "    # class variables are defined outside of the constructor\n",
    "    shared_variable = 10 # This is a class variable, it is shared by all instances of the class\n",
    "    \n",
    "    def __init__(self, args):\n",
    "        \"\"\" Here's where you define variables for the class \"\"\"\n",
    "        self.args = args # create a self.args variable\n",
    "        \n",
    "    def a_method(self): # methods always start with self\n",
    "        return self.args\n",
    "    \n",
    "    def __str__(self):\n",
    "        \"\"\" Converts the object into a string representation \"\"\"\n",
    "        return str(self.args)\n",
    "    \n",
    "    def __eq__(self, other):\n",
    "        \"\"\" Defines the behavior of == \"\"\"\n",
    "        return self.args == other.args\n",
    "    \n",
    "    # etc....\n",
    "    \n",
    "# Know how to create objects of a given class (aka instances of the class)\n",
    "f = Foo(\"here is an argument\")\n",
    "print(f)\n"
   ]
  },
  {
   "cell_type": "code",
   "execution_count": null,
   "id": "48ebaca9",
   "metadata": {},
   "outputs": [],
   "source": [
    "# Recursion\n",
    "\n",
    "# recursion - when the function either directly or indirectly calls itself\n",
    "\n",
    "# Example - sorting\n",
    "\n",
    "def recursive_sort(l):\n",
    "    \"\"\" Writing a function to sort l recursively \"\"\"\n",
    "    # how to sort a list:\n",
    "    # First, if list is empty, nothing to sort, so return l\n",
    "    if len(l) == 0:\n",
    "        return l\n",
    "    \n",
    "    # otherwise, find minimum element of l, call it i\n",
    "    i = min(l)\n",
    "    \n",
    "    # remove i from l\n",
    "    l.remove(i)\n",
    "    \n",
    "    # call the function recursively to sort the smaller list (l minus i)\n",
    "    l = recursive_sort(l)\n",
    "    \n",
    "    # prepend i to the smaller list and return\n",
    "    return [i] + l\n",
    "    \n",
    "    "
   ]
  },
  {
   "cell_type": "code",
   "execution_count": null,
   "id": "ab2c9fb9",
   "metadata": {},
   "outputs": [],
   "source": [
    "# Algorithms, specifically linear and binary search\n",
    "\n",
    "# an algorithm - a recipe of instructions to perform some well defined task\n",
    "\n",
    "# pseudocode - a natural language (e.g. English) description of the algorithm as a series\n",
    "# of computer instructions\n",
    "\n",
    "# Big-O notation, i.e. O(N), short-hand for the WORST CASE number of operations that an algorithm\n",
    "# takes to run\n",
    "\n",
    "# linear search - has O(N) time\n",
    "def linear(text, word):\n",
    "    for i in text: # for each word in the text\n",
    "        if i == word: # if we found the search word in out text\n",
    "            return True\n",
    "    return False\n",
    "\n",
    "\n",
    "# binary search: way of making search on an ordered list O(log(N)) time - go see the notes\n",
    "\n"
   ]
  }
 ],
 "metadata": {
  "kernelspec": {
   "display_name": "intro_python_env",
   "language": "python",
   "name": "intro_python_env"
  },
  "language_info": {
   "codemirror_mode": {
    "name": "ipython",
    "version": 3
   },
   "file_extension": ".py",
   "mimetype": "text/x-python",
   "name": "python",
   "nbconvert_exporter": "python",
   "pygments_lexer": "ipython3",
   "version": "3.11.11"
  }
 },
 "nbformat": 4,
 "nbformat_minor": 5
}
