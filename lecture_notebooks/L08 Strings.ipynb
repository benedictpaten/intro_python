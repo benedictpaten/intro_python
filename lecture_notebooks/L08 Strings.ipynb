{
 "cells": [
  {
   "cell_type": "markdown",
   "metadata": {
    "id": "5UyFJYXOx-WH",
    "slideshow": {
     "slide_type": "slide"
    }
   },
   "source": [
    "# Lecture 8 - Strings (https://bit.ly/intro_python_08)\n",
    "\n",
    "* Strings:\n",
    "  * String operators\n",
    "  * Length function\n",
    "  * Slicing\n",
    "      * Negative coordinates\n",
    "      * Negative slices\n",
    "  * Immutability\n",
    "  * String comparison\n",
    "  * For loops\n",
    "  * In operator\n",
    "  * Convenience functions\n",
    "    * Find\n",
    "    * Split\n",
    "    * Join\n",
    "    * etc.\n",
    "  * Format method and other ways to do string substitution"
   ]
  },
  {
   "cell_type": "markdown",
   "metadata": {
    "id": "s2jcff0wgAJZ",
    "slideshow": {
     "slide_type": "slide"
    }
   },
   "source": [
    "# Strings Revisited\n",
    "\n",
    "We're now going to work through a bunch more things you can do with strings. Some of this is pretty dry, but you will need to remember it to be a good Python programmer"
   ]
  },
  {
   "cell_type": "markdown",
   "metadata": {
    "id": "o6vwDEdxoeow",
    "slideshow": {
     "slide_type": "slide"
    }
   },
   "source": [
    "# String operators\n",
    "\n",
    "Python provides some surprising ways to manipulate strings"
   ]
  },
  {
   "cell_type": "code",
   "execution_count": 1,
   "metadata": {
    "colab": {
     "base_uri": "https://localhost:8080/",
     "height": 34
    },
    "executionInfo": {
     "elapsed": 472,
     "status": "ok",
     "timestamp": 1571351590922,
     "user": {
      "displayName": "Benedict Paten",
      "photoUrl": "https://lh3.googleusercontent.com/a-/AAuE7mBMnWy8dDR7jyTHNy9tPaRx6DCyA3QKrIcuQ7R4=s64",
      "userId": "06399644931392855882"
     },
     "user_tz": 420
    },
    "id": "08DGFMoYo5Y8",
    "outputId": "89071984-6be2-43d8-9ecb-de11985e8352",
    "slideshow": {
     "slide_type": "subslide"
    }
   },
   "outputs": [
    {
     "name": "stdout",
     "output_type": "stream",
     "text": [
      "Let'saddtogetherstrings\n"
     ]
    }
   ],
   "source": [
    "# You can concatenate strings together (we saw this before, but as a reminder)\n",
    "s = \"Let's\" + \"add\" + \"together\" + \"strings\"\n",
    "\n",
    "print(s) # Note it just puts them one after the other \n",
    "# (i.e. it doesn't do any whitesppace addition)"
   ]
  },
  {
   "cell_type": "code",
   "execution_count": null,
   "metadata": {
    "colab": {
     "base_uri": "https://localhost:8080/",
     "height": 34
    },
    "executionInfo": {
     "elapsed": 496,
     "status": "ok",
     "timestamp": 1571351603349,
     "user": {
      "displayName": "Benedict Paten",
      "photoUrl": "https://lh3.googleusercontent.com/a-/AAuE7mBMnWy8dDR7jyTHNy9tPaRx6DCyA3QKrIcuQ7R4=s64",
      "userId": "06399644931392855882"
     },
     "user_tz": 420
    },
    "id": "gAuriJBVokuD",
    "outputId": "e660924e-c294-4ef3-bbd0-381f58fa75e8",
    "slideshow": {
     "slide_type": "subslide"
    }
   },
   "outputs": [
    {
     "name": "stdout",
     "output_type": "stream",
     "text": [
      "HelloHelloHelloHelloHelloHelloHelloHelloHelloHello\n"
     ]
    }
   ],
   "source": [
    "s = \"Hello\" * 10 # The multiplication operator allows you to make a \n",
    "# a sequence of strings\n",
    "\n",
    "print(s) "
   ]
  },
  {
   "cell_type": "code",
   "execution_count": null,
   "metadata": {
    "colab": {
     "base_uri": "https://localhost:8080/",
     "height": 184
    },
    "executionInfo": {
     "elapsed": 951,
     "status": "error",
     "timestamp": 1571351625506,
     "user": {
      "displayName": "Benedict Paten",
      "photoUrl": "https://lh3.googleusercontent.com/a-/AAuE7mBMnWy8dDR7jyTHNy9tPaRx6DCyA3QKrIcuQ7R4=s64",
      "userId": "06399644931392855882"
     },
     "user_tz": 420
    },
    "id": "oiRGSeFqpTmI",
    "outputId": "4ad704ae-26cf-4665-a3ab-69a582e39272",
    "slideshow": {
     "slide_type": "subslide"
    }
   },
   "outputs": [
    {
     "ename": "TypeError",
     "evalue": "ignored",
     "output_type": "error",
     "traceback": [
      "\u001b[0;31m---------------------------------------------------------------------------\u001b[0m",
      "\u001b[0;31mTypeError\u001b[0m                                 Traceback (most recent call last)",
      "\u001b[0;32m<ipython-input-10-26a8f8d89675>\u001b[0m in \u001b[0;36m<module>\u001b[0;34m()\u001b[0m\n\u001b[1;32m      1\u001b[0m \u001b[0;34m\u001b[0m\u001b[0m\n\u001b[0;32m----> 2\u001b[0;31m \u001b[0ms\u001b[0m \u001b[0;34m=\u001b[0m \u001b[0;34m\"You can't\"\u001b[0m \u001b[0;34m-\u001b[0m \u001b[0;34m\"subtract strings\"\u001b[0m \u001b[0;31m# What would this even do?\u001b[0m\u001b[0;34m\u001b[0m\u001b[0;34m\u001b[0m\u001b[0m\n\u001b[0m",
      "\u001b[0;31mTypeError\u001b[0m: unsupported operand type(s) for -: 'str' and 'str'"
     ]
    }
   ],
   "source": [
    "# Note this doesn't work\n",
    "\n",
    "s = \"You can't\" - \"subtract strings\" # What would this even do?"
   ]
  },
  {
   "cell_type": "code",
   "execution_count": null,
   "metadata": {
    "colab": {
     "base_uri": "https://localhost:8080/",
     "height": 184
    },
    "executionInfo": {
     "elapsed": 526,
     "status": "error",
     "timestamp": 1571351645757,
     "user": {
      "displayName": "Benedict Paten",
      "photoUrl": "https://lh3.googleusercontent.com/a-/AAuE7mBMnWy8dDR7jyTHNy9tPaRx6DCyA3QKrIcuQ7R4=s64",
      "userId": "06399644931392855882"
     },
     "user_tz": 420
    },
    "id": "J8DSG_EIpeuC",
    "outputId": "ceaf2725-c593-4d13-a659-b6d73e6e8012",
    "slideshow": {
     "slide_type": "subslide"
    }
   },
   "outputs": [
    {
     "ename": "TypeError",
     "evalue": "ignored",
     "output_type": "error",
     "traceback": [
      "\u001b[0;31m---------------------------------------------------------------------------\u001b[0m",
      "\u001b[0;31mTypeError\u001b[0m                                 Traceback (most recent call last)",
      "\u001b[0;32m<ipython-input-11-f5f5d23136f9>\u001b[0m in \u001b[0;36m<module>\u001b[0;34m()\u001b[0m\n\u001b[1;32m      1\u001b[0m \u001b[0;34m\u001b[0m\u001b[0m\n\u001b[0;32m----> 2\u001b[0;31m \u001b[0ms\u001b[0m \u001b[0;34m=\u001b[0m \u001b[0;34m\"You can't\"\u001b[0m \u001b[0;34m/\u001b[0m \u001b[0;34m\"divide strings either\"\u001b[0m\u001b[0;34m\u001b[0m\u001b[0;34m\u001b[0m\u001b[0m\n\u001b[0m",
      "\u001b[0;31mTypeError\u001b[0m: unsupported operand type(s) for /: 'str' and 'str'"
     ]
    }
   ],
   "source": [
    "# Nor does this\n",
    "\n",
    "s = \"You can't\" / \"divide strings either\""
   ]
  },
  {
   "cell_type": "markdown",
   "metadata": {
    "id": "bqg0xuRkaRrm",
    "slideshow": {
     "slide_type": "slide"
    }
   },
   "source": [
    "# Length function\n",
    "\n",
    "The length of a string is given by the len() function"
   ]
  },
  {
   "cell_type": "code",
   "execution_count": null,
   "metadata": {
    "colab": {
     "base_uri": "https://localhost:8080/",
     "height": 34
    },
    "executionInfo": {
     "elapsed": 613,
     "status": "ok",
     "timestamp": 1571351680541,
     "user": {
      "displayName": "Benedict Paten",
      "photoUrl": "https://lh3.googleusercontent.com/a-/AAuE7mBMnWy8dDR7jyTHNy9tPaRx6DCyA3QKrIcuQ7R4=s64",
      "userId": "06399644931392855882"
     },
     "user_tz": 420
    },
    "id": "za5PJOoKTkHu",
    "outputId": "37e7c9c0-b74a-4631-b6dd-673ce89fe22d",
    "slideshow": {
     "slide_type": "fragment"
    }
   },
   "outputs": [
    {
     "data": {
      "text/plain": [
       "13"
      ]
     },
     "execution_count": 12,
     "metadata": {
      "tags": []
     },
     "output_type": "execute_result"
    }
   ],
   "source": [
    "s = \"A long string\"\n",
    "\n",
    "len(s)"
   ]
  },
  {
   "cell_type": "code",
   "execution_count": null,
   "metadata": {
    "colab": {
     "base_uri": "https://localhost:8080/",
     "height": 34
    },
    "executionInfo": {
     "elapsed": 931,
     "status": "ok",
     "timestamp": 1571351691922,
     "user": {
      "displayName": "Benedict Paten",
      "photoUrl": "https://lh3.googleusercontent.com/a-/AAuE7mBMnWy8dDR7jyTHNy9tPaRx6DCyA3QKrIcuQ7R4=s64",
      "userId": "06399644931392855882"
     },
     "user_tz": 420
    },
    "id": "VAJSHL9ST16Y",
    "outputId": "b9c0f3ff-8af0-4f0a-dfdc-a49214cce829",
    "slideshow": {
     "slide_type": "fragment"
    }
   },
   "outputs": [
    {
     "data": {
      "text/plain": [
       "0"
      ]
     },
     "execution_count": 13,
     "metadata": {
      "tags": []
     },
     "output_type": "execute_result"
    }
   ],
   "source": [
    "s = \"\" # The empty string case\n",
    "\n",
    "len(s)"
   ]
  },
  {
   "cell_type": "markdown",
   "metadata": {
    "id": "sWnL_RBgaJ-j",
    "slideshow": {
     "slide_type": "slide"
    }
   },
   "source": [
    "# Selecting Characters from a String\n",
    "\n"
   ]
  },
  {
   "cell_type": "code",
   "execution_count": null,
   "metadata": {
    "colab": {
     "base_uri": "https://localhost:8080/",
     "height": 34
    },
    "executionInfo": {
     "elapsed": 528,
     "status": "ok",
     "timestamp": 1571351744673,
     "user": {
      "displayName": "Benedict Paten",
      "photoUrl": "https://lh3.googleusercontent.com/a-/AAuE7mBMnWy8dDR7jyTHNy9tPaRx6DCyA3QKrIcuQ7R4=s64",
      "userId": "06399644931392855882"
     },
     "user_tz": 420
    },
    "id": "3567I2ZXaLm_",
    "outputId": "16b56d75-2883-4717-c508-10e5aa2d03a4",
    "slideshow": {
     "slide_type": "fragment"
    }
   },
   "outputs": [
    {
     "data": {
      "text/plain": [
       "'A'"
      ]
     },
     "execution_count": 14,
     "metadata": {
      "tags": []
     },
     "output_type": "execute_result"
    }
   ],
   "source": [
    "s = \"A long string\"\n",
    "\n",
    "s[0] # Let's select the first character"
   ]
  },
  {
   "cell_type": "code",
   "execution_count": null,
   "metadata": {
    "colab": {
     "base_uri": "https://localhost:8080/",
     "height": 34
    },
    "executionInfo": {
     "elapsed": 548,
     "status": "ok",
     "timestamp": 1571351753450,
     "user": {
      "displayName": "Benedict Paten",
      "photoUrl": "https://lh3.googleusercontent.com/a-/AAuE7mBMnWy8dDR7jyTHNy9tPaRx6DCyA3QKrIcuQ7R4=s64",
      "userId": "06399644931392855882"
     },
     "user_tz": 420
    },
    "id": "HZI5w7gVqDKK",
    "outputId": "f398b9cb-1141-43e3-fee0-4c5cda1366e1",
    "slideshow": {
     "slide_type": "fragment"
    }
   },
   "outputs": [
    {
     "data": {
      "text/plain": [
       "' '"
      ]
     },
     "execution_count": 15,
     "metadata": {
      "tags": []
     },
     "output_type": "execute_result"
    }
   ],
   "source": [
    "s[1] # The second character"
   ]
  },
  {
   "cell_type": "code",
   "execution_count": null,
   "metadata": {
    "colab": {
     "base_uri": "https://localhost:8080/",
     "height": 184
    },
    "executionInfo": {
     "elapsed": 927,
     "status": "error",
     "timestamp": 1571351774857,
     "user": {
      "displayName": "Benedict Paten",
      "photoUrl": "https://lh3.googleusercontent.com/a-/AAuE7mBMnWy8dDR7jyTHNy9tPaRx6DCyA3QKrIcuQ7R4=s64",
      "userId": "06399644931392855882"
     },
     "user_tz": 420
    },
    "id": "c8mTFDBTRSTE",
    "outputId": "a24e7c0c-5f59-49bd-a5ad-ac0f63387842",
    "slideshow": {
     "slide_type": "fragment"
    }
   },
   "outputs": [
    {
     "ename": "IndexError",
     "evalue": "ignored",
     "output_type": "error",
     "traceback": [
      "\u001b[0;31m---------------------------------------------------------------------------\u001b[0m",
      "\u001b[0;31mIndexError\u001b[0m                                Traceback (most recent call last)",
      "\u001b[0;32m<ipython-input-17-31579076df0e>\u001b[0m in \u001b[0;36m<module>\u001b[0;34m()\u001b[0m\n\u001b[0;32m----> 1\u001b[0;31m \u001b[0ms\u001b[0m\u001b[0;34m[\u001b[0m\u001b[0;36m100\u001b[0m\u001b[0;34m]\u001b[0m \u001b[0;31m# Trying to address a character beyond the length of the string creates\u001b[0m\u001b[0;34m\u001b[0m\u001b[0;34m\u001b[0m\u001b[0m\n\u001b[0m\u001b[1;32m      2\u001b[0m \u001b[0;31m# an error\u001b[0m\u001b[0;34m\u001b[0m\u001b[0;34m\u001b[0m\u001b[0;34m\u001b[0m\u001b[0m\n",
      "\u001b[0;31mIndexError\u001b[0m: string index out of range"
     ]
    }
   ],
   "source": [
    "s[100] # Trying to address a character beyond the length of the string creates \n",
    "# an error"
   ]
  },
  {
   "cell_type": "markdown",
   "metadata": {
    "id": "tHjXHw2xqGCQ",
    "slideshow": {
     "slide_type": "subslide"
    }
   },
   "source": [
    "**Quick but extremely vital reminder: Python indexes sequences from 0 (zero-based coordinates)**\n",
    "\n",
    "So for a string s of length n, s[0] is the first character, s[1] is the second, etc., and s[n-1] is the last\n",
    "\n",
    "This is true for strings and all sequences, including lists (as we saw). \n",
    "\n",
    "This is consistent with functions like range() and the previous for loop iterations we saw."
   ]
  },
  {
   "cell_type": "code",
   "execution_count": null,
   "metadata": {
    "colab": {
     "base_uri": "https://localhost:8080/",
     "height": 34
    },
    "executionInfo": {
     "elapsed": 1003,
     "status": "ok",
     "timestamp": 1571351884825,
     "user": {
      "displayName": "Benedict Paten",
      "photoUrl": "https://lh3.googleusercontent.com/a-/AAuE7mBMnWy8dDR7jyTHNy9tPaRx6DCyA3QKrIcuQ7R4=s64",
      "userId": "06399644931392855882"
     },
     "user_tz": 420
    },
    "id": "8p0pkdE2tUJX",
    "outputId": "b5c0e9dc-3620-4aa6-f1f5-be4889706f88",
    "slideshow": {
     "slide_type": "subslide"
    }
   },
   "outputs": [
    {
     "data": {
      "text/plain": [
       "str"
      ]
     },
     "execution_count": 19,
     "metadata": {
      "tags": []
     },
     "output_type": "execute_result"
    }
   ],
   "source": [
    "# It is also important to realise that a character is just another string in Python\n",
    "\n",
    "# In some languages, like C/C++, individual characters are not strings but have a different\n",
    "# type, but Python being a high-level language just treats them as a single character string\n",
    "\n",
    "type(s[0])"
   ]
  },
  {
   "cell_type": "code",
   "execution_count": null,
   "metadata": {
    "colab": {
     "base_uri": "https://localhost:8080/",
     "height": 34
    },
    "executionInfo": {
     "elapsed": 969,
     "status": "ok",
     "timestamp": 1571351899567,
     "user": {
      "displayName": "Benedict Paten",
      "photoUrl": "https://lh3.googleusercontent.com/a-/AAuE7mBMnWy8dDR7jyTHNy9tPaRx6DCyA3QKrIcuQ7R4=s64",
      "userId": "06399644931392855882"
     },
     "user_tz": 420
    },
    "id": "zlvyM0IIUAH-",
    "outputId": "a974c578-985a-40d0-e95c-6f8add8f2eb6",
    "slideshow": {
     "slide_type": "subslide"
    }
   },
   "outputs": [
    {
     "data": {
      "text/plain": [
       "1"
      ]
     },
     "execution_count": 20,
     "metadata": {
      "tags": []
     },
     "output_type": "execute_result"
    }
   ],
   "source": [
    "len(s[0]) # It is a string with length 1"
   ]
  },
  {
   "cell_type": "markdown",
   "metadata": {
    "id": "OzcORCoaal3H",
    "slideshow": {
     "slide_type": "slide"
    }
   },
   "source": [
    "# Slices\n",
    "\n",
    "You will often find you want to work with substrings: sub-portions of a string. Python is really nice for this."
   ]
  },
  {
   "cell_type": "code",
   "execution_count": null,
   "metadata": {
    "colab": {
     "base_uri": "https://localhost:8080/",
     "height": 34
    },
    "executionInfo": {
     "elapsed": 951,
     "status": "ok",
     "timestamp": 1571351955970,
     "user": {
      "displayName": "Benedict Paten",
      "photoUrl": "https://lh3.googleusercontent.com/a-/AAuE7mBMnWy8dDR7jyTHNy9tPaRx6DCyA3QKrIcuQ7R4=s64",
      "userId": "06399644931392855882"
     },
     "user_tz": 420
    },
    "id": "FXQon9_Ts2UE",
    "outputId": "6b31384c-5b29-4c8a-91bf-fcfd32960c88",
    "slideshow": {
     "slide_type": "fragment"
    }
   },
   "outputs": [
    {
     "data": {
      "text/plain": [
       "'A long'"
      ]
     },
     "execution_count": 21,
     "metadata": {
      "tags": []
     },
     "output_type": "execute_result"
    }
   ],
   "source": [
    "# Beyond indexing single characters, you can slice strings to create substrings\n",
    "\n",
    "s = \"A long string\"\n",
    "\n",
    "s[0:6] # The 'prefix' substring of the first 6 characters"
   ]
  },
  {
   "cell_type": "markdown",
   "metadata": {
    "id": "x8yL2mMpuUEy",
    "slideshow": {
     "slide_type": "fragment"
    }
   },
   "source": [
    "Slices use zero-based half open interval coordinates, so for a slice s[x:y], x is the first indexed character and y is the character after the last character in the slice"
   ]
  },
  {
   "cell_type": "code",
   "execution_count": 4,
   "metadata": {
    "colab": {
     "base_uri": "https://localhost:8080/",
     "height": 34
    },
    "executionInfo": {
     "elapsed": 521,
     "status": "ok",
     "timestamp": 1571352000152,
     "user": {
      "displayName": "Benedict Paten",
      "photoUrl": "https://lh3.googleusercontent.com/a-/AAuE7mBMnWy8dDR7jyTHNy9tPaRx6DCyA3QKrIcuQ7R4=s64",
      "userId": "06399644931392855882"
     },
     "user_tz": 420
    },
    "id": "aVbaXAr8QNBN",
    "outputId": "c2dff24e-7180-40ba-8624-e22b4f10b779",
    "slideshow": {
     "slide_type": "fragment"
    }
   },
   "outputs": [
    {
     "data": {
      "text/plain": [
       "''"
      ]
     },
     "execution_count": 4,
     "metadata": {},
     "output_type": "execute_result"
    }
   ],
   "source": [
    "# Zero length case\n",
    "\n",
    "s = \"A long string\"\n",
    "\n",
    "s[6:6] # The interval [6, 6) is empty"
   ]
  },
  {
   "cell_type": "code",
   "execution_count": 2,
   "metadata": {
    "colab": {
     "base_uri": "https://localhost:8080/",
     "height": 34
    },
    "executionInfo": {
     "elapsed": 513,
     "status": "ok",
     "timestamp": 1571352035771,
     "user": {
      "displayName": "Benedict Paten",
      "photoUrl": "https://lh3.googleusercontent.com/a-/AAuE7mBMnWy8dDR7jyTHNy9tPaRx6DCyA3QKrIcuQ7R4=s64",
      "userId": "06399644931392855882"
     },
     "user_tz": 420
    },
    "id": "pOjiOXjNP358",
    "outputId": "57a59e2d-d73b-4429-9831-57e57322096f",
    "slideshow": {
     "slide_type": "subslide"
    }
   },
   "outputs": [
    {
     "data": {
      "text/plain": [
       "''"
      ]
     },
     "execution_count": 2,
     "metadata": {},
     "output_type": "execute_result"
    }
   ],
   "source": [
    "# Negative length strings?\n",
    "\n",
    "s = \"A long string\"\n",
    "\n",
    "s[6:0] # If the second index occurs before the first index it won't\n",
    "# throw an error, just make a zero length (empty) string"
   ]
  },
  {
   "cell_type": "code",
   "execution_count": 4,
   "metadata": {
    "colab": {
     "base_uri": "https://localhost:8080/",
     "height": 34
    },
    "executionInfo": {
     "elapsed": 542,
     "status": "ok",
     "timestamp": 1571352096347,
     "user": {
      "displayName": "Benedict Paten",
      "photoUrl": "https://lh3.googleusercontent.com/a-/AAuE7mBMnWy8dDR7jyTHNy9tPaRx6DCyA3QKrIcuQ7R4=s64",
      "userId": "06399644931392855882"
     },
     "user_tz": 420
    },
    "id": "s4TuDS2hQHmy",
    "outputId": "0f1dd612-2f13-42e6-ec88-11bb72430481",
    "slideshow": {
     "slide_type": "subslide"
    }
   },
   "outputs": [
    {
     "data": {
      "text/plain": [
       "'A long'"
      ]
     },
     "execution_count": 4,
     "metadata": {},
     "output_type": "execute_result"
    }
   ],
   "source": [
    "# Python also gives you useful shorthand where you omit the range \n",
    "\n",
    "s[:6] # This is the same as s[0:6]\n",
    "\n",
    "# s[:n] is called a prefix of s, where n is in [0, len(s))"
   ]
  },
  {
   "cell_type": "code",
   "execution_count": 6,
   "metadata": {
    "colab": {
     "base_uri": "https://localhost:8080/",
     "height": 34
    },
    "executionInfo": {
     "elapsed": 487,
     "status": "ok",
     "timestamp": 1571352125252,
     "user": {
      "displayName": "Benedict Paten",
      "photoUrl": "https://lh3.googleusercontent.com/a-/AAuE7mBMnWy8dDR7jyTHNy9tPaRx6DCyA3QKrIcuQ7R4=s64",
      "userId": "06399644931392855882"
     },
     "user_tz": 420
    },
    "id": "S6nhDZ7VRqKn",
    "outputId": "fd1e017e-7dfa-4a60-b289-087f3c8ce231",
    "slideshow": {
     "slide_type": "subslide"
    }
   },
   "outputs": [
    {
     "data": {
      "text/plain": [
       "' string'"
      ]
     },
     "execution_count": 6,
     "metadata": {},
     "output_type": "execute_result"
    }
   ],
   "source": [
    "s[6:] # This is the same as s[6:13]\n",
    "\n",
    "# s[n:] is called a suffix of s, where n is in [0, len(s))"
   ]
  },
  {
   "cell_type": "code",
   "execution_count": 2,
   "metadata": {
    "colab": {
     "base_uri": "https://localhost:8080/",
     "height": 34
    },
    "executionInfo": {
     "elapsed": 877,
     "status": "ok",
     "timestamp": 1571352140029,
     "user": {
      "displayName": "Benedict Paten",
      "photoUrl": "https://lh3.googleusercontent.com/a-/AAuE7mBMnWy8dDR7jyTHNy9tPaRx6DCyA3QKrIcuQ7R4=s64",
      "userId": "06399644931392855882"
     },
     "user_tz": 420
    },
    "id": "SXExDmnxR6_Z",
    "outputId": "c2a2eda6-58ae-4611-e8f1-77bbbdcc66b7",
    "slideshow": {
     "slide_type": "subslide"
    }
   },
   "outputs": [
    {
     "data": {
      "text/plain": [
       "'A long string'"
      ]
     },
     "execution_count": 2,
     "metadata": {},
     "output_type": "execute_result"
    }
   ],
   "source": [
    "s[:] # This is just the whole string"
   ]
  },
  {
   "cell_type": "markdown",
   "metadata": {
    "slideshow": {
     "slide_type": "subslide"
    }
   },
   "source": [
    "You might have noticed that slicing syntax is consistent with the syntax of range.\n",
    "\n",
    "This includes having a third \"step\" coordinate:"
   ]
  },
  {
   "cell_type": "code",
   "execution_count": 2,
   "metadata": {
    "slideshow": {
     "slide_type": "fragment"
    }
   },
   "outputs": [
    {
     "data": {
      "text/plain": [
       "'Aln tig'"
      ]
     },
     "execution_count": 2,
     "metadata": {},
     "output_type": "execute_result"
    }
   ],
   "source": [
    "s[::2] # This is every second character! (step of 2)"
   ]
  },
  {
   "cell_type": "markdown",
   "metadata": {
    "slideshow": {
     "slide_type": "fragment"
    }
   },
   "source": [
    "**In general, range(x, y, z) is the same in terms of coordinates as [x:y:z]**"
   ]
  },
  {
   "cell_type": "markdown",
   "metadata": {
    "slideshow": {
     "slide_type": "subslide"
    }
   },
   "source": [
    "# Challenge 1"
   ]
  },
  {
   "cell_type": "code",
   "execution_count": 6,
   "metadata": {
    "slideshow": {
     "slide_type": "fragment"
    }
   },
   "outputs": [
    {
     "data": {
      "text/plain": [
       "'long ring'"
      ]
     },
     "execution_count": 6,
     "metadata": {},
     "output_type": "execute_result"
    }
   ],
   "source": [
    "s = \"A long string\"\n",
    "\n",
    "# Write down an expression that concatenates two slices of s to get \"long ring\"\n"
   ]
  },
  {
   "cell_type": "markdown",
   "metadata": {
    "id": "Rz9YXJGXaaO4",
    "slideshow": {
     "slide_type": "slide"
    }
   },
   "source": [
    "# Negative coordinates"
   ]
  },
  {
   "cell_type": "code",
   "execution_count": 70,
   "metadata": {
    "colab": {
     "base_uri": "https://localhost:8080/",
     "height": 34
    },
    "executionInfo": {
     "elapsed": 511,
     "status": "ok",
     "timestamp": 1571352171863,
     "user": {
      "displayName": "Benedict Paten",
      "photoUrl": "https://lh3.googleusercontent.com/a-/AAuE7mBMnWy8dDR7jyTHNy9tPaRx6DCyA3QKrIcuQ7R4=s64",
      "userId": "06399644931392855882"
     },
     "user_tz": 420
    },
    "id": "nxkh93guSgvB",
    "outputId": "708ec010-81ca-4ad3-a44d-157746517ae7",
    "slideshow": {
     "slide_type": "fragment"
    }
   },
   "outputs": [
    {
     "data": {
      "text/plain": [
       "'g'"
      ]
     },
     "execution_count": 70,
     "metadata": {},
     "output_type": "execute_result"
    }
   ],
   "source": [
    "# Negative coordinates let you slice from the other end of the string\n",
    "# (it's surprising how often this proves to be useful)\n",
    "\n",
    "s = \"A long string\"\n",
    "\n",
    "s[-1] # This is the last character of s, equivalent to  s[len(s)-1]"
   ]
  },
  {
   "cell_type": "code",
   "execution_count": null,
   "metadata": {
    "colab": {
     "base_uri": "https://localhost:8080/",
     "height": 34
    },
    "executionInfo": {
     "elapsed": 558,
     "status": "ok",
     "timestamp": 1571352182520,
     "user": {
      "displayName": "Benedict Paten",
      "photoUrl": "https://lh3.googleusercontent.com/a-/AAuE7mBMnWy8dDR7jyTHNy9tPaRx6DCyA3QKrIcuQ7R4=s64",
      "userId": "06399644931392855882"
     },
     "user_tz": 420
    },
    "id": "kZuIQwKsUqDt",
    "outputId": "2ca5e545-5375-400f-fdde-ab38759d28a8",
    "slideshow": {
     "slide_type": "fragment"
    }
   },
   "outputs": [
    {
     "data": {
      "text/plain": [
       "'n'"
      ]
     },
     "execution_count": 28,
     "metadata": {
      "tags": []
     },
     "output_type": "execute_result"
    }
   ],
   "source": [
    "s[-2] # The second to last"
   ]
  },
  {
   "cell_type": "code",
   "execution_count": 12,
   "metadata": {
    "colab": {
     "base_uri": "https://localhost:8080/",
     "height": 184
    },
    "executionInfo": {
     "elapsed": 695,
     "status": "error",
     "timestamp": 1571352215458,
     "user": {
      "displayName": "Benedict Paten",
      "photoUrl": "https://lh3.googleusercontent.com/a-/AAuE7mBMnWy8dDR7jyTHNy9tPaRx6DCyA3QKrIcuQ7R4=s64",
      "userId": "06399644931392855882"
     },
     "user_tz": 420
    },
    "id": "KljDKg0wUwMV",
    "outputId": "dba76baf-7b33-4200-cbf7-9ea3e19d7272",
    "slideshow": {
     "slide_type": "fragment"
    }
   },
   "outputs": [
    {
     "ename": "IndexError",
     "evalue": "string index out of range",
     "output_type": "error",
     "traceback": [
      "\u001b[0;31m---------------------------------------------------------------------------\u001b[0m",
      "\u001b[0;31mIndexError\u001b[0m                                Traceback (most recent call last)",
      "Cell \u001b[0;32mIn[12], line 1\u001b[0m\n\u001b[0;32m----> 1\u001b[0m \u001b[43ms\u001b[49m\u001b[43m[\u001b[49m\u001b[38;5;241;43m-\u001b[39;49m\u001b[38;5;241;43m100\u001b[39;49m\u001b[43m]\u001b[49m \u001b[38;5;66;03m# This throws an error, because it implies a character before \u001b[39;00m\n\u001b[1;32m      2\u001b[0m \u001b[38;5;66;03m# the start of the string\u001b[39;00m\n",
      "\u001b[0;31mIndexError\u001b[0m: string index out of range"
     ]
    }
   ],
   "source": [
    "s[-100] # This throws an error, because it implies a character before \n",
    "# the start of the string"
   ]
  },
  {
   "cell_type": "markdown",
   "metadata": {
    "slideshow": {
     "slide_type": "subslide"
    }
   },
   "source": [
    "# Negative slices"
   ]
  },
  {
   "cell_type": "code",
   "execution_count": null,
   "metadata": {
    "colab": {
     "base_uri": "https://localhost:8080/",
     "height": 34
    },
    "executionInfo": {
     "elapsed": 887,
     "status": "ok",
     "timestamp": 1571352262418,
     "user": {
      "displayName": "Benedict Paten",
      "photoUrl": "https://lh3.googleusercontent.com/a-/AAuE7mBMnWy8dDR7jyTHNy9tPaRx6DCyA3QKrIcuQ7R4=s64",
      "userId": "06399644931392855882"
     },
     "user_tz": 420
    },
    "id": "LsqsJTEDaAaC",
    "outputId": "4a02b6ec-59be-4bbd-9dcb-6645c2267731",
    "slideshow": {
     "slide_type": "subslide"
    }
   },
   "outputs": [
    {
     "data": {
      "text/plain": [
       "'A long strin'"
      ]
     },
     "execution_count": 31,
     "metadata": {
      "tags": []
     },
     "output_type": "execute_result"
    }
   ],
   "source": [
    "# You can also slice using negative coordinates:\n",
    "\n",
    "s[:-1] # Get the n-1 prefix "
   ]
  },
  {
   "cell_type": "code",
   "execution_count": null,
   "metadata": {
    "colab": {
     "base_uri": "https://localhost:8080/",
     "height": 34
    },
    "executionInfo": {
     "elapsed": 1032,
     "status": "ok",
     "timestamp": 1571352274143,
     "user": {
      "displayName": "Benedict Paten",
      "photoUrl": "https://lh3.googleusercontent.com/a-/AAuE7mBMnWy8dDR7jyTHNy9tPaRx6DCyA3QKrIcuQ7R4=s64",
      "userId": "06399644931392855882"
     },
     "user_tz": 420
    },
    "id": "YTAAcoA9bpLa",
    "outputId": "723a9004-97b5-4269-dfd2-136b69acabb1",
    "slideshow": {
     "slide_type": "fragment"
    }
   },
   "outputs": [
    {
     "data": {
      "text/plain": [
       "'n'"
      ]
     },
     "execution_count": 32,
     "metadata": {
      "tags": []
     },
     "output_type": "execute_result"
    }
   ],
   "source": [
    "s[-2:-1] # Get the penultimate character"
   ]
  },
  {
   "cell_type": "code",
   "execution_count": 3,
   "metadata": {
    "slideshow": {
     "slide_type": "fragment"
    }
   },
   "outputs": [
    {
     "data": {
      "text/plain": [
       "'gnirts gnol A'"
      ]
     },
     "execution_count": 3,
     "metadata": {},
     "output_type": "execute_result"
    }
   ],
   "source": [
    "s[::-1] # Reverse the string using a slice! (negative step)"
   ]
  },
  {
   "cell_type": "markdown",
   "metadata": {
    "slideshow": {
     "slide_type": "subslide"
    }
   },
   "source": [
    "Note, when you use a negative step you walk backwards from the first coordinate until just before the second coordinate.\n",
    "\n",
    "I.e. slicing works as follows in general:\n",
    " * Select starting coordinate (could use either forward or negative coordinate to select)\n",
    " * Look at step and walk forwards or backward accordingly\n",
    " * Stop just before (or after if negative step) the finishing coordinate."
   ]
  },
  {
   "cell_type": "code",
   "execution_count": 22,
   "metadata": {
    "slideshow": {
     "slide_type": "fragment"
    }
   },
   "outputs": [
    {
     "name": "stdout",
     "output_type": "stream",
     "text": [
      "gno\n",
      "gni\n"
     ]
    }
   ],
   "source": [
    "s = \"A long string\"\n",
    "\n",
    "print(s[5:2:-1]) # Start from the sixth character, 'g' (specified by the 5), use a negative step (the -1)\n",
    "# traversing until just after the third character (the 2). Confusing, I know!!\n",
    "\n",
    "print(s[-1:-4:-1])  # Start from the last character, 'g' (specified by the -1), and walk backward to the 'i' \n",
    "# (specified by the -4)\n"
   ]
  },
  {
   "cell_type": "code",
   "execution_count": 1,
   "metadata": {
    "slideshow": {
     "slide_type": "fragment"
    }
   },
   "outputs": [
    {
     "name": "stdout",
     "output_type": "stream",
     "text": [
      "gni"
     ]
    }
   ],
   "source": [
    "# You might be wondering if you can do the same thing with range \n",
    "# (i.e. if negative coordinates work the same way with range as they work with sequence)\n",
    "\n",
    "s = \"A long string\"\n",
    "\n",
    "for i in range(-1, -4, -1):\n",
    "    print(s[i], end=\"\")"
   ]
  },
  {
   "cell_type": "markdown",
   "metadata": {
    "slideshow": {
     "slide_type": "subslide"
    }
   },
   "source": [
    "# Challenge 2"
   ]
  },
  {
   "cell_type": "code",
   "execution_count": 19,
   "metadata": {
    "slideshow": {
     "slide_type": "fragment"
    }
   },
   "outputs": [],
   "source": [
    "s = \"A long string\"\n",
    "\n",
    "# Give a slice of s that gives the reverse of the suffix \"string\" - \"gnirts\"\n",
    "\n",
    "## Hint: If you find the negative coordinates to confusing, try:\n",
    "# select the last character in \"string\" (the g) as your first coordinate\n",
    "# then select the first character \"string\" (the s) as your second coordinate\n",
    "# then give a negative step\n"
   ]
  },
  {
   "cell_type": "markdown",
   "metadata": {
    "id": "gebDEnWXaHy-",
    "slideshow": {
     "slide_type": "slide"
    }
   },
   "source": [
    "# Immutability\n",
    "\n",
    "Strings are immutable - that is you can't edit a string, you can only make new strings by copying them."
   ]
  },
  {
   "cell_type": "code",
   "execution_count": null,
   "metadata": {
    "colab": {
     "base_uri": "https://localhost:8080/",
     "height": 236
    },
    "executionInfo": {
     "elapsed": 369,
     "status": "error",
     "timestamp": 1607651995586,
     "user": {
      "displayName": "Benedict Paten",
      "photoUrl": "https://lh3.googleusercontent.com/a-/AOh14Gh2rYrrH6yoNnUp0Oj4p4ouybc6ZcWGyPmKFtIY=s64",
      "userId": "06399644931392855882"
     },
     "user_tz": 480
    },
    "id": "9TFPmbxneasj",
    "outputId": "ecec982a-3e3a-48a9-c8a9-ee5a84951aa7",
    "slideshow": {
     "slide_type": "fragment"
    }
   },
   "outputs": [
    {
     "ename": "TypeError",
     "evalue": "ignored",
     "output_type": "error",
     "traceback": [
      "\u001b[0;31m---------------------------------------------------------------------------\u001b[0m",
      "\u001b[0;31mTypeError\u001b[0m                                 Traceback (most recent call last)",
      "\u001b[0;32m<ipython-input-22-1b6ef7990a51>\u001b[0m in \u001b[0;36m<module>\u001b[0;34m()\u001b[0m\n\u001b[1;32m      3\u001b[0m \u001b[0;31m# This doesn't work\u001b[0m\u001b[0;34m\u001b[0m\u001b[0;34m\u001b[0m\u001b[0;34m\u001b[0m\u001b[0m\n\u001b[1;32m      4\u001b[0m \u001b[0;34m\u001b[0m\u001b[0m\n\u001b[0;32m----> 5\u001b[0;31m \u001b[0mx\u001b[0m\u001b[0;34m[\u001b[0m\u001b[0;36m0\u001b[0m\u001b[0;34m]\u001b[0m \u001b[0;34m=\u001b[0m \u001b[0;34m's'\u001b[0m\u001b[0;34m\u001b[0m\u001b[0;34m\u001b[0m\u001b[0m\n\u001b[0m\u001b[1;32m      6\u001b[0m \u001b[0;34m\u001b[0m\u001b[0m\n\u001b[1;32m      7\u001b[0m \u001b[0;31m# To make s lower case you could instead do:\u001b[0m\u001b[0;34m\u001b[0m\u001b[0;34m\u001b[0m\u001b[0;34m\u001b[0m\u001b[0m\n",
      "\u001b[0;31mTypeError\u001b[0m: 'str' object does not support item assignment"
     ]
    }
   ],
   "source": [
    "x = \"Strings can't be changed\"\n",
    "\n",
    "# This doesn't work\n",
    "\n",
    "x[0] = 's'\n"
   ]
  },
  {
   "cell_type": "code",
   "execution_count": 16,
   "metadata": {
    "colab": {
     "base_uri": "https://localhost:8080/"
    },
    "executionInfo": {
     "elapsed": 660,
     "status": "ok",
     "timestamp": 1607652015782,
     "user": {
      "displayName": "Benedict Paten",
      "photoUrl": "https://lh3.googleusercontent.com/a-/AOh14Gh2rYrrH6yoNnUp0Oj4p4ouybc6ZcWGyPmKFtIY=s64",
      "userId": "06399644931392855882"
     },
     "user_tz": 480
    },
    "id": "ApnoENONhuhB",
    "outputId": "1bbb857c-aba6-4820-ee3d-ef7ff2d31b22",
    "slideshow": {
     "slide_type": "subslide"
    }
   },
   "outputs": [
    {
     "name": "stdout",
     "output_type": "stream",
     "text": [
      "The original x is still there: Strings can't be changed\n",
      "But now we have an edited copy: strings can't be changed\n"
     ]
    }
   ],
   "source": [
    "x = \"Strings can't be changed\"\n",
    "\n",
    "# This doesn't work\n",
    "\n",
    "#x[0] = 's'\n",
    "\n",
    "# To make s lower case you could instead do:\n",
    "\n",
    "y = 's' + x[1:]\n",
    "\n",
    "print(\"The original x is still there:\", x)\n",
    "print(\"But now we have an edited copy:\", y)"
   ]
  },
  {
   "cell_type": "markdown",
   "metadata": {
    "id": "Zi4EmVI5erTw",
    "slideshow": {
     "slide_type": "fragment"
    }
   },
   "source": [
    "Making things immutable has some nice, simplifying properties.\n",
    "\n",
    "Notably, immutable data is easy to share across different parts of a program, because we are guaranteed that one bit of the code can't change the data and cause unexpected behaviour in another part of the program that was not expecting these changes. \n",
    "\n",
    "**Ints, floats, booleans and strings are all immutable in Python.**"
   ]
  },
  {
   "cell_type": "markdown",
   "metadata": {
    "id": "qkZwlEdqaoN8",
    "slideshow": {
     "slide_type": "slide"
    }
   },
   "source": [
    "# String comparison\n"
   ]
  },
  {
   "cell_type": "code",
   "execution_count": 5,
   "metadata": {
    "colab": {
     "base_uri": "https://localhost:8080/"
    },
    "executionInfo": {
     "elapsed": 520,
     "status": "ok",
     "timestamp": 1607660593803,
     "user": {
      "displayName": "Benedict Paten",
      "photoUrl": "https://lh3.googleusercontent.com/a-/AOh14Gh2rYrrH6yoNnUp0Oj4p4ouybc6ZcWGyPmKFtIY=s64",
      "userId": "06399644931392855882"
     },
     "user_tz": 480
    },
    "id": "A0VG4USUb7ri",
    "outputId": "8b6fd294-6286-4235-a649-d84c34f3dca8",
    "slideshow": {
     "slide_type": "fragment"
    }
   },
   "outputs": [
    {
     "data": {
      "text/plain": [
       "True"
      ]
     },
     "execution_count": 5,
     "metadata": {},
     "output_type": "execute_result"
    }
   ],
   "source": [
    "# We saw this already, but Python compares strings lexicographically\n",
    "\n",
    "x = \"Aardvarks\"\n",
    "y = \"Apples\"\n",
    "\n",
    "x < y # This is true, because Aardvarks is before (less than) Apples in the dictionary"
   ]
  },
  {
   "cell_type": "code",
   "execution_count": 6,
   "metadata": {
    "colab": {
     "base_uri": "https://localhost:8080/"
    },
    "executionInfo": {
     "elapsed": 913,
     "status": "ok",
     "timestamp": 1607660602797,
     "user": {
      "displayName": "Benedict Paten",
      "photoUrl": "https://lh3.googleusercontent.com/a-/AOh14Gh2rYrrH6yoNnUp0Oj4p4ouybc6ZcWGyPmKFtIY=s64",
      "userId": "06399644931392855882"
     },
     "user_tz": 480
    },
    "id": "hPUwKduNcNET",
    "outputId": "cf8e00c4-b8f7-4bb0-95b8-7f53bd11e85c",
    "slideshow": {
     "slide_type": "fragment"
    }
   },
   "outputs": [
    {
     "data": {
      "text/plain": [
       "False"
      ]
     },
     "execution_count": 6,
     "metadata": {},
     "output_type": "execute_result"
    }
   ],
   "source": [
    "x == \"aardvarks\" # This is false because string comparison is case sensitive"
   ]
  },
  {
   "cell_type": "code",
   "execution_count": 7,
   "metadata": {
    "colab": {
     "base_uri": "https://localhost:8080/"
    },
    "executionInfo": {
     "elapsed": 661,
     "status": "ok",
     "timestamp": 1607660682870,
     "user": {
      "displayName": "Benedict Paten",
      "photoUrl": "https://lh3.googleusercontent.com/a-/AOh14Gh2rYrrH6yoNnUp0Oj4p4ouybc6ZcWGyPmKFtIY=s64",
      "userId": "06399644931392855882"
     },
     "user_tz": 480
    },
    "id": "xf0f4dgACvjJ",
    "outputId": "3fe4c0e9-3603-4f2d-a99d-f9248ad21ea1",
    "slideshow": {
     "slide_type": "fragment"
    }
   },
   "outputs": [
    {
     "data": {
      "text/plain": [
       "True"
      ]
     },
     "execution_count": 7,
     "metadata": {},
     "output_type": "execute_result"
    }
   ],
   "source": [
    "x.lower() == \"aardvarks\" # The call to .lower() changes the string to lower case"
   ]
  },
  {
   "cell_type": "markdown",
   "metadata": {
    "id": "Oh5MYpEKasuM",
    "slideshow": {
     "slide_type": "slide"
    }
   },
   "source": [
    "# In operator\n",
    "\n",
    "We can easily search within a string to find if it contains a given substring:"
   ]
  },
  {
   "cell_type": "code",
   "execution_count": 7,
   "metadata": {
    "colab": {
     "base_uri": "https://localhost:8080/"
    },
    "executionInfo": {
     "elapsed": 372,
     "status": "ok",
     "timestamp": 1607660733975,
     "user": {
      "displayName": "Benedict Paten",
      "photoUrl": "https://lh3.googleusercontent.com/a-/AOh14Gh2rYrrH6yoNnUp0Oj4p4ouybc6ZcWGyPmKFtIY=s64",
      "userId": "06399644931392855882"
     },
     "user_tz": 480
    },
    "id": "jAiWPfyfgP2c",
    "outputId": "6e752c1e-e5b3-423b-9e0e-6c65500b6998",
    "slideshow": {
     "slide_type": "fragment"
    }
   },
   "outputs": [
    {
     "data": {
      "text/plain": [
       "True"
      ]
     },
     "execution_count": 7,
     "metadata": {},
     "output_type": "execute_result"
    }
   ],
   "source": [
    "s = \"A long time ago, once upon a time there lived a wicked teacher\"\n",
    "\n",
    "s2 = \"once upon a time\"\n",
    "\n",
    "s2 in s"
   ]
  },
  {
   "cell_type": "code",
   "execution_count": null,
   "metadata": {
    "colab": {
     "base_uri": "https://localhost:8080/"
    },
    "executionInfo": {
     "elapsed": 354,
     "status": "ok",
     "timestamp": 1607660753284,
     "user": {
      "displayName": "Benedict Paten",
      "photoUrl": "https://lh3.googleusercontent.com/a-/AOh14Gh2rYrrH6yoNnUp0Oj4p4ouybc6ZcWGyPmKFtIY=s64",
      "userId": "06399644931392855882"
     },
     "user_tz": 480
    },
    "id": "uq4MvODPhL3p",
    "outputId": "26563365-c215-4c75-90d4-388082f5df77",
    "slideshow": {
     "slide_type": "fragment"
    }
   },
   "outputs": [
    {
     "data": {
      "text/plain": [
       "False"
      ]
     },
     "execution_count": 31,
     "metadata": {
      "tags": []
     },
     "output_type": "execute_result"
    }
   ],
   "source": [
    "# You can also use 'not in'\n",
    "\n",
    "s2 not in s\n"
   ]
  },
  {
   "cell_type": "markdown",
   "metadata": {
    "id": "Tgba77cDafAt",
    "slideshow": {
     "slide_type": "slide"
    }
   },
   "source": [
    "# For loops on strings"
   ]
  },
  {
   "cell_type": "code",
   "execution_count": null,
   "metadata": {
    "colab": {
     "base_uri": "https://localhost:8080/",
     "height": 472
    },
    "executionInfo": {
     "elapsed": 537,
     "status": "ok",
     "timestamp": 1571352985727,
     "user": {
      "displayName": "Benedict Paten",
      "photoUrl": "https://lh3.googleusercontent.com/a-/AAuE7mBMnWy8dDR7jyTHNy9tPaRx6DCyA3QKrIcuQ7R4=s64",
      "userId": "06399644931392855882"
     },
     "user_tz": 420
    },
    "id": "v_HkLmdgdAUY",
    "outputId": "134ac9d2-e5a1-4ef1-8b02-f947937d91cb",
    "slideshow": {
     "slide_type": "fragment"
    }
   },
   "outputs": [
    {
     "name": "stdout",
     "output_type": "stream",
     "text": [
      "The next letter is: a\n",
      "The next letter is: b\n",
      "The next letter is: c\n",
      "The next letter is: d\n",
      "The next letter is: e\n",
      "The next letter is: f\n",
      "The next letter is: g\n",
      "The next letter is: h\n",
      "The next letter is: i\n",
      "The next letter is: j\n",
      "The next letter is: k\n",
      "The next letter is: l\n",
      "The next letter is: m\n",
      "The next letter is: n\n",
      "The next letter is: o\n",
      "The next letter is: p\n",
      "The next letter is: q\n",
      "The next letter is: r\n",
      "The next letter is: s\n",
      "The next letter is: t\n",
      "The next letter is: u\n",
      "The next letter is: v\n",
      "The next letter is: w\n",
      "The next letter is: x\n",
      "The next letter is: y\n",
      "The next letter is: z\n"
     ]
    }
   ],
   "source": [
    "# You can easily iterate through the characters in a string\n",
    "# using a for loop:\n",
    "\n",
    "alphabet = \"abcdefghijklmnopqrstuvwxyz\"\n",
    "for i in range(len(alphabet)):\n",
    "  print(\"The next letter is:\", alphabet[i])"
   ]
  },
  {
   "cell_type": "code",
   "execution_count": null,
   "metadata": {
    "colab": {
     "base_uri": "https://localhost:8080/",
     "height": 472
    },
    "executionInfo": {
     "elapsed": 614,
     "status": "ok",
     "timestamp": 1571353037429,
     "user": {
      "displayName": "Benedict Paten",
      "photoUrl": "https://lh3.googleusercontent.com/a-/AAuE7mBMnWy8dDR7jyTHNy9tPaRx6DCyA3QKrIcuQ7R4=s64",
      "userId": "06399644931392855882"
     },
     "user_tz": 420
    },
    "id": "8ZpsDsUxaxDR",
    "outputId": "5e23846e-f782-49b2-b8cc-37d9428f4310",
    "slideshow": {
     "slide_type": "subslide"
    }
   },
   "outputs": [
    {
     "name": "stdout",
     "output_type": "stream",
     "text": [
      "The next letter is: a\n",
      "The next letter is: b\n",
      "The next letter is: c\n",
      "The next letter is: d\n",
      "The next letter is: e\n",
      "The next letter is: f\n",
      "The next letter is: g\n",
      "The next letter is: h\n",
      "The next letter is: i\n",
      "The next letter is: j\n",
      "The next letter is: k\n",
      "The next letter is: l\n",
      "The next letter is: m\n",
      "The next letter is: n\n",
      "The next letter is: o\n",
      "The next letter is: p\n",
      "The next letter is: q\n",
      "The next letter is: r\n",
      "The next letter is: s\n",
      "The next letter is: t\n",
      "The next letter is: u\n",
      "The next letter is: v\n",
      "The next letter is: w\n",
      "The next letter is: x\n",
      "The next letter is: y\n",
      "The next letter is: z\n"
     ]
    }
   ],
   "source": [
    "# Or better:\n",
    "\n",
    "for i in alphabet:\n",
    "  print(\"The next letter is:\", i) # At iteration of the loop we get the next \n",
    "  # character in the string"
   ]
  },
  {
   "cell_type": "markdown",
   "metadata": {
    "slideshow": {
     "slide_type": "subslide"
    }
   },
   "source": [
    "# Challenge 3"
   ]
  },
  {
   "cell_type": "code",
   "execution_count": null,
   "metadata": {
    "slideshow": {
     "slide_type": "fragment"
    }
   },
   "outputs": [],
   "source": [
    "s = \"this is a test\"\n",
    "\n",
    "# Use two nested loops and string slices to print out all possible non-zero length substrings of s \n",
    "# (a substring is any sequence of contiguous characters in the string)\n"
   ]
  },
  {
   "cell_type": "markdown",
   "metadata": {
    "id": "FN72wWAZDxsJ",
    "slideshow": {
     "slide_type": "slide"
    }
   },
   "source": [
    "# Examples of functions processing strings"
   ]
  },
  {
   "cell_type": "code",
   "execution_count": 14,
   "metadata": {
    "colab": {
     "base_uri": "https://localhost:8080/",
     "height": 34
    },
    "executionInfo": {
     "elapsed": 859,
     "status": "ok",
     "timestamp": 1571353224599,
     "user": {
      "displayName": "Benedict Paten",
      "photoUrl": "https://lh3.googleusercontent.com/a-/AAuE7mBMnWy8dDR7jyTHNy9tPaRx6DCyA3QKrIcuQ7R4=s64",
      "userId": "06399644931392855882"
     },
     "user_tz": 420
    },
    "id": "DzOKqdJBhhIv",
    "outputId": "f6fc4122-911e-4ca6-c91c-6167f8471195",
    "slideshow": {
     "slide_type": "fragment"
    }
   },
   "outputs": [
    {
     "name": "stdout",
     "output_type": "stream",
     "text": [
      "cmpsc\n",
      "bnn slg\n"
     ]
    }
   ],
   "source": [
    "# We can use loops to do neat processing to strings\n",
    "\n",
    "def remove_vowels(s): \n",
    "  \"\"\"Remove vowels from a string\n",
    "  \"\"\"\n",
    "  vowels = \"aeiouAEIOU\"\n",
    "  s_sans_vowels = \"\"\n",
    "  for x in s: # For each character in s\n",
    "    if x not in vowels: # If not a vowel\n",
    "      s_sans_vowels = s_sans_vowels + x # This makes a new string\n",
    "  return s_sans_vowels\n",
    "\n",
    "print(remove_vowels(\"compsci\"))\n",
    "print(remove_vowels(\"banana slug\"))\n"
   ]
  },
  {
   "cell_type": "code",
   "execution_count": 59,
   "metadata": {
    "colab": {
     "base_uri": "https://localhost:8080/"
    },
    "executionInfo": {
     "elapsed": 378,
     "status": "ok",
     "timestamp": 1607660870083,
     "user": {
      "displayName": "Benedict Paten",
      "photoUrl": "https://lh3.googleusercontent.com/a-/AOh14Gh2rYrrH6yoNnUp0Oj4p4ouybc6ZcWGyPmKFtIY=s64",
      "userId": "06399644931392855882"
     },
     "user_tz": 480
    },
    "id": "CKPugt1Cz_yP",
    "outputId": "6141939f-1c2a-4d95-9fcf-03b53a374246",
    "slideshow": {
     "slide_type": "subslide"
    }
   },
   "outputs": [
    {
     "data": {
      "text/plain": [
       "7"
      ]
     },
     "execution_count": 59,
     "metadata": {},
     "output_type": "execute_result"
    }
   ],
   "source": [
    "# Search for first instance of a character string\n",
    "\n",
    "def find_character(s, ch, start=0, end=None):\n",
    "  \"\"\"Find the first occurrence of a given character\n",
    "  in a string s and return the position, otherwise, if\n",
    "  not present, return -1\n",
    "  \"\"\"\n",
    "  for i in range(start, end if end != None else len(s)):\n",
    "    if s[i] == ch:\n",
    "      return i\n",
    "  return -1\n",
    "\n",
    "find_character(\"once upon a time\", 'o', start=4, end=10)"
   ]
  },
  {
   "cell_type": "markdown",
   "metadata": {
    "id": "V7P-krgyazTM",
    "slideshow": {
     "slide_type": "slide"
    }
   },
   "source": [
    "# Convenience functions\n",
    "\n",
    "There are several useful functions on strings that Python provides, here's a non-exhaustive look:\n",
    "\n"
   ]
  },
  {
   "cell_type": "markdown",
   "metadata": {
    "id": "g4CmyIR7D6Hn",
    "slideshow": {
     "slide_type": "subslide"
    }
   },
   "source": [
    "**find**"
   ]
  },
  {
   "cell_type": "code",
   "execution_count": 60,
   "metadata": {
    "colab": {
     "base_uri": "https://localhost:8080/",
     "height": 34
    },
    "executionInfo": {
     "elapsed": 470,
     "status": "ok",
     "timestamp": 1571353445509,
     "user": {
      "displayName": "Benedict Paten",
      "photoUrl": "https://lh3.googleusercontent.com/a-/AAuE7mBMnWy8dDR7jyTHNy9tPaRx6DCyA3QKrIcuQ7R4=s64",
      "userId": "06399644931392855882"
     },
     "user_tz": 420
    },
    "id": "VGGD7SXK1S-T",
    "outputId": "707c72c7-097e-4907-d887-1f768bc9424c",
    "slideshow": {
     "slide_type": "fragment"
    }
   },
   "outputs": [
    {
     "data": {
      "text/plain": [
       "10"
      ]
     },
     "execution_count": 60,
     "metadata": {},
     "output_type": "execute_result"
    }
   ],
   "source": [
    "# Find generalizes the find_character method above to search for substrings\n",
    "\n",
    "s = \"once upon a time there lived, a time\"\n",
    "\n",
    "s2 = \"a time\"\n",
    "\n",
    "s.find(s2) # Find first instance of s2 in s"
   ]
  },
  {
   "cell_type": "code",
   "execution_count": 4,
   "metadata": {
    "slideshow": {
     "slide_type": "fragment"
    }
   },
   "outputs": [
    {
     "name": "stdout",
     "output_type": "stream",
     "text": [
      "Found occurrence at index 10\n",
      "Found occurrence at index 30\n"
     ]
    }
   ],
   "source": [
    "# What if we wanted to find all occurrences of \"a time\" with find?\n",
    "\n",
    "s = \"once upon a time there lived, a time\"\n",
    "\n",
    "s2 = \"a time\"\n",
    "\n",
    "\n",
    "i = 0  # Counter used to slice smaller substrings of s\n",
    "j = s[i:].find(s2) # Index to store location of s2 in slice of s\n",
    "while j != -1:  # While there are still occurrences of s2 in s\n",
    "    print(f\"Found occurrence at index {i+j}\") # Report the coordinte of s2 in s, noting the i+j to give the \n",
    "    # coordinate in the full string\n",
    "    i += j+1  # Increase the coordinate of our slice to start immediately after the first character of s2 in s\n",
    "    j = s[i:].find(s2) # Find next occurrence of s2 in remainder of s\n"
   ]
  },
  {
   "cell_type": "markdown",
   "metadata": {
    "id": "QxGW1U_WNo2I",
    "slideshow": {
     "slide_type": "subslide"
    }
   },
   "source": [
    "**split**"
   ]
  },
  {
   "cell_type": "code",
   "execution_count": null,
   "metadata": {
    "colab": {
     "base_uri": "https://localhost:8080/",
     "height": 34
    },
    "executionInfo": {
     "elapsed": 923,
     "status": "ok",
     "timestamp": 1571353683649,
     "user": {
      "displayName": "Benedict Paten",
      "photoUrl": "https://lh3.googleusercontent.com/a-/AAuE7mBMnWy8dDR7jyTHNy9tPaRx6DCyA3QKrIcuQ7R4=s64",
      "userId": "06399644931392855882"
     },
     "user_tz": 420
    },
    "id": "ijLgz1C3MV7O",
    "outputId": "e7b1dbc7-a2f4-4766-9392-337ea1e3d08a",
    "slideshow": {
     "slide_type": "fragment"
    }
   },
   "outputs": [
    {
     "data": {
      "text/plain": [
       "['once', 'upon', 'a', 'time', 'there', 'lived,', 'a', 'time']"
      ]
     },
     "execution_count": 62,
     "metadata": {
      "tags": []
     },
     "output_type": "execute_result"
    }
   ],
   "source": [
    "# Split is useful for splitting strings into \"tokens\"\n",
    "\n",
    "s = \"once      upon\\ta time\\nthere lived, a time\"\n",
    "\n",
    "s.split()"
   ]
  },
  {
   "cell_type": "code",
   "execution_count": 32,
   "metadata": {
    "colab": {
     "base_uri": "https://localhost:8080/",
     "height": 34
    },
    "executionInfo": {
     "elapsed": 1138,
     "status": "ok",
     "timestamp": 1571353692209,
     "user": {
      "displayName": "Benedict Paten",
      "photoUrl": "https://lh3.googleusercontent.com/a-/AAuE7mBMnWy8dDR7jyTHNy9tPaRx6DCyA3QKrIcuQ7R4=s64",
      "userId": "06399644931392855882"
     },
     "user_tz": 420
    },
    "id": "Hr7Xein7Md75",
    "outputId": "839b82e8-28a3-4662-bcb4-6c017fc4118a",
    "slideshow": {
     "slide_type": "fragment"
    }
   },
   "outputs": [
    {
     "data": {
      "text/plain": [
       "['0.5', '0.9', '17', '20']"
      ]
     },
     "execution_count": 32,
     "metadata": {},
     "output_type": "execute_result"
    }
   ],
   "source": [
    "# You can use it to split on specific characters, \n",
    "# consider comma separated data (csv data):\n",
    "\n",
    "s = \"0.5,0.9,17,20\"\n",
    "\n",
    "s.split(\",\") # ',' is used as the split character"
   ]
  },
  {
   "cell_type": "code",
   "execution_count": null,
   "metadata": {
    "colab": {
     "base_uri": "https://localhost:8080/",
     "height": 34
    },
    "executionInfo": {
     "elapsed": 1016,
     "status": "ok",
     "timestamp": 1571353698794,
     "user": {
      "displayName": "Benedict Paten",
      "photoUrl": "https://lh3.googleusercontent.com/a-/AAuE7mBMnWy8dDR7jyTHNy9tPaRx6DCyA3QKrIcuQ7R4=s64",
      "userId": "06399644931392855882"
     },
     "user_tz": 420
    },
    "id": "nxBvYmhQMvqc",
    "outputId": "8522cefe-3b37-4d36-d2fc-3bf20685a6dc",
    "slideshow": {
     "slide_type": "fragment"
    }
   },
   "outputs": [
    {
     "data": {
      "text/plain": [
       "['0.5', '0.9', '17', '20']"
      ]
     },
     "execution_count": 64,
     "metadata": {
      "tags": []
     },
     "output_type": "execute_result"
    }
   ],
   "source": [
    "# You can also do this with tabs (e.g. tsv data)\n",
    "\n",
    "s = \"0.5\\t0.9\\t17\\t20\"\n",
    "\n",
    "s.split(\"\\t\") # a tab is used as the split character"
   ]
  },
  {
   "cell_type": "markdown",
   "metadata": {
    "id": "rKLLb-JoNsUt",
    "slideshow": {
     "slide_type": "subslide"
    }
   },
   "source": [
    "**join**"
   ]
  },
  {
   "cell_type": "code",
   "execution_count": 12,
   "metadata": {
    "colab": {
     "base_uri": "https://localhost:8080/",
     "height": 34
    },
    "executionInfo": {
     "elapsed": 876,
     "status": "ok",
     "timestamp": 1571353850764,
     "user": {
      "displayName": "Benedict Paten",
      "photoUrl": "https://lh3.googleusercontent.com/a-/AAuE7mBMnWy8dDR7jyTHNy9tPaRx6DCyA3QKrIcuQ7R4=s64",
      "userId": "06399644931392855882"
     },
     "user_tz": 420
    },
    "id": "NLuD1HzdM_7O",
    "outputId": "0e672e6b-b32c-43e0-d057-17c9e7b0dc65",
    "slideshow": {
     "slide_type": "fragment"
    }
   },
   "outputs": [
    {
     "data": {
      "text/plain": [
       "'once/upon/a/time/there/lived'"
      ]
     },
     "execution_count": 12,
     "metadata": {},
     "output_type": "execute_result"
    }
   ],
   "source": [
    "# Join lets you concatenate a sequence of strings\n",
    "\n",
    "l = ['once', 'upon', 'a', 'time', 'there', 'lived']\n",
    "\n",
    "\" \".join(l) # the string \" \" is used as the joining sequence"
   ]
  },
  {
   "cell_type": "code",
   "execution_count": 10,
   "metadata": {
    "id": "-z4JxBARNasR",
    "slideshow": {
     "slide_type": "fragment"
    }
   },
   "outputs": [
    {
     "data": {
      "text/plain": [
       "'once,upon,a,time,there,lived'"
      ]
     },
     "execution_count": 10,
     "metadata": {},
     "output_type": "execute_result"
    }
   ],
   "source": [
    "# This therefore works too\n",
    "\n",
    "\",\".join(l)"
   ]
  },
  {
   "cell_type": "markdown",
   "metadata": {
    "id": "EhDivoc4N_EV",
    "slideshow": {
     "slide_type": "subslide"
    }
   },
   "source": [
    "**case changing functions**"
   ]
  },
  {
   "cell_type": "code",
   "execution_count": null,
   "metadata": {
    "colab": {
     "base_uri": "https://localhost:8080/",
     "height": 34
    },
    "executionInfo": {
     "elapsed": 914,
     "status": "ok",
     "timestamp": 1571353870826,
     "user": {
      "displayName": "Benedict Paten",
      "photoUrl": "https://lh3.googleusercontent.com/a-/AAuE7mBMnWy8dDR7jyTHNy9tPaRx6DCyA3QKrIcuQ7R4=s64",
      "userId": "06399644931392855882"
     },
     "user_tz": 420
    },
    "id": "nkmJGVZ5OLw3",
    "outputId": "17721ae1-12e5-4e62-bf23-24369e6467ef",
    "slideshow": {
     "slide_type": "fragment"
    }
   },
   "outputs": [
    {
     "data": {
      "text/plain": [
       "'ONCE UPON A TIME THERE LIVED'"
      ]
     },
     "execution_count": 70,
     "metadata": {
      "tags": []
     },
     "output_type": "execute_result"
    }
   ],
   "source": [
    "s = \"once upon a time there lived\"\n",
    "\n",
    "s.upper() # When you feel like shouting"
   ]
  },
  {
   "cell_type": "code",
   "execution_count": null,
   "metadata": {
    "colab": {
     "base_uri": "https://localhost:8080/",
     "height": 34
    },
    "executionInfo": {
     "elapsed": 896,
     "status": "ok",
     "timestamp": 1571353880532,
     "user": {
      "displayName": "Benedict Paten",
      "photoUrl": "https://lh3.googleusercontent.com/a-/AAuE7mBMnWy8dDR7jyTHNy9tPaRx6DCyA3QKrIcuQ7R4=s64",
      "userId": "06399644931392855882"
     },
     "user_tz": 420
    },
    "id": "riKiqHpwOVuK",
    "outputId": "f5af930c-ad11-4023-d081-e831bbc56e06",
    "slideshow": {
     "slide_type": "fragment"
    }
   },
   "outputs": [
    {
     "data": {
      "text/plain": [
       "'shouting'"
      ]
     },
     "execution_count": 71,
     "metadata": {
      "tags": []
     },
     "output_type": "execute_result"
    }
   ],
   "source": [
    "s = \"SHOUTING\" \n",
    "\n",
    "s.lower() # The opposite"
   ]
  },
  {
   "cell_type": "markdown",
   "metadata": {
    "id": "n4ctRIUQOkV6",
    "slideshow": {
     "slide_type": "subslide"
    }
   },
   "source": [
    "**lots more...**\n",
    "\n",
    "Python strings provide lots of good functions, see:\n",
    "\n",
    "https://docs.python.org/3/library/string.html"
   ]
  },
  {
   "cell_type": "code",
   "execution_count": null,
   "metadata": {
    "colab": {
     "base_uri": "https://localhost:8080/",
     "height": 1000
    },
    "executionInfo": {
     "elapsed": 794,
     "status": "ok",
     "timestamp": 1571353886074,
     "user": {
      "displayName": "Benedict Paten",
      "photoUrl": "https://lh3.googleusercontent.com/a-/AAuE7mBMnWy8dDR7jyTHNy9tPaRx6DCyA3QKrIcuQ7R4=s64",
      "userId": "06399644931392855882"
     },
     "user_tz": 420
    },
    "id": "Ji6EyMvfOnoW",
    "outputId": "c8206587-6211-4696-b374-7bc876832945",
    "slideshow": {
     "slide_type": "fragment"
    }
   },
   "outputs": [
    {
     "data": {
      "text/plain": [
       "['__add__',\n",
       " '__class__',\n",
       " '__contains__',\n",
       " '__delattr__',\n",
       " '__dir__',\n",
       " '__doc__',\n",
       " '__eq__',\n",
       " '__format__',\n",
       " '__ge__',\n",
       " '__getattribute__',\n",
       " '__getitem__',\n",
       " '__getnewargs__',\n",
       " '__gt__',\n",
       " '__hash__',\n",
       " '__init__',\n",
       " '__init_subclass__',\n",
       " '__iter__',\n",
       " '__le__',\n",
       " '__len__',\n",
       " '__lt__',\n",
       " '__mod__',\n",
       " '__mul__',\n",
       " '__ne__',\n",
       " '__new__',\n",
       " '__reduce__',\n",
       " '__reduce_ex__',\n",
       " '__repr__',\n",
       " '__rmod__',\n",
       " '__rmul__',\n",
       " '__setattr__',\n",
       " '__sizeof__',\n",
       " '__str__',\n",
       " '__subclasshook__',\n",
       " 'capitalize',\n",
       " 'casefold',\n",
       " 'center',\n",
       " 'count',\n",
       " 'encode',\n",
       " 'endswith',\n",
       " 'expandtabs',\n",
       " 'find',\n",
       " 'format',\n",
       " 'format_map',\n",
       " 'index',\n",
       " 'isalnum',\n",
       " 'isalpha',\n",
       " 'isdecimal',\n",
       " 'isdigit',\n",
       " 'isidentifier',\n",
       " 'islower',\n",
       " 'isnumeric',\n",
       " 'isprintable',\n",
       " 'isspace',\n",
       " 'istitle',\n",
       " 'isupper',\n",
       " 'join',\n",
       " 'ljust',\n",
       " 'lower',\n",
       " 'lstrip',\n",
       " 'maketrans',\n",
       " 'partition',\n",
       " 'replace',\n",
       " 'rfind',\n",
       " 'rindex',\n",
       " 'rjust',\n",
       " 'rpartition',\n",
       " 'rsplit',\n",
       " 'rstrip',\n",
       " 'split',\n",
       " 'splitlines',\n",
       " 'startswith',\n",
       " 'strip',\n",
       " 'swapcase',\n",
       " 'title',\n",
       " 'translate',\n",
       " 'upper',\n",
       " 'zfill']"
      ]
     },
     "execution_count": 72,
     "metadata": {
      "tags": []
     },
     "output_type": "execute_result"
    }
   ],
   "source": [
    "dir(s)"
   ]
  },
  {
   "cell_type": "markdown",
   "metadata": {
    "id": "EZGZPNE5a9D5",
    "slideshow": {
     "slide_type": "slide"
    }
   },
   "source": [
    "# Format method\n",
    "\n",
    "As an alternative to using f-strings, Python provides the format method. If you are using an older version of Python (pre 3.6) you may have to use this method instead, so it is worth knowing. Format also allows you to reuse a formatting string with different arguments."
   ]
  },
  {
   "cell_type": "code",
   "execution_count": null,
   "metadata": {
    "colab": {
     "base_uri": "https://localhost:8080/",
     "height": 194
    },
    "executionInfo": {
     "elapsed": 568,
     "status": "ok",
     "timestamp": 1571354115752,
     "user": {
      "displayName": "Benedict Paten",
      "photoUrl": "https://lh3.googleusercontent.com/a-/AAuE7mBMnWy8dDR7jyTHNy9tPaRx6DCyA3QKrIcuQ7R4=s64",
      "userId": "06399644931392855882"
     },
     "user_tz": 420
    },
    "id": "P3BTgBLPOUsz",
    "outputId": "0cddf220-38a4-4bc7-d041-234558defa8b",
    "slideshow": {
     "slide_type": "fragment"
    }
   },
   "outputs": [
    {
     "name": "stdout",
     "output_type": "stream",
     "text": [
      "Dear {},\n",
      "I'd like to invite you to a {}, which will be held at {} on {}.\n",
      "\n",
      "Dear John,\n",
      "I'd like to invite you to a party, which will be held at my house on Friday.\n",
      "\n",
      "Dear Kishwar,\n",
      "I'd like to invite you to a seance, which will be held at the haunted castle on Monday at midnight.\n",
      "\n"
     ]
    }
   ],
   "source": [
    "# Format\n",
    "\n",
    "s = \"Dear {},\\nI'd like to invite you to a {}, which will be held at {} on {}.\\n\"\n",
    "\n",
    "print(s)\n",
    "\n",
    "print(s.format(\"John\", \"party\", \"my house\", \"Friday\"))\n",
    "\n",
    "print(s.format(\"Kishwar\", \"seance\", \"the haunted castle\", \"Monday at midnight\"))"
   ]
  },
  {
   "cell_type": "markdown",
   "metadata": {
    "slideshow": {
     "slide_type": "fragment"
    }
   },
   "source": [
    "Note: s **can not** be an an f-string because f strings require substitutions when they are defined."
   ]
  },
  {
   "cell_type": "code",
   "execution_count": 38,
   "metadata": {
    "colab": {
     "base_uri": "https://localhost:8080/",
     "height": 89
    },
    "executionInfo": {
     "elapsed": 586,
     "status": "ok",
     "timestamp": 1571354175724,
     "user": {
      "displayName": "Benedict Paten",
      "photoUrl": "https://lh3.googleusercontent.com/a-/AAuE7mBMnWy8dDR7jyTHNy9tPaRx6DCyA3QKrIcuQ7R4=s64",
      "userId": "06399644931392855882"
     },
     "user_tz": 420
    },
    "id": "jC0_qEEjSfO9",
    "outputId": "0ae74eba-f745-46ab-8f95-11f1de4934ef",
    "slideshow": {
     "slide_type": "subslide"
    }
   },
   "outputs": [
    {
     "name": "stdout",
     "output_type": "stream",
     "text": [
      "Dear Xian,\n",
      "I'd like to invite you to a fun study section, which will be held at the library on Monday morning.\n",
      "\n"
     ]
    }
   ],
   "source": [
    "# You can use named arguments\n",
    "\n",
    "s = \"Dear {name},\\nI'd like to invite you to a {event}, which will be held at {place} on {time}.\\n\"\n",
    "\n",
    "print(s.format(name=\"Xian\", place=\"the library\", time=\"Monday morning\", event=\"fun study section\"))\n",
    "\n",
    "# Note, if you use named arguments in your format string (i.e. s) \n",
    "# you have to use the named argument syntax\n",
    "# in your call to format to substitute them"
   ]
  },
  {
   "cell_type": "code",
   "execution_count": null,
   "metadata": {
    "colab": {
     "base_uri": "https://localhost:8080/",
     "height": 34
    },
    "executionInfo": {
     "elapsed": 931,
     "status": "ok",
     "timestamp": 1571354240880,
     "user": {
      "displayName": "Benedict Paten",
      "photoUrl": "https://lh3.googleusercontent.com/a-/AAuE7mBMnWy8dDR7jyTHNy9tPaRx6DCyA3QKrIcuQ7R4=s64",
      "userId": "06399644931392855882"
     },
     "user_tz": 420
    },
    "id": "Fy1IeRMqUaFF",
    "outputId": "84eef174-ec83-42f0-850b-1b3d673f8b52",
    "slideshow": {
     "slide_type": "subslide"
    }
   },
   "outputs": [
    {
     "data": {
      "text/plain": [
       "'hello world'"
      ]
     },
     "execution_count": 79,
     "metadata": {
      "tags": []
     },
     "output_type": "execute_result"
    }
   ],
   "source": [
    "# You can also use numbered arguments to change the order of the positional arguments with \n",
    "# respect to the substitution, e.g.:\n",
    "\n",
    "s = \"{1} {0}\"\n",
    "\n",
    "s.format(\"world\", \"hello\") # This uses positional ordering to match the numbered arguments"
   ]
  },
  {
   "cell_type": "code",
   "execution_count": 61,
   "metadata": {
    "colab": {
     "base_uri": "https://localhost:8080/",
     "height": 34
    },
    "executionInfo": {
     "elapsed": 531,
     "status": "ok",
     "timestamp": 1571354245161,
     "user": {
      "displayName": "Benedict Paten",
      "photoUrl": "https://lh3.googleusercontent.com/a-/AAuE7mBMnWy8dDR7jyTHNy9tPaRx6DCyA3QKrIcuQ7R4=s64",
      "userId": "06399644931392855882"
     },
     "user_tz": 420
    },
    "id": "re7ciU7wUq4a",
    "outputId": "bd297dcd-3178-408d-ec7f-fb644b32816b",
    "slideshow": {
     "slide_type": "subslide"
    }
   },
   "outputs": [
    {
     "name": "stdout",
     "output_type": "stream",
     "text": [
      "abracadabra\n",
      "abracadabra\n"
     ]
    }
   ],
   "source": [
    "# Numbering or naming also allows you to substitute the inputs to format multiple times, e.g.:\n",
    "\n",
    "print(\"{0}{1}{0}\".format(\"abra\", \"cad\"))\n",
    "\n",
    "print(\"{first}{second}{first}\".format(first=\"abra\", second=\"cad\")) # Same as the above"
   ]
  },
  {
   "cell_type": "markdown",
   "metadata": {
    "id": "UHz8V4l7VB-o",
    "slideshow": {
     "slide_type": "subslide"
    }
   },
   "source": [
    "There is lots more to learn about f-strings and the format method, see: \n",
    "\n",
    "https://docs.python.org/3/library/string.html"
   ]
  },
  {
   "cell_type": "code",
   "execution_count": 27,
   "metadata": {
    "colab": {
     "base_uri": "https://localhost:8080/"
    },
    "executionInfo": {
     "elapsed": 345,
     "status": "ok",
     "timestamp": 1607661128936,
     "user": {
      "displayName": "Benedict Paten",
      "photoUrl": "https://lh3.googleusercontent.com/a-/AOh14Gh2rYrrH6yoNnUp0Oj4p4ouybc6ZcWGyPmKFtIY=s64",
      "userId": "06399644931392855882"
     },
     "user_tz": 480
    },
    "id": "svQ9RoGPWtRh",
    "outputId": "1665efa5-5364-43af-d8c2-3f2751e4117a",
    "slideshow": {
     "slide_type": "subslide"
    }
   },
   "outputs": [
    {
     "name": "stdout",
     "output_type": "stream",
     "text": [
      "Dear John,\n",
      "I'd like to invite you to a party, which will be held at my house on Friday.\n",
      "\n"
     ]
    }
   ],
   "source": [
    "# One final note, Python also supports an older style string formatting\n",
    "# which uses C like syntax for formatting arguments\n",
    "\n",
    "s = \"Dear %s,\\nI'd like to invite you to a %s, which will be held at %s on %s.\\n\"\n",
    "\n",
    "\n",
    "#print(s) \n",
    "\n",
    "print(s % (\"John\", \"party\", \"my house\", \"Friday\"))"
   ]
  },
  {
   "cell_type": "markdown",
   "metadata": {
    "id": "MyXsuoS-XSyJ",
    "slideshow": {
     "slide_type": "fragment"
    }
   },
   "source": [
    "You can use f-strings, the format method or the old style, but f-strings seems more flexible and powerful for any case where you only use the formatting string exactly once. The format method is still useful when you want to reuse the formatting string with multiple substitutions, like in the above example substituting \"John\" and then \"Kishwar\", etc. using the same formatting string s."
   ]
  },
  {
   "cell_type": "markdown",
   "metadata": {
    "slideshow": {
     "slide_type": "subslide"
    }
   },
   "source": [
    "# Challenge 4"
   ]
  },
  {
   "cell_type": "code",
   "execution_count": 18,
   "metadata": {
    "slideshow": {
     "slide_type": "fragment"
    }
   },
   "outputs": [],
   "source": [
    "s = \"Hi {name}, I regret to inform you that your {noun} has been {verb}.\\nApologies for the inconvenience,\\nbest regards\\n{you}\"\n",
    "\n",
    "# Use string formatting to customize the above string however you like. \n",
    "# Print the result to the screen.\n"
   ]
  },
  {
   "cell_type": "markdown",
   "metadata": {
    "id": "UxULa5wYE4co",
    "slideshow": {
     "slide_type": "slide"
    }
   },
   "source": [
    "# Challenge 5"
   ]
  },
  {
   "cell_type": "code",
   "execution_count": 17,
   "metadata": {
    "id": "W78Bw4AsYeNq",
    "slideshow": {
     "slide_type": "fragment"
    }
   },
   "outputs": [
    {
     "name": "stdout",
     "output_type": "stream",
     "text": [
      "Found an occurrence  mississsippi\n",
      "Found an occurrence  sisssippi\n",
      "Found an occurrence  ssippi\n"
     ]
    },
    {
     "data": {
      "text/plain": [
       "3"
      ]
     },
     "execution_count": 17,
     "metadata": {},
     "output_type": "execute_result"
    }
   ],
   "source": [
    "# Complete the function:\n",
    "\n",
    "def how_many_occurrences(s, s2):\n",
    "    \"\"\"\n",
    "    Returns the number of times s2 occurs as a substring of s\n",
    "    \"\"\"\n",
    "    # Code to write\n",
    "\n",
    "how_many_occurrences(\"mississsippi\", \"ss\") # Correct answer should be 3 \n",
    "\n",
    "# PS: yes, I know mississsippi (sic) is spelled wrong, just to make you think about overlapping occurrences"
   ]
  },
  {
   "cell_type": "markdown",
   "metadata": {
    "id": "KZP9y5sgyVm8",
    "slideshow": {
     "slide_type": "slide"
    }
   },
   "source": [
    "# Reading\n",
    "\n",
    "* Read chapter 8: http://openbookproject.net/thinkcs/python/english3e/strings.html\n",
    "\n",
    "\n",
    "# Homework\n",
    "\n",
    "* ZyBook Reading 8\n",
    "* Go to Canvas and complete the lecture quiz, which involves completing each challenge problem\n"
   ]
  },
  {
   "cell_type": "markdown",
   "metadata": {
    "slideshow": {
     "slide_type": "slide"
    }
   },
   "source": [
    "# Practice Problems"
   ]
  },
  {
   "cell_type": "code",
   "execution_count": null,
   "metadata": {
    "slideshow": {
     "slide_type": "slide"
    }
   },
   "outputs": [],
   "source": [
    "# Problem 1:\n",
    "# Write a function reverse_words that takes a string and returns a new string with \n",
    "# each word reversed but in the same order.\n",
    "# For example:\n",
    "# reverse_words(\"Hello World\") should return \"olleH dlroW\"\n",
    "# reverse_words(\"Python is fun\") should return \"nohtyP si nuf\"\n",
    "# Hints: use the split and join functions to tokenize and then merge the words and either a slice or a for loop to \n",
    "# reverse the string\n",
    "\n",
    "def reverse_words(text):\n",
    "    # Your code here\n",
    "    pass\n",
    "\n",
    "# Test your function\n",
    "assert reverse_words(\"redrum tenet\") == \"murder tenet\"\n",
    "assert reverse_words(\"Hello World\") == \"olleH dlroW\"\n",
    "assert reverse_words(\"Hey you guys\") == \"yeH ouy syug\""
   ]
  },
  {
   "cell_type": "code",
   "execution_count": null,
   "metadata": {
    "slideshow": {
     "slide_type": "slide"
    }
   },
   "outputs": [],
   "source": [
    "# Problem 2\n",
    "# Write a function count_letters that takes a string and returns a tuple of \n",
    "# two numbers: (number of vowels, number of consonants).\n",
    "# Ignore spaces and punctuation. Handle both upper and lower case letters.\n",
    "# For example:\n",
    "# count_letters(\"Hello World!\") should return (3, 7)\n",
    "# count_letters(\"Python\") should return (1, 5)\n",
    "\n",
    "def count_letters(text):\n",
    "    # Your code here\n",
    "    pass\n",
    "\n",
    "# Test your function\n",
    "assert count_letters(\"Hello World!\") == 3, 7\n",
    "assert count_letters(\"Python\") == 1, 5"
   ]
  },
  {
   "cell_type": "code",
   "execution_count": null,
   "metadata": {
    "slideshow": {
     "slide_type": "slide"
    }
   },
   "outputs": [],
   "source": [
    "# Problem 3\n",
    "# Write a function format_phone that takes a string of 10 digits and formats it as \n",
    "# a phone number in the format (XXX) XXX-XXXX\n",
    "# For example:\n",
    "# format_phone(\"1234567890\") should return \"(123) 456-7890\"\n",
    "# If the input is invalid (not 10 digits, containing non digits), return \"Invalid input\"\n",
    "\n",
    "def format_phone(digits):\n",
    "    # Your code here\n",
    "    pass\n",
    "\n",
    "# Test your function\n",
    "assert format_phone(\"1234567890\") == \"(123) 456-7890\"\n",
    "assert format_phone(\"12345\") == \"Invalid input\" "
   ]
  },
  {
   "cell_type": "code",
   "execution_count": null,
   "metadata": {
    "slideshow": {
     "slide_type": "slide"
    }
   },
   "outputs": [],
   "source": [
    "# Problem 4\n",
    "# Write a function find_palindromes that finds all palindromes in a string that are \n",
    "# at least 3 characters long. A palindrome reads the same forwards and backwards.\n",
    "# Return a list of all palindromes found.\n",
    "# For example:\n",
    "# find_palindromes(\"wow noon level\") should return [\"wow\", \"noon\", \"level\"]\n",
    "# find_palindromes(\"hello there\") should return []\n",
    "\n",
    "def find_palindromes(text):\n",
    "    # Your code here\n",
    "    pass\n",
    "\n",
    "# Test your function\n",
    "assert find_palindromes(\"wow noon level\") == [ \"wow\", \"noon\", \"level\"]\n",
    "assert find_palindromes(\"hello there\") == []"
   ]
  },
  {
   "cell_type": "code",
   "execution_count": null,
   "metadata": {
    "slideshow": {
     "slide_type": "slide"
    }
   },
   "outputs": [],
   "source": [
    "# Problem 5\n",
    "# Write a function compress_string that performs basic string compression using \n",
    "# counts of repeated characters. If the compressed string is not smaller than the \n",
    "# original string, return the original string.\n",
    "# For example:\n",
    "# compress_string(\"AABBBCCCC\") should return \"A2B3C4\"\n",
    "# compress_string(\"ABCD\") should return \"ABCD\" (since compression doesn't help)\n",
    "# compress_string(\"AABBCC\") should return \"AABBCC\" (since compression doesn't help)\n",
    "\n",
    "def compress_string(text):\n",
    "    # Your code here\n",
    "    pass\n",
    "\n",
    "# Test your function\n",
    "assert compress_string(\"AABBBCCCC\") == \"A2B3C4\"\n",
    "assert compress_string(\"ABCD\")) == \"ABCD\"\n",
    "assert compress_string(\"AABBCC\") == \"AABBCC\""
   ]
  }
 ],
 "metadata": {
  "celltoolbar": "Slideshow",
  "colab": {
   "collapsed_sections": [],
   "name": "L08 Strings.ipynb",
   "provenance": [
    {
     "file_id": "1kIqY78jiim_Ln0JhaYkVqb00ArgQUP9l",
     "timestamp": 1607721744003
    }
   ]
  },
  "kernelspec": {
   "display_name": "intro_python_env",
   "language": "python",
   "name": "intro_python_env"
  },
  "language_info": {
   "codemirror_mode": {
    "name": "ipython",
    "version": 3
   },
   "file_extension": ".py",
   "mimetype": "text/x-python",
   "name": "python",
   "nbconvert_exporter": "python",
   "pygments_lexer": "ipython3",
   "version": "3.11.9"
  }
 },
 "nbformat": 4,
 "nbformat_minor": 1
}
