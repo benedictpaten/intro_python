{
 "cells": [
  {
   "cell_type": "markdown",
   "metadata": {
    "id": "1a-o5LXYOuXB",
    "slideshow": {
     "slide_type": "slide"
    }
   },
   "source": [
    "# Lecture 5 - More Loops (https://bit.ly/intro_python_05)\n",
    "\n",
    "Today:\n",
    "* More control flow:\n",
    "  * For loops\n",
    "  * List iteration\n",
    "  * Range\n",
    "  * Nested loops\n",
    "  * Break statement\n",
    "  * The else statement in a loop\n",
    "  * Break and nested loops\n",
    "  * Continue statement\n",
    "* Look at some complex examples of control flow that use control statements to get more comfortable\n",
    "\n"
   ]
  },
  {
   "cell_type": "markdown",
   "metadata": {
    "id": "qrG-dqucPTBn",
    "slideshow": {
     "slide_type": "slide"
    }
   },
   "source": [
    "# For Loops \n",
    "\n",
    "The for loop is another example of \"syntactic sugar\": it combines the concept of looping (like the while loop) with the idea of iterating, either using a counter or elements in a sequence, such as a Python list.\n",
    "\n",
    "You can always create equivalent code using a while loop and additional variables, but 'for' is often more convenient\n",
    "\n",
    "Recall that a while loop encodes:\n",
    "\n",
    "<img src=\"https://raw.githubusercontent.com/benedictpaten/intro_python/main/lecture_notebooks/figures/graffles/while.jpg\" width=400 height=400 />\n"
   ]
  },
  {
   "cell_type": "markdown",
   "metadata": {
    "id": "BwQFxGCzfyqN",
    "slideshow": {
     "slide_type": "subslide"
    }
   },
   "source": [
    "A for loop is like this:\n",
    "\n",
    "<img src=\"https://raw.githubusercontent.com/benedictpaten/intro_python/main/lecture_notebooks/figures/graffles/for.jpg\" width=400 height=400 />\n",
    "\n",
    "It implicitly embeds means to update the variable used in assessing the condition expression.\n",
    "\n",
    "It is easiest to see this by example:"
   ]
  },
  {
   "cell_type": "code",
   "execution_count": 3,
   "metadata": {
    "colab": {
     "base_uri": "https://localhost:8080/"
    },
    "executionInfo": {
     "elapsed": 428,
     "status": "ok",
     "timestamp": 1607550998936,
     "user": {
      "displayName": "Benedict Paten",
      "photoUrl": "https://lh3.googleusercontent.com/a-/AOh14Gh2rYrrH6yoNnUp0Oj4p4ouybc6ZcWGyPmKFtIY=s64",
      "userId": "06399644931392855882"
     },
     "user_tz": 480
    },
    "id": "4ktz6MyHOofc",
    "outputId": "ab8ab0bf-61e4-4a65-c6cc-b71dc611c93b",
    "slideshow": {
     "slide_type": "subslide"
    }
   },
   "outputs": [
    {
     "name": "stdout",
     "output_type": "stream",
     "text": [
      "i is: 0\n",
      "i is: 1\n",
      "i is: 2\n",
      "i is: 3\n",
      "i is: 4\n",
      "i is: 5\n",
      "i is: 6\n",
      "i is: 7\n",
      "i is: 8\n",
      "i is: 9\n"
     ]
    }
   ],
   "source": [
    "# While loop version\n",
    "i = 0 # Initialize the \"loop variable\"\n",
    "\n",
    "while i < 10: # Conditional on loop variable\n",
    "  print(f\"i is: {i}\")\n",
    "  i = i + 1 # Update loop variable"
   ]
  },
  {
   "cell_type": "code",
   "execution_count": 2,
   "metadata": {
    "colab": {
     "base_uri": "https://localhost:8080/"
    },
    "executionInfo": {
     "elapsed": 370,
     "status": "ok",
     "timestamp": 1607551108289,
     "user": {
      "displayName": "Benedict Paten",
      "photoUrl": "https://lh3.googleusercontent.com/a-/AOh14Gh2rYrrH6yoNnUp0Oj4p4ouybc6ZcWGyPmKFtIY=s64",
      "userId": "06399644931392855882"
     },
     "user_tz": 480
    },
    "id": "3uGO-pmDSWqI",
    "outputId": "7e485d63-c3d5-4d33-a3a5-260500169404",
    "slideshow": {
     "slide_type": "subslide"
    }
   },
   "outputs": [
    {
     "name": "stdout",
     "output_type": "stream",
     "text": [
      "i is: 0\n",
      "i is: 1\n",
      "i is: 2\n",
      "i is: 3\n",
      "i is: 4\n",
      "i is: 5\n",
      "i is: 6\n",
      "i is: 7\n",
      "i is: 8\n",
      "i is: 9\n"
     ]
    }
   ],
   "source": [
    "# The for loop version\n",
    "\n",
    "for i in range(10): # Range returns an iterable sequence from 0 (inclusive) to 10 (exclusive)\n",
    "    print(f\"i is: {i}\")"
   ]
  },
  {
   "cell_type": "code",
   "execution_count": null,
   "metadata": {
    "id": "kAgiq8YNg_yr",
    "slideshow": {
     "slide_type": "fragment"
    }
   },
   "outputs": [],
   "source": [
    "# The general syntax is:\n",
    "\n",
    "for loop_variable in iterable:\n",
    "  statement_block"
   ]
  },
  {
   "cell_type": "markdown",
   "metadata": {
    "slideshow": {
     "slide_type": "subslide"
    }
   },
   "source": [
    "# Challenge 1"
   ]
  },
  {
   "cell_type": "code",
   "execution_count": 1,
   "metadata": {
    "slideshow": {
     "slide_type": "fragment"
    }
   },
   "outputs": [
    {
     "name": "stdout",
     "output_type": "stream",
     "text": [
      "The sum of the first 100 integers is 4950\n"
     ]
    }
   ],
   "source": [
    "# Use a for loop to sum the first 100 integers, starting from 0 and ending at 99, \n",
    "# and print the result\n",
    "\n",
    "# Note you can use range(100) (we'll explain in a minute) to get the iterable \n",
    "# sequence 0, 1, 2, 3, ..., 98, 99\n"
   ]
  },
  {
   "cell_type": "markdown",
   "metadata": {
    "id": "tX9EU0hShLy2",
    "slideshow": {
     "slide_type": "slide"
    }
   },
   "source": [
    "# Range\n",
    "\n",
    "Range is a powerful \"function\" for generating iterable sequences of integers."
   ]
  },
  {
   "cell_type": "code",
   "execution_count": null,
   "metadata": {
    "colab": {
     "base_uri": "https://localhost:8080/"
    },
    "executionInfo": {
     "elapsed": 310,
     "status": "ok",
     "timestamp": 1607551903887,
     "user": {
      "displayName": "Benedict Paten",
      "photoUrl": "https://lh3.googleusercontent.com/a-/AOh14Gh2rYrrH6yoNnUp0Oj4p4ouybc6ZcWGyPmKFtIY=s64",
      "userId": "06399644931392855882"
     },
     "user_tz": 480
    },
    "id": "vFiO_0oijjAU",
    "outputId": "aec03087-1876-4bbc-82e2-0ab1f464d212",
    "slideshow": {
     "slide_type": "fragment"
    }
   },
   "outputs": [
    {
     "name": "stdout",
     "output_type": "stream",
     "text": [
      "i is: 5\n",
      "i is: 6\n",
      "i is: 7\n",
      "i is: 8\n",
      "i is: 9\n"
     ]
    }
   ],
   "source": [
    "# If you give range two arguments the first is the starting number of the iteration\n",
    "# the second is the ending point of the iteration (exclusive), counting up 1 each time:\n",
    "\n",
    "for i in range(5, 10): # From 5 (inclusive) to 10 (exclusive)\n",
    "  print(f\"i is: {i}\")"
   ]
  },
  {
   "cell_type": "code",
   "execution_count": null,
   "metadata": {
    "colab": {
     "base_uri": "https://localhost:8080/",
     "height": 105
    },
    "executionInfo": {
     "elapsed": 383,
     "status": "ok",
     "timestamp": 1570574354511,
     "user": {
      "displayName": "Benedict Paten",
      "photoUrl": "https://lh3.googleusercontent.com/a-/AAuE7mBMnWy8dDR7jyTHNy9tPaRx6DCyA3QKrIcuQ7R4=s64",
      "userId": "06399644931392855882"
     },
     "user_tz": 420
    },
    "id": "FbVyQUwATL2-",
    "outputId": "7c6841e7-e6f6-4f18-ba7e-f6da5d98cbf0",
    "slideshow": {
     "slide_type": "subslide"
    }
   },
   "outputs": [
    {
     "name": "stdout",
     "output_type": "stream",
     "text": [
      "i is: 0\n",
      "i is: 2\n",
      "i is: 4\n",
      "i is: 6\n",
      "i is: 8\n"
     ]
    }
   ],
   "source": [
    "# If you give range a third argument it determines the \"step\" of the iteration\n",
    "# Here, jumping two steps at a time\n",
    "for i in range(0, 10, 2): \n",
    "  print(f\"i is: {i}\")"
   ]
  },
  {
   "cell_type": "code",
   "execution_count": 5,
   "metadata": {
    "colab": {
     "base_uri": "https://localhost:8080/",
     "height": 193
    },
    "executionInfo": {
     "elapsed": 327,
     "status": "ok",
     "timestamp": 1570574154922,
     "user": {
      "displayName": "Benedict Paten",
      "photoUrl": "https://lh3.googleusercontent.com/a-/AAuE7mBMnWy8dDR7jyTHNy9tPaRx6DCyA3QKrIcuQ7R4=s64",
      "userId": "06399644931392855882"
     },
     "user_tz": 420
    },
    "id": "ngfEQSFtSszF",
    "outputId": "fc85ba0a-be25-4ec0-d00c-f6c2ca5e9d01",
    "slideshow": {
     "slide_type": "subslide"
    }
   },
   "outputs": [
    {
     "name": "stdout",
     "output_type": "stream",
     "text": [
      "i is: 9\n",
      "i is: 8\n",
      "i is: 7\n",
      "i is: 6\n",
      "i is: 5\n",
      "i is: 4\n",
      "i is: 3\n",
      "i is: 2\n",
      "i is: 1\n",
      "i is: 0\n"
     ]
    }
   ],
   "source": [
    "# A negative step will count backwards\n",
    "for i in range(9, -1, -1): # Backwards from 9 to 0, stepping -1 each time:\n",
    "  print(f\"i is: {i}\")"
   ]
  },
  {
   "cell_type": "markdown",
   "metadata": {
    "id": "Mqd1YnDchZ7a",
    "slideshow": {
     "slide_type": "slide"
    }
   },
   "source": [
    "# Iterating on lists"
   ]
  },
  {
   "cell_type": "code",
   "execution_count": 2,
   "metadata": {
    "colab": {
     "base_uri": "https://localhost:8080/"
    },
    "executionInfo": {
     "elapsed": 413,
     "status": "ok",
     "timestamp": 1607551765041,
     "user": {
      "displayName": "Benedict Paten",
      "photoUrl": "https://lh3.googleusercontent.com/a-/AOh14Gh2rYrrH6yoNnUp0Oj4p4ouybc6ZcWGyPmKFtIY=s64",
      "userId": "06399644931392855882"
     },
     "user_tz": 480
    },
    "id": "XYoG44uthc5o",
    "outputId": "5742fa6e-1d8b-4369-984f-405fa451dbe1",
    "slideshow": {
     "slide_type": "fragment"
    }
   },
   "outputs": [
    {
     "name": "stdout",
     "output_type": "stream",
     "text": [
      "this\n",
      "is\n",
      "a\n",
      "list\n",
      "of\n",
      "strings\n"
     ]
    }
   ],
   "source": [
    "l = [ \"this\", \"is\", \"a\", \"list\", \"of\", \"strings\"] # A list can be iterated upon, because in a for loop it generates an \n",
    "# iterable sequence\n",
    "\n",
    "for i in l:\n",
    "  print(i)\n",
    "\n",
    "# Which is equivalent to the following using an integer i to index through the elements\n",
    "# in l\n",
    "#for i in range(len(l)):\n",
    "#  print(l[i])\n"
   ]
  },
  {
   "cell_type": "markdown",
   "metadata": {
    "slideshow": {
     "slide_type": "subslide"
    }
   },
   "source": [
    "# Challenge 2"
   ]
  },
  {
   "cell_type": "code",
   "execution_count": 6,
   "metadata": {
    "slideshow": {
     "slide_type": "fragment"
    }
   },
   "outputs": [
    {
     "name": "stdout",
     "output_type": "stream",
     "text": [
      "20\n",
      "23\n",
      "26\n",
      "29\n",
      "32\n",
      "35\n",
      "38\n"
     ]
    }
   ],
   "source": [
    "# Use range and a for loop to print every third integer \n",
    "# starting at 20 and ending at and including 38\n"
   ]
  },
  {
   "cell_type": "markdown",
   "metadata": {
    "id": "ltqxd2dKfrrP",
    "slideshow": {
     "slide_type": "slide"
    }
   },
   "source": [
    "# Nesting loops\n",
    "\n",
    "We saw nested conditionals, we can also nest loops.\n",
    "\n",
    "While loops, for loops and other control flow elements can all be nested together."
   ]
  },
  {
   "cell_type": "code",
   "execution_count": 7,
   "metadata": {
    "colab": {
     "base_uri": "https://localhost:8080/",
     "height": 299
    },
    "executionInfo": {
     "elapsed": 399,
     "status": "ok",
     "timestamp": 1570574978617,
     "user": {
      "displayName": "Benedict Paten",
      "photoUrl": "https://lh3.googleusercontent.com/a-/AAuE7mBMnWy8dDR7jyTHNy9tPaRx6DCyA3QKrIcuQ7R4=s64",
      "userId": "06399644931392855882"
     },
     "user_tz": 420
    },
    "id": "pi318G3Afs-t",
    "outputId": "b2dc5e6b-8001-4ff4-9382-2ebd6b899774",
    "slideshow": {
     "slide_type": "fragment"
    }
   },
   "outputs": [
    {
     "name": "stdout",
     "output_type": "stream",
     "text": [
      "The values are, i: 0 j: 0\n",
      "The values are, i: 0 j: 1\n",
      "The values are, i: 0 j: 2\n",
      "The values are, i: 0 j: 3\n",
      "The values are, i: 1 j: 0\n",
      "The values are, i: 1 j: 1\n",
      "The values are, i: 1 j: 2\n",
      "The values are, i: 1 j: 3\n",
      "The values are, i: 2 j: 0\n",
      "The values are, i: 2 j: 1\n",
      "The values are, i: 2 j: 2\n",
      "The values are, i: 2 j: 3\n",
      "The values are, i: 3 j: 0\n",
      "The values are, i: 3 j: 1\n",
      "The values are, i: 3 j: 2\n",
      "The values are, i: 3 j: 3\n"
     ]
    }
   ],
   "source": [
    "# Example of nested for loops\n",
    "\n",
    "for i in range(4): \n",
    "  for j in range(4):  \n",
    "    print(f\"The values are, i: {i} j: {j}\")\n",
    "\n",
    "# This may mess with you, but it is just the logical extension\n",
    "# of the ideas we've covered."
   ]
  },
  {
   "cell_type": "markdown",
   "metadata": {
    "id": "RYt-oPWENG-F",
    "slideshow": {
     "slide_type": "slide"
    }
   },
   "source": [
    "# Break\n",
    "\n",
    "Break allows us to modify while and for loops to achieve more complex control flow.\n",
    "\n",
    "Think of it as another way to exit a loop:\n",
    "\n",
    "<img src=\"https://raw.githubusercontent.com/benedictpaten/intro_python/main/lecture_notebooks/figures/graffles/break.jpg\" width=400 height=400 />\n",
    "\n",
    "Break evaluates a conditional, if true execution leaves the loop at that point"
   ]
  },
  {
   "cell_type": "code",
   "execution_count": 6,
   "metadata": {
    "colab": {
     "base_uri": "https://localhost:8080/"
    },
    "executionInfo": {
     "elapsed": 566,
     "status": "ok",
     "timestamp": 1615507806833,
     "user": {
      "displayName": "Benedict Paten",
      "photoUrl": "https://lh3.googleusercontent.com/a-/AOh14Gh2rYrrH6yoNnUp0Oj4p4ouybc6ZcWGyPmKFtIY=s64",
      "userId": "06399644931392855882"
     },
     "user_tz": 480
    },
    "id": "fUmk3NK91BUp",
    "outputId": "d5d6561e-25ae-44d6-d075-71c074677d59",
    "slideshow": {
     "slide_type": "subslide"
    }
   },
   "outputs": [
    {
     "name": "stdout",
     "output_type": "stream",
     "text": [
      "0\n",
      "1\n",
      "2\n",
      "3\n",
      "4\n",
      "5\n",
      "6\n",
      "7\n",
      "8\n",
      "9\n",
      "10\n",
      "We are at the end\n"
     ]
    }
   ],
   "source": [
    "# Break is used to jump out of a loop\n",
    "\n",
    "i = 0\n",
    "\n",
    "while True: # This will always be True\n",
    "  print(i)\n",
    "  \n",
    "  i = i + 1 # Increase i, or the loop will never terminate \n",
    "  \n",
    "  if i > 10:\n",
    "    break # This causes execution of the loop to stop \n",
    "    \n",
    "print(\"We are at the end\")"
   ]
  },
  {
   "cell_type": "markdown",
   "metadata": {
    "id": "DS6uGQR_1lwf",
    "slideshow": {
     "slide_type": "slide"
    }
   },
   "source": [
    "# Break to shortcut a loop\n",
    "\n",
    "Break is often used to shortcut a loop, for efficiency reasons"
   ]
  },
  {
   "cell_type": "code",
   "execution_count": 10,
   "metadata": {
    "colab": {
     "base_uri": "https://localhost:8080/",
     "height": 70
    },
    "executionInfo": {
     "elapsed": 325,
     "status": "ok",
     "timestamp": 1570575678814,
     "user": {
      "displayName": "Benedict Paten",
      "photoUrl": "https://lh3.googleusercontent.com/a-/AAuE7mBMnWy8dDR7jyTHNy9tPaRx6DCyA3QKrIcuQ7R4=s64",
      "userId": "06399644931392855882"
     },
     "user_tz": 420
    },
    "id": "QpQlSwQlNTXf",
    "outputId": "95c5bc1a-c2e1-4c4a-9f3e-810a0ae22412",
    "slideshow": {
     "slide_type": "subslide"
    }
   },
   "outputs": [
    {
     "name": "stdout",
     "output_type": "stream",
     "text": [
      "Looking at 10\n",
      "Looking at 1\n",
      "is a value less than 5 in the list True\n"
     ]
    }
   ],
   "source": [
    "# An example of break to shortcut a loop\n",
    "\n",
    "# Check if element is in a list\n",
    "\n",
    "l = [ 10, 1, 12, 7, 8, 2 ] # The list\n",
    "\n",
    "# Loop through list to see if it contains\n",
    "# a value less than 5\n",
    "seen = False\n",
    "for i in l:\n",
    "  print(\"Looking at\", i)\n",
    "  if i < 5:\n",
    "    seen = True\n",
    "    break # This causes execution to stop\n",
    "    \n",
    "print(\"is a value less than 5 in the list\", seen)"
   ]
  },
  {
   "cell_type": "markdown",
   "metadata": {
    "id": "7lzvyskJm9Vc",
    "slideshow": {
     "slide_type": "fragment"
    }
   },
   "source": [
    "Without the break statement the loop would continue to evaluate all the elements on the sequence, but with it we only need to look at elements until the condition is determined to be true"
   ]
  },
  {
   "cell_type": "markdown",
   "metadata": {
    "id": "WAg_8ZWoPA3_",
    "slideshow": {
     "slide_type": "slide"
    }
   },
   "source": [
    "# In general, why is break useful?\n",
    "\n",
    "* It can usefully short-cut a loop, preventing unnecessary computation\n",
    "* It allows more fine grain control of loops - you can choose to exit wherever you like"
   ]
  },
  {
   "cell_type": "markdown",
   "metadata": {
    "slideshow": {
     "slide_type": "subslide"
    }
   },
   "source": [
    "# Challenge 3"
   ]
  },
  {
   "cell_type": "code",
   "execution_count": 9,
   "metadata": {
    "slideshow": {
     "slide_type": "fragment"
    }
   },
   "outputs": [
    {
     "name": "stdout",
     "output_type": "stream",
     "text": [
      "Enter a number greater than 0:-10\n",
      "Enter a number greater than 0:0\n",
      "Enter a number greater than 0:100\n"
     ]
    }
   ],
   "source": [
    "# Add a conditional and a break statement to exit\n",
    "# the loop when the user enters a number greater than 0\n",
    "\n",
    "while True:\n",
    "    x = float(input(\"Enter a number greater than 0:\"))  \n"
   ]
  },
  {
   "cell_type": "markdown",
   "metadata": {
    "id": "_NL3SLkgoEC5",
    "slideshow": {
     "slide_type": "slide"
    }
   },
   "source": [
    "# The else statement in loops\n",
    "\n",
    "Else can be used with while and for loops to execute code after the looping has finished.\n",
    "\n",
    "This is a little obscure, but worth knowing"
   ]
  },
  {
   "cell_type": "code",
   "execution_count": 6,
   "metadata": {
    "colab": {
     "base_uri": "https://localhost:8080/"
    },
    "executionInfo": {
     "elapsed": 389,
     "status": "ok",
     "timestamp": 1607553293622,
     "user": {
      "displayName": "Benedict Paten",
      "photoUrl": "https://lh3.googleusercontent.com/a-/AOh14Gh2rYrrH6yoNnUp0Oj4p4ouybc6ZcWGyPmKFtIY=s64",
      "userId": "06399644931392855882"
     },
     "user_tz": 480
    },
    "id": "sqMmkHSUpC-R",
    "outputId": "ac81a17a-d028-49ac-807a-ed1f2ceceb4e",
    "slideshow": {
     "slide_type": "subslide"
    }
   },
   "outputs": [
    {
     "name": "stdout",
     "output_type": "stream",
     "text": [
      "0\n",
      "1\n",
      "2\n",
      "3\n",
      "4\n",
      "5\n",
      "6\n",
      "7\n",
      "8\n",
      "9\n",
      "The end\n"
     ]
    }
   ],
   "source": [
    "for i in range(10):\n",
    "  print(i)\n",
    "else: \n",
    "  print(\"The end\") # This statement block after the else will\n",
    "  # be executed at the end of the for loop\n"
   ]
  },
  {
   "cell_type": "markdown",
   "metadata": {
    "id": "84_krNaQpYFM",
    "slideshow": {
     "slide_type": "subslide"
    }
   },
   "source": [
    "You might ask, why is this useful? Surely it is the same as:"
   ]
  },
  {
   "cell_type": "code",
   "execution_count": null,
   "metadata": {
    "colab": {
     "base_uri": "https://localhost:8080/"
    },
    "executionInfo": {
     "elapsed": 393,
     "status": "ok",
     "timestamp": 1607553380912,
     "user": {
      "displayName": "Benedict Paten",
      "photoUrl": "https://lh3.googleusercontent.com/a-/AOh14Gh2rYrrH6yoNnUp0Oj4p4ouybc6ZcWGyPmKFtIY=s64",
      "userId": "06399644931392855882"
     },
     "user_tz": 480
    },
    "id": "Eq-jeRTYpS65",
    "outputId": "167b7e0d-d80d-4f0c-8e18-a89ca2eb489d",
    "slideshow": {
     "slide_type": "fragment"
    }
   },
   "outputs": [
    {
     "name": "stdout",
     "output_type": "stream",
     "text": [
      "0\n",
      "1\n",
      "2\n",
      "3\n",
      "4\n",
      "5\n",
      "6\n",
      "7\n",
      "8\n",
      "9\n",
      "The end\n"
     ]
    }
   ],
   "source": [
    "for i in range(10):\n",
    "  print(i)\n",
    "print(\"The end\") "
   ]
  },
  {
   "cell_type": "markdown",
   "metadata": {
    "id": "FCqdeYeepgjs",
    "slideshow": {
     "slide_type": "subslide"
    }
   },
   "source": [
    "The answer is that the statement block after the else is only executed if the loop exits \"normally\", without exiting from a break:\n",
    "\n",
    "<img src=\"https://raw.githubusercontent.com/benedictpaten/intro_python/main/lecture_notebooks/figures/graffles/break%3Aelse.jpg\" width=400 height=400 />"
   ]
  },
  {
   "cell_type": "code",
   "execution_count": 11,
   "metadata": {
    "colab": {
     "base_uri": "https://localhost:8080/"
    },
    "executionInfo": {
     "elapsed": 346,
     "status": "ok",
     "timestamp": 1607553828707,
     "user": {
      "displayName": "Benedict Paten",
      "photoUrl": "https://lh3.googleusercontent.com/a-/AOh14Gh2rYrrH6yoNnUp0Oj4p4ouybc6ZcWGyPmKFtIY=s64",
      "userId": "06399644931392855882"
     },
     "user_tz": 480
    },
    "id": "vtAo3KltOn_X",
    "outputId": "665824fc-bda0-48e0-98d9-59310ffeffd2",
    "slideshow": {
     "slide_type": "subslide"
    }
   },
   "outputs": [
    {
     "name": "stdout",
     "output_type": "stream",
     "text": [
      "10\n",
      "12\n",
      "7\n",
      "-1\n",
      "True\n"
     ]
    }
   ],
   "source": [
    "# Using break with the for/else statement\n",
    "\n",
    "# Check if element is in a list\n",
    "\n",
    "l = [ 10, 12, 7, -1, 8 ] # The list\n",
    "\n",
    "# Loop through list to see if it contains\n",
    "# a value less than 5\n",
    "seen = False\n",
    "for i in l:\n",
    "  print(i)\n",
    "  if i < 5:\n",
    "    seen = True\n",
    "    break # This causes execution to stop\n",
    "else: # This else is only executed if the \n",
    "  # for exits without traversing a break statement\n",
    "  print(\"I did not find it!\")\n",
    "    \n",
    "print(seen)"
   ]
  },
  {
   "cell_type": "markdown",
   "metadata": {
    "slideshow": {
     "slide_type": "slide"
    }
   },
   "source": [
    "# Break With Nested Loops"
   ]
  },
  {
   "cell_type": "markdown",
   "metadata": {
    "slideshow": {
     "slide_type": "fragment"
    }
   },
   "source": [
    "Question: How does break behave with nested loops?"
   ]
  },
  {
   "cell_type": "code",
   "execution_count": 10,
   "metadata": {
    "slideshow": {
     "slide_type": "fragment"
    }
   },
   "outputs": [
    {
     "name": "stdout",
     "output_type": "stream",
     "text": [
      "The value of i is: 1 the value of j is: 1 their sum is: 2\n",
      "The value of i is: 1 the value of j is: 2 their sum is: 3\n",
      "I'm still in the outer loop\n",
      "The value of i is: 2 the value of j is: 1 their sum is: 3\n",
      "i am going to break 2 2\n",
      "I'm still in the outer loop\n",
      "i am going to break 3 1\n",
      "I'm still in the outer loop\n",
      "i am going to break 4 1\n",
      "I'm still in the outer loop\n",
      "i am going to break 5 1\n",
      "I'm still in the outer loop\n",
      "we're done\n"
     ]
    }
   ],
   "source": [
    "for i in range(1, 6):\n",
    "    for j in range(1, 3):\n",
    "        if i + j > 3:\n",
    "            print(\"i am going to break\", i, j)\n",
    "            break\n",
    "        print(\"The value of i is:\", i, \"the value of j is:\", j, \"their sum is:\", i+j)\n",
    "    print(\"I'm still in the outer loop\") # As this value gets printed, even when we break, it\n",
    "    # is clear break only \"breaks out\" of the inner most loop it is contained in\n",
    "print(\"we're done\")"
   ]
  },
  {
   "cell_type": "markdown",
   "metadata": {
    "slideshow": {
     "slide_type": "fragment"
    }
   },
   "source": [
    "Answer: It only breaks out of the inner most loop it is contained in."
   ]
  },
  {
   "cell_type": "markdown",
   "metadata": {
    "slideshow": {
     "slide_type": "subslide"
    }
   },
   "source": [
    "To break out of two or more loops, consider using a boolean variable:"
   ]
  },
  {
   "cell_type": "code",
   "execution_count": 31,
   "metadata": {
    "slideshow": {
     "slide_type": "fragment"
    }
   },
   "outputs": [
    {
     "name": "stdout",
     "output_type": "stream",
     "text": [
      "The value of i is: 1 the value of j is: 1 their sum is: 2\n",
      "The value of i is: 1 the value of j is: 2 their sum is: 3\n",
      "I'm still in the outer loop\n",
      "The value of i is: 2 the value of j is: 1 their sum is: 3\n",
      "i am going to break 2 2\n",
      "we're done\n"
     ]
    }
   ],
   "source": [
    "for i in range(1, 6):\n",
    "    breaked = False\n",
    "    for j in range(1, 3):\n",
    "        if i + j > 3:\n",
    "            print(\"i am going to break\", i, j)\n",
    "            breaked = True\n",
    "            break\n",
    "        print(\"The value of i is:\", i, \"the value of j is:\", j, \"their sum is:\", i+j)\n",
    "    if breaked:\n",
    "        break\n",
    "    print(\"I'm still in the outer loop\") # As this value gets printed, even when we break, it\n",
    "    # is clear break only \"breaks out\" of the inner most loop it is contained in\n",
    "print(\"we're done\")"
   ]
  },
  {
   "cell_type": "markdown",
   "metadata": {
    "id": "KzQsuZmH2G_m",
    "slideshow": {
     "slide_type": "slide"
    }
   },
   "source": [
    "# Continue\n",
    "\n",
    "Continue lets us skip the remaining portion of a loop, but not exit the loop itself.\n",
    "\n",
    "<img src=\"https://raw.githubusercontent.com/benedictpaten/intro_python/main/lecture_notebooks/figures/graffles/continue.jpg\" width=400 height=400 />\n"
   ]
  },
  {
   "cell_type": "code",
   "execution_count": 9,
   "metadata": {
    "colab": {
     "base_uri": "https://localhost:8080/"
    },
    "executionInfo": {
     "elapsed": 364,
     "status": "ok",
     "timestamp": 1607563622084,
     "user": {
      "displayName": "Benedict Paten",
      "photoUrl": "https://lh3.googleusercontent.com/a-/AOh14Gh2rYrrH6yoNnUp0Oj4p4ouybc6ZcWGyPmKFtIY=s64",
      "userId": "06399644931392855882"
     },
     "user_tz": 480
    },
    "id": "wbpGJEVjPeDO",
    "outputId": "1587dc2e-32f3-4b93-f352-777133b034ee",
    "slideshow": {
     "slide_type": "subslide"
    }
   },
   "outputs": [
    {
     "name": "stdout",
     "output_type": "stream",
     "text": [
      "adding 10\n",
      "skipping 1\n",
      "adding 12\n",
      "adding 7\n",
      "adding 8\n",
      "skipping 2\n",
      "The sum of elements in the list, ignoring values less than 5 is: 37\n"
     ]
    }
   ],
   "source": [
    "# An example of using continue: sum integers > 5 in a sequence\n",
    "\n",
    "l = [ 10, 1, 12, 7, 8, 2 ] # The list\n",
    "\n",
    "j = 0 # Sum of elements in the list\n",
    "\n",
    "for i in l:\n",
    "  if i < 5:\n",
    "    print(\"skipping \" + str(i))\n",
    "\n",
    "    continue # This says go back to the top of the loop and evaluate\n",
    "    # the loop conditional\n",
    "  \n",
    "  print(\"adding\", i)\n",
    "  j += i # Add the value of i to j\n",
    "  \n",
    "print(f\"The sum of elements in the list, ignoring values less than 5 is: {j}\")"
   ]
  },
  {
   "cell_type": "markdown",
   "metadata": {
    "id": "oqa3DMzHQNjK",
    "slideshow": {
     "slide_type": "fragment"
    }
   },
   "source": [
    "Continue let's you be more selective about how much of a loop you execute. You can always substitute it for if/else constructs, but often it is more elegant (and less code) to use continue."
   ]
  },
  {
   "cell_type": "markdown",
   "metadata": {
    "slideshow": {
     "slide_type": "subslide"
    }
   },
   "source": [
    "# Challenge 4"
   ]
  },
  {
   "cell_type": "code",
   "execution_count": 12,
   "metadata": {
    "slideshow": {
     "slide_type": "fragment"
    }
   },
   "outputs": [
    {
     "name": "stdout",
     "output_type": "stream",
     "text": [
      "Python\n",
      "because\n",
      "herpetology\n"
     ]
    }
   ],
   "source": [
    "# Add a conditional and continue statement to skip printing any word beginning with the letter 'I', 'l' or 'i'\n",
    "\n",
    "l = [ \"I'm\", \"learning\", \"Python\", \"because\", \"I'm\", \"into\", \"herpetology\"]\n",
    "\n",
    "# FYI (and hint), you access elements in a string in the same way that you access \n",
    "# elements in a list, for example \"hello\"[0] gives you the first character in the string, 'h'\n",
    "\n",
    "for j in l:\n",
    "    print(j)"
   ]
  },
  {
   "cell_type": "markdown",
   "metadata": {
    "id": "6coWzD7V9SRk",
    "slideshow": {
     "slide_type": "slide"
    }
   },
   "source": [
    "# Let's practice a bit\n",
    "\n",
    "The following code examples are designed to make you think a little bit and practice what we've learned over the last two lectures.\n",
    "\n",
    "If they doen't make sense to you try reviewing the material we've covered so far to figure out what you're struggling with.\n",
    "\n",
    "(And more at the end of the lecture if you want more examples to study)"
   ]
  },
  {
   "cell_type": "markdown",
   "metadata": {
    "slideshow": {
     "slide_type": "subslide"
    }
   },
   "source": [
    "# Factorial\n",
    "\n",
    "Calculate factorial of a given number"
   ]
  },
  {
   "cell_type": "code",
   "execution_count": 13,
   "metadata": {
    "slideshow": {
     "slide_type": "fragment"
    }
   },
   "outputs": [
    {
     "name": "stdout",
     "output_type": "stream",
     "text": [
      "Enter a whole number greater than or equal to 1: 8\n",
      "8! = 40320\n"
     ]
    }
   ],
   "source": [
    "# Let's start with an easy one. Calculating factorials\n",
    "\n",
    "n = int(input(\"Enter a whole number greater than or equal to 1: \"))\n",
    "\n",
    "assert n >= 0\n",
    "\n",
    "x = 1 \n",
    "for i in range(1, n+1):\n",
    "    x *= i\n",
    "    \n",
    "print(f\"{n}! = {x}\")  # Print n!, that is n * n-1 * n-2 ... 2 * 1"
   ]
  },
  {
   "cell_type": "markdown",
   "metadata": {
    "slideshow": {
     "slide_type": "subslide"
    }
   },
   "source": [
    "# Pairs of Multiples\n",
    "\n",
    "Find all pairs of positive integers that equal a given number."
   ]
  },
  {
   "cell_type": "code",
   "execution_count": 3,
   "metadata": {
    "slideshow": {
     "slide_type": "fragment"
    }
   },
   "outputs": [
    {
     "name": "stdout",
     "output_type": "stream",
     "text": [
      "Enter a whole number greater than or equal to 1: 54\n",
      "Found a pair of factors, 1 * 54 = 54\n",
      "Found a pair of factors, 2 * 27 = 54\n",
      "Found a pair of factors, 3 * 18 = 54\n",
      "Found a pair of factors, 6 * 9 = 54\n"
     ]
    }
   ],
   "source": [
    "# Calculate pairs of positive multiples, i.e. all pair of positive integers such that their multiple equals n\n",
    "n = int(input(\"Enter a whole number greater than or equal to 1: \"))\n",
    "\n",
    "for i in range(1, n+1):  \n",
    "    for j in range(i, n+1): # To avoid double counting we start from i\n",
    "        if i * j > n:\n",
    "            break # We can stop because all further i*j in the INNER loop\n",
    "            # will be greater than n \n",
    "        elif i * j == n:\n",
    "            print(f\"Found a pair of factors, {i} * {j} = {n}\")"
   ]
  },
  {
   "cell_type": "markdown",
   "metadata": {
    "id": "cagq9CB_AZAP",
    "slideshow": {
     "slide_type": "slide"
    }
   },
   "source": [
    "# A sqrt function\n",
    "\n",
    "Newton's method to find square roots relies on the observation that if x is a guess of the square root of n then: \n",
    " * (x + n/x)/2 \n",
    "is a better approximation.\n",
    "(If curious, see: https://math.mit.edu/~stevenj/18.335/newton-sqrt.pdf)\n",
    "\n",
    "For example:\n",
    "\n",
    "Say n = 49 and x = 3 then we can calculate the sequence of approximations iteratively:\n",
    "\n",
    "* x = 3, \n",
    "* x = (3 + 49/3)/2 = 9 2/3, \n",
    "* x = (9 + 2/3 + 49(9 + 2/3))/2 ~= 7.36\n",
    "* x = (7.36 + 49/(7.36))/2 = 7.008\n",
    "* etc..."
   ]
  },
  {
   "cell_type": "code",
   "execution_count": 18,
   "metadata": {
    "slideshow": {
     "slide_type": "subslide"
    }
   },
   "outputs": [
    {
     "name": "stdout",
     "output_type": "stream",
     "text": [
      "Enter a number: 49\n",
      "guess is 13.25\n",
      "guess is 8.474056603773585\n",
      "guess is 7.128205591060185\n",
      "guess is 7.001152932064677\n",
      "guess is 7.000000094930961\n",
      "guess is 7.0\n",
      "guess is 7.0\n",
      "guess is 7.0\n",
      "guess is 7.0\n",
      "guess is 7.0\n",
      "The sqrt is approximately: 7.0\n"
     ]
    }
   ],
   "source": [
    "n = float(input(\"Enter a number: \"))\n",
    "x = n/2.0 # Start with guess at the answer\n",
    "for i in range(10):\n",
    "    x = (x + n/x)/2\n",
    "    print(\"guess is\", x) # See the intermediate guesses\n",
    "print(\"The sqrt is approximately:\", x)"
   ]
  },
  {
   "cell_type": "markdown",
   "metadata": {
    "slideshow": {
     "slide_type": "subslide"
    }
   },
   "source": [
    "# Challenge 5"
   ]
  },
  {
   "cell_type": "code",
   "execution_count": 19,
   "metadata": {
    "slideshow": {
     "slide_type": "fragment"
    }
   },
   "outputs": [
    {
     "name": "stdout",
     "output_type": "stream",
     "text": [
      "Enter a number: 64\n",
      "guess is 17.0\n",
      "guess is 10.382352941176471\n",
      "guess is 8.273329445092484\n",
      "guess is 8.004515049597044\n",
      "guess is 8.000001273385879\n",
      "The sqrt is approximately: 8.000001273385879\n"
     ]
    }
   ],
   "source": [
    "# Challenge: Adapt the previous example (copied below) \n",
    "# to iterate until the absolute difference between successive values of x is less than a 0.00001\n",
    "# Hint: try using a while loop and break statement and the abs() function\n",
    "# the abs function gives you the absolute difference between two numbers, i.e. forgets the sign\n",
    "\n",
    "n = float(input(\"Enter a number: \"))\n",
    "x = n/2.0 # Start with guess at the answer\n",
    "for i in range(10):\n",
    "    x = (x + n/x)/2\n",
    "    print(\"guess is\", x) # See the intermediate guesses\n",
    "print(\"The sqrt is approximately:\", x)"
   ]
  },
  {
   "cell_type": "markdown",
   "metadata": {
    "id": "ur2PihONMXWV",
    "slideshow": {
     "slide_type": "slide"
    }
   },
   "source": [
    "# Reading\n",
    "\n",
    "* Open book Chapter 7: http://openbookproject.net/thinkcs/python/english3e/iteration.html\n",
    "\n",
    "# Homework\n",
    "\n",
    "* Go to Canvas and complete the lecture quiz, which involves completing each challenge problem\n",
    "* Zybook Reading 5\n"
   ]
  },
  {
   "cell_type": "markdown",
   "metadata": {
    "slideshow": {
     "slide_type": "slide"
    }
   },
   "source": [
    "# Practice Problems"
   ]
  },
  {
   "cell_type": "code",
   "execution_count": 14,
   "metadata": {
    "colab": {
     "base_uri": "https://localhost:8080/"
    },
    "executionInfo": {
     "elapsed": 9234,
     "status": "ok",
     "timestamp": 1607563814545,
     "user": {
      "displayName": "Benedict Paten",
      "photoUrl": "https://lh3.googleusercontent.com/a-/AOh14Gh2rYrrH6yoNnUp0Oj4p4ouybc6ZcWGyPmKFtIY=s64",
      "userId": "06399644931392855882"
     },
     "user_tz": 480
    },
    "id": "lWJ1ieJnH3Mt",
    "outputId": "2b545cfa-e858-443d-f34d-cb43ad70461a",
    "slideshow": {
     "slide_type": "fragment"
    }
   },
   "outputs": [
    {
     "name": "stdout",
     "output_type": "stream",
     "text": [
      "Enter a whole number: 5473289537538476593\n",
      "Number of digits in input is:  19\n"
     ]
    }
   ],
   "source": [
    "## Practice Problem 1: Counting digits\n",
    "\n",
    "# The following caculates how many digits, base 10, there are in an integer.\n",
    "\n",
    "n = int(input(\"Enter a whole number: \"))\n",
    "  \n",
    "# Calculate the number of digits in an integer (base 10).\n",
    "# e.g. For n = 6706 returns 4\n",
    "count = 0\n",
    "while n != 0:\n",
    "  count = count + 1\n",
    "  n = n // 10 # This is the integer division operator, it loses the remainder\n",
    "  \n",
    "print(\"Number of digits in input is: \", count)\n"
   ]
  },
  {
   "cell_type": "markdown",
   "metadata": {
    "id": "EUI99pKQRFQD",
    "slideshow": {
     "slide_type": "fragment"
    }
   },
   "source": [
    "Challenge: Can you see how to adapt the above to count how many digits are in the binary representation of the number? (https://en.wikipedia.org/wiki/Binary_number)"
   ]
  },
  {
   "cell_type": "code",
   "execution_count": null,
   "metadata": {},
   "outputs": [],
   "source": [
    "# Your code here (you can copy and paste the above. The modification is very simple)"
   ]
  },
  {
   "cell_type": "markdown",
   "metadata": {
    "id": "jhGACb6NIPjL",
    "slideshow": {
     "slide_type": "slide"
    }
   },
   "source": [
    "**Practice Problem 2, the Collatz 3n + 1 sequence**\n",
    "\n",
    "Let's look at the Collatz 3n + 1 sequence:\n",
    "\n",
    "* Start from some given n, the next term in the sequence is either half n if n is even, or else 3*n + 1.  \n",
    "* The sequence continues recursively until it terminates when n reaches 1.\n",
    "\n",
    "The conjecture is that the sequence always reaches 1 (and therefore terminates). This empirically seems to be true: \n",
    "\n",
    "<img src=\"https://upload.wikimedia.org/wikipedia/commons/c/c3/Collatz-10Million.png\" width=400 height=400 />\n",
    "\n",
    "The x axis shows the numbers from 1 to 10 million, the y-axis is the length of their Collatz 3n + 1 sequence.\n",
    "\n",
    "The conjecture remains unproven: https://en.wikipedia.org/wiki/Collatz_conjecture "
   ]
  },
  {
   "cell_type": "code",
   "execution_count": null,
   "metadata": {
    "colab": {
     "base_uri": "https://localhost:8080/"
    },
    "executionInfo": {
     "elapsed": 1900,
     "status": "ok",
     "timestamp": 1607563930798,
     "user": {
      "displayName": "Benedict Paten",
      "photoUrl": "https://lh3.googleusercontent.com/a-/AOh14Gh2rYrrH6yoNnUp0Oj4p4ouybc6ZcWGyPmKFtIY=s64",
      "userId": "06399644931392855882"
     },
     "user_tz": 480
    },
    "id": "Z4DPPbMRmowu",
    "outputId": "7d37ef81-a965-4f88-c279-1e9b501cc6ba",
    "slideshow": {
     "slide_type": "subslide"
    }
   },
   "outputs": [
    {
     "name": "stdout",
     "output_type": "stream",
     "text": [
      "Enter a whole number: 31\n",
      "The Collatz 3n +1 sequence is: \n",
      "31 94 47 142 71 214 107 322 161 484 242 121 364 182 91 274 137 412 206 103 310 155 466 233 700 350 175 526 263 790 395 1186 593 1780 890 445 1336 668 334 167 502 251 754 377 1132 566 283 850 425 1276 638 319 958 479 1438 719 2158 1079 3238 1619 4858 2429 7288 3644 1822 911 2734 1367 4102 2051 6154 3077 9232 4616 2308 1154 577 1732 866 433 1300 650 325 976 488 244 122 61 184 92 46 23 70 35 106 53 160 80 40 20 10 5 16 8 4 2 "
     ]
    }
   ],
   "source": [
    "# Practice Problem #2, complete the following code to compute the Collatz sequence\n",
    "\n",
    "# Print the 3n+1 sequence from n,\n",
    "# terminating when it reaches 1.\n",
    "\n",
    "n = int(input(\"Enter a whole number: \"))\n",
    "\n",
    "print(\"The Collatz 3n +1 sequence is: \")\n",
    "while n != 1:\n",
    "  print(n, end=\" \") # Print the next number in the sequence\n",
    "  \n",
    "  if n % 2 == 0:        # n is even\n",
    "    pass # Replace the pass statement \n",
    "  else:                 # n is odd\n",
    "    pass # Replace the pass statement \n",
    "\n",
    "print(1)  # Print the final entry in the sequence\n",
    "\n",
    "# Further challenge: Challenge: Alter the above to calculate the sum of integers in the\n",
    "# Collatz 3n + 1 sequence and print this sum at the end."
   ]
  },
  {
   "cell_type": "code",
   "execution_count": null,
   "metadata": {
    "slideshow": {
     "slide_type": "subslide"
    }
   },
   "outputs": [],
   "source": [
    "# Practice Problem 3: Sum of Squares\n",
    "# Write a program that calculates the sum of squares for numbers from 1 to n\n",
    "# Example: if n = 3, calculate 1^2 + 2^2 + 3^2 = 14\n",
    "\n",
    "n = int(input(\"Enter a positive integer: \"))\n",
    "# Write your code here to calculate the sum of squares\n",
    "# Hint: Use a for loop and the ** operator"
   ]
  },
  {
   "cell_type": "code",
   "execution_count": null,
   "metadata": {
    "slideshow": {
     "slide_type": "subslide"
    }
   },
   "outputs": [],
   "source": [
    "# Practice Problem 4: Number Triangle\n",
    "# Write a program that prints a number triangle pattern\n",
    "# For input n = 4, it should print:\n",
    "# 1\n",
    "# 1 2\n",
    "# 1 2 3\n",
    "# 1 2 3 4\n",
    "\n",
    "n = int(input(\"Enter the number of rows: \"))\n",
    "# Write your code here using nested loops to create the pattern\n",
    "# Hint: Use a nested loop where the inner loop depends on the outer loop's value"
   ]
  },
  {
   "cell_type": "code",
   "execution_count": null,
   "metadata": {
    "slideshow": {
     "slide_type": "subslide"
    }
   },
   "outputs": [],
   "source": [
    "# Practice Problem 5: First Perfect Square\n",
    "# Write a program that finds the first perfect square number greater than n\n",
    "# Example: if n = 15, output should be 16 (as it's the first perfect square > 15)\n",
    "\n",
    "n = int(input(\"Enter a number: \"))\n",
    "# Write your code here using a while loop and break\n",
    "# Hint: Use i * i to check for perfect squares"
   ]
  },
  {
   "cell_type": "code",
   "execution_count": null,
   "metadata": {
    "slideshow": {
     "slide_type": "subslide"
    }
   },
   "outputs": [],
   "source": [
    "# Practice Problem 6: Print Non-Multiples\n",
    "# Write a program that prints all numbers from 1 to n, \n",
    "# except those that are multiples of both 2 and 3\n",
    "# Example: if n = 8, print: 1, 5, 7\n",
    "# (Skip 2,3,4,6,8 as they're multiples of 2 and/or 3)\n",
    "\n",
    "n = int(input(\"Enter the upper limit: \"))\n",
    "# Write your code here using a for loop and continue\n",
    "# Hint: Use the modulo operator (%) to check for multiples"
   ]
  },
  {
   "cell_type": "code",
   "execution_count": null,
   "metadata": {
    "slideshow": {
     "slide_type": "subslide"
    }
   },
   "outputs": [],
   "source": [
    "# Practice Problem 7: Password Attempt Limiter\n",
    "# Write a program that gives a user 3 attempts to enter the correct password\n",
    "# - Password is \"python123\"\n",
    "# - Program should tell user if password is correct or incorrect\n",
    "# - If incorrect, tell them how many attempts remain\n",
    "# - If they run out of attempts, print \"Account locked\"\n",
    "\n",
    "correct_password = \"python123\"\n",
    "max_attempts = 3\n",
    "# Write your code here using a while loop, break, and counter\n",
    "# Hint: Use a counter to track attempts and break when password is correct"
   ]
  }
 ],
 "metadata": {
  "celltoolbar": "Slideshow",
  "colab": {
   "collapsed_sections": [
    "qrG-dqucPTBn",
    "ltqxd2dKfrrP",
    "RYt-oPWENG-F"
   ],
   "name": "L05 Loops.ipynb",
   "provenance": []
  },
  "kernelspec": {
   "display_name": "intro_python_env",
   "language": "python",
   "name": "intro_python_env"
  },
  "language_info": {
   "codemirror_mode": {
    "name": "ipython",
    "version": 3
   },
   "file_extension": ".py",
   "mimetype": "text/x-python",
   "name": "python",
   "nbconvert_exporter": "python",
   "pygments_lexer": "ipython3",
   "version": "3.11.11"
  }
 },
 "nbformat": 4,
 "nbformat_minor": 1
}
