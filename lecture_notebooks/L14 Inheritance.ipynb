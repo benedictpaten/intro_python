{
 "cells": [
  {
   "cell_type": "markdown",
   "metadata": {
    "id": "5UyFJYXOx-WH",
    "slideshow": {
     "slide_type": "slide"
    }
   },
   "source": [
    "# Lecture 14 - Inheritance (https://bit.ly/intro_python_14)\n",
    "\n",
    "* Inheritance\n",
    "\t* Object composition\n",
    "\t* Inheritance vs. composition: aka: 'Is a' vs. 'has a'.\n",
    "* **Study ahead:** Work through on your own: An Example of OOP: Implementing the card game Old Maid\n"
   ]
  },
  {
   "cell_type": "markdown",
   "metadata": {
    "id": "AxlJtEOK6Pbx",
    "slideshow": {
     "slide_type": "slide"
    }
   },
   "source": [
    "# Inheritance\n",
    "\n",
    "* Last time we looked at polymorphism, and how it allows you to reuse the same syntax and code, e.g. x + y, to achieve different things depending on the objects involved. \n",
    "\n",
    "* We implemented this by overriding (redefining) default  methods. This is an example of inheritance. \n",
    "\n",
    "* Now let's look at inheritance in general:"
   ]
  },
  {
   "cell_type": "code",
   "execution_count": 2,
   "metadata": {
    "id": "RK_inLJJHAm2",
    "slideshow": {
     "slide_type": "fragment"
    }
   },
   "outputs": [],
   "source": [
    "# Let's look at a silly example, pets:\n",
    "\n",
    "class Pet:\n",
    "  \"\"\" A class to represent a pet \"\"\"\n",
    "  def __init__(self, pet_name, age):\n",
    "    self.pet_name, self.age = pet_name, age\n",
    "\n",
    "  def noise(self):\n",
    "    \"\"\" The noise the pet makes \"\"\"\n",
    "    return \"??\" \n",
    "\n",
    "  def __str__(self):\n",
    "    return f\"Pet name: {self.pet_name}, age: {self.age}\""
   ]
  },
  {
   "cell_type": "markdown",
   "metadata": {
    "id": "LNbqtVrjHPwf",
    "slideshow": {
     "slide_type": "subslide"
    }
   },
   "source": [
    "* Suppose we wanted to make more specific objects to represent pet cats and dragons, but wanted to keep the basics of the Pet class the same.\n",
    "\n",
    "* One option would be to copy the code, but as I've said before, this is a bad pattern - copying means we have twice the code and when bugs crop up we have to fix them twice.\n",
    "\n",
    "* Instead we can use inheritance:"
   ]
  },
  {
   "cell_type": "code",
   "execution_count": 3,
   "metadata": {
    "colab": {
     "base_uri": "https://localhost:8080/"
    },
    "executionInfo": {
     "elapsed": 347,
     "status": "ok",
     "timestamp": 1607998605239,
     "user": {
      "displayName": "Benedict Paten",
      "photoUrl": "https://lh3.googleusercontent.com/a-/AOh14Gh2rYrrH6yoNnUp0Oj4p4ouybc6ZcWGyPmKFtIY=s64",
      "userId": "06399644931392855882"
     },
     "user_tz": 480
    },
    "id": "phaKZacGHW3v",
    "outputId": "d8e78908-636d-463d-c2ec-db17a3ecf1b7",
    "slideshow": {
     "slide_type": "fragment"
    }
   },
   "outputs": [
    {
     "name": "stdout",
     "output_type": "stream",
     "text": [
      "Pet name: Binky, age: 40 goes ??\n",
      "Pet name: Tibbles, age: 5 goes meow\n",
      "Pet name: Drogon, age: 2 goes rumble... growl...\n"
     ]
    }
   ],
   "source": [
    "class Cat(Pet): # The bracket notation after the class name indicates \n",
    "  # that Cat is \"inherited\" from Pet\n",
    "  def noise(self):\n",
    "    return \"meow\"\n",
    "  \n",
    "class Dragon(Pet):\n",
    "  def noise(self):\n",
    "    return \"rumble... growl...\"\n",
    "\n",
    "r = Pet(\"Binky\", 40)\n",
    "p = Cat(\"Tibbles\", 5)\n",
    "q = Dragon(\"Drogon\", 2)\n",
    "\n",
    "print(r, \"goes\", r.noise())\n",
    "print(p, \"goes\", p.noise())\n",
    "print(q, \"goes\", q.noise())\n",
    "\n"
   ]
  },
  {
   "cell_type": "markdown",
   "metadata": {
    "id": "vQfTfNv0KIGo",
    "slideshow": {
     "slide_type": "subslide"
    }
   },
   "source": [
    "So what is going on?\n",
    "\n",
    "* When you inherit from a class, you create a **child class** of the **parent class**.\n",
    "\n",
    "A child class has all the functionality of the parent, but you are free to add or redefine methods and variables.\n",
    "\n",
    "When you invoke a common method, Python figures out the right (most derived) version of the method to execute\n",
    "\n",
    "Redefinition of methods gives polymorphism: this is what we were doing last lecture with operator and built-in function overloading. It is all building on inheritance.\n"
   ]
  },
  {
   "cell_type": "markdown",
   "metadata": {
    "id": "-ozcyKaeK_4A",
    "slideshow": {
     "slide_type": "subslide"
    }
   },
   "source": [
    "Here's an illustration of what is going on:\n",
    "\n",
    "<img src=\"https://raw.githubusercontent.com/benedictpaten/intro_python/main/lecture_notebooks/figures/graffles/inheritance.jpg\" width=600 height=300 />\n",
    "\n",
    "* e.g. Calling noise() on a Pet will cause the version of the noise method in the specific pet definition to be invoked. "
   ]
  },
  {
   "cell_type": "markdown",
   "metadata": {
    "slideshow": {
     "slide_type": "subslide"
    }
   },
   "source": [
    "# Challenge 1"
   ]
  },
  {
   "cell_type": "code",
   "execution_count": 4,
   "metadata": {
    "slideshow": {
     "slide_type": "fragment"
    }
   },
   "outputs": [
    {
     "name": "stdout",
     "output_type": "stream",
     "text": [
      "Pet name: moley, age: 1 goes squeak\n"
     ]
    }
   ],
   "source": [
    "# Create a Hamster class that inherits from Pet and implements the noise method. \n",
    "# Feel free to make up whatever noise you think a Hamster makes.\n",
    "\n",
    "    \n",
    "# This code should exercise the Hamster class\n",
    "h = Hamster(\"moley\", 1)\n",
    "print(h, \"goes\", h.noise())\n"
   ]
  },
  {
   "cell_type": "markdown",
   "metadata": {
    "id": "iTzg1-y7ORjh",
    "slideshow": {
     "slide_type": "slide"
    }
   },
   "source": [
    "# Overriding \\__init__()\n",
    "\n",
    "When defining a child class you often want to override init to add new variables, but you don't want to copy the parent classes constructor, instead you can call it:"
   ]
  },
  {
   "cell_type": "code",
   "execution_count": 5,
   "metadata": {
    "colab": {
     "base_uri": "https://localhost:8080/"
    },
    "executionInfo": {
     "elapsed": 670,
     "status": "ok",
     "timestamp": 1607998674591,
     "user": {
      "displayName": "Benedict Paten",
      "photoUrl": "https://lh3.googleusercontent.com/a-/AOh14Gh2rYrrH6yoNnUp0Oj4p4ouybc6ZcWGyPmKFtIY=s64",
      "userId": "06399644931392855882"
     },
     "user_tz": 480
    },
    "id": "pWz-qhNcO3Bi",
    "outputId": "3ef3069d-894e-4e0b-89e3-288f3725db6b",
    "slideshow": {
     "slide_type": "fragment"
    }
   },
   "outputs": [
    {
     "name": "stdout",
     "output_type": "stream",
     "text": [
      "Snake name: Cuddly, age: 1, venomous?: True\n"
     ]
    }
   ],
   "source": [
    "class Snake(Pet):\n",
    "  def __init__(self, pet_name, age, venomous=True):\n",
    "    super().__init__(pet_name, age) # Super is magic to figure\n",
    "    # out the correct parent class __init__ method\n",
    "    \n",
    "    # You could equivalently call the parent constructor explicitly, not using super\n",
    "    #Pet.__init__(self, pet_name, age)\n",
    "    \n",
    "    self.venomous = venomous\n",
    "  \n",
    "  def __str__(self):\n",
    "    return f\"Snake name: {self.pet_name}, age: {self.age}, venomous?: {self.venomous}\"\n",
    "  \n",
    "  def sound(self):\n",
    "    return \"hiss\"\n",
    "  \n",
    "r = Snake(\"Cuddly\", 1)\n",
    "\n",
    "print(r)"
   ]
  },
  {
   "cell_type": "markdown",
   "metadata": {
    "id": "iwXnUX_0QAho",
    "slideshow": {
     "slide_type": "fragment"
    }
   },
   "source": [
    "* Take home: use **super()** (don't forget the parentheses) or a direct call to the parent init to call the parent constructors \\__init__().\n",
    "* Make sure to call the parent class's \\__init__() method first before doing anything else in the derived \\__init__()"
   ]
  },
  {
   "cell_type": "markdown",
   "metadata": {
    "slideshow": {
     "slide_type": "subslide"
    }
   },
   "source": [
    "# Challenge 2"
   ]
  },
  {
   "cell_type": "code",
   "execution_count": 7,
   "metadata": {
    "slideshow": {
     "slide_type": "fragment"
    }
   },
   "outputs": [],
   "source": [
    "# Expand your Hamster class from Challenge 1 to include a constructor (__init__) method \n",
    "# which calls the parent\n",
    "# constructor. The constructor should take the pet_name and age attributes and a \n",
    "# favorite_food argument, which will stored as an object variable of the same name.\n",
    "\n",
    "\n",
    "# This code should work\n",
    "h = Hamster(\"moley\", 1, \"oats\")\n",
    "assert h.pet_name == \"moley\"\n",
    "assert h.age == 1\n",
    "assert h.favorite_food == \"oats\""
   ]
  },
  {
   "cell_type": "markdown",
   "metadata": {
    "id": "Pc0F3lc45MR2",
    "slideshow": {
     "slide_type": "slide"
    }
   },
   "source": [
    "# Object Composition\n",
    "\n",
    "* When you start writing OOP code, you may be tempted to create really large objects.\n",
    "\n",
    " * However, just like with functions, in code **small is generally beautiful**. Put another way, it is often better to build more, simple objects and compose them together than build fewer, more complex objects.\n",
    "\n",
    "* Consider this very simple example from the textbook that we looked at last time:"
   ]
  },
  {
   "cell_type": "code",
   "execution_count": 7,
   "metadata": {
    "id": "KSNfzH2a5OQQ",
    "slideshow": {
     "slide_type": "fragment"
    }
   },
   "outputs": [],
   "source": [
    "# Recall from last time that we created a simple class for \n",
    "# representing 2D coordinates:\n",
    "\n",
    "class Point:\n",
    "  \"\"\" Create a new Point, at coordinates x, y \"\"\"\n",
    "\n",
    "  def __init__(self, x=0, y=0):\n",
    "    \"\"\" Create a new point at x, y \"\"\"\n",
    "    self.x = x\n",
    "    self.y = y\n",
    "\n",
    "  def distance_from_origin(self):\n",
    "    \"\"\" Compute my distance from the origin \"\"\"\n",
    "    return ((self.x ** 2) + (self.y ** 2)) ** 0.5 # This is just Pythagorus's theorem\n",
    "  \n",
    "  def __str__(self):\n",
    "    \"\"\"Return a string representing the point\"\"\"\n",
    "    return f\"({self.x}, {self.y})\""
   ]
  },
  {
   "cell_type": "markdown",
   "metadata": {
    "id": "EcE_-gBBMQ1I",
    "slideshow": {
     "slide_type": "subslide"
    }
   },
   "source": [
    "Okay, suppose we wanted to make a line object, defined by pair of points, one for each end:"
   ]
  },
  {
   "cell_type": "code",
   "execution_count": 7,
   "metadata": {
    "colab": {
     "base_uri": "https://localhost:8080/"
    },
    "executionInfo": {
     "elapsed": 339,
     "status": "ok",
     "timestamp": 1607996590340,
     "user": {
      "displayName": "Benedict Paten",
      "photoUrl": "https://lh3.googleusercontent.com/a-/AOh14Gh2rYrrH6yoNnUp0Oj4p4ouybc6ZcWGyPmKFtIY=s64",
      "userId": "06399644931392855882"
     },
     "user_tz": 480
    },
    "id": "vinwzKq-5x31",
    "outputId": "f0f72022-bfe5-4109-e199-665a77daaf04",
    "slideshow": {
     "slide_type": "fragment"
    }
   },
   "outputs": [
    {
     "name": "stdout",
     "output_type": "stream",
     "text": [
      "line:  ((0, 0), (100, 200))\n"
     ]
    }
   ],
   "source": [
    "class Line:\n",
    "  \"\"\" A class to represent lines \"\"\"\n",
    "\n",
    "  def __init__(self, p1, p2):\n",
    "    \"\"\" Initialize line with two Point objects, p1 and p2, which \n",
    "    represent the two ends of the line \n",
    "    \"\"\"\n",
    "    self.p1 = p1\n",
    "    self.p2 = p2\n",
    "\n",
    "  def __str__(self):\n",
    "    return  f\"({self.p1}, {self.p2})\" # Note how we reuse the __str__ method of Point\n",
    "\n",
    "l1 = Line(Point(0, 0), Point(100, 200))\n",
    "print(\"line: \", l1)"
   ]
  },
  {
   "cell_type": "markdown",
   "metadata": {
    "id": "a5DHbtDN5oQ9",
    "slideshow": {
     "slide_type": "fragment"
    }
   },
   "source": [
    "* This is an example of composition, because a line **\"has a\"** pair of points.\n",
    "\n",
    "* It is natural to do this with composition, in which we reuse Points to represent the two coordinate pairs.\n",
    "\n"
   ]
  },
  {
   "cell_type": "markdown",
   "metadata": {
    "slideshow": {
     "slide_type": "subslide"
    }
   },
   "source": [
    "# Challenge 3"
   ]
  },
  {
   "cell_type": "code",
   "execution_count": 8,
   "metadata": {
    "slideshow": {
     "slide_type": "fragment"
    }
   },
   "outputs": [
    {
     "name": "stdout",
     "output_type": "stream",
     "text": [
      "((0, 0), (100, 200), (300, 500))\n"
     ]
    }
   ],
   "source": [
    "# Create a triangle class, defined by three points, p1, p2, and p3.\n",
    "# Define the str method to print out the coordinates of each vertex (point) in the triangle.\n",
    "\n",
    "# This code should work\n",
    "t = Triangle(Point(0, 0), Point(100, 200), Point(300, 500))\n",
    "print(t) ## Should print out the three vertices (points) of the triangle"
   ]
  },
  {
   "cell_type": "markdown",
   "metadata": {
    "id": "AeSNnPP_Mc_P",
    "slideshow": {
     "slide_type": "slide"
    }
   },
   "source": [
    "# Inheritance vs. composition: aka: \"Is a\" vs. \"Has a\""
   ]
  },
  {
   "cell_type": "markdown",
   "metadata": {
    "id": "NSf3bLaoMkbb",
    "slideshow": {
     "slide_type": "fragment"
    }
   },
   "source": [
    "When you first learn about inheritance there is a tendency to overuse it. Consider, we could have implemented the line class using inheritance:"
   ]
  },
  {
   "cell_type": "code",
   "execution_count": 8,
   "metadata": {
    "colab": {
     "base_uri": "https://localhost:8080/"
    },
    "executionInfo": {
     "elapsed": 395,
     "status": "ok",
     "timestamp": 1607997019395,
     "user": {
      "displayName": "Benedict Paten",
      "photoUrl": "https://lh3.googleusercontent.com/a-/AOh14Gh2rYrrH6yoNnUp0Oj4p4ouybc6ZcWGyPmKFtIY=s64",
      "userId": "06399644931392855882"
     },
     "user_tz": 480
    },
    "id": "og8pHqzvOICS",
    "outputId": "d922d796-cc56-4bc4-af31-2c0b91694c69",
    "slideshow": {
     "slide_type": "fragment"
    }
   },
   "outputs": [
    {
     "name": "stdout",
     "output_type": "stream",
     "text": [
      "line:  ((0, 0), (100, 200))\n"
     ]
    }
   ],
   "source": [
    "class Line(Point):\n",
    "  \"\"\" A class to represent lines \"\"\"\n",
    "\n",
    "  def __init__(self, x, y, x2, y2):\n",
    "    \"\"\" Initialize line with two sets of x, y coordinates: (x, y) and (x2, y2) \n",
    "    \"\"\"\n",
    "    super().__init__(x, y)\n",
    "    self.x2 = x2\n",
    "    self.y2 = y2\n",
    "\n",
    "  def __str__(self):\n",
    "    return  f\"(({self.x}, {self.y}), ({self.x2}, {self.y2}))\" \n",
    " \n",
    "l1 = Line(0, 0, 100, 200)\n",
    "print(\"line: \", l1)"
   ]
  },
  {
   "cell_type": "markdown",
   "metadata": {
    "id": "3ZOAn7YiRfl0",
    "slideshow": {
     "slide_type": "subslide"
    }
   },
   "source": [
    "* However, a Line is not a kind of Point, rather it has ends which are points\n",
    "\n",
    "* Practically this means that instead of composing a line out of a pair of points, we have overridden the behaviour of point. We've really not maintained anything of the Point class in Line, apart from the variables x and y.\n",
    "\n",
    "* The result is that we can not share points between lines without duplicating memory. This might seem trivial, but it can have major design implications.\n",
    "\n",
    "* The take home: when building object hierarchies think carefully about if the relationship between objects is a **\"is a\"** relationship or a **\"has a\"** relationship. \n",
    "\n",
    "* **\"Is a\" implies inheritance.**\n",
    "\n",
    "* **\"Has a\" implies composition.**\n",
    "\n",
    "  * A line \"has a\" pair of points\n",
    "\n",
    "  * A line \"is not a\" point"
   ]
  },
  {
   "cell_type": "markdown",
   "metadata": {
    "id": "L2HQgeVTD8Ol",
    "slideshow": {
     "slide_type": "slide"
    }
   },
   "source": [
    " # An Example of OOP: Implementing the card game Old Maid\n",
    "\n",
    " **You may want to read the following ahead of going through the remainder of this lecture to get the most out of the following code walk through**\n",
    " \n",
    " * We're going to use the example of a card game (Old Maid; taken from: http://openbookproject.net/thinkcs/python/english3e/inheritance.html which contains a good write-up)\n",
    " \n",
    " * The objective is to study how a card game can be mapped to a set of objects in a natural way.\n",
    " \n",
    " * A card game has:\n",
    "  * Individual cards, each with a suit and rank, e.g. Ace, 2, 3, 4, ...\n",
    "  * One or more decks (a deck being a full set of cards)\n",
    "  * Hands (a hand is  subset of cards)\n",
    "  * Game logic\n",
    "  \n",
    "* We will see that we can map each of these concepts to a class definition.\n",
    "\n",
    "* In this process, we'll figure out which functions we'll need and in which classes they belong.\n",
    "\n",
    "Let's first build a card class:"
   ]
  },
  {
   "cell_type": "markdown",
   "metadata": {
    "id": "If9Lg6lDGDKh",
    "slideshow": {
     "slide_type": "slide"
    }
   },
   "source": [
    "# The Card Class\n",
    "\n",
    "* A card has a suit (Clubs, Diamonds, Hearts or Spades) and a rank (Ace, 2, 3 ...).\n",
    "* As a reminder, cards also have a color, such that Diamonds and Hearts are Red while Clubs and Spades are black. Given that the suit implies the color, we don't need to store that.\n",
    "* We create a class to represent a card. In doing so we implement comparison functions, so that we can programmatically compare any two cards."
   ]
  },
  {
   "cell_type": "code",
   "execution_count": 9,
   "metadata": {
    "executionInfo": {
     "elapsed": 244,
     "status": "ok",
     "timestamp": 1614124610027,
     "user": {
      "displayName": "Benedict Paten",
      "photoUrl": "https://lh3.googleusercontent.com/a-/AOh14Gh2rYrrH6yoNnUp0Oj4p4ouybc6ZcWGyPmKFtIY=s64",
      "userId": "06399644931392855882"
     },
     "user_tz": 480
    },
    "id": "Fv6ucZiFYbG9",
    "slideshow": {
     "slide_type": "subslide"
    }
   },
   "outputs": [],
   "source": [
    "class Card:\n",
    "    \"\"\" Represents a card from a deck of cards.\n",
    "    \"\"\"\n",
    "  \n",
    "    # Here are some class variables\n",
    "    # to represent possible suits and ranks\n",
    "    suits = [\"Clubs\", \"Diamonds\", \"Spades\", \"Hearts\"]\n",
    "    ranks = [\"narf\", \"Ace\", \"2\", \"3\", \"4\", \"5\", \"6\", \"7\",\n",
    "             \"8\", \"9\", \"10\", \"Jack\", \"Queen\", \"King\"]  \n",
    "\n",
    "    def __init__(self, suit=0, rank=0):\n",
    "      \"\"\" Create a card using integer variables to represent suit and rank.\n",
    "      \"\"\"\n",
    "      # Couple of handy asserts to check any cards we build make sense\n",
    "      assert suit >= 0 and suit < 4  \n",
    "      assert rank >= 0 and rank < 14\n",
    "        \n",
    "      self.suit = suit\n",
    "      self.rank = rank\n",
    "\n",
    "    def __str__(self):\n",
    "      # The lookup in the suits/ranks lists prints \n",
    "      # a human readable representation of the card.\n",
    "      return (self.ranks[self.rank] + \" of \" + self.suits[self.suit])\n",
    "      \n",
    "    def same_color(self, other):\n",
    "      \"\"\" Returns the True if cards have the same color else False\n",
    "      Diamonds and hearts are both red, clubs and spades are both black.\n",
    "      \"\"\"\n",
    "      return self.suite == other.suite or self.suite == (other.suite + 2) % 4\n",
    "    \n",
    "    # The following methods implement card comparison\n",
    "    \n",
    "    def cmp(self, other):\n",
    "      \"\"\" Compares the card with another, returning 1, 0, or -1 depending on \n",
    "      if this card is greater than, equal or less than the other card, respectively.\n",
    "      \n",
    "      Cards are compared first by suit and then rank.\n",
    "      \"\"\"\n",
    "      # Check the suits\n",
    "      if self.suit > other.suit: return 1\n",
    "      if self.suit < other.suit: return -1\n",
    "      # Suits are the same... check ranks\n",
    "      if self.rank > other.rank: return 1\n",
    "      if self.rank < other.rank: return -1\n",
    "      # Ranks are the same... it's a tie\n",
    "      return 0\n",
    "      \n",
    "    def __eq__(self, other):\n",
    "        return self.cmp(other) == 0\n",
    "\n",
    "    def __le__(self, other):\n",
    "        return self.cmp(other) <= 0\n",
    "\n",
    "    def __ge__(self, other):\n",
    "        return self.cmp(other) >= 0\n",
    "\n",
    "    def __gt__(self, other):\n",
    "        return self.cmp(other) > 0\n",
    "\n",
    "    def __lt__(self, other):\n",
    "        return self.cmp(other) < 0\n",
    "\n",
    "    def __ne__(self, other):\n",
    "        return self.cmp(other) != 0"
   ]
  },
  {
   "cell_type": "code",
   "execution_count": 10,
   "metadata": {
    "colab": {
     "base_uri": "https://localhost:8080/"
    },
    "executionInfo": {
     "elapsed": 231,
     "status": "ok",
     "timestamp": 1614124623502,
     "user": {
      "displayName": "Benedict Paten",
      "photoUrl": "https://lh3.googleusercontent.com/a-/AOh14Gh2rYrrH6yoNnUp0Oj4p4ouybc6ZcWGyPmKFtIY=s64",
      "userId": "06399644931392855882"
     },
     "user_tz": 480
    },
    "id": "B2yy720MKRJZ",
    "outputId": "215e4468-0d42-4bd0-87e8-7c9e67c1844e",
    "slideshow": {
     "slide_type": "subslide"
    }
   },
   "outputs": [
    {
     "name": "stdout",
     "output_type": "stream",
     "text": [
      "x is: Ace of Spades\n",
      "y is: King of Spades\n",
      "x is less than y: True\n"
     ]
    }
   ],
   "source": [
    "# Play with the cards\n",
    "\n",
    "x = Card(2, 1)\n",
    "y = Card(2, 13)\n",
    "\n",
    "print(\"x is:\", x)\n",
    "print(\"y is:\", y)\n",
    "print(\"x is less than y:\", x < y) # Aces low."
   ]
  },
  {
   "cell_type": "markdown",
   "metadata": {
    "id": "lut9ivL7I42n",
    "slideshow": {
     "slide_type": "slide"
    }
   },
   "source": [
    "# The Deck Class\n",
    "\n",
    "* A deck is a set of cards. \n",
    "\n",
    "* We should be able to shuffle a deck, we also implement  methods to remove cards from the deck so that we can deal them in hands.\n",
    "\n",
    "* Deck is not a type of card, rather a deck is composed of cards, so we use composition to include cards in the deck."
   ]
  },
  {
   "cell_type": "code",
   "execution_count": 11,
   "metadata": {
    "executionInfo": {
     "elapsed": 250,
     "status": "ok",
     "timestamp": 1614124986038,
     "user": {
      "displayName": "Benedict Paten",
      "photoUrl": "https://lh3.googleusercontent.com/a-/AOh14Gh2rYrrH6yoNnUp0Oj4p4ouybc6ZcWGyPmKFtIY=s64",
      "userId": "06399644931392855882"
     },
     "user_tz": 480
    },
    "id": "hS5tej3Tv-pw",
    "slideshow": {
     "slide_type": "subslide"
    }
   },
   "outputs": [],
   "source": [
    "import random\n",
    "\n",
    "class Deck:\n",
    "    \"\"\" Represents a deck of cards.\n",
    "    \"\"\"\n",
    "  \n",
    "    def __init__(self):\n",
    "        \"\"\" Creates a full set of cards\"\"\"\n",
    "        self.cards = [] # cards stores the list of cards\n",
    "        for suit in range(4): # Note the nested for loops\n",
    "            for rank in range(1, 14):\n",
    "                self.cards.append(Card(suit, rank))\n",
    "    \n",
    "    def __str__(self):\n",
    "        s = \"\" # Builds a deck of cards, laying them out diagonally \n",
    "        # across the screen.\n",
    "        for i in range(len(self.cards)):\n",
    "            s = s + \" \" * i + str(self.cards[i]) + \"\\n\"\n",
    "        return s\n",
    "      \n",
    "    def __len__(self):\n",
    "        return len(self.cards)\n",
    "      \n",
    "    def shuffle(self):\n",
    "        \"\"\" Shuffles the cards into a random order\n",
    "        \"\"\"\n",
    "        rng = random.Random()        # Create a random generator\n",
    "        num_cards = len(self.cards)\n",
    "        for i in range(num_cards):\n",
    "            j = rng.randrange(i, num_cards)\n",
    "            (self.cards[i], self.cards[j]) = (self.cards[j], self.cards[i])\n",
    "    \n",
    "    def remove(self, card):\n",
    "        \"\"\" Removes the card from the deck. Returns True if successful. \"\"\"\n",
    "        if card in self.cards:\n",
    "            self.cards.remove(card)\n",
    "            return True\n",
    "        else:\n",
    "            return False\n",
    "          \n",
    "    def pop(self):\n",
    "        \"\"\" Removes the last card in the deck and returns it.\"\"\"\n",
    "        return self.cards.pop()\n",
    "    \n",
    "    def add(self, card):\n",
    "        \"\"\" Adds the card to the deck. \"\"\"\n",
    "        assert card not in self.cards # We include this check here\n",
    "        # because we want to protect against having the same card\n",
    "        # in the deck twice\n",
    "        self.cards.append(card)\n",
    "      \n",
    "    def is_empty(self):\n",
    "        \"\"\" Returns True if the deck is empty.\"\"\"\n",
    "        return self.cards == []\n",
    "      \n",
    "    def deal(self, hands, num_cards_per_hand=999):\n",
    "        \"\"\" Deals cards into hands. num_cards_per_hand \n",
    "        is number of cards per hand\"\"\"\n",
    "        num_hands = len(hands)\n",
    "        for i in range(num_cards_per_hand * num_hands):\n",
    "            if self.is_empty():\n",
    "                break                    # Break if out of cards\n",
    "            card = self.pop()            # Take the top card\n",
    "            hand = hands[i % num_hands]  # Whose turn is next?\n",
    "            hand.add(card)               # Add the card to the hand"
   ]
  },
  {
   "cell_type": "code",
   "execution_count": 12,
   "metadata": {
    "colab": {
     "base_uri": "https://localhost:8080/"
    },
    "executionInfo": {
     "elapsed": 235,
     "status": "ok",
     "timestamp": 1614124990965,
     "user": {
      "displayName": "Benedict Paten",
      "photoUrl": "https://lh3.googleusercontent.com/a-/AOh14Gh2rYrrH6yoNnUp0Oj4p4ouybc6ZcWGyPmKFtIY=s64",
      "userId": "06399644931392855882"
     },
     "user_tz": 480
    },
    "id": "7EI2wQolMQ7v",
    "outputId": "f2b444eb-1c64-4e9a-9a3f-72ab2e90edee",
    "slideshow": {
     "slide_type": "subslide"
    }
   },
   "outputs": [
    {
     "name": "stdout",
     "output_type": "stream",
     "text": [
      "Ace of Clubs\n",
      " 2 of Clubs\n",
      "  3 of Clubs\n",
      "   4 of Clubs\n",
      "    5 of Clubs\n",
      "     6 of Clubs\n",
      "      7 of Clubs\n",
      "       8 of Clubs\n",
      "        9 of Clubs\n",
      "         10 of Clubs\n",
      "          Jack of Clubs\n",
      "           Queen of Clubs\n",
      "            King of Clubs\n",
      "             Ace of Diamonds\n",
      "              2 of Diamonds\n",
      "               3 of Diamonds\n",
      "                4 of Diamonds\n",
      "                 5 of Diamonds\n",
      "                  6 of Diamonds\n",
      "                   7 of Diamonds\n",
      "                    8 of Diamonds\n",
      "                     9 of Diamonds\n",
      "                      10 of Diamonds\n",
      "                       Jack of Diamonds\n",
      "                        Queen of Diamonds\n",
      "                         King of Diamonds\n",
      "                          Ace of Spades\n",
      "                           2 of Spades\n",
      "                            3 of Spades\n",
      "                             4 of Spades\n",
      "                              5 of Spades\n",
      "                               6 of Spades\n",
      "                                7 of Spades\n",
      "                                 8 of Spades\n",
      "                                  9 of Spades\n",
      "                                   10 of Spades\n",
      "                                    Jack of Spades\n",
      "                                     Queen of Spades\n",
      "                                      King of Spades\n",
      "                                       Ace of Hearts\n",
      "                                        2 of Hearts\n",
      "                                         3 of Hearts\n",
      "                                          4 of Hearts\n",
      "                                           5 of Hearts\n",
      "                                            6 of Hearts\n",
      "                                             7 of Hearts\n",
      "                                              8 of Hearts\n",
      "                                               9 of Hearts\n",
      "                                                10 of Hearts\n",
      "                                                 Jack of Hearts\n",
      "                                                  Queen of Hearts\n",
      "                                                   King of Hearts\n",
      "\n",
      "There are 52 cards\n",
      "Ace of Diamonds\n",
      " 2 of Clubs\n",
      "  8 of Hearts\n",
      "   9 of Diamonds\n",
      "    8 of Clubs\n",
      "     Jack of Spades\n",
      "      4 of Hearts\n",
      "       Jack of Clubs\n",
      "        10 of Hearts\n",
      "         3 of Clubs\n",
      "          King of Diamonds\n",
      "           Ace of Clubs\n",
      "            Jack of Hearts\n",
      "             6 of Diamonds\n",
      "              2 of Diamonds\n",
      "               9 of Spades\n",
      "                6 of Spades\n",
      "                 3 of Spades\n",
      "                  2 of Spades\n",
      "                   10 of Spades\n",
      "                    10 of Clubs\n",
      "                     6 of Hearts\n",
      "                      5 of Hearts\n",
      "                       King of Hearts\n",
      "                        Ace of Hearts\n",
      "                         5 of Clubs\n",
      "                          4 of Diamonds\n",
      "                           Queen of Hearts\n",
      "                            6 of Clubs\n",
      "                             2 of Hearts\n",
      "                              Ace of Spades\n",
      "                               8 of Spades\n",
      "                                9 of Hearts\n",
      "                                 Queen of Clubs\n",
      "                                  Queen of Spades\n",
      "                                   4 of Spades\n",
      "                                    4 of Clubs\n",
      "                                     5 of Diamonds\n",
      "                                      10 of Diamonds\n",
      "                                       King of Spades\n",
      "                                        Queen of Diamonds\n",
      "                                         3 of Hearts\n",
      "                                          8 of Diamonds\n",
      "                                           3 of Diamonds\n",
      "                                            Jack of Diamonds\n",
      "                                             7 of Clubs\n",
      "                                              7 of Spades\n",
      "                                               5 of Spades\n",
      "                                                7 of Hearts\n",
      "                                                 7 of Diamonds\n",
      "                                                  King of Clubs\n",
      "                                                   9 of Clubs\n",
      "\n"
     ]
    }
   ],
   "source": [
    "# Play with deck of cards \n",
    "\n",
    "deck = Deck()\n",
    "\n",
    "print(deck)\n",
    "\n",
    "print(\"There are\", len(deck), \"cards\")\n",
    "\n",
    "deck.shuffle()\n",
    "\n",
    "print(deck)"
   ]
  },
  {
   "cell_type": "markdown",
   "metadata": {
    "id": "vBVbvnisFREH",
    "slideshow": {
     "slide_type": "slide"
    }
   },
   "source": [
    "# The Hand Class\n",
    "\n",
    "* Represents a hand of cards. \n",
    "\n",
    "* A hand \"is a\" type of deck, albeit one with a smaller number of cards. It therefore makes sense to inherit from deck to make a sub-type of deck, albeit one with:\n",
    "  * a name (for the player)\n",
    "  * an adapted print method"
   ]
  },
  {
   "cell_type": "code",
   "execution_count": 4,
   "metadata": {
    "executionInfo": {
     "elapsed": 209,
     "status": "ok",
     "timestamp": 1614125209309,
     "user": {
      "displayName": "Benedict Paten",
      "photoUrl": "https://lh3.googleusercontent.com/a-/AOh14Gh2rYrrH6yoNnUp0Oj4p4ouybc6ZcWGyPmKFtIY=s64",
      "userId": "06399644931392855882"
     },
     "user_tz": 480
    },
    "id": "gNr3WJuOxLj7",
    "slideshow": {
     "slide_type": "fragment"
    }
   },
   "outputs": [],
   "source": [
    "class Hand(Deck):\n",
    "    \"\"\" Represents a hand of cards. \"\"\"\n",
    "    \n",
    "    def __init__(self, name=\"\"):\n",
    "      \"\"\" Creates an initially empty set of cards.\n",
    "      \"\"\"\n",
    "      self.cards = []\n",
    "      self.name = name\n",
    "    \n",
    "    def __str__(self):\n",
    "      s = \"Hand \" + self.name\n",
    "      if self.is_empty():\n",
    "          s += \" is empty\\n\"\n",
    "      else:\n",
    "          s += \" contains\\n\"\n",
    "      return s + Deck.__str__(self)"
   ]
  },
  {
   "cell_type": "code",
   "execution_count": 5,
   "metadata": {
    "colab": {
     "base_uri": "https://localhost:8080/"
    },
    "executionInfo": {
     "elapsed": 212,
     "status": "ok",
     "timestamp": 1614125211416,
     "user": {
      "displayName": "Benedict Paten",
      "photoUrl": "https://lh3.googleusercontent.com/a-/AOh14Gh2rYrrH6yoNnUp0Oj4p4ouybc6ZcWGyPmKFtIY=s64",
      "userId": "06399644931392855882"
     },
     "user_tz": 480
    },
    "id": "pNGMS6rONEEY",
    "outputId": "0ef34e8a-baef-43f2-8af7-6703dc5b4b93",
    "slideshow": {
     "slide_type": "subslide"
    }
   },
   "outputs": [
    {
     "name": "stdout",
     "output_type": "stream",
     "text": [
      "Hand Dave contains\n",
      "Ace of Spades\n",
      " 10 of Clubs\n",
      "  9 of Hearts\n",
      "   4 of Diamonds\n",
      "    3 of Diamonds\n",
      "\n",
      "Hand Rojin contains\n",
      "2 of Hearts\n",
      " Jack of Spades\n",
      "  Queen of Clubs\n",
      "   8 of Hearts\n",
      "    Ace of Diamonds\n",
      "\n"
     ]
    }
   ],
   "source": [
    "# Play with hands of cards\n",
    "\n",
    "deck = Deck()\n",
    "\n",
    "deck.shuffle() # Shuffle the deck\n",
    "\n",
    "# Make two hands, dealing cards from the deck\n",
    "daves = Hand(\"Dave\")\n",
    "rojins = Hand(\"Rojin\")\n",
    "deck.deal([ daves, rojins ], 5)\n",
    "\n",
    "# Print the resulting hands\n",
    "print(daves)\n",
    "print(rojins)"
   ]
  },
  {
   "cell_type": "markdown",
   "metadata": {
    "id": "QVLYm77gFVKz",
    "slideshow": {
     "slide_type": "slide"
    }
   },
   "source": [
    "# The Card Game Class\n",
    "\n",
    "* We need a class to represent the logic of the game.\n",
    "\n",
    "* This logic is not inherently part of the Card, Deck or Hand classes, rather it makes sense for it to be a separate class that encapsulates the rules.\n",
    "\n",
    "* Here we use a trick of creating a \"base class\", a mostly empty class that represents the base functionality that a game of cards might need, but which in and of itself is not a complete game."
   ]
  },
  {
   "cell_type": "code",
   "execution_count": 6,
   "metadata": {
    "executionInfo": {
     "elapsed": 241,
     "status": "ok",
     "timestamp": 1614125443070,
     "user": {
      "displayName": "Benedict Paten",
      "photoUrl": "https://lh3.googleusercontent.com/a-/AOh14Gh2rYrrH6yoNnUp0Oj4p4ouybc6ZcWGyPmKFtIY=s64",
      "userId": "06399644931392855882"
     },
     "user_tz": 480
    },
    "id": "k56R0BeryE3g",
    "slideshow": {
     "slide_type": "fragment"
    }
   },
   "outputs": [],
   "source": [
    "class CardGame:\n",
    "    \"\"\" Represents a card game. Designed\n",
    "    to be inherited by more specific, complete games\n",
    "    \"\"\"\n",
    "    \n",
    "    def __init__(self):\n",
    "        self.deck = Deck()\n",
    "        self.deck.shuffle()"
   ]
  },
  {
   "cell_type": "markdown",
   "metadata": {
    "id": "B4OROuiaFXa0",
    "slideshow": {
     "slide_type": "slide"
    }
   },
   "source": [
    "# Old Maid\n",
    "\n",
    "* The mechanics of Old Maid (well the version we're doing):\n",
    "  * 2 or more players\n",
    "  * A pair of cards is a match if they have equal color and rank\n",
    "  * The goal of play is to discard pairs of matched cards, and not to be left with the odd card (a queen) at the end.\n",
    "  * Setup:\n",
    "    * One queen is removed from the deck\n",
    "    * Remaining cards are dealt and players discard any pairs of matches in their hands\n",
    "  * Play:\n",
    "    * First player offers hand face-down to neighboring player to their left\n",
    "    * Neighboring player chooses one card and adds it to hand, discarding any new pair of matches\n",
    "    * Neighboring player then offers their hand to their left neighbor, and so forth\n",
    "    * Play continues until only one card remains, the unmatchable queen (called the old-maid).\n",
    "    * Player with the the old maid is the loser (wierdly, there is no overall winner).\n",
    "   \n",
    "  "
   ]
  },
  {
   "cell_type": "markdown",
   "metadata": {
    "id": "wGJmS_BspWqm",
    "slideshow": {
     "slide_type": "slide"
    }
   },
   "source": [
    "# Old Maid Hand\n",
    "\n",
    "* To implement the removal of pairs of matches from a hand it makes sense to create a specialized version of a hand:"
   ]
  },
  {
   "cell_type": "code",
   "execution_count": 7,
   "metadata": {
    "executionInfo": {
     "elapsed": 246,
     "status": "ok",
     "timestamp": 1614125445244,
     "user": {
      "displayName": "Benedict Paten",
      "photoUrl": "https://lh3.googleusercontent.com/a-/AOh14Gh2rYrrH6yoNnUp0Oj4p4ouybc6ZcWGyPmKFtIY=s64",
      "userId": "06399644931392855882"
     },
     "user_tz": 480
    },
    "id": "h0C4-VAQyFnK",
    "slideshow": {
     "slide_type": "fragment"
    }
   },
   "outputs": [],
   "source": [
    "class OldMaidHand(Hand):\n",
    "    \"\"\" Old Maid version of a hand.\n",
    "    \"\"\"\n",
    "    \n",
    "    def remove_matches(self):\n",
    "        \"\"\" Remove any pairs of matches from the hand.\n",
    "        Returns removed cards as a list.\n",
    "        \"\"\"\n",
    "        removed_cards = []\n",
    "        for card in self.cards[:]: # Note the fact that we copy self.cards\n",
    "            # before iterating over it, this is because we edit self.cards[:]\n",
    "            # in the loop, and you can't edit and iterate over the same list\n",
    "            # at the same time\n",
    "            \n",
    "            match = Card((card.suit + 2) % 4, card.rank)\n",
    "            if match in self.cards:\n",
    "                self.cards.remove(card)\n",
    "                self.cards.remove(match)\n",
    "                removed_cards.append(card)\n",
    "                removed_cards.append(match)\n",
    "                print(\"Hand {0}: {1} matches {2}\"\n",
    "                        .format(self.name, card, match))\n",
    "                \n",
    "        return removed_cards "
   ]
  },
  {
   "cell_type": "code",
   "execution_count": 8,
   "metadata": {
    "colab": {
     "base_uri": "https://localhost:8080/"
    },
    "executionInfo": {
     "elapsed": 207,
     "status": "ok",
     "timestamp": 1614125447515,
     "user": {
      "displayName": "Benedict Paten",
      "photoUrl": "https://lh3.googleusercontent.com/a-/AOh14Gh2rYrrH6yoNnUp0Oj4p4ouybc6ZcWGyPmKFtIY=s64",
      "userId": "06399644931392855882"
     },
     "user_tz": 480
    },
    "id": "6LocQ79cuFax",
    "outputId": "af0d3b98-c85d-43eb-bf1d-f76fc0fb2ec2",
    "slideshow": {
     "slide_type": "subslide"
    }
   },
   "outputs": [
    {
     "name": "stdout",
     "output_type": "stream",
     "text": [
      "Hand Dave contains\n",
      "3 of Hearts\n",
      " 10 of Clubs\n",
      "  6 of Clubs\n",
      "   9 of Diamonds\n",
      "    4 of Diamonds\n",
      "     Jack of Spades\n",
      "      4 of Spades\n",
      "       2 of Diamonds\n",
      "        7 of Spades\n",
      "         10 of Diamonds\n",
      "          4 of Clubs\n",
      "           9 of Hearts\n",
      "            3 of Clubs\n",
      "             7 of Clubs\n",
      "              10 of Spades\n",
      "               6 of Spades\n",
      "                2 of Hearts\n",
      "                 8 of Diamonds\n",
      "                  5 of Diamonds\n",
      "                   King of Hearts\n",
      "                    5 of Spades\n",
      "                     5 of Hearts\n",
      "                      2 of Spades\n",
      "                       3 of Diamonds\n",
      "                        8 of Hearts\n",
      "\n",
      "Hand Dave: 3 of Hearts matches 3 of Diamonds\n",
      "Hand Dave: 10 of Clubs matches 10 of Spades\n",
      "Hand Dave: 6 of Clubs matches 6 of Spades\n",
      "Hand Dave: 9 of Diamonds matches 9 of Hearts\n",
      "Hand Dave: 4 of Spades matches 4 of Clubs\n",
      "Hand Dave: 2 of Diamonds matches 2 of Hearts\n",
      "Hand Dave: 7 of Spades matches 7 of Clubs\n",
      "Hand Dave: 8 of Diamonds matches 8 of Hearts\n",
      "Hand Dave: 5 of Diamonds matches 5 of Hearts\n",
      "Removed cards ['3 of Hearts', '3 of Diamonds', '10 of Clubs', '10 of Spades', '6 of Clubs', '6 of Spades', '9 of Diamonds', '9 of Hearts', '4 of Spades', '4 of Clubs', '2 of Diamonds', '2 of Hearts', '7 of Spades', '7 of Clubs', '8 of Diamonds', '8 of Hearts', '5 of Diamonds', '5 of Hearts']\n",
      "Hand Dave contains\n",
      "4 of Diamonds\n",
      " Jack of Spades\n",
      "  10 of Diamonds\n",
      "   3 of Clubs\n",
      "    King of Hearts\n",
      "     5 of Spades\n",
      "      2 of Spades\n",
      "\n"
     ]
    }
   ],
   "source": [
    "# Make a shuffled deck\n",
    "deck = Deck()\n",
    "deck.shuffle()\n",
    "\n",
    "# Make a hand, dealing cards from the deck\n",
    "daves = OldMaidHand(\"Dave\")\n",
    "deck.deal([ daves ], 25)\n",
    "\n",
    "# Print the resulting hand\n",
    "print(daves)\n",
    "\n",
    "# Remove the matches\n",
    "removed_cards = daves.remove_matches()\n",
    "print(\"Removed cards\", list(map(str, removed_cards)))\n",
    "\n",
    "# Print the resulting hand\n",
    "print(daves)"
   ]
  },
  {
   "cell_type": "markdown",
   "metadata": {
    "id": "xbb4SaWJq-wk",
    "slideshow": {
     "slide_type": "slide"
    }
   },
   "source": [
    "# Old Maid Game Class\n",
    "\n",
    "* Okay, now let's implement the actual game logic:"
   ]
  },
  {
   "cell_type": "code",
   "execution_count": 9,
   "metadata": {
    "executionInfo": {
     "elapsed": 250,
     "status": "ok",
     "timestamp": 1614125624001,
     "user": {
      "displayName": "Benedict Paten",
      "photoUrl": "https://lh3.googleusercontent.com/a-/AOh14Gh2rYrrH6yoNnUp0Oj4p4ouybc6ZcWGyPmKFtIY=s64",
      "userId": "06399644931392855882"
     },
     "user_tz": 480
    },
    "id": "BNQqnfOYyV1O",
    "slideshow": {
     "slide_type": "subslide"
    }
   },
   "outputs": [],
   "source": [
    "class OldMaidGame(CardGame):\n",
    "    def __init__(self, names):\n",
    "        \"\"\" Construct a game of Old Maid, each name\n",
    "        in names is the name of a player.\n",
    "        \"\"\"\n",
    "        CardGame.__init__(self) # Call the base class constructor\n",
    "        \n",
    "        # Remove Queen of Clubs (so Queen of Spades is Old Maid)\n",
    "        self.deck.remove(Card(0,12))\n",
    "\n",
    "        # Make a hand for each player\n",
    "        self.hands = []\n",
    "        for name in names:\n",
    "            self.hands.append(OldMaidHand(name))\n",
    "        \n",
    "    def play(self, interactive=False):\n",
    "        # Deal the cards\n",
    "        self.deck.deal(self.hands)\n",
    "        print(\"---------- Cards have been dealt\")\n",
    "        self.print_hands()\n",
    "\n",
    "        # Remove initial matches\n",
    "        count = 1 # Count of discarded cards (1 to start, \n",
    "        # representing discarded queen)\n",
    "        for hand in self.hands:\n",
    "            count += len(hand.remove_matches())\n",
    "        print(\"---------- Matches discarded, play ready to begin\")\n",
    "        self.print_hands()\n",
    "\n",
    "        # Play until all 50 cards are matched\n",
    "        turn = 0\n",
    "        num_hands = len(self.hands)\n",
    "        while count < 51:\n",
    "            count += self.play_one_turn(turn, interactive)\n",
    "            turn = (turn + 1) % num_hands\n",
    "\n",
    "        print(\"---------- Game is Over\")\n",
    "        self.print_hands()\n",
    "      \n",
    "    def play_one_turn(self, i, interactive):\n",
    "        \"\"\" Play one turn for the ith player\n",
    "        \"\"\"\n",
    "        \n",
    "        hand = self.hands[i]\n",
    "        \n",
    "        #if hand.is_empty(): # You can remove comments to allow players to get \"out\"\n",
    "        #return 0\n",
    "          \n",
    "        # Find a neighboring hand with one or more cards\n",
    "        neighbor = self.hands[self.find_neighbor(i)]\n",
    "        \n",
    "        if interactive:\n",
    "            # Allow the user to pick the card to add to their deck\n",
    "            while True:\n",
    "                s = \"{} enter a card choice from 1 to {} from {}'s hand:\".\\\n",
    "                format(hand.name, len(neighbor.cards)-1, neighbor.name)\n",
    "                user_value = input(s)\n",
    "                try: # This is an example of exception handling, we'll cover this next time\n",
    "                    j = int(user_value)\n",
    "                except ValueError:\n",
    "                    print(\"Invalid number\", user_value)\n",
    "                    continue\n",
    "                if j < 1 or j > len(neighbor.cards)-1:\n",
    "                    print(\"Invalid choice\", j)\n",
    "                    continue\n",
    "                picked_card = neighbor.cards[j-1]\n",
    "                del neighbor.cards[j-1]\n",
    "                break\n",
    "        else:\n",
    "            # Else just pick one randomly\n",
    "            picked_card = neighbor.pop()\n",
    "            \n",
    "        hand.add(picked_card)\n",
    "        print(\"Hand\", hand.name, \"picked\", picked_card, \"from\", neighbor.name)\n",
    "        count = len(hand.remove_matches())\n",
    "        \n",
    "        hand.shuffle()\n",
    "        \n",
    "        return count\n",
    "      \n",
    "    def find_neighbor(self, i):\n",
    "        \"\"\" Find the neighbor of the player without an empty hand \n",
    "        \"\"\"\n",
    "        num_hands = len(self.hands)\n",
    "        for next in range(1,num_hands):\n",
    "            neighbor = (i + next) % num_hands\n",
    "            if not self.hands[neighbor].is_empty():\n",
    "                return neighbor\n",
    "    \n",
    "    def print_hands(self):\n",
    "        for hand in self.hands:\n",
    "            print(hand)\n",
    "      "
   ]
  },
  {
   "cell_type": "code",
   "execution_count": 10,
   "metadata": {
    "colab": {
     "base_uri": "https://localhost:8080/"
    },
    "executionInfo": {
     "elapsed": 201,
     "status": "ok",
     "timestamp": 1614125644179,
     "user": {
      "displayName": "Benedict Paten",
      "photoUrl": "https://lh3.googleusercontent.com/a-/AOh14Gh2rYrrH6yoNnUp0Oj4p4ouybc6ZcWGyPmKFtIY=s64",
      "userId": "06399644931392855882"
     },
     "user_tz": 480
    },
    "id": "xnEamKIMzGI9",
    "outputId": "66d81809-4fe6-4c50-a43e-e747dc007762",
    "pycharm": {
     "name": "#%%\n"
    },
    "slideshow": {
     "slide_type": "subslide"
    }
   },
   "outputs": [
    {
     "name": "stdout",
     "output_type": "stream",
     "text": [
      "---------- Cards have been dealt\n",
      "Hand Allen contains\n",
      "King of Clubs\n",
      " 3 of Diamonds\n",
      "  6 of Clubs\n",
      "   3 of Clubs\n",
      "    3 of Spades\n",
      "     5 of Hearts\n",
      "      9 of Hearts\n",
      "       6 of Spades\n",
      "        Queen of Hearts\n",
      "         Jack of Hearts\n",
      "          2 of Diamonds\n",
      "           Jack of Spades\n",
      "            King of Spades\n",
      "             2 of Clubs\n",
      "              4 of Diamonds\n",
      "               6 of Hearts\n",
      "                Ace of Hearts\n",
      "\n",
      "Hand Jeff contains\n",
      "8 of Spades\n",
      " Jack of Clubs\n",
      "  8 of Diamonds\n",
      "   8 of Hearts\n",
      "    Ace of Diamonds\n",
      "     10 of Clubs\n",
      "      9 of Clubs\n",
      "       4 of Hearts\n",
      "        2 of Spades\n",
      "         Ace of Spades\n",
      "          9 of Diamonds\n",
      "           4 of Spades\n",
      "            5 of Clubs\n",
      "             4 of Clubs\n",
      "              5 of Spades\n",
      "               10 of Diamonds\n",
      "                9 of Spades\n",
      "\n",
      "Hand Chris contains\n",
      "Queen of Diamonds\n",
      " Queen of Spades\n",
      "  Jack of Diamonds\n",
      "   10 of Spades\n",
      "    6 of Diamonds\n",
      "     7 of Diamonds\n",
      "      10 of Hearts\n",
      "       7 of Hearts\n",
      "        5 of Diamonds\n",
      "         8 of Clubs\n",
      "          King of Diamonds\n",
      "           7 of Spades\n",
      "            7 of Clubs\n",
      "             3 of Hearts\n",
      "              2 of Hearts\n",
      "               King of Hearts\n",
      "                Ace of Clubs\n",
      "\n",
      "Hand Allen: King of Clubs matches King of Spades\n",
      "Hand Allen: 6 of Clubs matches 6 of Spades\n",
      "Hand Allen: 3 of Clubs matches 3 of Spades\n",
      "Hand Jeff: 8 of Diamonds matches 8 of Hearts\n",
      "Hand Jeff: 9 of Clubs matches 9 of Spades\n",
      "Hand Jeff: 4 of Spades matches 4 of Clubs\n",
      "Hand Jeff: 5 of Clubs matches 5 of Spades\n",
      "Hand Chris: 7 of Diamonds matches 7 of Hearts\n",
      "Hand Chris: King of Diamonds matches King of Hearts\n",
      "Hand Chris: 7 of Spades matches 7 of Clubs\n",
      "---------- Matches discarded, play ready to begin\n",
      "Hand Allen contains\n",
      "3 of Diamonds\n",
      " 5 of Hearts\n",
      "  9 of Hearts\n",
      "   Queen of Hearts\n",
      "    Jack of Hearts\n",
      "     2 of Diamonds\n",
      "      Jack of Spades\n",
      "       2 of Clubs\n",
      "        4 of Diamonds\n",
      "         6 of Hearts\n",
      "          Ace of Hearts\n",
      "\n",
      "Hand Jeff contains\n",
      "8 of Spades\n",
      " Jack of Clubs\n",
      "  Ace of Diamonds\n",
      "   10 of Clubs\n",
      "    4 of Hearts\n",
      "     2 of Spades\n",
      "      Ace of Spades\n",
      "       9 of Diamonds\n",
      "        10 of Diamonds\n",
      "\n",
      "Hand Chris contains\n",
      "Queen of Diamonds\n",
      " Queen of Spades\n",
      "  Jack of Diamonds\n",
      "   10 of Spades\n",
      "    6 of Diamonds\n",
      "     10 of Hearts\n",
      "      5 of Diamonds\n",
      "       8 of Clubs\n",
      "        3 of Hearts\n",
      "         2 of Hearts\n",
      "          Ace of Clubs\n",
      "\n",
      "Hand Allen picked 10 of Diamonds from Jeff\n",
      "Hand Jeff picked Ace of Clubs from Chris\n",
      "Hand Jeff: Ace of Spades matches Ace of Clubs\n",
      "Hand Chris picked Jack of Spades from Allen\n",
      "Hand Allen picked 4 of Hearts from Jeff\n",
      "Hand Allen: 4 of Diamonds matches 4 of Hearts\n",
      "Hand Jeff picked 6 of Diamonds from Chris\n",
      "Hand Chris picked 3 of Diamonds from Allen\n",
      "Hand Chris: 3 of Hearts matches 3 of Diamonds\n",
      "Hand Allen picked 9 of Diamonds from Jeff\n",
      "Hand Allen: 9 of Hearts matches 9 of Diamonds\n",
      "Hand Jeff picked 2 of Hearts from Chris\n",
      "Hand Chris picked Ace of Hearts from Allen\n",
      "Hand Allen picked Jack of Clubs from Jeff\n",
      "Hand Jeff picked Queen of Spades from Chris\n",
      "Hand Chris picked Jack of Hearts from Allen\n",
      "Hand Chris: Jack of Diamonds matches Jack of Hearts\n",
      "Hand Allen picked 6 of Diamonds from Jeff\n",
      "Hand Allen: 6 of Hearts matches 6 of Diamonds\n",
      "Hand Jeff picked Ace of Hearts from Chris\n",
      "Hand Jeff: Ace of Diamonds matches Ace of Hearts\n",
      "Hand Chris picked 5 of Hearts from Allen\n",
      "Hand Chris: 5 of Diamonds matches 5 of Hearts\n",
      "Hand Allen picked 2 of Hearts from Jeff\n",
      "Hand Allen: 2 of Diamonds matches 2 of Hearts\n",
      "Hand Jeff picked Queen of Diamonds from Chris\n",
      "Hand Chris picked Queen of Hearts from Allen\n",
      "Hand Allen picked Queen of Spades from Jeff\n",
      "Hand Jeff picked Jack of Spades from Chris\n",
      "Hand Chris picked 10 of Diamonds from Allen\n",
      "Hand Chris: 10 of Hearts matches 10 of Diamonds\n",
      "Hand Allen picked Jack of Spades from Jeff\n",
      "Hand Allen: Jack of Clubs matches Jack of Spades\n",
      "Hand Jeff picked Queen of Hearts from Chris\n",
      "Hand Jeff: Queen of Diamonds matches Queen of Hearts\n",
      "Hand Chris picked 2 of Clubs from Allen\n",
      "Hand Allen picked 2 of Spades from Jeff\n",
      "Hand Jeff picked 2 of Clubs from Chris\n",
      "Hand Chris picked 2 of Spades from Allen\n",
      "Hand Allen picked 8 of Spades from Jeff\n",
      "Hand Jeff picked 10 of Spades from Chris\n",
      "Hand Jeff: 10 of Clubs matches 10 of Spades\n",
      "Hand Chris picked 8 of Spades from Allen\n",
      "Hand Chris: 8 of Clubs matches 8 of Spades\n",
      "Hand Allen picked 2 of Clubs from Jeff\n",
      "Hand Jeff picked 2 of Spades from Chris\n",
      "Hand Chris picked Queen of Spades from Allen\n",
      "Hand Allen picked 2 of Spades from Jeff\n",
      "Hand Allen: 2 of Clubs matches 2 of Spades\n",
      "---------- Game is Over\n",
      "Hand Allen is empty\n",
      "\n",
      "Hand Jeff is empty\n",
      "\n",
      "Hand Chris contains\n",
      "Queen of Spades\n",
      "\n"
     ]
    }
   ],
   "source": [
    "game = OldMaidGame([\"Allen\",\"Jeff\",\"Chris\"])\n",
    "game.play(interactive=False) # Playing the game interactively is possible, but\n",
    "# very dull"
   ]
  },
  {
   "cell_type": "markdown",
   "metadata": {
    "id": "PucGp8tOZC_s",
    "slideshow": {
     "slide_type": "slide"
    }
   },
   "source": [
    "# Reading\n",
    "\n",
    "* Read Chapter 22: (inheritance) \n",
    "http://openbookproject.net/thinkcs/python/english3e/inheritance.html\n",
    "\n",
    "# Homework\n",
    "\n",
    "* Go to Canvas and complete the lecture quiz, which involves completing each challenge problem\n",
    "* ZyBooks Reading 14\n"
   ]
  },
  {
   "cell_type": "markdown",
   "metadata": {
    "slideshow": {
     "slide_type": "slide"
    }
   },
   "source": [
    "# Practice Problems"
   ]
  },
  {
   "cell_type": "code",
   "execution_count": null,
   "metadata": {},
   "outputs": [],
   "source": [
    "\"\"\"\n",
    "Problem 1: Basic Inheritance\n",
    "\n",
    "Create a base class Book with:\n",
    "- An __init__ method taking title, author and year parameters\n",
    "- A get_info method that returns \"Unknown format\"\n",
    "- A __str__ method that returns \"{title} by {author} ({year})\"\n",
    "\n",
    "Then create an Ebook class that inherits from Book and:\n",
    "- Overrides the get_info method to return \"Digital format - Kindle compatible\"\n",
    "- Adds a new method get_download_link that returns \"Download {title} at books.example.com/{title}\"\n",
    "\"\"\"\n",
    "\n",
    "class Book:\n",
    "    pass # Add your code here\n",
    "\n",
    "class Ebook(Book):\n",
    "    pass # Add your code here\n",
    "\n",
    "# Tests\n",
    "book = Ebook(\"Python Basics\", \"Jane Smith\", 2023)\n",
    "assert str(book) == \"Python Basics by Jane Smith (2023)\"\n",
    "assert book.get_info() == \"Digital format - Kindle compatible\"\n",
    "assert book.get_download_link() == \"Download Python Basics at books.example.com/Python Basics\""
   ]
  },
  {
   "cell_type": "code",
   "execution_count": null,
   "metadata": {
    "slideshow": {
     "slide_type": "slide"
    }
   },
   "outputs": [],
   "source": [
    "\"\"\"\n",
    "Problem 2: Constructor Inheritance\n",
    "\n",
    "Create a base class Appliance with:\n",
    "- An __init__ method taking brand, model, and power_rating parameters\n",
    "- A method energy_usage() that returns the power_rating\n",
    "\n",
    "Create a class SmartAppliance that inherits from Appliance and:\n",
    "- Adds a wifi_enabled parameter to __init__\n",
    "- Overrides energy_usage() to add 10% when wifi is enabled\n",
    "\"\"\"\n",
    "\n",
    "class Appliance:\n",
    "    pass # Add your code here\n",
    "\n",
    "class SmartAppliance(Appliance):\n",
    "    pass # Add your code here\n",
    "\n",
    "# Tests\n",
    "smart_fridge = SmartAppliance(\"Samsung\", \"RF28\", 150, True)\n",
    "assert smart_fridge.energy_usage() == 165  # 150 + 10%\n",
    "regular_fridge = SmartAppliance(\"LG\", \"LF22\", 150, False)\n",
    "assert regular_fridge.energy_usage() == 150  # No wifi, no extra power"
   ]
  },
  {
   "cell_type": "code",
   "execution_count": 1,
   "metadata": {},
   "outputs": [
    {
     "name": "stdout",
     "output_type": "stream",
     "text": [
      "Extended tests passed!\n"
     ]
    }
   ],
   "source": [
    "\"\"\"\n",
    "Problem 3: Poker Hand Evaluator Problem (THIS IS A BIG ONE)\n",
    "\n",
    "Your task is to implement a (simplified) PokerHand class that can evaluate standard 5-card poker hands.\n",
    "The PokerHand class should inherit from the Hand class and implement methods to:\n",
    "1. Detect different types of poker hands (pairs, straights, etc.)\n",
    "2. Compare hands to determine winners\n",
    "3. Score hands according to poker rules\n",
    "\n",
    "Remember:\n",
    "- A poker hand consists of exactly 5 cards\n",
    "- Card ranks are: 2-10, Jack(11), Queen(12), King(13), Ace(1 or 14)\n",
    "- Card suits are: Hearts(0), Diamonds(1), Clubs(2), Spades(3)\n",
    "- Hand rankings from lowest to highest are:\n",
    "  * High Card (1)\n",
    "  * One Pair (2)\n",
    "  * Two Pair (3)\n",
    "  * Three of a Kind (4)\n",
    "  * Straight (5)\n",
    "  * Flush (6)\n",
    "  * Full House (7)\n",
    "  * Four of a Kind (8)\n",
    "  * Straight Flush (9)\n",
    "  * Royal Flush (10)\n",
    "\"\"\"\n",
    "\n",
    "class Card:\n",
    "    \"\"\"A playing card from the lecture examples\"\"\"\n",
    "    suits = [\"Hearts\", \"Diamonds\", \"Clubs\", \"Spades\"]\n",
    "    ranks = [\"narf\", \"Ace\", \"2\", \"3\", \"4\", \"5\", \"6\", \"7\",\n",
    "             \"8\", \"9\", \"10\", \"Jack\", \"Queen\", \"King\"]\n",
    "             \n",
    "    def __init__(self, suit=0, rank=0):\n",
    "        self.suit = suit\n",
    "        self.rank = rank\n",
    "    \n",
    "    def __str__(self):\n",
    "        return f\"{self.ranks[self.rank]} of {self.suits[self.suit]}\"\n",
    "\n",
    "class Hand:\n",
    "    \"\"\"A hand of cards from the lecture examples\"\"\"\n",
    "    def __init__(self):\n",
    "        self.cards = []\n",
    "    \n",
    "    def add_card(self, card):\n",
    "        self.cards.append(card)\n",
    "        \n",
    "    def __str__(self):\n",
    "        return \", \".join(str(card) for card in self.cards)\n",
    "\n",
    "class SimplifiedPokerHand(Hand):\n",
    "    \"\"\"\n",
    "    A poker hand class that can evaluate poker hands\n",
    "    \n",
    "    Required methods to implement:\n",
    "    \n",
    "    1. Hand Detection Methods (all return bool):\n",
    "    - has_pair(self): Returns True if hand contains one or more pairs\n",
    "    - has_two_pair(self): Returns True if hand contains exactly two pairs\n",
    "    - has_three_kind(self): Returns True if hand contains three of a kind\n",
    "    - has_straight(self): Returns True if hand contains 5 consecutive ranks\n",
    "    - has_flush(self): Returns True if all cards are the same suit\n",
    "    - has_full_house(self): Returns True if hand has three of kind and pair\n",
    "    - has_four_kind(self): Returns True if hand contains four of a kind\n",
    "    - has_straight_flush(self): Returns True if hand is straight and flush\n",
    "    - has_royal_flush(self): Returns True if hand is 10-A straight flush\n",
    "    \n",
    "    2. Scoring Methods:\n",
    "    - get_score(self) -> int: Returns 1-10 based on hand rank (1=high card, 10=royal flush)\n",
    "      * High Card (1)\n",
    "      * One Pair (2)\n",
    "      * Two Pair (3)\n",
    "      * Three of a Kind (4)\n",
    "      * Straight (5)\n",
    "      * Flush (6)\n",
    "      * Full House (7)\n",
    "      * Four of a Kind (8)\n",
    "      * Straight Flush (9)\n",
    "      * Royal Flush (10)\n",
    "    - get_high_card(self) -> Card: Returns highest card in hand\n",
    "    \n",
    "    4. Comparison Methods:\n",
    "    - __eq__(self, other): True if hands are equal\n",
    "        Two hands will be considered equal if they have the same score via get_score() and the same highest card.\n",
    "    - __lt__(self, other): True if this hand scores lower than the other or has equal score and a \n",
    "       lower valued highest card, judged by rank and (if tied) then suit. \n",
    "    - __gt__(self, other): True if this hand scores higher than the other or has equal score and a \n",
    "       higher valued highest card, judged by rank and (if tied) then suit. \n",
    "       \n",
    "       \n",
    "    Hints: it is worth thinking about helper functions to avoid copying and pasting code \n",
    "    across your implemented methods!\n",
    "    \"\"\"\n",
    "    def __init__(self):\n",
    "        super().__init__()\n",
    "        \n",
    "\n",
    "\n",
    "# Additional test cases\n",
    "def test_poker_hands_extended():\n",
    "    # Test straight\n",
    "    straight = PokerHand()\n",
    "    for i, rank in enumerate([7,8,9,10,11]):  # 7 through Jack\n",
    "        straight.add_card(Card(i % 2, rank))\n",
    "    assert straight.has_straight()\n",
    "    assert straight.get_score() == 5\n",
    "    \n",
    "    # Test Ace-low straight\n",
    "    ace_low = PokerHand()\n",
    "    ace_low.add_card(Card(0, 1))  # Ace\n",
    "    for i, rank in enumerate([2,3,4,5]):\n",
    "        ace_low.add_card(Card(i % 2, rank))\n",
    "    assert ace_low.has_straight()\n",
    "    \n",
    "    # Test flush\n",
    "    flush = PokerHand()\n",
    "    for rank in [2,5,7,9,11]:  # Random ranks, same suit\n",
    "        flush.add_card(Card(0, rank))\n",
    "    assert flush.has_flush()\n",
    "    assert flush.get_score() == 6\n",
    "    \n",
    "    # Test full house\n",
    "    full = PokerHand()\n",
    "    for suit in range(3):  # Three 8s\n",
    "        full.add_card(Card(suit, 8))\n",
    "    for suit in range(2):  # Two 4s\n",
    "        full.add_card(Card(suit, 4))\n",
    "    assert full.has_full_house()\n",
    "    assert full.get_score() == 7\n",
    "    \n",
    "    # Test hand comparisons with tie breaks\n",
    "    high_pair = PokerHand()\n",
    "    high_pair.add_card(Card(0, 13))  # Pair of Kings\n",
    "    high_pair.add_card(Card(1, 13))\n",
    "    high_pair.add_card(Card(0, 5))\n",
    "    high_pair.add_card(Card(1, 4))\n",
    "    high_pair.add_card(Card(2, 3))\n",
    "    \n",
    "    low_pair = PokerHand()\n",
    "    low_pair.add_card(Card(0, 12))  # Pair of Queens\n",
    "    low_pair.add_card(Card(1, 12))\n",
    "    low_pair.add_card(Card(0, 5))\n",
    "    low_pair.add_card(Card(1, 4))\n",
    "    low_pair.add_card(Card(2, 3))\n",
    "    \n",
    "    assert high_pair > low_pair\n",
    "    assert low_pair < high_pair\n",
    "    assert not high_pair == low_pair\n",
    "    \n",
    "    print(\"Extended tests passed!\")\n",
    "\n",
    "test_poker_hands_extended()"
   ]
  }
 ],
 "metadata": {
  "celltoolbar": "Slideshow",
  "colab": {
   "collapsed_sections": [],
   "name": "L14 Inheritance.ipynb",
   "provenance": []
  },
  "kernelspec": {
   "display_name": "intro_python_env",
   "language": "python",
   "name": "intro_python_env"
  },
  "language_info": {
   "codemirror_mode": {
    "name": "ipython",
    "version": 3
   },
   "file_extension": ".py",
   "mimetype": "text/x-python",
   "name": "python",
   "nbconvert_exporter": "python",
   "pygments_lexer": "ipython3",
   "version": "3.11.9"
  }
 },
 "nbformat": 4,
 "nbformat_minor": 1
}
