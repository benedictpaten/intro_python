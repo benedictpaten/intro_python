{
 "cells": [
  {
   "cell_type": "markdown",
   "metadata": {
    "id": "5UyFJYXOx-WH",
    "slideshow": {
     "slide_type": "slide"
    }
   },
   "source": [
    "# Lecture 13 - Objects and Polymorphism (https://bit.ly/intro_python_13)\n",
    "\n",
    "* Python objects:\n",
    "  * Polymorphism\n",
    "\t* Polymorphism by reimplementing basic object functionality:\n",
    "    * Redefining the \\__str__ method\n",
    "  \t* How Python implements ''==\" for objects\n",
    "  \t* General operator overloading, including comparison operators\n",
    "\t* Copying objects\n"
   ]
  },
  {
   "cell_type": "markdown",
   "metadata": {
    "id": "J9kAOlvpx3dS",
    "slideshow": {
     "slide_type": "slide"
    }
   },
   "source": [
    "# Polymorphism\n",
    "\n",
    "* \"the condition of occurring in several different forms.\"\n",
    "\n",
    "* In programming, polymorphism means having different behavior for the same function, based upon type:\n",
    "\n",
    "<img src=\"https://raw.githubusercontent.com/benedictpaten/intro_python/main/lecture_notebooks/figures/graffles/polymorphism.jpg\" width=700 height=350 />\n",
    "\n",
    "* Polymorphism is everywhere in Python, and is a huge part of why Python is a pleasure to use. Consider the len() function:\n"
   ]
  },
  {
   "cell_type": "code",
   "execution_count": 1,
   "metadata": {
    "colab": {
     "base_uri": "https://localhost:8080/",
     "height": 51
    },
    "executionInfo": {
     "elapsed": 640,
     "status": "ok",
     "timestamp": 1573773898917,
     "user": {
      "displayName": "Benedict Paten",
      "photoUrl": "https://lh3.googleusercontent.com/a-/AAuE7mBMnWy8dDR7jyTHNy9tPaRx6DCyA3QKrIcuQ7R4=s64",
      "userId": "06399644931392855882"
     },
     "user_tz": 480
    },
    "id": "vZMLh2QxzbWS",
    "outputId": "a18ac85c-c9f3-48dc-f979-b43ba5bb1458",
    "slideshow": {
     "slide_type": "subslide"
    }
   },
   "outputs": [
    {
     "name": "stdout",
     "output_type": "stream",
     "text": [
      "5\n",
      "3\n"
     ]
    }
   ],
   "source": [
    "# Python program to demonstrate in-built poly- \n",
    "# morphic functions \n",
    "  \n",
    "# len() being used for a string \n",
    "print(len(\"geeks\")) \n",
    "  \n",
    "# len() being used for a list \n",
    "print(len([10, 20, 30]))\n",
    "\n",
    "# The behavior of len() is polymorphic, \n",
    "# for a string it gives the length of a string \n",
    "# for a list gives the length of the list"
   ]
  },
  {
   "cell_type": "markdown",
   "metadata": {
    "id": "3AxMcZ1Dzx3m",
    "slideshow": {
     "slide_type": "fragment"
    }
   },
   "source": [
    "Similarly, consider the polymorphic behavior of the \"+\" operator:"
   ]
  },
  {
   "cell_type": "code",
   "execution_count": null,
   "metadata": {
    "colab": {
     "base_uri": "https://localhost:8080/",
     "height": 34
    },
    "executionInfo": {
     "elapsed": 503,
     "status": "ok",
     "timestamp": 1573773952070,
     "user": {
      "displayName": "Benedict Paten",
      "photoUrl": "https://lh3.googleusercontent.com/a-/AAuE7mBMnWy8dDR7jyTHNy9tPaRx6DCyA3QKrIcuQ7R4=s64",
      "userId": "06399644931392855882"
     },
     "user_tz": 480
    },
    "id": "yoXCHG-gz4Fd",
    "outputId": "fc450d55-dc6b-435a-9028-f87b2aa837dc",
    "slideshow": {
     "slide_type": "fragment"
    }
   },
   "outputs": [
    {
     "data": {
      "text/plain": [
       "'hello world'"
      ]
     },
     "execution_count": 2,
     "metadata": {
      "tags": []
     },
     "output_type": "execute_result"
    }
   ],
   "source": [
    "def add(x, y):\n",
    "  return x + y\n",
    "\n",
    "add(10, 5) # This returns 15\n",
    "\n",
    "add(\"hello \", \"world\") # This returns \"hello world\""
   ]
  },
  {
   "cell_type": "markdown",
   "metadata": {
    "id": "G37-huZN0GUK",
    "slideshow": {
     "slide_type": "fragment"
    }
   },
   "source": [
    "* So, how does the program know to add numbers but concatenate strings? \n",
    "\n",
    "* The answer is by using inheritence. We'll visit inheritence in detail next lecture, for now let's see how inheritence works by overriding default behaviors. "
   ]
  },
  {
   "cell_type": "markdown",
   "metadata": {
    "id": "t6G3kLtvzKWw",
    "slideshow": {
     "slide_type": "slide"
    }
   },
   "source": [
    "# Redefining the behavior of str()\n",
    "\n",
    "\n",
    "Let's consider the Point class again that we created last time.\n",
    "\n",
    "Suppose we wanted to add a method to create a printable string representing a point:"
   ]
  },
  {
   "cell_type": "code",
   "execution_count": 1,
   "metadata": {
    "id": "rzwo_WjE1TMi",
    "slideshow": {
     "slide_type": "fragment"
    }
   },
   "outputs": [],
   "source": [
    "class Point:\n",
    "  \"\"\" Create a new Point, at coordinates x, y \"\"\"\n",
    "\n",
    "  def __init__(self, x=0, y=0):\n",
    "    \"\"\" Create a new point at x, y \"\"\"\n",
    "    self.x = x\n",
    "    self.y = y\n",
    "\n",
    "  def distance_from_origin(self):\n",
    "    \"\"\" Compute my distance from the origin \"\"\"\n",
    "    return ((self.x ** 2) + (self.y ** 2)) ** 0.5 # This is just Pythagorus's theorem\n",
    "  \n",
    "  def to_string(self):\n",
    "    \"\"\"Return a string representing the point\"\"\"\n",
    "    return f\"({self.x}, {self.y})\""
   ]
  },
  {
   "cell_type": "code",
   "execution_count": 2,
   "metadata": {
    "colab": {
     "base_uri": "https://localhost:8080/",
     "height": 34
    },
    "executionInfo": {
     "elapsed": 512,
     "status": "ok",
     "timestamp": 1573774121370,
     "user": {
      "displayName": "Benedict Paten",
      "photoUrl": "https://lh3.googleusercontent.com/a-/AAuE7mBMnWy8dDR7jyTHNy9tPaRx6DCyA3QKrIcuQ7R4=s64",
      "userId": "06399644931392855882"
     },
     "user_tz": 480
    },
    "id": "YpIO3k401szb",
    "outputId": "a63f06d5-0e3f-439f-9be2-65d00f1dc71d",
    "slideshow": {
     "slide_type": "fragment"
    }
   },
   "outputs": [
    {
     "name": "stdout",
     "output_type": "stream",
     "text": [
      "(3, 4)\n"
     ]
    }
   ],
   "source": [
    "p = Point(3, 4)\n",
    "\n",
    "print(p.to_string()) # BTW, this is really natural, in that we can call the \n",
    "# function \"to_string\", and it is clear from its definition as a function\n",
    "# in the class that it belongs to this type of object. Were it not associated\n",
    "# with this class, we'd definitely want to give it a more specific name."
   ]
  },
  {
   "cell_type": "markdown",
   "metadata": {
    "id": "F2ABmk4D15io",
    "slideshow": {
     "slide_type": "subslide"
    }
   },
   "source": [
    "to_string() is nice, but what happens if we call print on p:"
   ]
  },
  {
   "cell_type": "code",
   "execution_count": null,
   "metadata": {
    "colab": {
     "base_uri": "https://localhost:8080/",
     "height": 34
    },
    "executionInfo": {
     "elapsed": 501,
     "status": "ok",
     "timestamp": 1573774246994,
     "user": {
      "displayName": "Benedict Paten",
      "photoUrl": "https://lh3.googleusercontent.com/a-/AAuE7mBMnWy8dDR7jyTHNy9tPaRx6DCyA3QKrIcuQ7R4=s64",
      "userId": "06399644931392855882"
     },
     "user_tz": 480
    },
    "id": "kmFp7Jj32BJA",
    "outputId": "0854e027-b302-4aeb-9cb0-e3f203216e81",
    "slideshow": {
     "slide_type": "fragment"
    }
   },
   "outputs": [
    {
     "name": "stdout",
     "output_type": "stream",
     "text": [
      "<__main__.Point object at 0x7f7db5fb3c50>\n"
     ]
    }
   ],
   "source": [
    "print(p) # Not very helpful"
   ]
  },
  {
   "cell_type": "markdown",
   "metadata": {
    "id": "E-q_Ij0g2C1V",
    "slideshow": {
     "slide_type": "fragment"
    }
   },
   "source": [
    "Print is implicitly calling str() on p to make a string. But:"
   ]
  },
  {
   "cell_type": "code",
   "execution_count": null,
   "metadata": {
    "colab": {
     "base_uri": "https://localhost:8080/",
     "height": 34
    },
    "executionInfo": {
     "elapsed": 662,
     "status": "ok",
     "timestamp": 1573774302830,
     "user": {
      "displayName": "Benedict Paten",
      "photoUrl": "https://lh3.googleusercontent.com/a-/AAuE7mBMnWy8dDR7jyTHNy9tPaRx6DCyA3QKrIcuQ7R4=s64",
      "userId": "06399644931392855882"
     },
     "user_tz": 480
    },
    "id": "xw6aZ-lt2MsO",
    "outputId": "de6d2d84-c086-435d-f62e-abf61d42cf75",
    "slideshow": {
     "slide_type": "fragment"
    }
   },
   "outputs": [
    {
     "data": {
      "text/plain": [
       "'<__main__.Point object at 0x7f7db5fb3c50>'"
      ]
     },
     "execution_count": 6,
     "metadata": {
      "tags": []
     },
     "output_type": "execute_result"
    }
   ],
   "source": [
    "str(p) # This is because the str method of the object defaults\n",
    "# to something not very helpful "
   ]
  },
  {
   "cell_type": "markdown",
   "metadata": {
    "id": "pCVRcF9C2Zzj",
    "slideshow": {
     "slide_type": "subslide"
    }
   },
   "source": [
    "Okay, so we need to *override* the str() function:"
   ]
  },
  {
   "cell_type": "code",
   "execution_count": 2,
   "metadata": {
    "id": "Iyr_6I5L2lkg",
    "slideshow": {
     "slide_type": "fragment"
    }
   },
   "outputs": [],
   "source": [
    "class Point:\n",
    "  \"\"\" Create a new Point, at coordinates x, y \"\"\"\n",
    "\n",
    "  def __init__(self, x=0, y=0):\n",
    "    \"\"\" Create a new point at x, y \"\"\"\n",
    "    self.x = x\n",
    "    self.y = y\n",
    "\n",
    "  def distance_from_origin(self):\n",
    "    \"\"\" Compute my distance from the origin \"\"\"\n",
    "    return ((self.x ** 2) + (self.y ** 2)) ** 0.5 # This is just Pythagorus's theorem\n",
    "  \n",
    "  def __str__(self): # the str() method uses another one of these __ functions\n",
    "    \"\"\"Return a string representing the point\"\"\"\n",
    "    return f\"({self.x}, {self.y})\"\n",
    "  \n",
    "  "
   ]
  },
  {
   "cell_type": "code",
   "execution_count": 5,
   "metadata": {
    "colab": {
     "base_uri": "https://localhost:8080/",
     "height": 34
    },
    "executionInfo": {
     "elapsed": 504,
     "status": "ok",
     "timestamp": 1573774475831,
     "user": {
      "displayName": "Benedict Paten",
      "photoUrl": "https://lh3.googleusercontent.com/a-/AAuE7mBMnWy8dDR7jyTHNy9tPaRx6DCyA3QKrIcuQ7R4=s64",
      "userId": "06399644931392855882"
     },
     "user_tz": 480
    },
    "id": "TvsN6x352mQL",
    "outputId": "e740129f-0e36-4f85-b9eb-2bd80554fc83",
    "slideshow": {
     "slide_type": "fragment"
    }
   },
   "outputs": [
    {
     "data": {
      "text/plain": [
       "'(3, 4)'"
      ]
     },
     "execution_count": 5,
     "metadata": {},
     "output_type": "execute_result"
    }
   ],
   "source": [
    "p = Point(3, 4)\n",
    "\n",
    "str(p)"
   ]
  },
  {
   "cell_type": "code",
   "execution_count": null,
   "metadata": {
    "colab": {
     "base_uri": "https://localhost:8080/",
     "height": 34
    },
    "executionInfo": {
     "elapsed": 1075,
     "status": "ok",
     "timestamp": 1573774556969,
     "user": {
      "displayName": "Benedict Paten",
      "photoUrl": "https://lh3.googleusercontent.com/a-/AAuE7mBMnWy8dDR7jyTHNy9tPaRx6DCyA3QKrIcuQ7R4=s64",
      "userId": "06399644931392855882"
     },
     "user_tz": 480
    },
    "id": "05VioCD-3Eyw",
    "outputId": "0d63d8a6-5f5f-40e1-b9e4-cda645dc1304",
    "slideshow": {
     "slide_type": "fragment"
    }
   },
   "outputs": [
    {
     "name": "stdout",
     "output_type": "stream",
     "text": [
      "(3, 4)\n"
     ]
    }
   ],
   "source": [
    "print(p) # Way better"
   ]
  },
  {
   "cell_type": "markdown",
   "metadata": {
    "id": "7AE7kHjI3NQD",
    "slideshow": {
     "slide_type": "fragment"
    }
   },
   "source": [
    "We just re-defined the string method of the class to do something much more custom and useful. You'll see later that this is an example of using inheritance. "
   ]
  },
  {
   "cell_type": "markdown",
   "metadata": {
    "slideshow": {
     "slide_type": "subslide"
    }
   },
   "source": [
    "# Challenge 1"
   ]
  },
  {
   "cell_type": "code",
   "execution_count": 1,
   "metadata": {
    "slideshow": {
     "slide_type": "fragment"
    }
   },
   "outputs": [
    {
     "name": "stdout",
     "output_type": "stream",
     "text": [
      "I am going to eat: vindaloo which is spicy\n"
     ]
    }
   ],
   "source": [
    "class Food:\n",
    "    def __init__(self, name, flavor):\n",
    "        self.name = name\n",
    "        self.flavor = flavor\n",
    "        \n",
    "# Add a method to the above class definition so that the code below works\n",
    "\n",
    "f = Food(\"vindaloo\", \"spicy\")\n",
    "print(\"I am going to eat:\", f) # Should print \"I am going to eat: vindaloo which is spicy\""
   ]
  },
  {
   "cell_type": "markdown",
   "metadata": {
    "id": "2EKHtIOqTlP2",
    "slideshow": {
     "slide_type": "slide"
    }
   },
   "source": [
    "# How Python implements \"==\" for objects\n",
    "\n",
    "Okay, as another example of polymorphism, let's revisit == and the  'is' keyword and figure out how Python implements ==.\n",
    "\n",
    "Recall from earlier that: \n",
    "  * == is for equivalence\n",
    "  * 'is' is for testing if references point to the same thing in memory"
   ]
  },
  {
   "cell_type": "code",
   "execution_count": 1,
   "metadata": {
    "colab": {
     "base_uri": "https://localhost:8080/"
    },
    "executionInfo": {
     "elapsed": 416,
     "status": "ok",
     "timestamp": 1607919663251,
     "user": {
      "displayName": "Benedict Paten",
      "photoUrl": "https://lh3.googleusercontent.com/a-/AOh14Gh2rYrrH6yoNnUp0Oj4p4ouybc6ZcWGyPmKFtIY=s64",
      "userId": "06399644931392855882"
     },
     "user_tz": 480
    },
    "id": "IaHfOGfZUt2q",
    "outputId": "de6ee869-e81a-4a38-a1a3-6bd3d5694e7a",
    "slideshow": {
     "slide_type": "fragment"
    }
   },
   "outputs": [
    {
     "data": {
      "text/plain": [
       "True"
      ]
     },
     "execution_count": 1,
     "metadata": {
      "tags": []
     },
     "output_type": "execute_result"
    }
   ],
   "source": [
    "x = [1,2]\n",
    "y = [1,2]\n",
    "\n",
    "x == y # Python is checking that they represent the same thing"
   ]
  },
  {
   "cell_type": "code",
   "execution_count": 2,
   "metadata": {
    "colab": {
     "base_uri": "https://localhost:8080/"
    },
    "executionInfo": {
     "elapsed": 366,
     "status": "ok",
     "timestamp": 1607919665462,
     "user": {
      "displayName": "Benedict Paten",
      "photoUrl": "https://lh3.googleusercontent.com/a-/AOh14Gh2rYrrH6yoNnUp0Oj4p4ouybc6ZcWGyPmKFtIY=s64",
      "userId": "06399644931392855882"
     },
     "user_tz": 480
    },
    "id": "TssoiYksU9Vw",
    "outputId": "211d1365-fddd-49ab-f0b8-a40601bf1041",
    "slideshow": {
     "slide_type": "fragment"
    }
   },
   "outputs": [
    {
     "data": {
      "text/plain": [
       "False"
      ]
     },
     "execution_count": 2,
     "metadata": {
      "tags": []
     },
     "output_type": "execute_result"
    }
   ],
   "source": [
    "x is y # with \"is\", Python is checking that x and y reference the same thing"
   ]
  },
  {
   "cell_type": "code",
   "execution_count": 3,
   "metadata": {
    "colab": {
     "base_uri": "https://localhost:8080/"
    },
    "executionInfo": {
     "elapsed": 352,
     "status": "ok",
     "timestamp": 1607919668475,
     "user": {
      "displayName": "Benedict Paten",
      "photoUrl": "https://lh3.googleusercontent.com/a-/AOh14Gh2rYrrH6yoNnUp0Oj4p4ouybc6ZcWGyPmKFtIY=s64",
      "userId": "06399644931392855882"
     },
     "user_tz": 480
    },
    "id": "npg-QR19YVRP",
    "outputId": "063e0ea7-3107-4a87-82f3-fecbfa3ec85c",
    "slideshow": {
     "slide_type": "fragment"
    }
   },
   "outputs": [
    {
     "data": {
      "text/plain": [
       "True"
      ]
     },
     "execution_count": 3,
     "metadata": {
      "tags": []
     },
     "output_type": "execute_result"
    }
   ],
   "source": [
    "z = x # Make another reference to the object pointed to by x\n",
    "\n",
    "z is x"
   ]
  },
  {
   "cell_type": "markdown",
   "metadata": {
    "id": "6aqjiDJOVJhD",
    "slideshow": {
     "slide_type": "fragment"
    }
   },
   "source": [
    "* The 'is' keyword is not user specifiable: references are either the same or they are not. \n",
    "\n",
    "* However, \"==\" for operators is specifiable by defining \\__eq__(). Let's look at an example of how this works:"
   ]
  },
  {
   "cell_type": "code",
   "execution_count": 5,
   "metadata": {
    "executionInfo": {
     "elapsed": 344,
     "status": "ok",
     "timestamp": 1607919685508,
     "user": {
      "displayName": "Benedict Paten",
      "photoUrl": "https://lh3.googleusercontent.com/a-/AOh14Gh2rYrrH6yoNnUp0Oj4p4ouybc6ZcWGyPmKFtIY=s64",
      "userId": "06399644931392855882"
     },
     "user_tz": 480
    },
    "id": "QPpDE-pFWC2j",
    "slideshow": {
     "slide_type": "subslide"
    }
   },
   "outputs": [],
   "source": [
    "# The original Point class:\n",
    "\n",
    "class Point:\n",
    "  \"\"\" Create a new Point, at coordinates x, y \"\"\"\n",
    "\n",
    "  def __init__(self, x=0, y=0):\n",
    "    \"\"\" Create a new point at x, y \"\"\"\n",
    "    self.x = x\n",
    "    self.y = y\n",
    "    \n",
    "  # Omitting the other bits\n",
    "  \n",
    "p = Point(5, 10)\n",
    "q = Point(5, 10)"
   ]
  },
  {
   "cell_type": "code",
   "execution_count": 6,
   "metadata": {
    "colab": {
     "base_uri": "https://localhost:8080/"
    },
    "executionInfo": {
     "elapsed": 365,
     "status": "ok",
     "timestamp": 1607919687355,
     "user": {
      "displayName": "Benedict Paten",
      "photoUrl": "https://lh3.googleusercontent.com/a-/AOh14Gh2rYrrH6yoNnUp0Oj4p4ouybc6ZcWGyPmKFtIY=s64",
      "userId": "06399644931392855882"
     },
     "user_tz": 480
    },
    "id": "agTJHvKiwRca",
    "outputId": "73c8e5e8-ee4f-4926-c2ea-af9c2bcc21d0",
    "slideshow": {
     "slide_type": "fragment"
    }
   },
   "outputs": [
    {
     "data": {
      "text/plain": [
       "False"
      ]
     },
     "execution_count": 6,
     "metadata": {
      "tags": []
     },
     "output_type": "execute_result"
    }
   ],
   "source": [
    "p == q # This is because by default __eq__() on objects works like 'is'"
   ]
  },
  {
   "cell_type": "code",
   "execution_count": 7,
   "metadata": {
    "colab": {
     "base_uri": "https://localhost:8080/"
    },
    "executionInfo": {
     "elapsed": 343,
     "status": "ok",
     "timestamp": 1607919690909,
     "user": {
      "displayName": "Benedict Paten",
      "photoUrl": "https://lh3.googleusercontent.com/a-/AOh14Gh2rYrrH6yoNnUp0Oj4p4ouybc6ZcWGyPmKFtIY=s64",
      "userId": "06399644931392855882"
     },
     "user_tz": 480
    },
    "id": "E0wrhO_eXPNU",
    "outputId": "c943cd22-0e43-404f-9284-d4bfd613f121",
    "slideshow": {
     "slide_type": "fragment"
    }
   },
   "outputs": [
    {
     "data": {
      "text/plain": [
       "True"
      ]
     },
     "execution_count": 7,
     "metadata": {
      "tags": []
     },
     "output_type": "execute_result"
    }
   ],
   "source": [
    "p == p # True, because p is p "
   ]
  },
  {
   "cell_type": "code",
   "execution_count": 2,
   "metadata": {
    "colab": {
     "base_uri": "https://localhost:8080/"
    },
    "executionInfo": {
     "elapsed": 373,
     "status": "ok",
     "timestamp": 1607919699489,
     "user": {
      "displayName": "Benedict Paten",
      "photoUrl": "https://lh3.googleusercontent.com/a-/AOh14Gh2rYrrH6yoNnUp0Oj4p4ouybc6ZcWGyPmKFtIY=s64",
      "userId": "06399644931392855882"
     },
     "user_tz": 480
    },
    "id": "aWXvxeXLVQiV",
    "outputId": "28ad6a4d-680e-464f-8d20-85bd683f38ea",
    "slideshow": {
     "slide_type": "subslide"
    }
   },
   "outputs": [
    {
     "name": "stdout",
     "output_type": "stream",
     "text": [
      "False\n",
      "True\n"
     ]
    }
   ],
   "source": [
    "# Now let's implement the __eq__\n",
    "\n",
    "class Point:\n",
    "  \"\"\" Create a new Point, at coordinates x, y \"\"\"\n",
    "\n",
    "  def __init__(self, x=0, y=0):\n",
    "    \"\"\" Create a new point at x, y \"\"\"\n",
    "    self.x = x\n",
    "    self.y = y\n",
    "\n",
    "  def distance_from_origin(self):\n",
    "    \"\"\" Compute my distance from the origin \"\"\"\n",
    "    return ((self.x ** 2) + (self.y ** 2)) ** 0.5 # This is just Pythagorus's theorem\n",
    "  \n",
    "  def __str__(self):\n",
    "    \"\"\"Return a string representing the point\"\"\"\n",
    "    return \"({0}, {1})\".format(self.x, self.y)\n",
    "  \n",
    "  def __eq__(self, p):\n",
    "    \"\"\" True if the points have the same x, y, coordinates \"\"\"\n",
    "    return (self.x, self.y) == (p.x, p.y)\n",
    "  \n",
    "p = Point(5, 10)\n",
    "q = Point(5, 10)\n",
    "\n",
    "print(p is q) # p is not q, they are distinct in memory\n",
    "\n",
    "print(p == q) # but they are now equals"
   ]
  },
  {
   "cell_type": "code",
   "execution_count": 27,
   "metadata": {
    "colab": {
     "base_uri": "https://localhost:8080/"
    },
    "executionInfo": {
     "elapsed": 356,
     "status": "ok",
     "timestamp": 1607919707170,
     "user": {
      "displayName": "Benedict Paten",
      "photoUrl": "https://lh3.googleusercontent.com/a-/AOh14Gh2rYrrH6yoNnUp0Oj4p4ouybc6ZcWGyPmKFtIY=s64",
      "userId": "06399644931392855882"
     },
     "user_tz": 480
    },
    "id": "4NqtAJOMgCLj",
    "outputId": "ad16742b-d385-413b-8fae-cf9df2805979",
    "slideshow": {
     "slide_type": "fragment"
    }
   },
   "outputs": [
    {
     "data": {
      "text/plain": [
       "False"
      ]
     },
     "execution_count": 27,
     "metadata": {},
     "output_type": "execute_result"
    }
   ],
   "source": [
    "# We can also do not equals (!= operator)\n",
    "\n",
    "p != q"
   ]
  },
  {
   "cell_type": "code",
   "execution_count": 30,
   "metadata": {
    "colab": {
     "base_uri": "https://localhost:8080/",
     "height": 323
    },
    "executionInfo": {
     "elapsed": 306,
     "status": "error",
     "timestamp": 1607919710449,
     "user": {
      "displayName": "Benedict Paten",
      "photoUrl": "https://lh3.googleusercontent.com/a-/AOh14Gh2rYrrH6yoNnUp0Oj4p4ouybc6ZcWGyPmKFtIY=s64",
      "userId": "06399644931392855882"
     },
     "user_tz": 480
    },
    "id": "XD-R6_veXXbR",
    "outputId": "d62f71e9-9a54-4650-96ab-93d0c2cc2cb9",
    "slideshow": {
     "slide_type": "subslide"
    }
   },
   "outputs": [
    {
     "ename": "AttributeError",
     "evalue": "'tuple' object has no attribute 'x'",
     "output_type": "error",
     "traceback": [
      "\u001b[0;31m---------------------------------------------------------------------------\u001b[0m",
      "\u001b[0;31mAttributeError\u001b[0m                            Traceback (most recent call last)",
      "\u001b[0;32m/var/folders/ft/hp0lkfys73s96bby40t4tnnr0000gn/T/ipykernel_38921/2688267675.py\u001b[0m in \u001b[0;36m<module>\u001b[0;34m\u001b[0m\n\u001b[0;32m----> 1\u001b[0;31m \u001b[0mp\u001b[0m \u001b[0;34m==\u001b[0m \u001b[0;34m(\u001b[0m\u001b[0;36m5\u001b[0m\u001b[0;34m,\u001b[0m \u001b[0;36m10\u001b[0m\u001b[0;34m)\u001b[0m \u001b[0;31m# But note, if we try to compare things that are not comparable we'll get a runtime exception\u001b[0m\u001b[0;34m\u001b[0m\u001b[0;34m\u001b[0m\u001b[0m\n\u001b[0m",
      "\u001b[0;32m/var/folders/ft/hp0lkfys73s96bby40t4tnnr0000gn/T/ipykernel_38921/2954302720.py\u001b[0m in \u001b[0;36m__eq__\u001b[0;34m(self, p)\u001b[0m\n\u001b[1;32m     19\u001b[0m   \u001b[0;32mdef\u001b[0m \u001b[0m__eq__\u001b[0m\u001b[0;34m(\u001b[0m\u001b[0mself\u001b[0m\u001b[0;34m,\u001b[0m \u001b[0mp\u001b[0m\u001b[0;34m)\u001b[0m\u001b[0;34m:\u001b[0m\u001b[0;34m\u001b[0m\u001b[0;34m\u001b[0m\u001b[0m\n\u001b[1;32m     20\u001b[0m     \u001b[0;34m\"\"\" True if the points have the same x, y, coordinates \"\"\"\u001b[0m\u001b[0;34m\u001b[0m\u001b[0;34m\u001b[0m\u001b[0m\n\u001b[0;32m---> 21\u001b[0;31m     \u001b[0;32mreturn\u001b[0m \u001b[0;34m(\u001b[0m\u001b[0mself\u001b[0m\u001b[0;34m.\u001b[0m\u001b[0mx\u001b[0m\u001b[0;34m,\u001b[0m \u001b[0mself\u001b[0m\u001b[0;34m.\u001b[0m\u001b[0my\u001b[0m\u001b[0;34m)\u001b[0m \u001b[0;34m==\u001b[0m \u001b[0;34m(\u001b[0m\u001b[0mp\u001b[0m\u001b[0;34m.\u001b[0m\u001b[0mx\u001b[0m\u001b[0;34m,\u001b[0m \u001b[0mp\u001b[0m\u001b[0;34m.\u001b[0m\u001b[0my\u001b[0m\u001b[0;34m)\u001b[0m\u001b[0;34m\u001b[0m\u001b[0;34m\u001b[0m\u001b[0m\n\u001b[0m\u001b[1;32m     22\u001b[0m \u001b[0;34m\u001b[0m\u001b[0m\n\u001b[1;32m     23\u001b[0m \u001b[0mp\u001b[0m \u001b[0;34m=\u001b[0m \u001b[0mPoint\u001b[0m\u001b[0;34m(\u001b[0m\u001b[0;36m5\u001b[0m\u001b[0;34m,\u001b[0m \u001b[0;36m10\u001b[0m\u001b[0;34m)\u001b[0m\u001b[0;34m\u001b[0m\u001b[0;34m\u001b[0m\u001b[0m\n",
      "\u001b[0;31mAttributeError\u001b[0m: 'tuple' object has no attribute 'x'"
     ]
    }
   ],
   "source": [
    "p == (5, 10) # But note, if we try to compare things that are not comparable we'll get a runtime exception\n"
   ]
  },
  {
   "cell_type": "markdown",
   "metadata": {
    "slideshow": {
     "slide_type": "subslide"
    }
   },
   "source": [
    "# Challenge 2"
   ]
  },
  {
   "cell_type": "code",
   "execution_count": 3,
   "metadata": {
    "slideshow": {
     "slide_type": "fragment"
    }
   },
   "outputs": [
    {
     "name": "stdout",
     "output_type": "stream",
     "text": [
      "vindaloo is spicy vindaloo is hot fajita tacos is zingy\n"
     ]
    }
   ],
   "source": [
    "# Expand the class definition you wrote in Challenge 1 to include an __eq__ method.\n",
    "# The method should return True if the food variables are equal, otherwise it should return False\n",
    "\n",
    "\n",
    "\n",
    "curry = Food(\"vindaloo\", \"spicy\")\n",
    "another_curry = Food(\"vindaloo\", \"hot\")\n",
    "taco = Food(\"fajita tacos\", \"zingy\")\n",
    "\n",
    "# The following should work\n",
    "assert curry == another_curry # equal because both vindaloo \n",
    "assert curry != taco \n",
    "assert another_curry != taco"
   ]
  },
  {
   "cell_type": "markdown",
   "metadata": {
    "id": "1WyXRwJkdZ2p",
    "slideshow": {
     "slide_type": "slide"
    }
   },
   "source": [
    "# General operator overloading\n",
    "\n",
    "* We've seen two examples of polymorphism: we can alter the behavior of str() and == by implementing, respectively, \\__str__() and \\__eq__().\n",
    "\n",
    "* Implementing \\__eq__() is an example of \"operator overloading\", polymorphism in which we overide the default behaviour of an operator, in this case ==\n",
    "\n",
    "* We can do the same for other operators, e.g.:"
   ]
  },
  {
   "cell_type": "code",
   "execution_count": 7,
   "metadata": {
    "colab": {
     "base_uri": "https://localhost:8080/",
     "height": 51
    },
    "executionInfo": {
     "elapsed": 624,
     "status": "ok",
     "timestamp": 1573775293031,
     "user": {
      "displayName": "Benedict Paten",
      "photoUrl": "https://lh3.googleusercontent.com/a-/AAuE7mBMnWy8dDR7jyTHNy9tPaRx6DCyA3QKrIcuQ7R4=s64",
      "userId": "06399644931392855882"
     },
     "user_tz": 480
    },
    "id": "5oIQOvmaWtC1",
    "outputId": "c9a12e8b-07e8-46c5-9e7b-948449687610",
    "slideshow": {
     "slide_type": "subslide"
    }
   },
   "outputs": [
    {
     "name": "stdout",
     "output_type": "stream",
     "text": [
      "Add (7, 13)\n",
      "Multiply (10, 30)\n"
     ]
    }
   ],
   "source": [
    "class Point:\n",
    "  \"\"\" Create a new Point, at coordinates x, y \"\"\"\n",
    "\n",
    "  def __init__(self, x=0, y=0):\n",
    "    \"\"\" Create a new point at x, y \"\"\"\n",
    "    self.x = x\n",
    "    self.y = y\n",
    "\n",
    "  def distance_from_origin(self):\n",
    "    \"\"\" Compute my distance from the origin \"\"\"\n",
    "    return ((self.x ** 2) + (self.y ** 2)) ** 0.5 # This is just Pythagorus's theorem\n",
    "  \n",
    "  def __str__(self):\n",
    "    \"\"\"Return a string representing the point\"\"\"\n",
    "    return \"({0}, {1})\".format(self.x, self.y)\n",
    "  \n",
    "  def __eq__(self, p):\n",
    "    \"\"\" True if the points have the same x, y, coordinates \"\"\"\n",
    "    return (self.x, self.y) == (p.x, p.y)\n",
    "  \n",
    "  def __add__(self, p):\n",
    "    \"\"\" Allows the addition of two points \"\"\" # This implements the + operator\n",
    "    return Point(self.x + p.x, self.y + p.y)\n",
    "  \n",
    "  def __mul__(self, p):\n",
    "    \"\"\" Allows the multiplication of two points \"\"\" # This implement the * operator\n",
    "    return Point(self.x * p.x, self.y * p.y)\n",
    "  \n",
    "  \n",
    "p = Point(5, 10)\n",
    "p2 = Point(2, 3)\n",
    "\n",
    "print(\"Add\", p + p2) # (5+2, 10 + 3)\n",
    "\n",
    "print(\"Multiply\", p * p2) # (5*2, 10 * 3)\n"
   ]
  },
  {
   "cell_type": "markdown",
   "metadata": {
    "id": "BQzhXYpEmOg6",
    "slideshow": {
     "slide_type": "slide"
    }
   },
   "source": [
    "# Overloading Comparison Operators\n",
    "\n",
    "* Let's finish operator overloading by considering the general comparison operators. \n",
    "\n",
    "* Python implements all the difference logical comparison operators and each maps to a specific object function\n",
    "  * == implement \\__eq__() \n",
    "  * != implement \\__ne__() (although this one is optional if you do \\__eq__())\n",
    "  * <= implement \\__le__() \n",
    "  * \\>= implement \\__ge__()\n",
    "  * < implement \\__lt__()\n",
    "  * \\> implement \\__gt__()\n",
    "\n",
    "\n",
    "(If this seems a bit complicated see: https://portingguide.readthedocs.io/en/latest/comparisons.html)\n",
    "\n",
    "Here's a little example of a complete implementation:"
   ]
  },
  {
   "cell_type": "code",
   "execution_count": null,
   "metadata": {
    "colab": {
     "base_uri": "https://localhost:8080/",
     "height": 120
    },
    "executionInfo": {
     "elapsed": 1110,
     "status": "ok",
     "timestamp": 1573775476282,
     "user": {
      "displayName": "Benedict Paten",
      "photoUrl": "https://lh3.googleusercontent.com/a-/AAuE7mBMnWy8dDR7jyTHNy9tPaRx6DCyA3QKrIcuQ7R4=s64",
      "userId": "06399644931392855882"
     },
     "user_tz": 480
    },
    "id": "pVCmBi6lqjZO",
    "outputId": "069d66d3-854e-477f-9c8b-62c61b53c09c",
    "slideshow": {
     "slide_type": "subslide"
    }
   },
   "outputs": [
    {
     "name": "stdout",
     "output_type": "stream",
     "text": [
      "p == q False\n",
      "p != q True\n",
      "p <= q True\n",
      "p < q True\n",
      "p >= q False\n",
      "p > q False\n"
     ]
    }
   ],
   "source": [
    "class Point:\n",
    "  \"\"\" Create a new Point, at coordinates x, y \"\"\"\n",
    "\n",
    "  def __init__(self, x=0, y=0):\n",
    "    \"\"\" Create a new point at x, y \"\"\"\n",
    "    self.x = x\n",
    "    self.y = y\n",
    "\n",
    "  def distance_from_origin(self):\n",
    "    \"\"\" Compute my distance from the origin \"\"\"\n",
    "    return ((self.x ** 2) + (self.y ** 2)) ** 0.5 # This is just Pythagorus's theorem\n",
    "  \n",
    "  def __str__(self):\n",
    "    \"\"\"Return a string representing the point\"\"\"\n",
    "    return \"({0}, {1})\".format(self.x, self.y)\n",
    "  \n",
    "  def __eq__(self, p):\n",
    "    \"\"\" True if the points have the same x, y, coordinates \"\"\"\n",
    "    return (self.x, self.y) == (p.x, p.y)\n",
    "  \n",
    "  def __lt__(self, p):\n",
    "    return (self.x, self.y) < (p.x, p.y)\n",
    "  \n",
    "  def __le__(self, p):\n",
    "    return (self.x, self.y) <= (p.x, p.y)\n",
    "  \n",
    "  def __gt__(self, p):\n",
    "    return (self.x, self.y) > (p.x, p.y)\n",
    "  \n",
    "  def __ge__(self, p):\n",
    "    return (self.x, self.y) >= (p.x, p.y)\n",
    "  \n",
    "p = Point(3, 4)\n",
    "q = Point(3, 5)\n",
    "\n",
    "print(\"p == q\", p == q)\n",
    "print(\"p != q\", p != q)\n",
    "print(\"p <= q\", p <= q)\n",
    "print(\"p < q\", p < q)\n",
    "print(\"p >= q\", p >= q)\n",
    "print(\"p > q\", p > q)"
   ]
  },
  {
   "cell_type": "markdown",
   "metadata": {
    "id": "Ry54X38GGIFv",
    "slideshow": {
     "slide_type": "subslide"
    }
   },
   "source": [
    "# Challenge 3"
   ]
  },
  {
   "cell_type": "code",
   "execution_count": 5,
   "metadata": {
    "colab": {
     "base_uri": "https://localhost:8080/",
     "height": 51
    },
    "executionInfo": {
     "elapsed": 496,
     "status": "ok",
     "timestamp": 1573778051064,
     "user": {
      "displayName": "Benedict Paten",
      "photoUrl": "https://lh3.googleusercontent.com/a-/AAuE7mBMnWy8dDR7jyTHNy9tPaRx6DCyA3QKrIcuQ7R4=s64",
      "userId": "06399644931392855882"
     },
     "user_tz": 480
    },
    "id": "J5D4lslfrgH_",
    "outputId": "b37e3dd6-16b0-4b42-e64b-358f47233cec",
    "slideshow": {
     "slide_type": "fragment"
    }
   },
   "outputs": [],
   "source": [
    "# Complete the code to make the asserts pass\n",
    "\n",
    "class Contact:\n",
    "    \"\"\"Used to represent the contact details of an individual\"\"\"\n",
    "  \n",
    "    def __init__(self, name, phone, email):\n",
    "        self.name, self.phone, self.email = name, phone, email\n",
    "    \n",
    "    # Implement equals, less-than, less-than-or-equals, greater-than and greater-than-or-equals comparison \n",
    "    # methods comparing only by the name attribute\n",
    "    \n",
    "  \n",
    "f = Contact(\"Dave\", 1234, \"dave@dave.net\")\n",
    "g = Contact(\"Dave\", 56, \"an_email@email\")\n",
    "h = Contact(\"Ben\", 439205934, \"ggg\")\n",
    "\n",
    "\n",
    "assert f == g \n",
    "assert f != h \n",
    "assert h < f and h < g and h <= f and h <= g # Cos Ben occurs in the dictionary before Dave\n",
    "assert f > h and g > h and f >= h and g >= h # Cos Ben occurs in the dictionary before Dave"
   ]
  },
  {
   "cell_type": "markdown",
   "metadata": {
    "id": "SonqW-KnQ4Ur",
    "slideshow": {
     "slide_type": "slide"
    }
   },
   "source": [
    "# Copying Objects\n",
    "\n",
    "* We've talked about how different objects of a class are distinct. \n",
    "\n",
    "* What if we want to copy an object?\n",
    "\n",
    "  * If the object is immutable you never need copy it, because you can just make multiple references to it without fear of any reference altering it.\n",
    "\n",
    "  * With mutable objects it is sometimes useful to actually copy the object, effectively cloning the contents of the memory.\n",
    "\n",
    "We'll illustrate how this works:"
   ]
  },
  {
   "cell_type": "code",
   "execution_count": 11,
   "metadata": {
    "colab": {
     "base_uri": "https://localhost:8080/",
     "height": 34
    },
    "executionInfo": {
     "elapsed": 864,
     "status": "ok",
     "timestamp": 1573775955469,
     "user": {
      "displayName": "Benedict Paten",
      "photoUrl": "https://lh3.googleusercontent.com/a-/AAuE7mBMnWy8dDR7jyTHNy9tPaRx6DCyA3QKrIcuQ7R4=s64",
      "userId": "06399644931392855882"
     },
     "user_tz": 480
    },
    "id": "4acXgcytxDdb",
    "outputId": "5b6313f4-3c64-4613-c806-55af94730f92",
    "slideshow": {
     "slide_type": "fragment"
    }
   },
   "outputs": [
    {
     "data": {
      "text/plain": [
       "True"
      ]
     },
     "execution_count": 11,
     "metadata": {},
     "output_type": "execute_result"
    }
   ],
   "source": [
    "import copy\n",
    "\n",
    "p1 = Point(3, 4)\n",
    "p2 = copy.copy(p1)\n",
    "\n",
    "p1 == p2"
   ]
  },
  {
   "cell_type": "code",
   "execution_count": null,
   "metadata": {
    "colab": {
     "base_uri": "https://localhost:8080/",
     "height": 34
    },
    "executionInfo": {
     "elapsed": 537,
     "status": "ok",
     "timestamp": 1573775957341,
     "user": {
      "displayName": "Benedict Paten",
      "photoUrl": "https://lh3.googleusercontent.com/a-/AAuE7mBMnWy8dDR7jyTHNy9tPaRx6DCyA3QKrIcuQ7R4=s64",
      "userId": "06399644931392855882"
     },
     "user_tz": 480
    },
    "id": "rkIRcbIWxOQG",
    "outputId": "7c9ce4d6-c3a6-45f3-8202-5e09a68ef9cf",
    "slideshow": {
     "slide_type": "fragment"
    }
   },
   "outputs": [
    {
     "data": {
      "text/plain": [
       "False"
      ]
     },
     "execution_count": 31,
     "metadata": {
      "tags": []
     },
     "output_type": "execute_result"
    }
   ],
   "source": [
    "p1 is p2 # Nope, p2 is a copy of p1 so the memory references are different"
   ]
  },
  {
   "cell_type": "markdown",
   "metadata": {
    "id": "doy6JG-Wxh-P",
    "slideshow": {
     "slide_type": "fragment"
    }
   },
   "source": [
    "* Q: How does this work?\n",
    "\n",
    "  * Python copies the contents of the p1 object's memory to a new location in memory, making copies of its references\n",
    "  * e.g. p1 is composed of memory representing p1.x and p1.y\n",
    "  * p2 is therefore a new location in memory with copies of these references. i.e. p1.x is p2.x and p1.y is p2.y\n",
    "  "
   ]
  },
  {
   "cell_type": "code",
   "execution_count": 12,
   "metadata": {
    "colab": {
     "base_uri": "https://localhost:8080/",
     "height": 34
    },
    "executionInfo": {
     "elapsed": 542,
     "status": "ok",
     "timestamp": 1573775640995,
     "user": {
      "displayName": "Benedict Paten",
      "photoUrl": "https://lh3.googleusercontent.com/a-/AAuE7mBMnWy8dDR7jyTHNy9tPaRx6DCyA3QKrIcuQ7R4=s64",
      "userId": "06399644931392855882"
     },
     "user_tz": 480
    },
    "id": "M_KDwOpY1kb0",
    "outputId": "da2dbb79-369a-4968-b7e1-283f4019a727",
    "slideshow": {
     "slide_type": "subslide"
    }
   },
   "outputs": [
    {
     "data": {
      "text/plain": [
       "True"
      ]
     },
     "execution_count": 12,
     "metadata": {},
     "output_type": "execute_result"
    }
   ],
   "source": [
    "p1.x is p2.x # This is true because the references of p1 are copied into p2"
   ]
  },
  {
   "cell_type": "code",
   "execution_count": 13,
   "metadata": {
    "colab": {
     "base_uri": "https://localhost:8080/",
     "height": 34
    },
    "executionInfo": {
     "elapsed": 896,
     "status": "ok",
     "timestamp": 1573775645601,
     "user": {
      "displayName": "Benedict Paten",
      "photoUrl": "https://lh3.googleusercontent.com/a-/AAuE7mBMnWy8dDR7jyTHNy9tPaRx6DCyA3QKrIcuQ7R4=s64",
      "userId": "06399644931392855882"
     },
     "user_tz": 480
    },
    "id": "MXWu-MlN1q0-",
    "outputId": "26fa2186-6fe7-4a0d-bd6b-e959a7edb6b7",
    "slideshow": {
     "slide_type": "fragment"
    }
   },
   "outputs": [
    {
     "data": {
      "text/plain": [
       "True"
      ]
     },
     "execution_count": 13,
     "metadata": {},
     "output_type": "execute_result"
    }
   ],
   "source": [
    "p1.y is p2.y # Similarly"
   ]
  },
  {
   "cell_type": "code",
   "execution_count": 14,
   "metadata": {
    "colab": {
     "base_uri": "https://localhost:8080/",
     "height": 51
    },
    "executionInfo": {
     "elapsed": 480,
     "status": "ok",
     "timestamp": 1573775656978,
     "user": {
      "displayName": "Benedict Paten",
      "photoUrl": "https://lh3.googleusercontent.com/a-/AAuE7mBMnWy8dDR7jyTHNy9tPaRx6DCyA3QKrIcuQ7R4=s64",
      "userId": "06399644931392855882"
     },
     "user_tz": 480
    },
    "id": "uU247QoPRhdZ",
    "outputId": "7c105bef-2415-4f78-dba3-dc403efd5ef7",
    "slideshow": {
     "slide_type": "fragment"
    }
   },
   "outputs": [
    {
     "name": "stdout",
     "output_type": "stream",
     "text": [
      "p1 (7, 12)\n",
      "p2 (3, 4)\n"
     ]
    }
   ],
   "source": [
    "# It follows that if we reassign the variables in p1, this does not affect the references p2\n",
    "\n",
    "p1.x = 7\n",
    "p1.y = 12\n",
    "\n",
    "\n",
    "print(\"p1\", p1)\n",
    "print(\"p2\", p2) "
   ]
  },
  {
   "cell_type": "code",
   "execution_count": 15,
   "metadata": {
    "slideshow": {
     "slide_type": "fragment"
    }
   },
   "outputs": [
    {
     "data": {
      "text/plain": [
       "False"
      ]
     },
     "execution_count": 15,
     "metadata": {},
     "output_type": "execute_result"
    }
   ],
   "source": [
    "p1.x is p2.x # Having changed p1.x, p1.x is no longer p2.x because p1.x is pointing at 7 not 3"
   ]
  },
  {
   "cell_type": "code",
   "execution_count": 16,
   "metadata": {
    "slideshow": {
     "slide_type": "fragment"
    }
   },
   "outputs": [
    {
     "data": {
      "text/plain": [
       "False"
      ]
     },
     "execution_count": 16,
     "metadata": {},
     "output_type": "execute_result"
    }
   ],
   "source": [
    "p1.y is p2.y # Similarly"
   ]
  },
  {
   "cell_type": "markdown",
   "metadata": {
    "id": "GTGoQDcUzC_u",
    "slideshow": {
     "slide_type": "slide"
    }
   },
   "source": [
    "# Deep Copy\n",
    "\n",
    "* Ok, but what about when we want to copy the references, recursively? \n",
    "\n",
    "<img src=\"https://raw.githubusercontent.com/benedictpaten/intro_python/main/lecture_notebooks/figures/graffles/deep%20copy.jpg\" width=600 height=300 />\n",
    "\n",
    "* If we use copy we only clone the original objects, not the referenced objects, so the reference object is shared.\n",
    "\n",
    "* Consider the following example:"
   ]
  },
  {
   "cell_type": "code",
   "execution_count": null,
   "metadata": {
    "colab": {
     "base_uri": "https://localhost:8080/",
     "height": 34
    },
    "executionInfo": {
     "elapsed": 457,
     "status": "ok",
     "timestamp": 1573776116554,
     "user": {
      "displayName": "Benedict Paten",
      "photoUrl": "https://lh3.googleusercontent.com/a-/AAuE7mBMnWy8dDR7jyTHNy9tPaRx6DCyA3QKrIcuQ7R4=s64",
      "userId": "06399644931392855882"
     },
     "user_tz": 480
    },
    "id": "30VfVRkpzHvc",
    "outputId": "6f844ffe-0bb6-48b1-fdff-5fd429a73435",
    "slideshow": {
     "slide_type": "subslide"
    }
   },
   "outputs": [
    {
     "name": "stdout",
     "output_type": "stream",
     "text": [
      "box:  ((0, 0), 100, 200)\n"
     ]
    }
   ],
   "source": [
    "class Rectangle:\n",
    "  \"\"\" A class to manufacture rectangle objects \"\"\"\n",
    "\n",
    "  def __init__(self, posn, w, h):\n",
    "    \"\"\" Initialize rectangle at posn, with width w, height h \"\"\"\n",
    "    self.corner = posn # This is an example of composition, where we re-use\n",
    "    # point\n",
    "    self.width = w\n",
    "    self.height = h\n",
    "\n",
    "  def __str__(self):\n",
    "    return  \"({0}, {1}, {2})\".format(self.corner, self.width, self.height) # Note how\n",
    "        # self.corner reuses the __str__ method of Point\n",
    "\n",
    "box = Rectangle(Point(0, 0), 100, 200)\n",
    "print(\"box: \", box)"
   ]
  },
  {
   "cell_type": "markdown",
   "metadata": {
    "id": "UTCxgAlOHPQa",
    "slideshow": {
     "slide_type": "fragment"
    }
   },
   "source": [
    "Now let's make a rectangle and try copying it:"
   ]
  },
  {
   "cell_type": "code",
   "execution_count": null,
   "metadata": {
    "colab": {
     "base_uri": "https://localhost:8080/",
     "height": 86
    },
    "executionInfo": {
     "elapsed": 891,
     "status": "ok",
     "timestamp": 1573776264012,
     "user": {
      "displayName": "Benedict Paten",
      "photoUrl": "https://lh3.googleusercontent.com/a-/AAuE7mBMnWy8dDR7jyTHNy9tPaRx6DCyA3QKrIcuQ7R4=s64",
      "userId": "06399644931392855882"
     },
     "user_tz": 480
    },
    "id": "BlrsxJFfHVRw",
    "outputId": "e089814b-2fc0-4c1e-ce71-f934186b8e5f",
    "slideshow": {
     "slide_type": "fragment"
    }
   },
   "outputs": [
    {
     "name": "stdout",
     "output_type": "stream",
     "text": [
      "r ((3, 4), 100, 200)\n",
      "r2 ((3, 4), 100, 200)\n",
      "after change r ((10, 4), 100, 200)\n",
      "after change r2 ((10, 4), 100, 200)\n"
     ]
    }
   ],
   "source": [
    "r = Rectangle(Point(3, 4), 100, 200)\n",
    "\n",
    "r2 = copy.copy(r)\n",
    "\n",
    "print(\"r\", r)\n",
    "print(\"r2\", r2)\n",
    "\n",
    "r.corner.x = 10\n",
    "\n",
    "print(\"after change r\", r)\n",
    "print(\"after change r2\", r2) # Ack, r.corner is r2.corner, so changes\n",
    "# to r.corner change r2.corner"
   ]
  },
  {
   "cell_type": "markdown",
   "metadata": {
    "id": "un4Y-jAtS2VS",
    "slideshow": {
     "slide_type": "subslide"
    }
   },
   "source": [
    "The solution is to use \"deepcopy()\", which recursively invokes the copy\n",
    "method on references using Python magic (something called: reflection)."
   ]
  },
  {
   "cell_type": "code",
   "execution_count": null,
   "metadata": {
    "colab": {
     "base_uri": "https://localhost:8080/",
     "height": 86
    },
    "executionInfo": {
     "elapsed": 962,
     "status": "ok",
     "timestamp": 1573776500280,
     "user": {
      "displayName": "Benedict Paten",
      "photoUrl": "https://lh3.googleusercontent.com/a-/AAuE7mBMnWy8dDR7jyTHNy9tPaRx6DCyA3QKrIcuQ7R4=s64",
      "userId": "06399644931392855882"
     },
     "user_tz": 480
    },
    "id": "xEF2YZVl0ZZW",
    "outputId": "a3cf50d3-b136-4eff-e31c-0a36469c5baa",
    "slideshow": {
     "slide_type": "fragment"
    }
   },
   "outputs": [
    {
     "name": "stdout",
     "output_type": "stream",
     "text": [
      "r ((3, 4), 100, 200)\n",
      "r2 ((3, 4), 100, 200)\n",
      "after change r ((10, 4), 100, 200)\n",
      "after change r2 ((3, 4), 100, 200)\n"
     ]
    }
   ],
   "source": [
    "r = Rectangle(Point(3, 4), 100, 200)\n",
    "\n",
    "r2 = copy.deepcopy(r)\n",
    "\n",
    "print(\"r\", r)\n",
    "print(\"r2\", r2)\n",
    "\n",
    "r.corner.x = 10\n",
    "\n",
    "print(\"after change r\", r)\n",
    "print(\"after change r2\", r2) # Now the r2.corner is not r.corner, because the corner object\n",
    "# was copied in turn"
   ]
  },
  {
   "cell_type": "markdown",
   "metadata": {
    "slideshow": {
     "slide_type": "subslide"
    }
   },
   "source": [
    "# Challenge 4"
   ]
  },
  {
   "cell_type": "code",
   "execution_count": 6,
   "metadata": {
    "slideshow": {
     "slide_type": "fragment"
    }
   },
   "outputs": [
    {
     "name": "stdout",
     "output_type": "stream",
     "text": [
      "dave@dave.net\n",
      "different@something\n"
     ]
    }
   ],
   "source": [
    "class Contact:\n",
    "  \"\"\"Used to represent the contact details of an individual\"\"\"\n",
    "  \n",
    "  def __init__(self, name, phone, email):\n",
    "    self.name, self.phone, self.email = name, phone, email\n",
    "    \n",
    "f = Contact(\"Dave\", 1234, \"dave@dave.net\")\n",
    "\n",
    "\n",
    "# Use the copy module to make a copy, g, of f and replace the email address of g to be \"an_email@email\"\n",
    "# Check that the two copies have distinct email addresses.\n",
    "\n"
   ]
  },
  {
   "cell_type": "markdown",
   "metadata": {
    "id": "KZP9y5sgyVm8",
    "slideshow": {
     "slide_type": "slide"
    }
   },
   "source": [
    "# Reading\n",
    "\n",
    "* Finish reading Chapter 16: (more objects) http://openbookproject.net/thinkcs/python/english3e/classes_and_objects_II.html\n",
    "\n",
    "* Read Chapter 21: (polymorphism) \n",
    "http://openbookproject.net/thinkcs/python/english3e/even_more_oop.html\n",
    "\n",
    "\n",
    "# Homework\n",
    "\n",
    "* Go to Canvas and complete the lecture quiz, which involves completing each challenge problem\n",
    "* Zybooks Reading 13\n",
    "* **Study ahead:** Work through the next lecture's notes on your own: An Example of OOP: Implementing the card game Old Maid. This will make it easier to follow.\n"
   ]
  },
  {
   "cell_type": "markdown",
   "metadata": {
    "slideshow": {
     "slide_type": "slide"
    }
   },
   "source": [
    "# Practice Python"
   ]
  },
  {
   "cell_type": "code",
   "execution_count": null,
   "metadata": {
    "slideshow": {
     "slide_type": "slide"
    }
   },
   "outputs": [],
   "source": [
    "# Problem 1: String Representation\n",
    "# Complete the Employee class by implementing the __str__ method to return a string in the format:\n",
    "# \"Employee: [name] - [title]\"\n",
    "\n",
    "class Employee:\n",
    "    def __init__(self, name, title):\n",
    "        self.name = name\n",
    "        self.title = title\n",
    "        \n",
    "    # Add your __str__ method here\n",
    "    \n",
    "# Tests\n",
    "e = Employee(\"John Smith\", \"Software Engineer\")\n",
    "assert str(e) == \"Employee: John Smith - Software Engineer\"\n"
   ]
  },
  {
   "cell_type": "code",
   "execution_count": null,
   "metadata": {
    "slideshow": {
     "slide_type": "slide"
    }
   },
   "outputs": [],
   "source": [
    "# Problem 2: Operator Overloading\n",
    "# Complete the Temperature class by implementing the __eq__ and __lt__ methods\n",
    "# Two temperatures should be equal if their Celsius values are equal\n",
    "# One temperature is less than another if its Celsius value is less\n",
    "\n",
    "class Temperature:\n",
    "    def __init__(self, celsius):\n",
    "        self.celsius = celsius\n",
    "        \n",
    "    # Add your __eq__ method here\n",
    "    \n",
    "    # Add your __lt__ method here\n",
    "\n",
    "# Tests        \n",
    "t1 = Temperature(20)\n",
    "t2 = Temperature(20)\n",
    "t3 = Temperature(25)\n",
    "assert t1 == t2\n",
    "assert t1 < t3"
   ]
  },
  {
   "cell_type": "code",
   "execution_count": null,
   "metadata": {
    "slideshow": {
     "slide_type": "slide"
    }
   },
   "outputs": [],
   "source": [
    "# Problem 3: Container Class\n",
    "# Complete the Playlist class that contains songs. Implement __len__ to return the number\n",
    "# of songs and __contains__ to check if a song is in the playlist.\n",
    "\n",
    "class Playlist:\n",
    "    def __init__(self, name):\n",
    "        self.name = name\n",
    "        self.songs = []\n",
    "        \n",
    "    def add_song(self, song):\n",
    "        self.songs.append(song)\n",
    "        \n",
    "    # Add your __len__ method here\n",
    "    \n",
    "    # Add your __contains__ method here\n",
    "\n",
    "# Tests\n",
    "playlist = Playlist(\"My Favorites\")\n",
    "playlist.add_song(\"Bohemian Rhapsody\")\n",
    "playlist.add_song(\"Stairway to Heaven\")\n",
    "assert len(playlist) == 2\n",
    "assert \"Bohemian Rhapsody\" in playlist\n",
    "assert \"Sweet Child O Mine\" not in playlist"
   ]
  },
  {
   "cell_type": "code",
   "execution_count": null,
   "metadata": {
    "slideshow": {
     "slide_type": "slide"
    }
   },
   "outputs": [],
   "source": [
    "# Problem 4: Time Arithmetic\n",
    "# Complete the Time class by implementing the __add__ method to add minutes to a time.\n",
    "# The time should wrap around correctly (e.g., 11:50 + 20 minutes = 12:10)\n",
    "\n",
    "class Time:\n",
    "    def __init__(self, hours, minutes):\n",
    "        self.hours = hours\n",
    "        self.minutes = minutes\n",
    "        \n",
    "    def __str__(self):\n",
    "        return f\"{self.hours:02d}:{self.minutes:02d}\"\n",
    "        \n",
    "    # Add your __add__ method here\n",
    "        \n",
    "# Tests\n",
    "t = Time(11, 50)\n",
    "t2 = t + 20  # Should add 20 minutes\n",
    "assert str(t2) == \"12:10\"\n",
    "t3 = Time(23, 45) + 30\n",
    "assert str(t3) == \"00:15\""
   ]
  },
  {
   "cell_type": "code",
   "execution_count": null,
   "metadata": {
    "slideshow": {
     "slide_type": "slide"
    }
   },
   "outputs": [],
   "source": [
    "# Problem 5: Complex Number Operations  \n",
    "# Complete the ComplexNum class by implementing __add__ and __mul__ methods\n",
    "# for addition and multiplication of complex numbers\n",
    "\n",
    "class ComplexNum:\n",
    "    def __init__(self, real, imag):\n",
    "        self.real = real\n",
    "        self.imag = imag\n",
    "        \n",
    "    def __str__(self):\n",
    "        return f\"{self.real} + {self.imag}i\"\n",
    "        \n",
    "    # Add your __add__ method here\n",
    "    \n",
    "    # Add your __mul__ method here\n",
    "\n",
    "# Tests\n",
    "c1 = ComplexNum(1, 2)\n",
    "c2 = ComplexNum(3, 4)\n",
    "sum_c = c1 + c2\n",
    "assert sum_c.real == 4 and sum_c.imag == 6\n",
    "prod_c = c1 * c2\n",
    "assert prod_c.real == -5 and prod_c.imag == 10  # (1+2i)(3+4i) = (1*3-2*4) + (1*4+2*3)i = -5 + 10i"
   ]
  }
 ],
 "metadata": {
  "celltoolbar": "Slideshow",
  "colab": {
   "collapsed_sections": [],
   "name": "L13 Classes and Polymorphism.ipynb",
   "provenance": []
  },
  "kernelspec": {
   "display_name": "intro_python_env",
   "language": "python",
   "name": "intro_python_env"
  },
  "language_info": {
   "codemirror_mode": {
    "name": "ipython",
    "version": 3
   },
   "file_extension": ".py",
   "mimetype": "text/x-python",
   "name": "python",
   "nbconvert_exporter": "python",
   "pygments_lexer": "ipython3",
   "version": "3.11.9"
  }
 },
 "nbformat": 4,
 "nbformat_minor": 1
}
