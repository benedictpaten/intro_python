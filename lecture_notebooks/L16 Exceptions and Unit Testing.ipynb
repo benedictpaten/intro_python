{
 "cells": [
  {
   "cell_type": "markdown",
   "metadata": {
    "id": "L4Yq7MGPZERE",
    "slideshow": {
     "slide_type": "slide"
    }
   },
   "source": [
    "# Lecture 16 - Exceptions and Unit Testing (https://bit.ly/intro_python_16)\n",
    "\n",
    "* Unit-testing with unitest\n",
    "* Exceptions and error handling\n"
   ]
  },
  {
   "cell_type": "markdown",
   "metadata": {
    "id": "iPsTLSW0BJSu",
    "slideshow": {
     "slide_type": "slide"
    }
   },
   "source": [
    "# Unit testing with the unittest module\n",
    "\n",
    "* As programs grow in complexity, the scope for bugs becomes huge.\n",
    "\n",
    "* Satisfactorily debugging a complex program without systematic testing is **hard or even intractable**.\n",
    "\n",
    "* With **unit-testing** you design tests to test individual \"units\" of the code, e.g. functions and classes.\n",
    "\n",
    "* Unit-testing allows you to progressively debug code and build tested modules of code with less fear that nothing will work when you finally put it together."
   ]
  },
  {
   "cell_type": "markdown",
   "metadata": {
    "id": "KeaobT9uqS3v",
    "slideshow": {
     "slide_type": "slide"
    }
   },
   "source": [
    "# Unittesting example: Fibonacci numbers\n",
    "\n",
    "* Let's look at a simple example, debugging a function for computing members of the Fibonacci sequence\n",
    "\n",
    "* Recall the ith Fibonacci number is equal to the sum of the previous two Fibonacci numbers, and 0 and 1 are the 0th and 1st Fibonacci numbers.\n",
    "\n",
    "  * i.e. fib(i) = fib(i-1) + f(i-2), for i > 1\n",
    "\n",
    "* This definition is naturally recursive, so we can use a recursive implementation of the function."
   ]
  },
  {
   "cell_type": "code",
   "execution_count": 1,
   "metadata": {
    "id": "Fv6ucZiFYbG9",
    "slideshow": {
     "slide_type": "fragment"
    }
   },
   "outputs": [],
   "source": [
    "# Example demonstrating unittesting using the Python unittest module\n",
    "\n",
    "def fib(i):\n",
    "  \"\"\" Compute the ith fibonacci number recursively\n",
    "  \"\"\"\n",
    "  assert type(i) == int and i >= 0\n",
    "  if i == 0: # Note, this is not quite right!\n",
    "    return 1 \n",
    "  if i == 1:\n",
    "    return 1 \n",
    "  return fib(i-1) + fib(i-2) "
   ]
  },
  {
   "cell_type": "markdown",
   "metadata": {
    "id": "zpYh0wDB5TCb",
    "slideshow": {
     "slide_type": "subslide"
    }
   },
   "source": [
    "Here's how we test it using unittest:"
   ]
  },
  {
   "cell_type": "code",
   "execution_count": 2,
   "metadata": {
    "colab": {
     "base_uri": "https://localhost:8080/"
    },
    "executionInfo": {
     "elapsed": 374,
     "status": "ok",
     "timestamp": 1608090815502,
     "user": {
      "displayName": "Benedict Paten",
      "photoUrl": "https://lh3.googleusercontent.com/a-/AOh14Gh2rYrrH6yoNnUp0Oj4p4ouybc6ZcWGyPmKFtIY=s64",
      "userId": "06399644931392855882"
     },
     "user_tz": 480
    },
    "id": "nCodoVss5Jb-",
    "outputId": "c7100872-7e0a-4900-a571-3b75fb9baeb7",
    "slideshow": {
     "slide_type": "fragment"
    }
   },
   "outputs": [
    {
     "name": "stderr",
     "output_type": "stream",
     "text": [
      "F\n",
      "======================================================================\n",
      "FAIL: test_fib (__main__.FibTest.test_fib)\n",
      "Each test we create must start with the name \"test\"\n",
      "----------------------------------------------------------------------\n",
      "Traceback (most recent call last):\n",
      "  File \"/var/folders/ft/hp0lkfys73s96bby40t4tnnr0000gn/T/ipykernel_49453/1045013643.py\", line 11, in test_fib\n",
      "    self.assertEqual(fib(0), 0)\n",
      "AssertionError: 1 != 0\n",
      "\n",
      "----------------------------------------------------------------------\n",
      "Ran 1 test in 0.000s\n",
      "\n",
      "FAILED (failures=1)\n"
     ]
    },
    {
     "data": {
      "text/plain": [
       "<unittest.main.TestProgram at 0x106da8fd0>"
      ]
     },
     "execution_count": 2,
     "metadata": {},
     "output_type": "execute_result"
    }
   ],
   "source": [
    "import unittest # unittest is the standard Python library module for unit testing,\n",
    "# it's great\n",
    "\n",
    "class FibTest(unittest.TestCase): # Note the use of inheritence\n",
    "  \"\"\" We create a test class that inherits from the unittest.TestCase\n",
    "  class\n",
    "  \"\"\"\n",
    "  def test_fib(self):\n",
    "    \"\"\" Each test we create must start with the name \"test\"\n",
    "    \"\"\"\n",
    "    self.assertEqual(fib(0), 0)\n",
    "    self.assertEqual(fib(1), 1)\n",
    "    self.assertEqual(fib(2), 1)\n",
    "    self.assertEqual(fib(3), 2)\n",
    "    self.assertEqual(fib(4), 3)\n",
    "    self.assertEqual(fib(5), 5)\n",
    "    self.assertEqual(fib(6), 8)\n",
    "\n",
    "unittest.main(argv=['first-arg-is-ignored'], exit=False)"
   ]
  },
  {
   "cell_type": "markdown",
   "metadata": {
    "id": "_29yYOF1rrSQ",
    "slideshow": {
     "slide_type": "subslide"
    }
   },
   "source": [
    "Okay, so our test failed, let's fix it:"
   ]
  },
  {
   "cell_type": "code",
   "execution_count": 3,
   "metadata": {
    "id": "r72cNfLsrxkc",
    "slideshow": {
     "slide_type": "fragment"
    }
   },
   "outputs": [],
   "source": [
    "# Example demonstrating unittesting using the Python\n",
    "# unittest module\n",
    "\n",
    "# Let's suppose we want to test our implementation of the fibonnaci sequence\n",
    "def fib(i):\n",
    "  \"\"\" Compute the ith fibonacci number recursively\n",
    "  \n",
    "  Reminder the ith fibonnaci number is equal to the sum of the previous\n",
    "  two previous fibonnacci numbers, where the 0th fibonacci number is 0 and the 1st\n",
    "  is 1.\n",
    "  \"\"\"\n",
    "  assert type(i) == int and i >= 0\n",
    "  if i == 0: # Fixed!\n",
    "    return 0 \n",
    "  if i == 1:\n",
    "    return 1 \n",
    "  return fib(i-1) + fib(i-2)"
   ]
  },
  {
   "cell_type": "markdown",
   "metadata": {
    "id": "qKcD3NG_sA2z",
    "slideshow": {
     "slide_type": "subslide"
    }
   },
   "source": [
    "Now we can rerun the tests:"
   ]
  },
  {
   "cell_type": "code",
   "execution_count": 4,
   "metadata": {
    "colab": {
     "base_uri": "https://localhost:8080/"
    },
    "executionInfo": {
     "elapsed": 597,
     "status": "ok",
     "timestamp": 1608090883841,
     "user": {
      "displayName": "Benedict Paten",
      "photoUrl": "https://lh3.googleusercontent.com/a-/AOh14Gh2rYrrH6yoNnUp0Oj4p4ouybc6ZcWGyPmKFtIY=s64",
      "userId": "06399644931392855882"
     },
     "user_tz": 480
    },
    "id": "8hmU0_UPr4U_",
    "outputId": "b7534222-9deb-4b84-81b1-2ca0df42d248",
    "slideshow": {
     "slide_type": "fragment"
    }
   },
   "outputs": [
    {
     "name": "stderr",
     "output_type": "stream",
     "text": [
      ".\n",
      "----------------------------------------------------------------------\n",
      "Ran 1 test in 0.000s\n",
      "\n",
      "OK\n"
     ]
    },
    {
     "data": {
      "text/plain": [
       "<unittest.main.TestProgram at 0x106d9e490>"
      ]
     },
     "execution_count": 4,
     "metadata": {},
     "output_type": "execute_result"
    }
   ],
   "source": [
    "import unittest # unittest is the standard Python library module for unit testing,\n",
    "# it's great\n",
    "\n",
    "class FibTest(unittest.TestCase): # Note the use of inheritence\n",
    "  \"\"\" We create a test class that inherits from the unittest.TestCase\n",
    "  class\n",
    "  \"\"\"\n",
    "  def test_calc_x(self):\n",
    "    \"\"\" IMPORTANT NOTE: Each test we create must start with the name \"test\", otherwise\n",
    "    it will not be considered a test but just a helper method\n",
    "    \"\"\"\n",
    "    self.assertEqual(fib(0), 0)\n",
    "    self.assertEqual(fib(1), 1)\n",
    "    self.assertEqual(fib(2), 1)\n",
    "    self.assertEqual(fib(3), 2)\n",
    "    self.assertEqual(fib(4), 3)\n",
    "    self.assertEqual(fib(5), 5)\n",
    "    self.assertEqual(fib(6), 8)\n",
    "\n",
    "unittest.main(argv=['first-arg-is-ignored'], exit=False)"
   ]
  },
  {
   "cell_type": "markdown",
   "metadata": {
    "id": "kApqUqdysJsV",
    "slideshow": {
     "slide_type": "fragment"
    }
   },
   "source": [
    "Okay, this example is contrived, but the idea that you should write code to test your code turns out to be remarkably useful.\n",
    "\n",
    "What if you want to write multiple tests for multiple different functions?"
   ]
  },
  {
   "cell_type": "markdown",
   "metadata": {
    "id": "2PGtely3EFs8",
    "slideshow": {
     "slide_type": "slide"
    }
   },
   "source": [
    "# Writing multiple tests: setUp() and tearDown()\n",
    "\n",
    "* It is good to keep tests small and modular.\n",
    "\n",
    "* If you want to test lots of related functions, e.g. the functions of a class, it is therefore helpful to have shared \"setup\" and \"cleanup\" functions that are run, respectively, before and after each test. You can achieve this with the *setUp()* and *tearDown()* functions of the unittest.TestCase function."
   ]
  },
  {
   "cell_type": "code",
   "execution_count": 15,
   "metadata": {
    "id": "sNBmpzjsEAqh",
    "slideshow": {
     "slide_type": "subslide"
    }
   },
   "outputs": [],
   "source": [
    "# Here's the card class we studied before when looking at the Old Maid card game:\n",
    "\n",
    "class Card:\n",
    "  \"\"\" Represents a card from a deck of cards.\n",
    "  \"\"\"\n",
    "  \n",
    "  # Here are some class variables\n",
    "  # to represent possible suits and ranks\n",
    "  suits = [\"Clubs\", \"Diamonds\", \"Spades\", \"Hearts\"]\n",
    "  ranks = [\"narf\", \"Ace\", \"2\", \"3\", \"4\", \"5\", \"6\", \"7\",\n",
    "           \"8\", \"9\", \"10\", \"Jack\", \"Queen\", \"King\"]  \n",
    "\n",
    "  def __init__(self, suit=0, rank=0):\n",
    "    \"\"\" Create a card using integer variables to represent suit and rank.\n",
    "    \"\"\"\n",
    "    # Couple of handy asserts to check any cards we build make sense\n",
    "    assert suit >= 0 and suit < 4  \n",
    "    assert rank >= 0 and rank < 14\n",
    "        \n",
    "    self.suit = suit\n",
    "    self.rank = rank\n",
    "\n",
    "  def __str__(self):\n",
    "    # The lookup in the suits/ranks lists prints \n",
    "    # a human readable representation of the card.\n",
    "    return (self.ranks[self.rank] + \" of \" + self.suits[self.suit])\n",
    "      \n",
    "  def same_color(self, other):\n",
    "    \"\"\" Returns the True if cards have the same color else False\n",
    "    Diamons and hearts are both read, clubs and spades are both black.\n",
    "    \"\"\"\n",
    "    return self.suit == other.suit or self.suit == (other.suit + 2) % 4\n",
    "    \n",
    "  # The following methods implement card comparison\n",
    "    \n",
    "  def cmp(self, other):\n",
    "    \"\"\" Compares the card with another, returning 1, 0, or -1 depending on \n",
    "    if this card is greater than, equal or less than the other card, respectively.\n",
    "      \n",
    "    Cards are compared first by suit and then rank.\n",
    "    \"\"\"\n",
    "    # Check the suits\n",
    "    if self.suit > other.suit: return 1\n",
    "    if self.suit < other.suit: return -1\n",
    "    # Suits are the same... check ranks\n",
    "    if self.rank > other.rank: return 1\n",
    "    if self.rank < other.rank: return -1\n",
    "    # Ranks are the same... it's a tie\n",
    "    return 0\n",
    "      \n",
    "  def __eq__(self, other):\n",
    "    return self.cmp(other) == 0\n",
    "\n",
    "  def __le__(self, other):\n",
    "    return self.cmp(other) <= 0\n",
    "\n",
    "  def __ge__(self, other):\n",
    "    return self.cmp(other) >= 0\n",
    "\n",
    "  def __gt__(self, other):\n",
    "    return self.cmp(other) > 0\n",
    "\n",
    "  def __lt__(self, other):\n",
    "    return self.cmp(other) < 0\n",
    "\n",
    "  def __ne__(self, other):\n",
    "    return self.cmp(other) != 0"
   ]
  },
  {
   "cell_type": "markdown",
   "metadata": {
    "id": "Wg9_BufJbXyn",
    "slideshow": {
     "slide_type": "subslide"
    }
   },
   "source": [
    "To test the individual functions we could do something like this:"
   ]
  },
  {
   "cell_type": "code",
   "execution_count": 6,
   "metadata": {
    "colab": {
     "base_uri": "https://localhost:8080/"
    },
    "executionInfo": {
     "elapsed": 375,
     "status": "ok",
     "timestamp": 1608091284365,
     "user": {
      "displayName": "Benedict Paten",
      "photoUrl": "https://lh3.googleusercontent.com/a-/AOh14Gh2rYrrH6yoNnUp0Oj4p4ouybc6ZcWGyPmKFtIY=s64",
      "userId": "06399644931392855882"
     },
     "user_tz": 480
    },
    "id": "WhXVuy3Tbefl",
    "outputId": "0a1cb74f-a999-4699-fb86-90a284ae2779",
    "slideshow": {
     "slide_type": "fragment"
    }
   },
   "outputs": [
    {
     "name": "stderr",
     "output_type": "stream",
     "text": [
      "...\n",
      "----------------------------------------------------------------------\n",
      "Ran 3 tests in 0.001s\n",
      "\n",
      "OK\n"
     ]
    },
    {
     "name": "stdout",
     "output_type": "stream",
     "text": [
      "setUp\n",
      "Running test_same_color\n",
      "tearDown\n",
      "setUp\n",
      "Running test_str\n",
      "tearDown\n"
     ]
    },
    {
     "data": {
      "text/plain": [
       "<unittest.main.TestProgram at 0x1078217d0>"
      ]
     },
     "execution_count": 6,
     "metadata": {},
     "output_type": "execute_result"
    }
   ],
   "source": [
    "import unittest\n",
    "\n",
    "class CardTest(unittest.TestCase):\n",
    "  \"\"\" Test the Card class\n",
    "  \"\"\"\n",
    "  \n",
    "  def setUp(self):\n",
    "    print(\"setUp\")\n",
    "    # This function gets run before each test\n",
    "    self.aceClubs = Card(0, 1) # Ace of clubs\n",
    "    self.aceDiamonds = Card(1, 1) # Ace of diamonds\n",
    "    self.aceSpades = Card(2, 1) # Ace of spades\n",
    "    \n",
    "  def tearDown(self):\n",
    "    # This function gets run after each function. \n",
    "    # Here I do nothing in teardown, but print a message\n",
    "    # but you can use it to cleanup temporary files, etc.\n",
    "    print(\"tearDown\")\n",
    "  \n",
    "  def test_same_color(self):\n",
    "    \"\"\" Tests Card.same_color()\n",
    "    \"\"\"\n",
    "    print(\"Running test_same_color\") # These print messages are just to show you what's going on\n",
    "    self.assertTrue(self.aceClubs.same_color(self.aceSpades))\n",
    "    self.assertFalse(self.aceSpades.same_color(self.aceDiamonds))\n",
    " \n",
    "  def test_str(self):\n",
    "    \"\"\" Tests Card.__str__()\"\"\"\n",
    "    print(\"Running test_str\")\n",
    "    self.assertEqual(str(self.aceClubs), \"Ace of Clubs\")\n",
    "    self.assertEqual(str(self.aceSpades), \"Ace of Spades\")\n",
    "    self.assertEqual(str(self.aceDiamonds), \"Ace of Diamonds\")\n",
    "\n",
    "unittest.main(argv=['first-arg-is-ignored'], exit=False)"
   ]
  },
  {
   "cell_type": "markdown",
   "metadata": {
    "slideshow": {
     "slide_type": "slide"
    }
   },
   "source": [
    "# Challenge 1"
   ]
  },
  {
   "cell_type": "code",
   "execution_count": 29,
   "metadata": {
    "scrolled": true,
    "slideshow": {
     "slide_type": "fragment"
    }
   },
   "outputs": [
    {
     "name": "stderr",
     "output_type": "stream",
     "text": [
      ".....\n",
      "----------------------------------------------------------------------\n",
      "Ran 5 tests in 0.002s\n",
      "\n",
      "OK\n"
     ]
    },
    {
     "name": "stdout",
     "output_type": "stream",
     "text": [
      "setUp\n",
      "tearDown\n",
      "setUp\n",
      "Running test_compare\n",
      "tearDown\n",
      "setUp\n",
      "Running test_same_color\n",
      "tearDown\n",
      "setUp\n",
      "Running test_str\n",
      "tearDown\n"
     ]
    },
    {
     "data": {
      "text/plain": [
       "<unittest.main.TestProgram at 0x1223f8cd0>"
      ]
     },
     "execution_count": 29,
     "metadata": {},
     "output_type": "execute_result"
    }
   ],
   "source": [
    "# Create your own CardTest unit test class, called ExpandedCardTest, which additionally \n",
    "# includes a test for\n",
    "# comparing cards using the equals and comparison operators. The test should compare\n",
    "# the expected ordering of the three cards created by the setUp method \n",
    "# (ace of clubs, ace of diamonds, ace of spades)\n",
    "# In this program \"Clubs\" < \"Diamonds\" < \"Spades\" < \"Hearts\".\n",
    "# Run your tests!\n",
    "\n",
    "\n"
   ]
  },
  {
   "cell_type": "markdown",
   "metadata": {
    "id": "XZyCu9gYtsSa",
    "slideshow": {
     "slide_type": "slide"
    }
   },
   "source": [
    "# Writing Test Suites\n",
    "\n",
    "* Generally for each Python module you write you create an accompanying unittest module.\n",
    "  * e.g. if you write \"foo.py\" you also create \"fooTest.py\". \n",
    "\n",
    "* It's beyond scope here, but as you write more complex programs, with multiple modules organized into packages, you can automate running all your tests together in one test suite. When you make a change to your code you then rerun all the tests and check everything is still good.\n",
    "\n",
    "* As a rough rule of thumb, good programmers write about us much unit test code as they write program code.\n",
    "  * It seems like a long way around, but it is generally quicker and more manageable than ad hoc debugging which is otherwise inevitable. \n",
    "\n",
    "* One popular approach is to write the tests before writing the core of the program, this is partly the philosophy of \"test driven development\"\n",
    "  * This helps figure out what the program should do and how it should behave before going too far into the actual implementation."
   ]
  },
  {
   "cell_type": "markdown",
   "metadata": {
    "id": "WEmfPnG2EUg8",
    "slideshow": {
     "slide_type": "slide"
    }
   },
   "source": [
    "# Exceptions\n",
    "\n",
    "When a runtime error occurs Python creates an exception. We've seen these, e.g.:"
   ]
  },
  {
   "cell_type": "code",
   "execution_count": 8,
   "metadata": {
    "colab": {
     "base_uri": "https://localhost:8080/",
     "height": 186
    },
    "executionInfo": {
     "elapsed": 486,
     "status": "error",
     "timestamp": 1574381127895,
     "user": {
      "displayName": "Benedict Paten",
      "photoUrl": "https://lh3.googleusercontent.com/a-/AAuE7mBMnWy8dDR7jyTHNy9tPaRx6DCyA3QKrIcuQ7R4=s64",
      "userId": "06399644931392855882"
     },
     "user_tz": 480
    },
    "id": "7Glnk2WEEWYL",
    "outputId": "2a09fd28-4d35-4420-ebae-e09c3acee49b",
    "slideshow": {
     "slide_type": "fragment"
    }
   },
   "outputs": [
    {
     "ename": "AssertionError",
     "evalue": "",
     "output_type": "error",
     "traceback": [
      "\u001b[0;31m---------------------------------------------------------------------------\u001b[0m",
      "\u001b[0;31mAssertionError\u001b[0m                            Traceback (most recent call last)",
      "Cell \u001b[0;32mIn[8], line 1\u001b[0m\n\u001b[0;32m----> 1\u001b[0m \u001b[38;5;28;01massert\u001b[39;00m \u001b[38;5;28;01mFalse\u001b[39;00m \u001b[38;5;66;03m# Creates an AssertionError, a kind of exception\u001b[39;00m\n",
      "\u001b[0;31mAssertionError\u001b[0m: "
     ]
    }
   ],
   "source": [
    "assert False # Creates an AssertionError, a kind of exception"
   ]
  },
  {
   "cell_type": "markdown",
   "metadata": {
    "id": "ur1rkvM_hD0I",
    "slideshow": {
     "slide_type": "subslide"
    }
   },
   "source": [
    "* So far we've just encountered exceptions when the program fails, but actually we can frequently handle exceptions within the program and not crash. \n",
    "* To do this we use the try / except syntax. Consider:"
   ]
  },
  {
   "cell_type": "code",
   "execution_count": null,
   "metadata": {
    "id": "jWpzzBljxRtd",
    "slideshow": {
     "slide_type": "fragment"
    }
   },
   "outputs": [],
   "source": [
    "# The syntax is \n",
    "\n",
    "try: \n",
    "  STATEMENT_BLOCK_1\n",
    "except [ERROR TYPE]:\n",
    "  STATEMENT_BLOCK_2"
   ]
  },
  {
   "cell_type": "markdown",
   "metadata": {
    "id": "gLs88wCrijJy",
    "slideshow": {
     "slide_type": "fragment"
    }
   },
   "source": [
    "The way this works:\n",
    " * The statement block STATEMENT_BLOCK_1 is executed.\n",
    " * If an exception occurs of type ERROR_TYPE during the execution of STATEMENT_BLOCK_1 then STATEMENT_BLOCK_1 stops execution and STATEMENT_BLOCK_2 executes. \n",
    " * If not exception occurs during STATEMENT_BLOCK_1, STATEMENT_BLOCK_2 is skipped.\n",
    " * This allows us to handle unexpected events in a predictable way"
   ]
  },
  {
   "cell_type": "markdown",
   "metadata": {
    "id": "6bpXcrjQxtN4",
    "slideshow": {
     "slide_type": "subslide"
    }
   },
   "source": [
    "Consider how parsing user input can create errors:"
   ]
  },
  {
   "cell_type": "code",
   "execution_count": null,
   "metadata": {
    "colab": {
     "base_uri": "https://localhost:8080/",
     "height": 183
    },
    "executionInfo": {
     "elapsed": 5502,
     "status": "error",
     "timestamp": 1608092348364,
     "user": {
      "displayName": "Benedict Paten",
      "photoUrl": "https://lh3.googleusercontent.com/a-/AOh14Gh2rYrrH6yoNnUp0Oj4p4ouybc6ZcWGyPmKFtIY=s64",
      "userId": "06399644931392855882"
     },
     "user_tz": 480
    },
    "id": "8SZ9lCn0gjRF",
    "outputId": "04f35f03-9dd3-4534-9f90-7992edab81f2",
    "slideshow": {
     "slide_type": "fragment"
    }
   },
   "outputs": [],
   "source": [
    "i = int(input(\"Enter an integer: \")) # What happens if I don't enter a valid integer?"
   ]
  },
  {
   "cell_type": "markdown",
   "metadata": {
    "id": "AEH6i4Yghv5s",
    "slideshow": {
     "slide_type": "fragment"
    }
   },
   "source": [
    "We can handle this using try/except:"
   ]
  },
  {
   "cell_type": "code",
   "execution_count": 33,
   "metadata": {
    "colab": {
     "base_uri": "https://localhost:8080/"
    },
    "executionInfo": {
     "elapsed": 5011,
     "status": "ok",
     "timestamp": 1608092389137,
     "user": {
      "displayName": "Benedict Paten",
      "photoUrl": "https://lh3.googleusercontent.com/a-/AOh14Gh2rYrrH6yoNnUp0Oj4p4ouybc6ZcWGyPmKFtIY=s64",
      "userId": "06399644931392855882"
     },
     "user_tz": 480
    },
    "id": "09rznfdSg7tv",
    "outputId": "289879e3-aece-48d5-d374-9f65d6fa20ba",
    "slideshow": {
     "slide_type": "fragment"
    }
   },
   "outputs": [
    {
     "name": "stdout",
     "output_type": "stream",
     "text": [
      "Enter an integer: foo\n"
     ]
    },
    {
     "ename": "ValueError",
     "evalue": "invalid literal for int() with base 10: 'foo'",
     "output_type": "error",
     "traceback": [
      "\u001b[0;31m---------------------------------------------------------------------------\u001b[0m",
      "\u001b[0;31mValueError\u001b[0m                                Traceback (most recent call last)",
      "Cell \u001b[0;32mIn[33], line 3\u001b[0m\n\u001b[1;32m      1\u001b[0m \u001b[38;5;28;01mwhile\u001b[39;00m \u001b[38;5;28;01mTrue\u001b[39;00m:\n\u001b[1;32m      2\u001b[0m   \u001b[38;5;66;03m#try:\u001b[39;00m\n\u001b[0;32m----> 3\u001b[0m     i \u001b[38;5;241m=\u001b[39m \u001b[38;5;28;43mint\u001b[39;49m\u001b[43m(\u001b[49m\u001b[38;5;28;43minput\u001b[39;49m\u001b[43m(\u001b[49m\u001b[38;5;124;43m\"\u001b[39;49m\u001b[38;5;124;43mEnter an integer: \u001b[39;49m\u001b[38;5;124;43m\"\u001b[39;49m\u001b[43m)\u001b[49m\u001b[43m)\u001b[49m\n\u001b[1;32m      4\u001b[0m     \u001b[38;5;28;01mbreak\u001b[39;00m\n\u001b[1;32m      5\u001b[0m   \u001b[38;5;66;03m#except ValueError: \u001b[39;00m\n\u001b[1;32m      6\u001b[0m   \u001b[38;5;66;03m#  print(\"Got an error parsing user input, try again!\")\u001b[39;00m\n",
      "\u001b[0;31mValueError\u001b[0m: invalid literal for int() with base 10: 'foo'"
     ]
    }
   ],
   "source": [
    "while True:\n",
    "  try:\n",
    "    i = int(input(\"Enter an integer: \"))\n",
    "    break\n",
    "  except ValueError: \n",
    "    print(\"Got an error parsing user input, try again!\")\n",
    "    \n",
    "print(\"You entered: \", i)"
   ]
  },
  {
   "cell_type": "markdown",
   "metadata": {
    "id": "ocTPd5poixNz",
    "slideshow": {
     "slide_type": "subslide"
    }
   },
   "source": [
    "**You don't have to specify the exception type** \n",
    "\n",
    "* If you don't know what error to anticipate you can not specify the type of exception:"
   ]
  },
  {
   "cell_type": "code",
   "execution_count": null,
   "metadata": {
    "colab": {
     "base_uri": "https://localhost:8080/",
     "height": 52
    },
    "executionInfo": {
     "elapsed": 4740,
     "status": "ok",
     "timestamp": 1574381810504,
     "user": {
      "displayName": "Benedict Paten",
      "photoUrl": "https://lh3.googleusercontent.com/a-/AAuE7mBMnWy8dDR7jyTHNy9tPaRx6DCyA3QKrIcuQ7R4=s64",
      "userId": "06399644931392855882"
     },
     "user_tz": 480
    },
    "id": "dMg1FKaJi8vI",
    "outputId": "0650ef72-c4e2-41a4-fcbe-df572cefcb82",
    "slideshow": {
     "slide_type": "fragment"
    }
   },
   "outputs": [],
   "source": [
    "while True:\n",
    "  try:\n",
    "    i = int(input(\"Enter an integer: \"))\n",
    "    break\n",
    "  except: # Note we don't say what kind of error it is\n",
    "    print(\"Got an error parsing user input, try again!\")\n",
    "\n",
    "print(\"You entered: \", i)"
   ]
  },
  {
   "cell_type": "markdown",
   "metadata": {
    "id": "hjvNDiCcjosT",
    "slideshow": {
     "slide_type": "fragment"
    }
   },
   "source": [
    "The downside of not specifying the type of the expected exception, is that  except without a type will catch all exceptions, possibly including unrelated errors.\n"
   ]
  },
  {
   "cell_type": "markdown",
   "metadata": {
    "slideshow": {
     "slide_type": "subslide"
    }
   },
   "source": [
    "To handle multiple types of exception you can have multiple except clauses:"
   ]
  },
  {
   "cell_type": "code",
   "execution_count": null,
   "metadata": {
    "slideshow": {
     "slide_type": "fragment"
    }
   },
   "outputs": [],
   "source": [
    "while True:\n",
    "  try:\n",
    "    i = int(input(\"Enter an integer greater than 10: \"))\n",
    "    assert i > 10 # Number should be > 10\n",
    "    break\n",
    "  except ValueError: \n",
    "    print(\"Not a valid integer, try again!\")\n",
    "  except AssertionError:\n",
    "    print(\"Number is less than 10, try again\")\n",
    "\n",
    "print(\"You entered: \", i)"
   ]
  },
  {
   "cell_type": "code",
   "execution_count": 24,
   "metadata": {
    "slideshow": {
     "slide_type": "notes"
    }
   },
   "outputs": [
    {
     "ename": "SyntaxError",
     "evalue": "default 'except:' must be last (2789177938.py, line 8)",
     "output_type": "error",
     "traceback": [
      "\u001b[0;36m  Cell \u001b[0;32mIn[24], line 8\u001b[0;36m\u001b[0m\n\u001b[0;31m    except:\u001b[0m\n\u001b[0m    ^\u001b[0m\n\u001b[0;31mSyntaxError\u001b[0m\u001b[0;31m:\u001b[0m default 'except:' must be last\n"
     ]
    }
   ],
   "source": [
    "# Note this is not valid python because a catchall except statement must be at the end:\n",
    "\n",
    "while True:\n",
    "  try:\n",
    "    i = int(input(\"Enter an integer greater than 10: \"))\n",
    "    assert i > 10 # Number should be > 10\n",
    "    break\n",
    "  except: \n",
    "    print(\"Not a valid integer, try again!\")\n",
    "  except AssertionError:\n",
    "    print(\"Number is less than 10, try again\")\n",
    "\n",
    "print(\"You entered: \", i)\n"
   ]
  },
  {
   "cell_type": "markdown",
   "metadata": {
    "slideshow": {
     "slide_type": "subslide"
    }
   },
   "source": [
    "You can name the exceptions you catch with the \"as\" keyword:"
   ]
  },
  {
   "cell_type": "code",
   "execution_count": 34,
   "metadata": {
    "slideshow": {
     "slide_type": "fragment"
    }
   },
   "outputs": [
    {
     "name": "stdout",
     "output_type": "stream",
     "text": [
      "Got an assert error <class 'AssertionError'>\n"
     ]
    }
   ],
   "source": [
    "try:\n",
    "    assert False\n",
    "except AssertionError as e: \n",
    "    print(\"Got an assert error\", type(e)) "
   ]
  },
  {
   "cell_type": "markdown",
   "metadata": {
    "slideshow": {
     "slide_type": "subslide"
    }
   },
   "source": [
    "# Challenge 2"
   ]
  },
  {
   "cell_type": "code",
   "execution_count": 36,
   "metadata": {
    "slideshow": {
     "slide_type": "fragment"
    }
   },
   "outputs": [
    {
     "name": "stdout",
     "output_type": "stream",
     "text": [
      "Files you could enter ['L03 More Types.ipynb', 'out.txt', 'L11 Files.ipynb', 'L18 Data Science .ipynb', 'fasta.fa', 'L06 Functions.ipynb', 'L10 Modules.ipynb', 'L08 Strings.ipynb', 'L05 Loops.ipynb', 'L04 Conditionals and Branching.ipynb', 'L13 Classes and Polymorphism.ipynb', 'L02 Variables and Expressions.ipynb', 'L07 Functions Continued.ipynb', 'L16 Exceptions and Unit Testing.ipynb', 'L-- Syllabus.ipynb', 'figures', 'L15 More Functions and Recursion.ipynb', 'L14 Inheritance.ipynb', 'test.txt', '.ipynb_checkpoints', 'zhivago.txt', 'L17 Search Algorithms.ipynb', 'Revision Session Fall 2022.ipynb', 'Revision Session Winter 2023.ipynb', 'data', 'L12 Classes and Objects.ipynb', 'L09 Tuples, Lists and Dictionaries.ipynb', 'L01 Intro.ipynb']\n",
      "Enter a the name of an existing file to print: foo\n",
      "Entered file name does not exist, please try again\n",
      "Enter a the name of an existing file to print: test.txt\n",
      "Contents of user file Putting some text in the file\n"
     ]
    }
   ],
   "source": [
    "# Practice problem\n",
    "\n",
    "# Write a function \"get_file\" to ask the user for a file name.\n",
    "# Return an open file handle to the users file in \"read\" mode.\n",
    "# Use exception handling to deal with the case that the user's file\n",
    "# does not exist, printing an error saying \"File does not exist, try again\" \n",
    "# and trying again to get a file from the user name\n",
    "# Hint use FileNotFoundError\n",
    "\n",
    "\n",
    "## Use this code to test your method\n",
    "import os \n",
    "\n",
    "with open(\"test.txt\", \"w\") as f:  ## Make a file to open if you don't have one in your working directory\n",
    "    f.write(\"Putting some text in the file\")\n",
    "\n",
    "print(\"Files you could enter\", os.listdir())\n",
    "f = get_file() # Ask the user for the file\n",
    "print(\"Contents of user file\", f.read())\n",
    "f.close()"
   ]
  },
  {
   "cell_type": "markdown",
   "metadata": {
    "id": "bHqpCuKmkI4e",
    "slideshow": {
     "slide_type": "slide"
    }
   },
   "source": [
    "# Finally \n",
    "\n",
    "Finally allows us to specify code that will be run regardless of if there is an error:"
   ]
  },
  {
   "cell_type": "code",
   "execution_count": null,
   "metadata": {
    "colab": {
     "base_uri": "https://localhost:8080/"
    },
    "executionInfo": {
     "elapsed": 358,
     "status": "ok",
     "timestamp": 1608092491019,
     "user": {
      "displayName": "Benedict Paten",
      "photoUrl": "https://lh3.googleusercontent.com/a-/AOh14Gh2rYrrH6yoNnUp0Oj4p4ouybc6ZcWGyPmKFtIY=s64",
      "userId": "06399644931392855882"
     },
     "user_tz": 480
    },
    "id": "ITFjFenBlSUQ",
    "outputId": "f9e63e8e-3c74-48a4-e97c-4377e864d924",
    "slideshow": {
     "slide_type": "fragment"
    }
   },
   "outputs": [],
   "source": [
    "try:\n",
    "  f = open(\"out.txt\", \"w\")\n",
    "  f.write(\"Hello, file!\\n\")\n",
    "  assert 1 == 2\n",
    "except:\n",
    "  print(\"Got an error\")\n",
    "finally:\n",
    "  print(\"Closing the file\")\n",
    "  f.close()"
   ]
  },
  {
   "cell_type": "markdown",
   "metadata": {
    "id": "HaHUZWhsm90X",
    "slideshow": {
     "slide_type": "fragment"
    }
   },
   "source": [
    "The way this works: \n",
    "* if there is an error, the error is dealt with.\n",
    "* the finally clause is then run, regardless of if there is an error or not"
   ]
  },
  {
   "cell_type": "markdown",
   "metadata": {
    "id": "AwL6DdxaoQJd",
    "slideshow": {
     "slide_type": "slide"
    }
   },
   "source": [
    "# Raise\n",
    "\n",
    "If you want to create your own exception use \"Raise\":"
   ]
  },
  {
   "cell_type": "code",
   "execution_count": 49,
   "metadata": {
    "colab": {
     "base_uri": "https://localhost:8080/",
     "height": 338
    },
    "executionInfo": {
     "elapsed": 3630,
     "status": "error",
     "timestamp": 1608092534622,
     "user": {
      "displayName": "Benedict Paten",
      "photoUrl": "https://lh3.googleusercontent.com/a-/AOh14Gh2rYrrH6yoNnUp0Oj4p4ouybc6ZcWGyPmKFtIY=s64",
      "userId": "06399644931392855882"
     },
     "user_tz": 480
    },
    "id": "CXwrlHwopfeo",
    "outputId": "0482cf6b-bda6-4de9-89f8-22efec05883a",
    "slideshow": {
     "slide_type": "fragment"
    }
   },
   "outputs": [
    {
     "name": "stdout",
     "output_type": "stream",
     "text": [
      "Please enter your age: -10\n"
     ]
    },
    {
     "ename": "ValueError",
     "evalue": "-10 is not a valid age",
     "output_type": "error",
     "traceback": [
      "\u001b[0;31m---------------------------------------------------------------------------\u001b[0m",
      "\u001b[0;31mValueError\u001b[0m                                Traceback (most recent call last)",
      "Cell \u001b[0;32mIn[49], line 11\u001b[0m\n\u001b[1;32m      7\u001b[0m     \u001b[38;5;28;01mraise\u001b[39;00m my_error\n\u001b[1;32m      8\u001b[0m   \u001b[38;5;28;01mreturn\u001b[39;00m age\n\u001b[0;32m---> 11\u001b[0m \u001b[43mget_age\u001b[49m\u001b[43m(\u001b[49m\u001b[43m)\u001b[49m\n",
      "Cell \u001b[0;32mIn[49], line 7\u001b[0m, in \u001b[0;36mget_age\u001b[0;34m()\u001b[0m\n\u001b[1;32m      4\u001b[0m \u001b[38;5;28;01mif\u001b[39;00m age \u001b[38;5;241m<\u001b[39m \u001b[38;5;241m0\u001b[39m:\n\u001b[1;32m      5\u001b[0m   \u001b[38;5;66;03m# Create a new instance of an exception\u001b[39;00m\n\u001b[1;32m      6\u001b[0m   my_error \u001b[38;5;241m=\u001b[39m \u001b[38;5;167;01mValueError\u001b[39;00m(\u001b[38;5;124mf\u001b[39m\u001b[38;5;124m\"\u001b[39m\u001b[38;5;132;01m{\u001b[39;00mage\u001b[38;5;132;01m}\u001b[39;00m\u001b[38;5;124m is not a valid age\u001b[39m\u001b[38;5;124m\"\u001b[39m)\n\u001b[0;32m----> 7\u001b[0m   \u001b[38;5;28;01mraise\u001b[39;00m my_error\n\u001b[1;32m      8\u001b[0m \u001b[38;5;28;01mreturn\u001b[39;00m age\n",
      "\u001b[0;31mValueError\u001b[0m: -10 is not a valid age"
     ]
    }
   ],
   "source": [
    "def get_age():\n",
    "  \"\"\"Returns a user's age as an integer\"\"\"\n",
    "  age = int(input(\"Please enter your age: \"))\n",
    "  if age < 0:\n",
    "    # Create a new instance of an exception\n",
    "    my_error = ValueError(f\"{age} is not a valid age\")\n",
    "    raise my_error\n",
    "  return age\n",
    "\n",
    "\n",
    "get_age()"
   ]
  },
  {
   "cell_type": "markdown",
   "metadata": {
    "id": "P5pblXmQp48w",
    "slideshow": {
     "slide_type": "subslide"
    }
   },
   "source": [
    "You can also use this to \"rethrow\" an exception:"
   ]
  },
  {
   "cell_type": "code",
   "execution_count": 47,
   "metadata": {
    "colab": {
     "base_uri": "https://localhost:8080/",
     "height": 252
    },
    "executionInfo": {
     "elapsed": 360,
     "status": "error",
     "timestamp": 1608092557060,
     "user": {
      "displayName": "Benedict Paten",
      "photoUrl": "https://lh3.googleusercontent.com/a-/AOh14Gh2rYrrH6yoNnUp0Oj4p4ouybc6ZcWGyPmKFtIY=s64",
      "userId": "06399644931392855882"
     },
     "user_tz": 480
    },
    "id": "C8UvvAwVp9xO",
    "outputId": "24d06d86-89d2-4824-9270-bdd2f6223447",
    "slideshow": {
     "slide_type": "fragment"
    }
   },
   "outputs": [
    {
     "name": "stdout",
     "output_type": "stream",
     "text": [
      "Got an error \n"
     ]
    },
    {
     "ename": "AssertionError",
     "evalue": "",
     "output_type": "error",
     "traceback": [
      "\u001b[0;31m---------------------------------------------------------------------------\u001b[0m",
      "\u001b[0;31mAssertionError\u001b[0m                            Traceback (most recent call last)",
      "Cell \u001b[0;32mIn[47], line 2\u001b[0m\n\u001b[1;32m      1\u001b[0m \u001b[38;5;28;01mtry\u001b[39;00m: \u001b[38;5;66;03m# This is a contrived example\u001b[39;00m\n\u001b[0;32m----> 2\u001b[0m   \u001b[38;5;28;01massert\u001b[39;00m \u001b[38;5;241m1\u001b[39m \u001b[38;5;241m==\u001b[39m \u001b[38;5;241m2\u001b[39m\n\u001b[1;32m      3\u001b[0m \u001b[38;5;28;01mexcept\u001b[39;00m \u001b[38;5;167;01mAssertionError\u001b[39;00m \u001b[38;5;28;01mas\u001b[39;00m e:\n\u001b[1;32m      4\u001b[0m   \u001b[38;5;28mprint\u001b[39m(\u001b[38;5;124m\"\u001b[39m\u001b[38;5;124mGot an error\u001b[39m\u001b[38;5;124m\"\u001b[39m, e)\n",
      "\u001b[0;31mAssertionError\u001b[0m: "
     ]
    }
   ],
   "source": [
    "try: # This is a contrived example\n",
    "  assert 1 == 2\n",
    "except AssertionError as e:\n",
    "  print(\"Got an error\", e)\n",
    "  raise # This \"rethrows\" the exception we caught (note: we don't have to tell Python about which exception)"
   ]
  },
  {
   "cell_type": "markdown",
   "metadata": {
    "id": "nlJtaCzbQg7I",
    "slideshow": {
     "slide_type": "fragment"
    }
   },
   "source": [
    "Note: There is a lot more to say about exceptions and writing fault tolerant code, but hopefully this summary is a good start!"
   ]
  },
  {
   "cell_type": "markdown",
   "metadata": {
    "slideshow": {
     "slide_type": "slide"
    }
   },
   "source": [
    "# Challenge 3"
   ]
  },
  {
   "cell_type": "code",
   "execution_count": 46,
   "metadata": {
    "slideshow": {
     "slide_type": "fragment"
    }
   },
   "outputs": [
    {
     "name": "stdout",
     "output_type": "stream",
     "text": [
      "Please enter your age: foo\n",
      "Invalid age, please try again\n",
      "Please enter your age: -10\n",
      "Age is negative, try again\n",
      "Please enter your age: 1000\n",
      "You are 1000 years old\n"
     ]
    }
   ],
   "source": [
    "# Write code that uses exception handling and the get_age function defined above \n",
    "# to probe a user for a valid age, repeating the prompt until a valid age is given.\n",
    "\n"
   ]
  },
  {
   "cell_type": "markdown",
   "metadata": {
    "id": "PucGp8tOZC_s",
    "slideshow": {
     "slide_type": "slide"
    }
   },
   "source": [
    "# Reading\n",
    "\n",
    "* Open book Chapter 19: (exceptions)\n",
    "http://openbookproject.net/thinkcs/python/english3e/exceptions.html\n",
    "\n",
    "# Homework\n",
    "\n",
    "* Go to Canvas and complete the lecture quiz, which involves completing each challenge problem\n",
    "* Zybooks Reading 16\n"
   ]
  },
  {
   "cell_type": "markdown",
   "metadata": {
    "slideshow": {
     "slide_type": "slide"
    }
   },
   "source": [
    "# Practice Problems"
   ]
  },
  {
   "cell_type": "code",
   "execution_count": 14,
   "metadata": {
    "slideshow": {
     "slide_type": "slide"
    }
   },
   "outputs": [
    {
     "name": "stderr",
     "output_type": "stream",
     "text": [
      "..\n",
      "----------------------------------------------------------------------\n",
      "Ran 2 tests in 0.005s\n",
      "\n",
      "OK\n"
     ]
    },
    {
     "data": {
      "text/plain": [
       "<unittest.main.TestProgram at 0x103f49490>"
      ]
     },
     "execution_count": 14,
     "metadata": {},
     "output_type": "execute_result"
    }
   ],
   "source": [
    "import unittest\n",
    "\n",
    "\"\"\"\n",
    "Practice Problem 1: File Word Counter with Error Handling\n",
    "\n",
    "Write a class FileWordCounter that:\n",
    "- Takes a filename in its constructor\n",
    "- Has a method count_words() that:\n",
    "    - Returns the number of words in the file\n",
    "    - Handles file not found errors by returning 0 (this is weird behavior, but for the purposes of the test)\n",
    "    - Closes the file properly even if there's an error\n",
    "    - Uses try/except/(possibly) finally\n",
    "- Has a method get_word_frequency(word) that:\n",
    "    - Returns how many times a word appears\n",
    "    - Is case-insensitive\n",
    "\n",
    "Write your class here:\n",
    "\"\"\"\n",
    "\n",
    "# Your code here\n",
    "\n",
    "\n",
    "# Tests for Problem 5\n",
    "def test_word_counter():\n",
    "    # Create a test file\n",
    "    with open(\"test.txt\", \"w\") as f:\n",
    "        f.write(\"This is a test file.\\nThis is only a test.\")\n",
    "    \n",
    "    counter = FileWordCounter(\"test.txt\")\n",
    "    assert counter.count_words() == 10\n",
    "    assert counter.get_word_frequency(\"test\") == 2\n",
    "    assert counter.get_word_frequency(\"THIS\") == 2\n",
    "    assert counter.get_word_frequency(\"nonexistent\") == 0\n",
    "    \n",
    "    # Test error handling case where file doesn't exist\n",
    "    counter = FileWordCounter(\"nonexistent.txt\")\n",
    "    assert counter.count_words() == 0\n",
    "    \n",
    "    print(\"All word counter tests passed!\")\n",
    "    \n",
    "unittest.main(argv=['first-arg-is-ignored'], exit=False)"
   ]
  },
  {
   "cell_type": "code",
   "execution_count": 8,
   "metadata": {
    "slideshow": {
     "slide_type": "slide"
    }
   },
   "outputs": [
    {
     "name": "stderr",
     "output_type": "stream",
     "text": [
      "..\n",
      "----------------------------------------------------------------------\n",
      "Ran 2 tests in 0.004s\n",
      "\n",
      "OK\n"
     ]
    },
    {
     "data": {
      "text/plain": [
       "<unittest.main.TestProgram at 0x1044f6fd0>"
      ]
     },
     "execution_count": 8,
     "metadata": {},
     "output_type": "execute_result"
    }
   ],
   "source": [
    "import unittest\n",
    "\n",
    "\"\"\"\n",
    "Practice Problem 2: Temperature Converter with Unit Tests\n",
    "\n",
    "Write a class TemperatureConverter that:\n",
    "- Converts between Celsius and Fahrenheit\n",
    "- Has methods:\n",
    "    - to_celsius(fahrenheit) \n",
    "    - to_fahrenheit(celsius)\n",
    "- Raises ValueError for temperatures below absolute zero\n",
    "    (-273.15°C or -459.67°F)\n",
    "- Here assume: °C = (°F - 32) x (5/9)\n",
    "\n",
    "Write your class here:\n",
    "\"\"\"\n",
    "\n",
    "# Your code here\n",
    "\n",
    "\n",
    "# Tests for Problem 4\n",
    "class TestTemperatureConverter(unittest.TestCase):\n",
    "    def setUp(self):\n",
    "        self.converter = TemperatureConverter()\n",
    "        \n",
    "    def test_to_celsius(self):\n",
    "        self.assertAlmostEqual(self.converter.to_celsius(32), 0)\n",
    "        self.assertAlmostEqual(self.converter.to_celsius(212), 100)\n",
    "        with self.assertRaises(ValueError):\n",
    "            self.converter.to_celsius(-500)\n",
    "            \n",
    "    def test_to_fahrenheit(self):\n",
    "        self.assertAlmostEqual(self.converter.to_fahrenheit(0), 32)\n",
    "        self.assertAlmostEqual(self.converter.to_fahrenheit(100), 212)\n",
    "        with self.assertRaises(ValueError):\n",
    "            self.converter.to_fahrenheit(-300)\n",
    "            \n",
    "unittest.main(argv=['first-arg-is-ignored'], exit=False)"
   ]
  },
  {
   "cell_type": "code",
   "execution_count": null,
   "metadata": {},
   "outputs": [],
   "source": [
    "\"\"\"\n",
    "Practice Problem 3: Password Strength Checker\n",
    "\n",
    "Write a class PasswordStrengthChecker that:\n",
    "- Has a method check_strength that takes a password string\n",
    "- Raises custom exceptions for different password requirements:\n",
    "    - TooShortError if less than 8 characters\n",
    "    - NoUppercaseError if no uppercase letters\n",
    "    - NoNumberError if no numbers\n",
    "- Returns True if password meets all requirements\n",
    "\n",
    "Write your class and exceptions here:\n",
    "\"\"\"\n",
    "\n",
    "# Define custom exceptions here\n",
    "class TooShortError(Exception):\n",
    "    pass\n",
    "    \n",
    "class NoUppercaseError(Exception):\n",
    "    pass\n",
    "    \n",
    "class NoNumberError(Exception):\n",
    "    pass\n",
    "\n",
    "class PasswordStrengthChecker:\n",
    "    # Your code here\n",
    "    pass\n",
    "\n",
    "# Tests for Problem 3\n",
    "def test_password_checker():\n",
    "    checker = PasswordStrengthChecker()\n",
    "    try:\n",
    "        assert checker.check_strength(\"short\") == False\n",
    "    except TooShortError:\n",
    "        pass\n",
    "    try:\n",
    "        assert checker.check_strength(\"nouppercase123\") == False\n",
    "    except NoUppercaseError:\n",
    "        pass\n",
    "    try:\n",
    "        assert checker.check_strength(\"NoNumbers\") == False\n",
    "    except NoNumberError:\n",
    "        pass\n",
    "    assert checker.check_strength(\"GoodPass123\") == True\n",
    "    print(\"All password checker tests passed!\")\n",
    "    \n",
    "unittest.main(argv=['first-arg-is-ignored'], exit=False)"
   ]
  }
 ],
 "metadata": {
  "celltoolbar": "Slideshow",
  "colab": {
   "collapsed_sections": [],
   "name": "L16 Exceptions and Unit Testing.ipynb",
   "provenance": []
  },
  "kernelspec": {
   "display_name": "intro_python_env",
   "language": "python",
   "name": "intro_python_env"
  },
  "language_info": {
   "codemirror_mode": {
    "name": "ipython",
    "version": 3
   },
   "file_extension": ".py",
   "mimetype": "text/x-python",
   "name": "python",
   "nbconvert_exporter": "python",
   "pygments_lexer": "ipython3",
   "version": "3.11.9"
  }
 },
 "nbformat": 4,
 "nbformat_minor": 1
}
