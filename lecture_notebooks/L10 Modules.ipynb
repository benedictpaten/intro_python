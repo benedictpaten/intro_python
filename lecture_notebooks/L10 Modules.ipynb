{
 "cells": [
  {
   "cell_type": "markdown",
   "metadata": {
    "id": "5UyFJYXOx-WH",
    "slideshow": {
     "slide_type": "slide"
    }
   },
   "source": [
    "# Lecture 10 - Generators, Modules and the Main Function (https://bit.ly/intro_python_10)\n",
    "\n",
    "Today:\n",
    "* Finishing up sequences:\n",
    "  * Iterators vs. lists\n",
    "  * Generators and the yield keyword\n",
    "  * Generator expressions\n",
    "* Modules:\n",
    "  * Some useful modules\n",
    "  * Hierarchical namespaces\n",
    "  * Making your own modules\n",
    "* The main() function\n",
    "* PEP 8 (v. briefly)\n",
    "* A revisit to debugging, now that we're writing longer programs:\n",
    "  * Looking at different error types (syntax, runtime, logical)\n"
   ]
  },
  {
   "cell_type": "markdown",
   "metadata": {
    "id": "dBY3UTSMO998",
    "slideshow": {
     "slide_type": "slide"
    }
   },
   "source": [
    "# Generators vs. lists"
   ]
  },
  {
   "cell_type": "code",
   "execution_count": 3,
   "metadata": {
    "colab": {
     "base_uri": "https://localhost:8080/"
    },
    "executionInfo": {
     "elapsed": 987,
     "status": "ok",
     "timestamp": 1607823679567,
     "user": {
      "displayName": "Benedict Paten",
      "photoUrl": "https://lh3.googleusercontent.com/a-/AOh14Gh2rYrrH6yoNnUp0Oj4p4ouybc6ZcWGyPmKFtIY=s64",
      "userId": "06399644931392855882"
     },
     "user_tz": 480
    },
    "id": "Thnha1TQwdkv",
    "outputId": "95c531a1-4ddd-42ba-fc92-dfaae5bff69e",
    "slideshow": {
     "slide_type": "fragment"
    }
   },
   "outputs": [
    {
     "name": "stdout",
     "output_type": "stream",
     "text": [
      "i is 0\n",
      "i is 1\n",
      "i is 2\n",
      "i is 3\n",
      "i is 4\n",
      "i is 5\n",
      "i is 6\n",
      "i is 7\n",
      "i is 8\n",
      "i is 9\n"
     ]
    }
   ],
   "source": [
    "# Recall that range can be used to iterate through a sequence of numbers:\n",
    "\n",
    "for i in range(10):\n",
    "  print(\"i is\", i)"
   ]
  },
  {
   "cell_type": "code",
   "execution_count": 4,
   "metadata": {
    "colab": {
     "base_uri": "https://localhost:8080/"
    },
    "executionInfo": {
     "elapsed": 679,
     "status": "ok",
     "timestamp": 1607823697294,
     "user": {
      "displayName": "Benedict Paten",
      "photoUrl": "https://lh3.googleusercontent.com/a-/AOh14Gh2rYrrH6yoNnUp0Oj4p4ouybc6ZcWGyPmKFtIY=s64",
      "userId": "06399644931392855882"
     },
     "user_tz": 480
    },
    "id": "pbmiRTOeeK3_",
    "outputId": "ad8697cf-694a-4666-fd3a-98666a9a2f09",
    "slideshow": {
     "slide_type": "fragment"
    }
   },
   "outputs": [
    {
     "name": "stdout",
     "output_type": "stream",
     "text": [
      "[0, 1, 2, 3, 4, 5, 6, 7, 8, 9]\n"
     ]
    }
   ],
   "source": [
    "# We can convert range to a list\n",
    "\n",
    "x = list(range(10)) # Makes a list [ 0, 1, ... 9 ]\n",
    "\n",
    "print(x)"
   ]
  },
  {
   "cell_type": "markdown",
   "metadata": {
    "slideshow": {
     "slide_type": "subslide"
    }
   },
   "source": [
    "**But isn't range a list to start with?**"
   ]
  },
  {
   "cell_type": "code",
   "execution_count": 5,
   "metadata": {
    "colab": {
     "base_uri": "https://localhost:8080/"
    },
    "executionInfo": {
     "elapsed": 815,
     "status": "ok",
     "timestamp": 1607823745329,
     "user": {
      "displayName": "Benedict Paten",
      "photoUrl": "https://lh3.googleusercontent.com/a-/AOh14Gh2rYrrH6yoNnUp0Oj4p4ouybc6ZcWGyPmKFtIY=s64",
      "userId": "06399644931392855882"
     },
     "user_tz": 480
    },
    "id": "q4S0UYQseWBl",
    "outputId": "0a1b9116-19c9-4f6d-c5b3-6fc72a5c7462",
    "slideshow": {
     "slide_type": "fragment"
    }
   },
   "outputs": [
    {
     "name": "stdout",
     "output_type": "stream",
     "text": [
      "range(0, 10)\n"
     ]
    }
   ],
   "source": [
    "# No!\n",
    "\n",
    "x = range(10) \n",
    "\n",
    "print(x)"
   ]
  },
  {
   "cell_type": "code",
   "execution_count": 6,
   "metadata": {
    "colab": {
     "base_uri": "https://localhost:8080/"
    },
    "executionInfo": {
     "elapsed": 624,
     "status": "ok",
     "timestamp": 1607823774254,
     "user": {
      "displayName": "Benedict Paten",
      "photoUrl": "https://lh3.googleusercontent.com/a-/AOh14Gh2rYrrH6yoNnUp0Oj4p4ouybc6ZcWGyPmKFtIY=s64",
      "userId": "06399644931392855882"
     },
     "user_tz": 480
    },
    "id": "EHZwMWXeebnk",
    "outputId": "835ece0c-a062-4111-e23f-85b4304250c8",
    "slideshow": {
     "slide_type": "fragment"
    }
   },
   "outputs": [
    {
     "name": "stdout",
     "output_type": "stream",
     "text": [
      "<class 'range'>\n"
     ]
    }
   ],
   "source": [
    "# So what is the type of range:\n",
    "\n",
    "x = range(10) # So what is a range? \n",
    "\n",
    "print(type(x))"
   ]
  },
  {
   "cell_type": "markdown",
   "metadata": {
    "id": "EY8D1A0denOC",
    "slideshow": {
     "slide_type": "fragment"
    }
   },
   "source": [
    "A range, or (as we'll see in a minute) generator function, is a promise to produce a sequence when asked.\n",
    "\n",
    "Essentially, you can think of it like a function you can call repeatedly to get \n",
    "successive values from an underlying sequence, e.g. 1, 2, ... etc.\n",
    "\n",
    "Why not just make a list? In a word: memory."
   ]
  },
  {
   "cell_type": "code",
   "execution_count": 7,
   "metadata": {
    "colab": {
     "base_uri": "https://localhost:8080/"
    },
    "executionInfo": {
     "elapsed": 801,
     "status": "ok",
     "timestamp": 1607823806964,
     "user": {
      "displayName": "Benedict Paten",
      "photoUrl": "https://lh3.googleusercontent.com/a-/AOh14Gh2rYrrH6yoNnUp0Oj4p4ouybc6ZcWGyPmKFtIY=s64",
      "userId": "06399644931392855882"
     },
     "user_tz": 480
    },
    "id": "tTT_m124fFyl",
    "outputId": "756898ea-c757-4f0d-f69a-1331f92c1052",
    "slideshow": {
     "slide_type": "subslide"
    }
   },
   "outputs": [
    {
     "name": "stdout",
     "output_type": "stream",
     "text": [
      "[0, 1, 2, 3, 4, 5, 6, 7, 8, 9, 10, 11, 12, 13, 14, 15, 16, 17, 18, 19, 20, 21, 22, 23, 24, 25, 26, 27, 28, 29, 30, 31, 32, 33, 34, 35, 36, 37, 38, 39, 40, 41, 42, 43, 44, 45, 46, 47, 48, 49, 50, 51, 52, 53, 54, 55, 56, 57, 58, 59, 60, 61, 62, 63, 64, 65, 66, 67, 68, 69, 70, 71, 72, 73, 74, 75, 76, 77, 78, 79, 80, 81, 82, 83, 84, 85, 86, 87, 88, 89, 90, 91, 92, 93, 94, 95, 96, 97, 98, 99]\n"
     ]
    }
   ],
   "source": [
    "x = list(range(100)) # This requires allocating memory to store 100 integers\n",
    "\n",
    "print(x)"
   ]
  },
  {
   "cell_type": "code",
   "execution_count": 8,
   "metadata": {
    "colab": {
     "base_uri": "https://localhost:8080/"
    },
    "executionInfo": {
     "elapsed": 498,
     "status": "ok",
     "timestamp": 1607823829646,
     "user": {
      "displayName": "Benedict Paten",
      "photoUrl": "https://lh3.googleusercontent.com/a-/AOh14Gh2rYrrH6yoNnUp0Oj4p4ouybc6ZcWGyPmKFtIY=s64",
      "userId": "06399644931392855882"
     },
     "user_tz": 480
    },
    "id": "wWX6w0wDfSbs",
    "outputId": "709b9695-19ea-47f5-8990-cf2f84c4dbf2",
    "slideshow": {
     "slide_type": "fragment"
    }
   },
   "outputs": [
    {
     "name": "stdout",
     "output_type": "stream",
     "text": [
      "range(0, 100)\n"
     ]
    }
   ],
   "source": [
    "x = range(100) # This does not make the list, so the memory for the list is never allocated. \n",
    "\n",
    "print(x)"
   ]
  },
  {
   "cell_type": "code",
   "execution_count": 9,
   "metadata": {
    "colab": {
     "base_uri": "https://localhost:8080/",
     "height": 34
    },
    "executionInfo": {
     "elapsed": 484,
     "status": "ok",
     "timestamp": 1571786471281,
     "user": {
      "displayName": "Benedict Paten",
      "photoUrl": "https://lh3.googleusercontent.com/a-/AAuE7mBMnWy8dDR7jyTHNy9tPaRx6DCyA3QKrIcuQ7R4=s64",
      "userId": "06399644931392855882"
     },
     "user_tz": 420
    },
    "id": "8Mysy47HfcPH",
    "outputId": "063d467a-880f-4b6a-c28f-cf37a72535f6",
    "slideshow": {
     "slide_type": "subslide"
    }
   },
   "outputs": [
    {
     "name": "stdout",
     "output_type": "stream",
     "text": [
      "4950\n"
     ]
    }
   ],
   "source": [
    "# This requires only the memory for j, i and the Python system\n",
    "\n",
    "# Compute the sum of integers from 1 (inclusive) to 100 (exclusive)\n",
    "j = 0\n",
    "for i in range(100):\n",
    "  j += i\n",
    "  \n",
    "print(j)"
   ]
  },
  {
   "cell_type": "code",
   "execution_count": 10,
   "metadata": {
    "colab": {
     "base_uri": "https://localhost:8080/",
     "height": 34
    },
    "executionInfo": {
     "elapsed": 255,
     "status": "ok",
     "timestamp": 1571786499654,
     "user": {
      "displayName": "Benedict Paten",
      "photoUrl": "https://lh3.googleusercontent.com/a-/AAuE7mBMnWy8dDR7jyTHNy9tPaRx6DCyA3QKrIcuQ7R4=s64",
      "userId": "06399644931392855882"
     },
     "user_tz": 420
    },
    "id": "ImYZezLHfuj8",
    "outputId": "60e542d4-0a3e-4bf0-b253-5ac1a2d04514",
    "scrolled": true,
    "slideshow": {
     "slide_type": "fragment"
    }
   },
   "outputs": [
    {
     "name": "stdout",
     "output_type": "stream",
     "text": [
      "4950\n"
     ]
    }
   ],
   "source": [
    "# Alternatively, this requires memory for j, i and the list of 100 integers:\n",
    "\n",
    "j = 0\n",
    "for i in list(range(100)):\n",
    "  j += i\n",
    "  \n",
    "print(j)"
   ]
  },
  {
   "cell_type": "markdown",
   "metadata": {
    "id": "xVrA1CyIf9Yl",
    "slideshow": {
     "slide_type": "subslide"
    }
   },
   "source": [
    "* Range, as an iterator, is the promise to produce a sequence of integers, but this does not require they all exist in memory at the same time. \n",
    "\n",
    "* With a list, however, by definition, all the elements are present in memory.\n",
    "\n",
    "* As a general guide, if we can be \"lazy\", and avoid ever building a complete sequence in memory, then we should be lazy about evaluation of sequences.\n",
    "\n",
    "* So how do you code a function like range? This is where the \"yield\" keyword comes in, which allows you to create generator functions."
   ]
  },
  {
   "cell_type": "markdown",
   "metadata": {
    "id": "3LaBzInG3vZp",
    "slideshow": {
     "slide_type": "slide"
    }
   },
   "source": [
    "# Yield keyword\n",
    "\n",
    "With *return* you exit a function completely, returning a value. The internal state of the function is lost.\n",
    "\n",
    "Yield is like return, in that you return a value from the function and temporarily the function exits, however the state of the function is not lost, and the function can be resumed to return more values.\n",
    "\n",
    "This allows a function to act like an iterator over a sequence, where the function incrementally yields values, one for each successive resumption of the function. \n",
    "\n",
    "It's easiest to understand this by example:"
   ]
  },
  {
   "cell_type": "code",
   "execution_count": 11,
   "metadata": {
    "colab": {
     "base_uri": "https://localhost:8080/"
    },
    "executionInfo": {
     "elapsed": 517,
     "status": "ok",
     "timestamp": 1607824189451,
     "user": {
      "displayName": "Benedict Paten",
      "photoUrl": "https://lh3.googleusercontent.com/a-/AOh14Gh2rYrrH6yoNnUp0Oj4p4ouybc6ZcWGyPmKFtIY=s64",
      "userId": "06399644931392855882"
     },
     "user_tz": 480
    },
    "id": "qnDSsJ7u3Bo1",
    "outputId": "1a50ddcc-2c5a-4fe2-d4b8-d386de7a480d",
    "slideshow": {
     "slide_type": "fragment"
    }
   },
   "outputs": [
    {
     "name": "stdout",
     "output_type": "stream",
     "text": [
      "i is now 0\n",
      "i is now 1\n",
      "i is now 2\n",
      "i is now 3\n",
      "i is now 4\n",
      "i is now 5\n",
      "i is now 6\n",
      "i is now 7\n",
      "i is now 8\n",
      "i is now 9\n"
     ]
    }
   ],
   "source": [
    "def make_numbers(m):\n",
    "  i = 0\n",
    "  while i < m:\n",
    "    yield i\n",
    "    i += 1\n",
    "\n",
    "for i in make_numbers(10):\n",
    "  print(\"i is now\", i)"
   ]
  },
  {
   "cell_type": "code",
   "execution_count": 12,
   "metadata": {
    "colab": {
     "base_uri": "https://localhost:8080/"
    },
    "executionInfo": {
     "elapsed": 510,
     "status": "ok",
     "timestamp": 1607824248506,
     "user": {
      "displayName": "Benedict Paten",
      "photoUrl": "https://lh3.googleusercontent.com/a-/AOh14Gh2rYrrH6yoNnUp0Oj4p4ouybc6ZcWGyPmKFtIY=s64",
      "userId": "06399644931392855882"
     },
     "user_tz": 480
    },
    "id": "oC9TIKzzyjkb",
    "outputId": "bb10b433-61b4-48bd-819c-470023fbb7c3",
    "slideshow": {
     "slide_type": "subslide"
    }
   },
   "outputs": [
    {
     "name": "stdout",
     "output_type": "stream",
     "text": [
      "<class 'generator'>\n"
     ]
    }
   ],
   "source": [
    "# What is the type?\n",
    "\n",
    "x = make_numbers(5) \n",
    "\n",
    "print(type(x)) "
   ]
  },
  {
   "cell_type": "markdown",
   "metadata": {
    "id": "ERb6zo4v5YO-",
    "slideshow": {
     "slide_type": "fragment"
    }
   },
   "source": [
    "Why use yield to write generator functions?:\n",
    "\n",
    "* Shorter, cleaner code - here we saved all the messing around with lists\n",
    "* More efficient in memory - we never have to construct the complete list in memory, rather we keep track of a limited amount of state in memory that represents where we are in the sequence of permutations."
   ]
  },
  {
   "cell_type": "markdown",
   "metadata": {
    "slideshow": {
     "slide_type": "subslide"
    }
   },
   "source": [
    "# Generator Expressions\n",
    "\n",
    "Like list comprehensions, but lazy"
   ]
  },
  {
   "cell_type": "code",
   "execution_count": 12,
   "metadata": {
    "slideshow": {
     "slide_type": "fragment"
    }
   },
   "outputs": [
    {
     "name": "stdout",
     "output_type": "stream",
     "text": [
      "[0, 1, 4, 9, 16, 25, 36, 49, 64, 81]\n"
     ]
    }
   ],
   "source": [
    "# Last lecture we covered list comprehensions, for example:\n",
    "\n",
    "x = [i**2 for i in range(10)] # square numbers\n",
    "\n",
    "print(x) # x is a list"
   ]
  },
  {
   "cell_type": "code",
   "execution_count": 16,
   "metadata": {
    "slideshow": {
     "slide_type": "fragment"
    }
   },
   "outputs": [
    {
     "name": "stdout",
     "output_type": "stream",
     "text": [
      "<generator object <genexpr> at 0x1059fcb30>\n",
      "0\n",
      "1\n",
      "4\n",
      "9\n",
      "16\n",
      "25\n",
      "36\n",
      "49\n",
      "64\n",
      "81\n"
     ]
    }
   ],
   "source": [
    "# If we swap the square brackets for parentheses then we get a \"generator expression\"\n",
    "\n",
    "y = (i**2 for i in range(10)) # square numbers as a generator expression\n",
    "\n",
    "print(y)\n",
    "\n",
    "# A generator expression creates a generator function but in less code:\n",
    "for i in y:\n",
    "    print(i)"
   ]
  },
  {
   "cell_type": "code",
   "execution_count": 2,
   "metadata": {
    "slideshow": {
     "slide_type": "subslide"
    }
   },
   "outputs": [
    {
     "name": "stdout",
     "output_type": "stream",
     "text": [
      "Sum of the first hundred square numbers 328350\n",
      "Sum of the first hundred square numbers 328350\n"
     ]
    }
   ],
   "source": [
    "# We don't need to include the parentheses in some cases\n",
    "x = sum(i**2 for i in range(100)) # One liner to sum the first 100 square numbers\n",
    "print(f\"Sum of the first hundred square numbers {x}\")\n",
    "\n",
    "## This is equivalent to:\n",
    "def square_numbers(m):\n",
    "    i = 0\n",
    "    while i < m:\n",
    "        yield i**2\n",
    "        i += 1\n",
    "        \n",
    "x = sum(square_numbers(100))\n",
    "print(f\"Sum of the first hundred square numbers {x}\")"
   ]
  },
  {
   "cell_type": "markdown",
   "metadata": {
    "pycharm": {
     "name": "#%% md\n"
    },
    "slideshow": {
     "slide_type": "fragment"
    }
   },
   "source": [
    "The take-home: Generator expressions are just syntatic sugar for generator functions. They are generally less code, particularly when they can be used inline (like the sum example above), and avoid allocating all the memory that a list comprehension involves."
   ]
  },
  {
   "cell_type": "markdown",
   "metadata": {
    "id": "53Q0YI8QyGFb",
    "slideshow": {
     "slide_type": "subslide"
    }
   },
   "source": [
    "# Challenge 1"
   ]
  },
  {
   "cell_type": "code",
   "execution_count": 1,
   "metadata": {
    "slideshow": {
     "slide_type": "fragment"
    }
   },
   "outputs": [
    {
     "name": "stdout",
     "output_type": "stream",
     "text": [
      "11\n",
      "34\n",
      "17\n",
      "52\n",
      "26\n",
      "13\n",
      "40\n",
      "20\n",
      "10\n",
      "5\n",
      "16\n",
      "8\n",
      "4\n",
      "2\n",
      "1\n"
     ]
    }
   ],
   "source": [
    "# Write a generator function to enumerate numbers in the Collatz 3n + 1 sequence\n",
    "\n",
    "# Recall:\n",
    "# The sequence is produced iteratively such that the next term is determined\n",
    "# by the current value, n. If n is even then the next term in the sequence is n/2 otherwise\n",
    "# it is n*3 + 1. The sequence terminates when n equals 1 (i.e. 1 is always the last integer returned).\n",
    "\n",
    "def collatz(n):\n",
    "    #pass #replace with your code\n",
    "\n",
    "for i in collatz(11):\n",
    "    print(i)"
   ]
  },
  {
   "cell_type": "markdown",
   "metadata": {
    "id": "VV9kzXORPCHi",
    "slideshow": {
     "slide_type": "slide"
    }
   },
   "source": [
    "# Modules\n",
    "\n",
    "* A language like Python has vast libraries of useful functions, classes, etc. See https://pypi.org/:\n",
    "  * As of Dec 2023 there are over 500K different Python \"packages\" in PyPi.\n",
    "* To make it possible to use these, and importantly, ensure the namespace of our code does not explode in size, Python has a hierarchical system for managing these libraries using \"modules\" and \"packages\"."
   ]
  },
  {
   "cell_type": "code",
   "execution_count": 14,
   "metadata": {
    "colab": {
     "base_uri": "https://localhost:8080/"
    },
    "executionInfo": {
     "elapsed": 666,
     "status": "ok",
     "timestamp": 1607886943821,
     "user": {
      "displayName": "Benedict Paten",
      "photoUrl": "https://lh3.googleusercontent.com/a-/AOh14Gh2rYrrH6yoNnUp0Oj4p4ouybc6ZcWGyPmKFtIY=s64",
      "userId": "06399644931392855882"
     },
     "user_tz": 480
    },
    "id": "PiAia4wZhAL6",
    "outputId": "6a961fb3-9896-44f6-d101-de90a6d9e457",
    "slideshow": {
     "slide_type": "fragment"
    }
   },
   "outputs": [
    {
     "data": {
      "text/plain": [
       "2.0"
      ]
     },
     "execution_count": 14,
     "metadata": {},
     "output_type": "execute_result"
    }
   ],
   "source": [
    "# From a user perspective, modules are variables, functions, objects etc. defined separately\n",
    "# to the code we're working on.\n",
    "\n",
    "import math # This line \"imports\" the math module into the namespace, so that we can refer to it\n",
    "\n",
    "math.log10(100) # Now we're calling a function from the math module to compute log_10(100)\n",
    "\n",
    "# The math module contains lots of math functions and constants"
   ]
  },
  {
   "cell_type": "code",
   "execution_count": 15,
   "metadata": {
    "colab": {
     "base_uri": "https://localhost:8080/"
    },
    "executionInfo": {
     "elapsed": 774,
     "status": "ok",
     "timestamp": 1607886955834,
     "user": {
      "displayName": "Benedict Paten",
      "photoUrl": "https://lh3.googleusercontent.com/a-/AOh14Gh2rYrrH6yoNnUp0Oj4p4ouybc6ZcWGyPmKFtIY=s64",
      "userId": "06399644931392855882"
     },
     "user_tz": 480
    },
    "id": "4ttHHwCGkRKl",
    "outputId": "76f8d38a-7f3c-4f3a-9a45-53ea7c863d68",
    "slideshow": {
     "slide_type": "subslide"
    }
   },
   "outputs": [
    {
     "data": {
      "text/plain": [
       "['__doc__',\n",
       " '__file__',\n",
       " '__loader__',\n",
       " '__name__',\n",
       " '__package__',\n",
       " '__spec__',\n",
       " 'acos',\n",
       " 'acosh',\n",
       " 'asin',\n",
       " 'asinh',\n",
       " 'atan',\n",
       " 'atan2',\n",
       " 'atanh',\n",
       " 'ceil',\n",
       " 'comb',\n",
       " 'copysign',\n",
       " 'cos',\n",
       " 'cosh',\n",
       " 'degrees',\n",
       " 'dist',\n",
       " 'e',\n",
       " 'erf',\n",
       " 'erfc',\n",
       " 'exp',\n",
       " 'expm1',\n",
       " 'fabs',\n",
       " 'factorial',\n",
       " 'floor',\n",
       " 'fmod',\n",
       " 'frexp',\n",
       " 'fsum',\n",
       " 'gamma',\n",
       " 'gcd',\n",
       " 'hypot',\n",
       " 'inf',\n",
       " 'isclose',\n",
       " 'isfinite',\n",
       " 'isinf',\n",
       " 'isnan',\n",
       " 'isqrt',\n",
       " 'ldexp',\n",
       " 'lgamma',\n",
       " 'log',\n",
       " 'log10',\n",
       " 'log1p',\n",
       " 'log2',\n",
       " 'modf',\n",
       " 'nan',\n",
       " 'perm',\n",
       " 'pi',\n",
       " 'pow',\n",
       " 'prod',\n",
       " 'radians',\n",
       " 'remainder',\n",
       " 'sin',\n",
       " 'sinh',\n",
       " 'sqrt',\n",
       " 'tan',\n",
       " 'tanh',\n",
       " 'tau',\n",
       " 'trunc']"
      ]
     },
     "execution_count": 15,
     "metadata": {},
     "output_type": "execute_result"
    }
   ],
   "source": [
    "dir(math) # As I've shown you before, use dir to list the contents of an object or module"
   ]
  },
  {
   "cell_type": "code",
   "execution_count": 7,
   "metadata": {
    "colab": {
     "base_uri": "https://localhost:8080/"
    },
    "executionInfo": {
     "elapsed": 677,
     "status": "ok",
     "timestamp": 1607886963761,
     "user": {
      "displayName": "Benedict Paten",
      "photoUrl": "https://lh3.googleusercontent.com/a-/AOh14Gh2rYrrH6yoNnUp0Oj4p4ouybc6ZcWGyPmKFtIY=s64",
      "userId": "06399644931392855882"
     },
     "user_tz": 480
    },
    "id": "oBJf5NOokYOu",
    "outputId": "f5c26d63-2584-4a7f-9057-3bdf60813448",
    "slideshow": {
     "slide_type": "subslide"
    }
   },
   "outputs": [
    {
     "name": "stdout",
     "output_type": "stream",
     "text": [
      "Help on built-in function sqrt in module math:\n",
      "\n",
      "sqrt(x, /)\n",
      "    Return the square root of x.\n",
      "Note: The output produced a '/' as an indicator of all previous parameters to be positional-only parameters. Positional-only parameters (https://docs.python.org/3/faq/programming.html#what-does-the-slash-in-the-parameter-list-of-a-function-mean) are the ones without externally usable name. In this ^^ case, we cannot specify the parameter name. For example: math.sqrt(x=9), would result in sytax error.\n",
      "\n"
     ]
    }
   ],
   "source": [
    "# Use help() to give you info (Note: this is great to use in the interactive interpretor)\n",
    "\n",
    "import math\n",
    "\n",
    "help(math.sqrt) # e.g. get info on the math.sqrt function - this is pulling the doc string of the function"
   ]
  },
  {
   "cell_type": "markdown",
   "metadata": {
    "id": "ARVdpaRMiYRj",
    "slideshow": {
     "slide_type": "subslide"
    }
   },
   "source": [
    "* In general, the Python standard library provides loads of useful modules for all sorts of things: https://docs.python.org/3/py-modindex.html \n",
    "\n",
    "* Standard library packages are installed as part of a default Python installation - they are part of every Python of that version (e.g. 3.XX)\n",
    "\n"
   ]
  },
  {
   "cell_type": "code",
   "execution_count": 17,
   "metadata": {
    "colab": {
     "base_uri": "https://localhost:8080/",
     "height": 34
    },
    "executionInfo": {
     "elapsed": 491,
     "status": "ok",
     "timestamp": 1572389139703,
     "user": {
      "displayName": "Benedict Paten",
      "photoUrl": "https://lh3.googleusercontent.com/a-/AAuE7mBMnWy8dDR7jyTHNy9tPaRx6DCyA3QKrIcuQ7R4=s64",
      "userId": "06399644931392855882"
     },
     "user_tz": 420
    },
    "id": "SfkT0qCEjAmP",
    "outputId": "dbfedfc3-d551-45ac-d2a9-5dfed70dfe29",
    "slideshow": {
     "slide_type": "fragment"
    }
   },
   "outputs": [
    {
     "data": {
      "text/plain": [
       "[3, 5, 0, 3, 3, 5, 0, 0, 4, 0]"
      ]
     },
     "execution_count": 17,
     "metadata": {},
     "output_type": "execute_result"
    }
   ],
   "source": [
    "# For example, the random module from the standard library provides loads of functions \n",
    "# for making random numbers/choices - this is useful for games, algorithms\n",
    "# and machine learning where stochastic behaviour is needed\n",
    "\n",
    "import random\n",
    "\n",
    "def make_random_ints(num, lower_bound, upper_bound):\n",
    "  \"\"\"\n",
    "  Generate a list containing num random ints between lower_bound\n",
    "  and upper_bound. upper_bound is an open bound.\n",
    "  \"\"\"\n",
    "  rng = random.Random()  # Create a random number generator\n",
    "  \n",
    "  # Makes a sequence of random numbers using rng.randrange()\n",
    "  return [ rng.randrange(lower_bound, upper_bound) for i in range(num) ]\n",
    "\n",
    "make_random_ints(10, 0, 6) # Make a sequence of 10 random numbers, each in the \n",
    "# interval [0 6)"
   ]
  },
  {
   "cell_type": "markdown",
   "metadata": {
    "id": "amq9Ak7-jw1d",
    "slideshow": {
     "slide_type": "fragment"
    }
   },
   "source": [
    "* There is a much larger universe of open source Python packages you can install from: https://pypi.org/ "
   ]
  },
  {
   "cell_type": "markdown",
   "metadata": {
    "slideshow": {
     "slide_type": "subslide"
    }
   },
   "source": [
    "# Challenge 2"
   ]
  },
  {
   "cell_type": "code",
   "execution_count": 2,
   "metadata": {
    "slideshow": {
     "slide_type": "fragment"
    }
   },
   "outputs": [
    {
     "data": {
      "text/plain": [
       "4"
      ]
     },
     "execution_count": 2,
     "metadata": {},
     "output_type": "execute_result"
    }
   ],
   "source": [
    "# Use the median function from the statistics module to calculate the median of the following list:\n",
    "l = [ 1, 8, 3, 4, 2, 8, 7, 2, 6 ]\n"
   ]
  },
  {
   "cell_type": "markdown",
   "metadata": {
    "id": "-tr9Pfmgk8K6",
    "slideshow": {
     "slide_type": "slide"
    }
   },
   "source": [
    "# Namespaces and dot notation\n",
    "\n",
    "* To recap, the namespace is all the identifiers (variables, functions, classes (to be covered soon), and modules) available to a line of code (See previous notes on scope and name space rules).\n",
    "\n",
    "* In Python (like most programming languages), namespaces are organized hierarchically into subpieces using modules and functions and classes. \n",
    "\n",
    "* If all identifiers were in one namespace without any hierarchy then we would get lots of collisions between names, and this would result in ambiguity. (see Module1.py and Module2.py example in textbook: http://openbookproject.net/thinkcs/python/english3e/modules.html)\n",
    "\n",
    "* The upshot is if you want to use a function from another module you need to import it into the \"namespace\" of your code and use '.' notation:"
   ]
  },
  {
   "cell_type": "code",
   "execution_count": 19,
   "metadata": {
    "id": "iP1mZoy_iwBI",
    "slideshow": {
     "slide_type": "fragment"
    }
   },
   "outputs": [
    {
     "data": {
      "text/plain": [
       "1.4142135623730951"
      ]
     },
     "execution_count": 19,
     "metadata": {},
     "output_type": "execute_result"
    }
   ],
   "source": [
    "import math # Imports the math module into the current namespace\n",
    "\n",
    "# The '.' syntax is a way of indicating membership\n",
    "math.sqrt(2) # sqrt is a function that \"belongs\" to the math module\n",
    "\n",
    "# (Later we'll see this notation reused with objects)"
   ]
  },
  {
   "cell_type": "markdown",
   "metadata": {
    "id": "zJq_izROlrI5",
    "slideshow": {
     "slide_type": "slide"
    }
   },
   "source": [
    "# Import statements\n",
    "\n",
    "* As you've seen, to import a module just write \"import x\", where x is the module name.\n",
    "\n",
    "**Import from**\n",
    "\n",
    "* You can also import a specific function, class or object from a module into your program's namespace using the import from syntax:"
   ]
  },
  {
   "cell_type": "code",
   "execution_count": 20,
   "metadata": {
    "colab": {
     "base_uri": "https://localhost:8080/",
     "height": 34
    },
    "executionInfo": {
     "elapsed": 559,
     "status": "ok",
     "timestamp": 1572389400280,
     "user": {
      "displayName": "Benedict Paten",
      "photoUrl": "https://lh3.googleusercontent.com/a-/AAuE7mBMnWy8dDR7jyTHNy9tPaRx6DCyA3QKrIcuQ7R4=s64",
      "userId": "06399644931392855882"
     },
     "user_tz": 420
    },
    "id": "vr_3pg00oUdE",
    "outputId": "0895a276-7f55-4333-d5d4-f42e43111262",
    "slideshow": {
     "slide_type": "fragment"
    }
   },
   "outputs": [
    {
     "data": {
      "text/plain": [
       "1.4142135623730951"
      ]
     },
     "execution_count": 20,
     "metadata": {},
     "output_type": "execute_result"
    }
   ],
   "source": [
    "from math import sqrt\n",
    "\n",
    "sqrt(2.0) # Now sqrt is a just a function in the current program's name space, \n",
    "# no dot notation required"
   ]
  },
  {
   "cell_type": "markdown",
   "metadata": {
    "id": "rHsFOKZrofMt",
    "slideshow": {
     "slide_type": "subslide"
    }
   },
   "source": [
    "If you want to import all the functions from a module you can use:"
   ]
  },
  {
   "cell_type": "code",
   "execution_count": 21,
   "metadata": {
    "colab": {
     "base_uri": "https://localhost:8080/",
     "height": 34
    },
    "executionInfo": {
     "elapsed": 638,
     "status": "ok",
     "timestamp": 1572389434964,
     "user": {
      "displayName": "Benedict Paten",
      "photoUrl": "https://lh3.googleusercontent.com/a-/AAuE7mBMnWy8dDR7jyTHNy9tPaRx6DCyA3QKrIcuQ7R4=s64",
      "userId": "06399644931392855882"
     },
     "user_tz": 420
    },
    "id": "4-O4FPzYol11",
    "outputId": "6bab78da-8262-4231-9464-3251d20aec7f",
    "slideshow": {
     "slide_type": "fragment"
    }
   },
   "outputs": [
    {
     "data": {
      "text/plain": [
       "2.302585092994046"
      ]
     },
     "execution_count": 21,
     "metadata": {},
     "output_type": "execute_result"
    }
   ],
   "source": [
    "from math import * # Import all functions from math\n",
    "\n",
    "\n",
    "# But, this is generally a BAD IDEA, because you need to be  sure\n",
    "# this doesn't bring in things that will collide with other things\n",
    "# used by the program\n",
    "\n",
    "log(10)\n",
    "#etc."
   ]
  },
  {
   "cell_type": "markdown",
   "metadata": {
    "slideshow": {
     "slide_type": "fragment"
    }
   },
   "source": [
    "More useful is the \"as\" modifier"
   ]
  },
  {
   "cell_type": "code",
   "execution_count": 22,
   "metadata": {
    "colab": {
     "base_uri": "https://localhost:8080/",
     "height": 34
    },
    "executionInfo": {
     "elapsed": 527,
     "status": "ok",
     "timestamp": 1572389857651,
     "user": {
      "displayName": "Benedict Paten",
      "photoUrl": "https://lh3.googleusercontent.com/a-/AAuE7mBMnWy8dDR7jyTHNy9tPaRx6DCyA3QKrIcuQ7R4=s64",
      "userId": "06399644931392855882"
     },
     "user_tz": 420
    },
    "id": "ZVVJJtTgpJB-",
    "outputId": "b36b0736-989b-4690-c95a-61ad5a6e60a4",
    "slideshow": {
     "slide_type": "fragment"
    }
   },
   "outputs": [
    {
     "data": {
      "text/plain": [
       "1.4142135623730951"
      ]
     },
     "execution_count": 22,
     "metadata": {},
     "output_type": "execute_result"
    }
   ],
   "source": [
    "from math import sqrt as square_root # This imports the sqrt function from math\n",
    "# but names it square_root. This is useful if you want to abbreviate a long function\n",
    "# name, or if you want to import two separate things with the same name\n",
    "\n",
    "square_root(2.0)"
   ]
  },
  {
   "cell_type": "markdown",
   "metadata": {
    "slideshow": {
     "slide_type": "subslide"
    }
   },
   "source": [
    "# Challenge 3"
   ]
  },
  {
   "cell_type": "code",
   "execution_count": 3,
   "metadata": {
    "slideshow": {
     "slide_type": "fragment"
    }
   },
   "outputs": [
    {
     "name": "stdout",
     "output_type": "stream",
     "text": [
      "Help on built-in function beep in module _curses:\n",
      "\n",
      "beep()\n",
      "    Emit a short attention sound.\n",
      "\n"
     ]
    }
   ],
   "source": [
    "# Write a statement to import the 'beep' function from the 'curses' module\n"
   ]
  },
  {
   "cell_type": "markdown",
   "metadata": {
    "id": "iIpsqMLwqMR_",
    "slideshow": {
     "slide_type": "slide"
    }
   },
   "source": [
    "# Writing your own modules\n",
    "\n",
    "You can write your own modules. \n",
    "\n",
    "* Create a file whose name is \n",
    "x.py, where x is the name of the module you want to create.\n",
    "\n",
    "* Edit x.py to contain the stuff you want\n",
    "\n",
    "* Create a new python file, call it y.py, in the same directory as x.py and\n",
    "include \"import x\" at the top of y.py. \n",
    "\n",
    "(NOTE: do demo)\n",
    "\n"
   ]
  },
  {
   "cell_type": "markdown",
   "metadata": {
    "id": "MvIg39k9kJk3",
    "slideshow": {
     "slide_type": "subslide"
    }
   },
   "source": [
    "**Packages**\n",
    "\n",
    "Packages are collections of modules, organized hierarchically (and accessed using the dot notation).\n",
    "\n",
    "Beyond the scope here, but you can look more at environment setup to create your own \"packages\". If you're curious see: https://docs.python.org/3/tutorial/modules.html#packages"
   ]
  },
  {
   "cell_type": "markdown",
   "metadata": {
    "id": "3hklS7CI943A",
    "slideshow": {
     "slide_type": "slide"
    }
   },
   "source": [
    "# The main() function\n",
    "\n",
    "* You may write a program and then want to reuse some of the functions by importing them into another program. In this case you are treating the original program as a module. \n",
    "\n",
    "* The problem is that when you import a module it is executed. \n",
    "\n",
    "* Question: How do you stop the original program from running when you import it as a module?\n",
    "\n",
    "* Answer: By putting the logic for the program in a \"main()\", which is only called if the program is being run by user, not imported as a module.\n",
    "\n",
    "\n"
   ]
  },
  {
   "cell_type": "code",
   "execution_count": 26,
   "metadata": {
    "id": "XkHjUHhr96h8",
    "slideshow": {
     "slide_type": "fragment"
    }
   },
   "outputs": [
    {
     "name": "stdout",
     "output_type": "stream",
     "text": [
      "5\n",
      "python main function, x is: 5\n"
     ]
    }
   ],
   "source": [
    "def some_useful_function():\n",
    "  \"\"\"Defines a function that would be useful to \n",
    "  other programs outside of main\"\"\"\n",
    "  pass\n",
    "\n",
    "def main():\n",
    "  x = input()\n",
    "  print(\"python main function, x is:\", x)\n",
    "    # Put the program logic in this function\n",
    "\n",
    "if __name__ == '__main__': # This will only be true\n",
    "    # when the program is executed by a user\n",
    "    main()"
   ]
  },
  {
   "cell_type": "code",
   "execution_count": 29,
   "metadata": {
    "colab": {
     "base_uri": "https://localhost:8080/",
     "height": 52
    },
    "executionInfo": {
     "elapsed": 720,
     "status": "ok",
     "timestamp": 1572390630118,
     "user": {
      "displayName": "Benedict Paten",
      "photoUrl": "https://lh3.googleusercontent.com/a-/AAuE7mBMnWy8dDR7jyTHNy9tPaRx6DCyA3QKrIcuQ7R4=s64",
      "userId": "06399644931392855882"
     },
     "user_tz": 420
    },
    "id": "6N9ckCbj99lH",
    "outputId": "cb5df719-b497-4df1-83ea-d98edc74c32e",
    "slideshow": {
     "slide_type": "subslide"
    }
   },
   "outputs": [
    {
     "name": "stdout",
     "output_type": "stream",
     "text": [
      "__main__\n"
     ]
    },
    {
     "data": {
      "text/plain": [
       "str"
      ]
     },
     "execution_count": 29,
     "metadata": {},
     "output_type": "execute_result"
    }
   ],
   "source": [
    "print(__name__) # The name of the current module\n",
    "type(__name__)"
   ]
  },
  {
   "cell_type": "markdown",
   "metadata": {
    "id": "ABpwatU7oHu3",
    "slideshow": {
     "slide_type": "fragment"
    }
   },
   "source": [
    "**Live demo!**"
   ]
  },
  {
   "cell_type": "markdown",
   "metadata": {
    "id": "AGlA7LeAeylB",
    "slideshow": {
     "slide_type": "slide"
    }
   },
   "source": [
    "# PEP8: Use Style\n"
   ]
  },
  {
   "cell_type": "markdown",
   "metadata": {
    "id": "lFJO8hkXkzXX",
    "slideshow": {
     "slide_type": "fragment"
    }
   },
   "source": [
    "It is easy to rush and write poorly structured, hard-to-read code. However, generally, this proves a false-economy, resulting in longer debug cycles, a larger maintenance burden (like, what was I thinking?) and less code reuse. \n",
    "\n",
    "Although many sins have nothing to do with the cosmetics of the code, some can be fixed by adopting a consistent, sane set of coding conventions. Python did this with Python Enhancement Proposal (PEP) 8:\n",
    "\n",
    "https://www.python.org/dev/peps/pep-0008/\n",
    "\n",
    "Some things PEP-8 covers:\n",
    "\n",
    "* use 4 spaces (instead of tabs) for indentation - you can make your text editor do this (insert spaces for tabs)\n",
    "* limit line length to 78 characters\n",
    "* when naming identifiers, use CamelCase for classes (we’ll get to those) and lowercase_with_underscores for functions and variables\n",
    "* place imports at the top of the file\n",
    "* keep function definitions together\n",
    "* use docstrings to document functions\n",
    "* use two blank lines to separate function definitions from each other\n",
    "* keep top level statements, including function calls, together at the bottom of the program"
   ]
  },
  {
   "cell_type": "markdown",
   "metadata": {
    "id": "Jt48EBSSTtUx",
    "slideshow": {
     "slide_type": "slide"
    }
   },
   "source": [
    "# Debugging Revisited\n",
    "\n",
    "We mentioned earlier that a lot of programming is debugging. Now we're going to debug programs and understand the different errors you can get.\n",
    "\n",
    "There are three principle types of error:\n",
    " - syntax errors\n",
    " - runtime errors\n",
    " - semantic/logical errors"
   ]
  },
  {
   "cell_type": "markdown",
   "metadata": {
    "id": "LF6A0KRWlhlR",
    "slideshow": {
     "slide_type": "slide"
    }
   },
   "source": [
    "# Syntax Errors\n",
    "\n",
    "* when what you've written is not valid Python"
   ]
  },
  {
   "cell_type": "code",
   "execution_count": 30,
   "metadata": {
    "colab": {
     "base_uri": "https://localhost:8080/",
     "height": 131
    },
    "executionInfo": {
     "elapsed": 717,
     "status": "error",
     "timestamp": 1572391090120,
     "user": {
      "displayName": "Benedict Paten",
      "photoUrl": "https://lh3.googleusercontent.com/a-/AAuE7mBMnWy8dDR7jyTHNy9tPaRx6DCyA3QKrIcuQ7R4=s64",
      "userId": "06399644931392855882"
     },
     "user_tz": 420
    },
    "id": "pMkRUsPW6fd1",
    "outputId": "252d538c-82d6-4289-8952-eb3f78073ca3",
    "slideshow": {
     "slide_type": "subslide"
    }
   },
   "outputs": [
    {
     "ename": "SyntaxError",
     "evalue": "invalid syntax (3569576470.py, line 3)",
     "output_type": "error",
     "traceback": [
      "\u001b[0;36m  File \u001b[0;32m\"/var/folders/ft/hp0lkfys73s96bby40t4tnnr0000gn/T/ipykernel_98033/3569576470.py\"\u001b[0;36m, line \u001b[0;32m3\u001b[0m\n\u001b[0;31m    for i in range(10)\u001b[0m\n\u001b[0m                      ^\u001b[0m\n\u001b[0;31mSyntaxError\u001b[0m\u001b[0;31m:\u001b[0m invalid syntax\n"
     ]
    }
   ],
   "source": [
    "# Syntax errors - when what you've written is not valid Python\n",
    "\n",
    "for i in range(10)\n",
    "  print(i) # What's wrong with this?"
   ]
  },
  {
   "cell_type": "code",
   "execution_count": 31,
   "metadata": {
    "colab": {
     "base_uri": "https://localhost:8080/",
     "height": 131
    },
    "executionInfo": {
     "elapsed": 653,
     "status": "error",
     "timestamp": 1572391098741,
     "user": {
      "displayName": "Benedict Paten",
      "photoUrl": "https://lh3.googleusercontent.com/a-/AAuE7mBMnWy8dDR7jyTHNy9tPaRx6DCyA3QKrIcuQ7R4=s64",
      "userId": "06399644931392855882"
     },
     "user_tz": 420
    },
    "id": "JIcgDJ7bT3Vb",
    "outputId": "b9660643-6fac-4f39-a29f-b9d115d4bb7a",
    "slideshow": {
     "slide_type": "subslide"
    }
   },
   "outputs": [
    {
     "ename": "IndentationError",
     "evalue": "expected an indented block (2681185069.py, line 4)",
     "output_type": "error",
     "traceback": [
      "\u001b[0;36m  File \u001b[0;32m\"/var/folders/ft/hp0lkfys73s96bby40t4tnnr0000gn/T/ipykernel_98033/2681185069.py\"\u001b[0;36m, line \u001b[0;32m4\u001b[0m\n\u001b[0;31m    print(i) # What's wrong with this?\u001b[0m\n\u001b[0m    ^\u001b[0m\n\u001b[0;31mIndentationError\u001b[0m\u001b[0;31m:\u001b[0m expected an indented block\n"
     ]
    }
   ],
   "source": [
    "# Syntax errors - when what you've written is not valid Python\n",
    "\n",
    "for i in range(10):\n",
    "print(i) # What's wrong with this?"
   ]
  },
  {
   "cell_type": "code",
   "execution_count": 32,
   "metadata": {
    "colab": {
     "base_uri": "https://localhost:8080/",
     "height": 149
    },
    "executionInfo": {
     "elapsed": 529,
     "status": "error",
     "timestamp": 1572391119648,
     "user": {
      "displayName": "Benedict Paten",
      "photoUrl": "https://lh3.googleusercontent.com/a-/AAuE7mBMnWy8dDR7jyTHNy9tPaRx6DCyA3QKrIcuQ7R4=s64",
      "userId": "06399644931392855882"
     },
     "user_tz": 420
    },
    "id": "6EYjPqkc64bF",
    "outputId": "926a5ccf-d8b3-4ae5-bcfc-23613bc210d5",
    "slideshow": {
     "slide_type": "subslide"
    }
   },
   "outputs": [
    {
     "ename": "SyntaxError",
     "evalue": "EOF while scanning triple-quoted string literal (2118504203.py, line 4)",
     "output_type": "error",
     "traceback": [
      "\u001b[0;36m  File \u001b[0;32m\"/var/folders/ft/hp0lkfys73s96bby40t4tnnr0000gn/T/ipykernel_98033/2118504203.py\"\u001b[0;36m, line \u001b[0;32m4\u001b[0m\n\u001b[0;31m    print(i)\u001b[0m\n\u001b[0m            \n^\u001b[0m\n\u001b[0;31mSyntaxError\u001b[0m\u001b[0;31m:\u001b[0m EOF while scanning triple-quoted string literal\n"
     ]
    }
   ],
   "source": [
    "# Syntax errors - when what you've written is not valid Python\n",
    "for i in range(10):\n",
    "  \"\"\" This loop will print stuff \"\"\n",
    "  print(i)\n"
   ]
  },
  {
   "cell_type": "code",
   "execution_count": 33,
   "metadata": {
    "colab": {
     "base_uri": "https://localhost:8080/",
     "height": 151
    },
    "executionInfo": {
     "elapsed": 691,
     "status": "error",
     "timestamp": 1572391136584,
     "user": {
      "displayName": "Benedict Paten",
      "photoUrl": "https://lh3.googleusercontent.com/a-/AAuE7mBMnWy8dDR7jyTHNy9tPaRx6DCyA3QKrIcuQ7R4=s64",
      "userId": "06399644931392855882"
     },
     "user_tz": 420
    },
    "id": "ZSaz36jD9eoZ",
    "outputId": "5359fc9e-2b95-4071-cf4c-5be1054ea1c6",
    "slideshow": {
     "slide_type": "subslide"
    }
   },
   "outputs": [
    {
     "ename": "SyntaxError",
     "evalue": "Missing parentheses in call to 'print'. Did you mean print(\"Forgetting parentheses\")? (839321298.py, line 4)",
     "output_type": "error",
     "traceback": [
      "\u001b[0;36m  File \u001b[0;32m\"/var/folders/ft/hp0lkfys73s96bby40t4tnnr0000gn/T/ipykernel_98033/839321298.py\"\u001b[0;36m, line \u001b[0;32m4\u001b[0m\n\u001b[0;31m    print \"Forgetting parentheses\"\u001b[0m\n\u001b[0m          ^\u001b[0m\n\u001b[0;31mSyntaxError\u001b[0m\u001b[0;31m:\u001b[0m Missing parentheses in call to 'print'. Did you mean print(\"Forgetting parentheses\")?\n"
     ]
    }
   ],
   "source": [
    "# Syntax errors - when what you've written is not valid Python \n",
    "# (note, this kind of print statement was legal in Python 2.XX and earlier)\n",
    "\n",
    "print \"Forgetting parentheses\""
   ]
  },
  {
   "cell_type": "markdown",
   "metadata": {
    "id": "LWBj8-Ellvad",
    "slideshow": {
     "slide_type": "slide"
    }
   },
   "source": [
    "# Runtime Errors\n",
    "\n",
    "* when the program crashes during runtime because it \n",
    " tries to do something invalid"
   ]
  },
  {
   "cell_type": "code",
   "execution_count": 34,
   "metadata": {
    "colab": {
     "base_uri": "https://localhost:8080/",
     "height": 184
    },
    "executionInfo": {
     "elapsed": 564,
     "status": "error",
     "timestamp": 1572391202747,
     "user": {
      "displayName": "Benedict Paten",
      "photoUrl": "https://lh3.googleusercontent.com/a-/AAuE7mBMnWy8dDR7jyTHNy9tPaRx6DCyA3QKrIcuQ7R4=s64",
      "userId": "06399644931392855882"
     },
     "user_tz": 420
    },
    "id": "cju5V5E07-LX",
    "outputId": "44c0d38f-e836-47a5-f123-e729e01f5939",
    "slideshow": {
     "slide_type": "subslide"
    }
   },
   "outputs": [
    {
     "ename": "TypeError",
     "evalue": "can only concatenate str (not \"int\") to str",
     "output_type": "error",
     "traceback": [
      "\u001b[0;31m---------------------------------------------------------------------------\u001b[0m",
      "\u001b[0;31mTypeError\u001b[0m                                 Traceback (most recent call last)",
      "\u001b[0;32m/var/folders/ft/hp0lkfys73s96bby40t4tnnr0000gn/T/ipykernel_98033/297457020.py\u001b[0m in \u001b[0;36m<module>\u001b[0;34m\u001b[0m\n\u001b[1;32m      2\u001b[0m \u001b[0;31m# tries to do something invalid\u001b[0m\u001b[0;34m\u001b[0m\u001b[0;34m\u001b[0m\u001b[0;34m\u001b[0m\u001b[0m\n\u001b[1;32m      3\u001b[0m \u001b[0;34m\u001b[0m\u001b[0m\n\u001b[0;32m----> 4\u001b[0;31m \u001b[0mprint\u001b[0m\u001b[0;34m(\u001b[0m\u001b[0;34m\"This is an integer: \"\u001b[0m \u001b[0;34m+\u001b[0m \u001b[0;36m10\u001b[0m\u001b[0;34m)\u001b[0m\u001b[0;34m\u001b[0m\u001b[0;34m\u001b[0m\u001b[0m\n\u001b[0m",
      "\u001b[0;31mTypeError\u001b[0m: can only concatenate str (not \"int\") to str"
     ]
    }
   ],
   "source": [
    "# Runtime errors - when the program errors out during runtime because it \n",
    "# tries to do something invalid\n",
    "\n",
    "print(\"This is an integer: \" + 10)"
   ]
  },
  {
   "cell_type": "code",
   "execution_count": 35,
   "metadata": {
    "colab": {
     "base_uri": "https://localhost:8080/",
     "height": 184
    },
    "executionInfo": {
     "elapsed": 562,
     "status": "error",
     "timestamp": 1572391244957,
     "user": {
      "displayName": "Benedict Paten",
      "photoUrl": "https://lh3.googleusercontent.com/a-/AAuE7mBMnWy8dDR7jyTHNy9tPaRx6DCyA3QKrIcuQ7R4=s64",
      "userId": "06399644931392855882"
     },
     "user_tz": 420
    },
    "id": "RVAT7Xbd8Zz0",
    "outputId": "b4efaa97-21f4-4e4e-d109-13b41c661cd7",
    "slideshow": {
     "slide_type": "subslide"
    }
   },
   "outputs": [
    {
     "ename": "AssertionError",
     "evalue": "",
     "output_type": "error",
     "traceback": [
      "\u001b[0;31m---------------------------------------------------------------------------\u001b[0m",
      "\u001b[0;31mAssertionError\u001b[0m                            Traceback (most recent call last)",
      "\u001b[0;32m/var/folders/ft/hp0lkfys73s96bby40t4tnnr0000gn/T/ipykernel_98033/1474390430.py\u001b[0m in \u001b[0;36m<module>\u001b[0;34m\u001b[0m\n\u001b[1;32m      2\u001b[0m \u001b[0;31m# tries to do something invalid\u001b[0m\u001b[0;34m\u001b[0m\u001b[0;34m\u001b[0m\u001b[0;34m\u001b[0m\u001b[0m\n\u001b[1;32m      3\u001b[0m \u001b[0;34m\u001b[0m\u001b[0m\n\u001b[0;32m----> 4\u001b[0;31m \u001b[0;32massert\u001b[0m \u001b[0;36m1\u001b[0m \u001b[0;34m+\u001b[0m \u001b[0;36m1\u001b[0m \u001b[0;34m==\u001b[0m \u001b[0;36m3\u001b[0m\u001b[0;34m\u001b[0m\u001b[0;34m\u001b[0m\u001b[0m\n\u001b[0m",
      "\u001b[0;31mAssertionError\u001b[0m: "
     ]
    }
   ],
   "source": [
    "# Runtime errors - when the program errors out during runtime because it \n",
    "# tries to do something invalid\n",
    "\n",
    "assert 1 + 1 == 3"
   ]
  },
  {
   "cell_type": "markdown",
   "metadata": {
    "id": "dvqXXqtel0H9",
    "slideshow": {
     "slide_type": "slide"
    }
   },
   "source": [
    "# Semantic Errors (aka Logical Errors)\n",
    "\n",
    "* when the program runs and exits without error, but produces an unexpected result"
   ]
  },
  {
   "cell_type": "code",
   "execution_count": 36,
   "metadata": {
    "colab": {
     "base_uri": "https://localhost:8080/"
    },
    "executionInfo": {
     "elapsed": 2987,
     "status": "ok",
     "timestamp": 1607888054375,
     "user": {
      "displayName": "Benedict Paten",
      "photoUrl": "https://lh3.googleusercontent.com/a-/AOh14Gh2rYrrH6yoNnUp0Oj4p4ouybc6ZcWGyPmKFtIY=s64",
      "userId": "06399644931392855882"
     },
     "user_tz": 480
    },
    "id": "9PfD2doV86-T",
    "outputId": "4a1ef597-3708-4207-d7ae-9d6e0431e87e",
    "slideshow": {
     "slide_type": "subslide"
    }
   },
   "outputs": [
    {
     "name": "stdout",
     "output_type": "stream",
     "text": [
      "Input a number: 3\n",
      "3 factorial is 2\n"
     ]
    }
   ],
   "source": [
    "# Semantic errors - when the program runs and exits without error, \n",
    "# but produces an unexpected result\n",
    "\n",
    "j = int(input(\"Input a number: \"))\n",
    "\n",
    "x = 1\n",
    "for i in range(1, j): # should be range(1, j+1):\n",
    "  x = x * i\n",
    "  \n",
    "print(str(j) + \" factorial is \" + str(x))"
   ]
  },
  {
   "cell_type": "markdown",
   "metadata": {
    "id": "wjKzpDkN-u2G",
    "slideshow": {
     "slide_type": "fragment"
    }
   },
   "source": [
    "In my experience syntax errors are easy to fix, runtime errors are generally solvable fast, but semantic errors can take the longest time to fix"
   ]
  },
  {
   "cell_type": "markdown",
   "metadata": {
    "id": "0Vf2AjO5iWDT",
    "slideshow": {
     "slide_type": "subslide"
    }
   },
   "source": [
    "**Debug strategies**\n",
    "\n",
    "To debug a failing program, you can:\n",
    "  * Use print statements dotted around the code to figure out what code is doing at specific points of time (remember to remove / comment these out when you're done!)\n",
    "  * Use a debugger - this allows you to step through execution, line-by-line, seeing what the program is up to at each step. (PyCharm has a nice interface to the Python debugger)\n",
    "  * Write unit-tests for individual parts of the code\n",
    "  * Use assert to check that expected properties are true during runtime\n",
    "  * Stare hard at it! Semantic errors will generally require you to question your program's logic."
   ]
  },
  {
   "cell_type": "markdown",
   "metadata": {
    "id": "kTCPI8MmjdQw",
    "slideshow": {
     "slide_type": "subslide"
    }
   },
   "source": [
    "# Challenge 4\n",
    "\n",
    "See if you can get this to work:"
   ]
  },
  {
   "cell_type": "code",
   "execution_count": 4,
   "metadata": {
    "colab": {
     "base_uri": "https://localhost:8080/",
     "height": 132
    },
    "executionInfo": {
     "elapsed": 814,
     "status": "error",
     "timestamp": 1607888171113,
     "user": {
      "displayName": "Benedict Paten",
      "photoUrl": "https://lh3.googleusercontent.com/a-/AOh14Gh2rYrrH6yoNnUp0Oj4p4ouybc6ZcWGyPmKFtIY=s64",
      "userId": "06399644931392855882"
     },
     "user_tz": 480
    },
    "id": "XOY0DZZD_RW7",
    "outputId": "962bfd47-4c37-49d5-f074-ecb980edc19a",
    "slideshow": {
     "slide_type": "fragment"
    }
   },
   "outputs": [
    {
     "name": "stdout",
     "output_type": "stream",
     "text": [
      "Think of a number from 1 to 100\n",
      "Is your number greater than 50 Type YES or NO: YES\n",
      "Is your number greater than 75 Type YES or NO: NO\n",
      "Is your number greater than 63 Type YES or NO: NO\n",
      "Is your number greater than 57 Type YES or NO: YES\n",
      "Is your number greater than 60 Type YES or NO: NO\n",
      "Is your number greater than 59 Type YES or NO: YES\n",
      "Your number is: 60\n"
     ]
    }
   ],
   "source": [
    "import time\n",
    "\n",
    "# Try debugging the following - a number guessing program\n",
    "# It has all three types of errors\n",
    "\n",
    "print(\"Think of a number from 1 to 100\")\n",
    "\n",
    "time.sleep(3)\n",
    "\n",
    "min = 1\n",
    "max = 100\n",
    "\n",
    "while max == min\n",
    "  i = (min + max) // 2\n",
    "  \n",
    "  answer = input(\"Is your number greater than \" + str(i) + \" Type YES or NO: \")\n",
    "  \n",
    "  assert answer == \"YES\" or answer == \"YES\" # Check the value is what we expect\n",
    "  \n",
    "  if answer == \"YES\":\n",
    "    min = i+1\n",
    "  else:\n",
    "   max = i\n",
    "\n",
    "print(\"Your number is: \" + str(min))\n",
    "  \n",
    "  "
   ]
  },
  {
   "cell_type": "markdown",
   "metadata": {
    "id": "KZP9y5sgyVm8",
    "slideshow": {
     "slide_type": "slide"
    }
   },
   "source": [
    "# Reading\n",
    "\n",
    "Open book chapter 12: http://openbookproject.net/thinkcs/python/english3e/modules.html\n",
    "\n",
    "\n",
    "# Homework\n",
    "\n",
    "ZyBook Reading 10\n"
   ]
  },
  {
   "cell_type": "markdown",
   "metadata": {
    "slideshow": {
     "slide_type": "slide"
    }
   },
   "source": [
    "# Practice Problems"
   ]
  },
  {
   "cell_type": "code",
   "execution_count": null,
   "metadata": {
    "slideshow": {
     "slide_type": "slide"
    }
   },
   "outputs": [],
   "source": [
    "import math\n",
    "\n",
    "# Problem 1: Generator Function\n",
    "def fibonacci_generator(n):\n",
    "    \"\"\"\n",
    "    Create a generator function that yields the first n numbers in the Fibonacci sequence.\n",
    "    Each number in the sequence is the sum of the two preceding numbers.\n",
    "    The sequence starts with 0, 1, 1, 2, 3, 5, 8, 13, ...\n",
    "    \n",
    "    Args:\n",
    "        n (int): Number of Fibonacci numbers to generate\n",
    "        \n",
    "    Yields:\n",
    "        int: Next number in Fibonacci sequence\n",
    "    \"\"\"\n",
    "    # Your code here\n",
    "    pass\n",
    "\n",
    "# Test Problem 1\n",
    "assert list(fibonacci_generator(1)) == [0]\n",
    "assert list(fibonacci_generator(3)) == [0, 1, 1]\n",
    "assert list(fibonacci_generator(7)) == [0, 1, 1, 2, 3, 5, 8]"
   ]
  },
  {
   "cell_type": "code",
   "execution_count": null,
   "metadata": {
    "slideshow": {
     "slide_type": "subslide"
    }
   },
   "outputs": [],
   "source": [
    "# Problem 2: Generator Expression\n",
    "def sum_squares_up_to(n):\n",
    "    \"\"\"\n",
    "    Use a generator expression to calculate the sum of squares of numbers from 1 to n.\n",
    "    For example, if n = 3, calculate 1^2 + 2^2 + 3^2 = 14\n",
    "    \n",
    "    Args:\n",
    "        n (int): Upper bound (inclusive)\n",
    "        \n",
    "    Returns:\n",
    "        int: Sum of squares\n",
    "    \"\"\"\n",
    "    # Your code here\n",
    "    pass\n",
    "\n",
    "# Test Problem 2\n",
    "assert sum_squares_up_to(1) == 1\n",
    "assert sum_squares_up_to(3) == 14\n",
    "assert sum_squares_up_to(5) == 55"
   ]
  },
  {
   "cell_type": "code",
   "execution_count": null,
   "metadata": {
    "slideshow": {
     "slide_type": "slide"
    }
   },
   "outputs": [],
   "source": [
    "# Problem 3: Module Import and Usage \n",
    "def calculate_circle_area(radius):\n",
    "    \"\"\"\n",
    "    Use the math module to calculate the area of a circle with given radius.\n",
    "    Remember that area = π * r^2\n",
    "    \n",
    "    Args:\n",
    "        radius (float): Radius of the circle\n",
    "        \n",
    "    Returns:\n",
    "        float: Area of the circle rounded to 2 decimal places\n",
    "    \"\"\"\n",
    "    # Your code here\n",
    "    pass\n",
    "\n",
    "# Test Problem 3\n",
    "assert calculate_circle_area(1.0) == 3.14\n",
    "assert calculate_circle_area(2.0) == 12.57\n",
    "assert calculate_circle_area(3.0) == 28.27"
   ]
  },
  {
   "cell_type": "code",
   "execution_count": null,
   "metadata": {
    "slideshow": {
     "slide_type": "slide"
    }
   },
   "outputs": [],
   "source": [
    "# Problem 4: Error Handling\n",
    "def safe_divide(a, b):\n",
    "    \"\"\"\n",
    "    Implement division that handles potential errors.\n",
    "    If b is 0, return \"Cannot divide by zero\"\n",
    "    If either a or b are not integers, return \"Invalid input\"\n",
    "    Otherwise return a/b rounded to 2 decimal places\n",
    "    Hints: \n",
    "    (1) the isinstance built in function could be useful, \n",
    "    i.e. isinstance(a, int)  will test is a is an integer\n",
    "    (2) to round a number to a given precision see the builtin round function\n",
    "    \n",
    "    Args:\n",
    "        a: First number\n",
    "        b: Second number\n",
    "        \n",
    "    Returns:\n",
    "        float or str: Result of division or error message\n",
    "    \"\"\"\n",
    "    # Your code here\n",
    "    pass\n",
    "\n",
    "# Test Problem 4\n",
    "assert safe_divide(10, 2) == 5.0\n",
    "assert safe_divide(10, 0) == \"Cannot divide by zero\"\n",
    "assert safe_divide(\"10\", 2) == \"Invalid input\""
   ]
  },
  {
   "cell_type": "code",
   "execution_count": null,
   "metadata": {
    "slideshow": {
     "slide_type": "slide"
    }
   },
   "outputs": [],
   "source": [
    "# Problem 5: Debug the Function\n",
    "def count_vowels(text):\n",
    "    \"\"\"\n",
    "    Count the number of vowels (a, e, i, o, u) in a string.\n",
    "    Should be case-insensitive.\n",
    "    \n",
    "    Args:\n",
    "        text (str): Input string\n",
    "        \n",
    "    Returns:\n",
    "        int: Number of vowels in the string\n",
    "    \"\"\"\n",
    "    # This code has bugs! Fix them!\n",
    "    vowels = ['a','e','i','o']\n",
    "    count = 0\n",
    "    for char in text\n",
    "        if char in vowels:\n",
    "            count += 1\n",
    "    return count\n",
    "\n",
    "# Test Problem 5\n",
    "assert count_vowels(\"hello\") == 2\n",
    "assert count_vowels(\"PYTHON\") == 1\n",
    "assert count_vowels(\"aEiOu\") == 5\n",
    "\n",
    "print(\"All tests passed!\")"
   ]
  }
 ],
 "metadata": {
  "celltoolbar": "Slideshow",
  "colab": {
   "collapsed_sections": [],
   "name": "L10 Modules.ipynb",
   "provenance": []
  },
  "kernelspec": {
   "display_name": "intro_python_env",
   "language": "python",
   "name": "intro_python_env"
  },
  "language_info": {
   "codemirror_mode": {
    "name": "ipython",
    "version": 3
   },
   "file_extension": ".py",
   "mimetype": "text/x-python",
   "name": "python",
   "nbconvert_exporter": "python",
   "pygments_lexer": "ipython3",
   "version": "3.11.9"
  }
 },
 "nbformat": 4,
 "nbformat_minor": 1
}
