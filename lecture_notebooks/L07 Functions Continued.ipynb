{
 "cells": [
  {
   "cell_type": "markdown",
   "metadata": {
    "id": "5UyFJYXOx-WH",
    "slideshow": {
     "slide_type": "slide"
    }
   },
   "source": [
    "# Lecture 7 - Functions Continued (https://bit.ly/intro_python_07)\n",
    "\n",
    "* Functions continued:\n",
    "  * Functions, namespaces and scope\n",
    "  * Optional functional arguments \n",
    "  * A few common mistakes about functions\n",
    "  * The stack and scope rules\n",
    "  * Examples\n"
   ]
  },
  {
   "cell_type": "markdown",
   "metadata": {
    "id": "Flpncg1fes22",
    "slideshow": {
     "slide_type": "slide"
    }
   },
   "source": [
    "# Namespace\n",
    "\n",
    "\n",
    "\n"
   ]
  },
  {
   "cell_type": "markdown",
   "metadata": {
    "id": "_Mv0hbyZXDQl",
    "slideshow": {
     "slide_type": "subslide"
    }
   },
   "source": [
    "**Namespace**: in simple terms, the set of identifiers (variables, functions, classes, objects in general) a line of code can refer to."
   ]
  },
  {
   "cell_type": "code",
   "execution_count": null,
   "metadata": {
    "colab": {
     "base_uri": "https://localhost:8080/",
     "height": 240
    },
    "executionInfo": {
     "elapsed": 1345,
     "status": "error",
     "timestamp": 1571957988264,
     "user": {
      "displayName": "Benedict Paten",
      "photoUrl": "https://lh3.googleusercontent.com/a-/AAuE7mBMnWy8dDR7jyTHNy9tPaRx6DCyA3QKrIcuQ7R4=s64",
      "userId": "06399644931392855882"
     },
     "user_tz": 420
    },
    "id": "8VfByLPOJUBU",
    "outputId": "7c3b3b74-7cf0-467f-b932-29b81b4ec5b9",
    "slideshow": {
     "slide_type": "fragment"
    }
   },
   "outputs": [
    {
     "ename": "NameError",
     "evalue": "ignored",
     "output_type": "error",
     "traceback": [
      "\u001b[0;31m---------------------------------------------------------------------------\u001b[0m",
      "\u001b[0;31mNameError\u001b[0m                                 Traceback (most recent call last)",
      "\u001b[0;32m<ipython-input-1-cf8359f162d8>\u001b[0m in \u001b[0;36m<module>\u001b[0;34m()\u001b[0m\n\u001b[0;32m----> 1\u001b[0;31m \u001b[0mprint\u001b[0m\u001b[0;34m(\u001b[0m\u001b[0mx\u001b[0m\u001b[0;34m)\u001b[0m \u001b[0;31m# This doesn't work because x is not yet defined\u001b[0m\u001b[0;34m\u001b[0m\u001b[0;34m\u001b[0m\u001b[0m\n\u001b[0m\u001b[1;32m      2\u001b[0m \u001b[0;31m# In other words, it is not yet in the \"namespace\" of this line of code\u001b[0m\u001b[0;34m\u001b[0m\u001b[0;34m\u001b[0m\u001b[0;34m\u001b[0m\u001b[0m\n\u001b[1;32m      3\u001b[0m \u001b[0;34m\u001b[0m\u001b[0m\n\u001b[1;32m      4\u001b[0m \u001b[0mx\u001b[0m \u001b[0;34m=\u001b[0m \u001b[0;36m5\u001b[0m\u001b[0;34m\u001b[0m\u001b[0;34m\u001b[0m\u001b[0m\n",
      "\u001b[0;31mNameError\u001b[0m: name 'x' is not defined"
     ]
    }
   ],
   "source": [
    "# A simple example of a namespace fail:\n",
    "\n",
    "print(x) # This doesn't work because x is not yet defined\n",
    "# In other words, it is not yet in the \"namespace\" of this line of code\n",
    "\n",
    "x = 5"
   ]
  },
  {
   "cell_type": "markdown",
   "metadata": {
    "id": "UGT7JF9yXYWF",
    "slideshow": {
     "slide_type": "slide"
    }
   },
   "source": [
    "# Scope"
   ]
  },
  {
   "cell_type": "markdown",
   "metadata": {
    "id": "CDhZEuhjJkQf",
    "slideshow": {
     "slide_type": "subslide"
    }
   },
   "source": [
    "**Scope**: rules to help define what is and is not in a namespace.\n",
    "\n"
   ]
  },
  {
   "cell_type": "markdown",
   "metadata": {
    "id": "LSXCXIB-XwaD",
    "slideshow": {
     "slide_type": "subslide"
    }
   },
   "source": [
    "Python defines three levels of scope:\n",
    "\n",
    "* **Local scope** refers to identifiers declared within a function. These identifiers are kept in the namespace that belongs to the function, and each function has its own namespace. Variables in local scope are not available outside of the function."
   ]
  },
  {
   "cell_type": "code",
   "execution_count": null,
   "metadata": {
    "id": "NWBgegWbKKqW",
    "slideshow": {
     "slide_type": "fragment"
    }
   },
   "outputs": [],
   "source": [
    "def square_diff(x, y):\n",
    "  z = (x - y) ** 2 # x, y and z are in the local scope of the function, they\n",
    "  # are \"local variables\"\n",
    "  return z"
   ]
  },
  {
   "cell_type": "markdown",
   "metadata": {
    "id": "UJs-GeWeKBil",
    "slideshow": {
     "slide_type": "subslide"
    }
   },
   "source": [
    "* **Global scope** refers to all the identifiers declared within the current module, or file.\n",
    "\n"
   ]
  },
  {
   "cell_type": "code",
   "execution_count": null,
   "metadata": {
    "id": "dEqrqBxIKUxU",
    "slideshow": {
     "slide_type": "fragment"
    }
   },
   "outputs": [],
   "source": [
    "s = \"hello\" # s is in global scope, it is a global variable\n",
    "\n",
    "def square_diff(x, y):\n",
    "  z = (x - y) ** 2 # x, y and z are in the local scope of the function, they\n",
    "  # are \"local variables\"\n",
    "  return z"
   ]
  },
  {
   "cell_type": "markdown",
   "metadata": {
    "id": "KvErBbabKGip",
    "slideshow": {
     "slide_type": "subslide"
    }
   },
   "source": [
    "* **Built-in scope** refers to all the identifiers built into Python — those like range and len.\n",
    "\n"
   ]
  },
  {
   "cell_type": "code",
   "execution_count": null,
   "metadata": {
    "id": "Z625Gwf-KrCo",
    "slideshow": {
     "slide_type": "fragment"
    }
   },
   "outputs": [],
   "source": [
    "s = \"hello\" \n",
    "\n",
    "def square_diff(x, y):\n",
    "  z = (x - y) ** 2 \n",
    "  return z\n",
    "\n",
    "w = float(input(\"enter a number\")) # float and input are builtin functions, they are\n",
    "# in built-in scope\n"
   ]
  },
  {
   "cell_type": "markdown",
   "metadata": {
    "id": "a-VRyvr9KpGM",
    "slideshow": {
     "slide_type": "subslide"
    }
   },
   "source": [
    "A line of code's **namespace** is defined by combining these three levels of scope. \n",
    "\n",
    "Identifier collisions (identifiers with the same name) are resolved\n",
    "by taking a local scope version in precedence to a global scope version, and in turn a global scope version in precedence to a built-in scope version, i.e.:\n",
    "\n",
    "* **local scope > global scope > built-in scope.**\n",
    "\n",
    "\n"
   ]
  },
  {
   "cell_type": "code",
   "execution_count": 2,
   "metadata": {
    "colab": {
     "base_uri": "https://localhost:8080/"
    },
    "executionInfo": {
     "elapsed": 402,
     "status": "ok",
     "timestamp": 1607649524942,
     "user": {
      "displayName": "Benedict Paten",
      "photoUrl": "https://lh3.googleusercontent.com/a-/AOh14Gh2rYrrH6yoNnUp0Oj4p4ouybc6ZcWGyPmKFtIY=s64",
      "userId": "06399644931392855882"
     },
     "user_tz": 480
    },
    "id": "RKvZcpb3LKR1",
    "outputId": "7e932094-0c56-4dc4-ab6b-5f88113dafa8",
    "slideshow": {
     "slide_type": "subslide"
    }
   },
   "outputs": [
    {
     "name": "stdout",
     "output_type": "stream",
     "text": [
      "Outside the function, x is 5\n",
      "In the function, x is: 15\n",
      "Outside the function, x is again 5\n"
     ]
    }
   ],
   "source": [
    "# Let's see how these rules affect an example\n",
    "\n",
    "x = 5 # Global scope\n",
    "\n",
    "def f():\n",
    "  x = 15 # This copy of x is in local scope, it is not the global scope version\n",
    "  print(\"In the function, x is:\", x) # As local scope > global scope, this prints 15\n",
    "\n",
    "print(\"Outside the function, x is\", x) # This copy of x is the global scope version\n",
    "\n",
    "f() # This calls f, execution jumps into f\n",
    "\n",
    "print(\"Outside the function, x is again\", x) # What happens in f does not affect global scope, so this x is still 5 "
   ]
  },
  {
   "cell_type": "markdown",
   "metadata": {
    "id": "wdfe3rBkLJHR",
    "slideshow": {
     "slide_type": "slide"
    }
   },
   "source": [
    "# Illustrating The Effect of Scope Rules\n",
    "\n",
    "\n",
    "Okay, let's look at some more illustrative examples of the effect of scope rules on namespace:\n",
    "\n"
   ]
  },
  {
   "cell_type": "markdown",
   "metadata": {
    "id": "oCa_CQUCaGxO",
    "slideshow": {
     "slide_type": "subslide"
    }
   },
   "source": [
    "**The local scope of a function is not available outside of the function**"
   ]
  },
  {
   "cell_type": "code",
   "execution_count": 1,
   "metadata": {
    "colab": {
     "base_uri": "https://localhost:8080/",
     "height": 253
    },
    "executionInfo": {
     "elapsed": 364,
     "status": "error",
     "timestamp": 1607649666069,
     "user": {
      "displayName": "Benedict Paten",
      "photoUrl": "https://lh3.googleusercontent.com/a-/AOh14Gh2rYrrH6yoNnUp0Oj4p4ouybc6ZcWGyPmKFtIY=s64",
      "userId": "06399644931392855882"
     },
     "user_tz": 480
    },
    "id": "GJZFUzenvsn2",
    "outputId": "f5660ba5-3cb6-4800-9874-6f0d104c1614",
    "slideshow": {
     "slide_type": "subslide"
    }
   },
   "outputs": [
    {
     "name": "stdout",
     "output_type": "stream",
     "text": [
      "The product of elements in the list is 72\n"
     ]
    },
    {
     "ename": "NameError",
     "evalue": "name 'j' is not defined",
     "output_type": "error",
     "traceback": [
      "\u001b[0;31m---------------------------------------------------------------------------\u001b[0m",
      "\u001b[0;31mNameError\u001b[0m                                 Traceback (most recent call last)",
      "Cell \u001b[0;32mIn[1], line 18\u001b[0m\n\u001b[1;32m     15\u001b[0m \u001b[38;5;28mprint\u001b[39m(\u001b[38;5;124m\"\u001b[39m\u001b[38;5;124mThe product of elements in the list is\u001b[39m\u001b[38;5;124m\"\u001b[39m, list_product(numbers))\n\u001b[1;32m     17\u001b[0m \u001b[38;5;66;03m# But note this doesn't work\u001b[39;00m\n\u001b[0;32m---> 18\u001b[0m \u001b[38;5;28mprint\u001b[39m(\u001b[43mj\u001b[49m)\n\u001b[1;32m     20\u001b[0m \u001b[38;5;66;03m# And nor would this\u001b[39;00m\n\u001b[1;32m     21\u001b[0m \u001b[38;5;28mprint\u001b[39m(l)\n",
      "\u001b[0;31mNameError\u001b[0m: name 'j' is not defined"
     ]
    }
   ],
   "source": [
    "# Illustrating that the local scope of a function is not available outside of the function.\n",
    "\n",
    "def list_product(l):\n",
    "  \"\"\"\n",
    "  Returns the product (multiple) of elements in a list\n",
    "  \"\"\"\n",
    "  j = 1\n",
    "  for i in l:\n",
    "    j = j * i\n",
    "  \n",
    "  return j\n",
    "\n",
    "numbers = [1, 9, 8]\n",
    "\n",
    "print(\"The product of elements in the list is\", list_product(numbers))\n",
    "\n",
    "# But note this doesn't work\n",
    "print(j)\n",
    "\n",
    "# And nor would this\n",
    "print(l)\n",
    "\n",
    "# This is because j and l belong to the local namespace of l,\n",
    "# that is they have local scope to sum, and are not defined outside of it"
   ]
  },
  {
   "cell_type": "markdown",
   "metadata": {
    "id": "STQ7CVavapco",
    "slideshow": {
     "slide_type": "subslide"
    }
   },
   "source": [
    "**A function's namespace inherits scope from outside**"
   ]
  },
  {
   "cell_type": "code",
   "execution_count": null,
   "metadata": {
    "colab": {
     "base_uri": "https://localhost:8080/",
     "height": 35
    },
    "executionInfo": {
     "elapsed": 542,
     "status": "ok",
     "timestamp": 1571958320011,
     "user": {
      "displayName": "Benedict Paten",
      "photoUrl": "https://lh3.googleusercontent.com/a-/AAuE7mBMnWy8dDR7jyTHNy9tPaRx6DCyA3QKrIcuQ7R4=s64",
      "userId": "06399644931392855882"
     },
     "user_tz": 420
    },
    "id": "9A6-vfZ90iBJ",
    "outputId": "3fee9c2b-2fc5-46f7-c10b-308cd2a02e0d",
    "slideshow": {
     "slide_type": "subslide"
    }
   },
   "outputs": [
    {
     "data": {
      "text/plain": [
       "['went', 'shops', 'bought', 'hat']"
      ]
     },
     "execution_count": 7,
     "metadata": {
      "tags": []
     },
     "output_type": "execute_result"
    }
   ],
   "source": [
    "# A function's namespace inherits scope from outside.\n",
    "\n",
    "little_words = [ \"a\", \"an\", \"the\", \"and\", \"or\", \"I\", \"to\"]\n",
    "\n",
    "def filterLittleWords(sentence):\n",
    "  \"\"\"\n",
    "  Removes some little words from a sentence\n",
    "  \"\"\"\n",
    "  \n",
    "  filteredSentence = []\n",
    "  \n",
    "  for word in sentence:\n",
    "    if word not in little_words:\n",
    "      filteredSentence.append(word) # Adds word to the list\n",
    "  \n",
    "  return filteredSentence\n",
    "\n",
    "filterLittleWords([ \"I\", \"went\", \"to\", \"the\", \"shops\", \"and\", \"bought\", \"a\", \"hat\"])  \n",
    "\n",
    "# Here little_words is a \"global variable\" (has global scope), that is it can be accessed by any \n",
    "# line of the program, in contrast \"filteredSentence\" is a local variable (has local scope)\n",
    "# of the \"filterLittleWords\" function"
   ]
  },
  {
   "cell_type": "markdown",
   "metadata": {
    "id": "BQ11Tkd9asKJ",
    "slideshow": {
     "slide_type": "subslide"
    }
   },
   "source": [
    "**Identifier Collisions**"
   ]
  },
  {
   "cell_type": "code",
   "execution_count": 4,
   "metadata": {
    "colab": {
     "base_uri": "https://localhost:8080/",
     "height": 35
    },
    "executionInfo": {
     "elapsed": 944,
     "status": "ok",
     "timestamp": 1571958444495,
     "user": {
      "displayName": "Benedict Paten",
      "photoUrl": "https://lh3.googleusercontent.com/a-/AAuE7mBMnWy8dDR7jyTHNy9tPaRx6DCyA3QKrIcuQ7R4=s64",
      "userId": "06399644931392855882"
     },
     "user_tz": 420
    },
    "id": "g41OKv8BbLv8",
    "outputId": "04b551de-15e8-4e32-d3ab-c6b646a5c65e",
    "slideshow": {
     "slide_type": "subslide"
    }
   },
   "outputs": [
    {
     "name": "stdout",
     "output_type": "stream",
     "text": [
      "We remade range (bad idea!) 10\n"
     ]
    }
   ],
   "source": [
    "# Okay, so what about identifier collisions?:\n",
    "\n",
    "def range(x):\n",
    "  \"\"\" Redefining a built-in function (generally a bad idea)\"\"\"\n",
    "  print(\"We remade range (bad idea!)\", x)\n",
    "  \n",
    "range(10) # This calls the above function, because global scope > built-in scope"
   ]
  },
  {
   "cell_type": "markdown",
   "metadata": {
    "id": "FiLzcCEaa_C1",
    "slideshow": {
     "slide_type": "subslide"
    }
   },
   "source": [
    "**Be careful trying to manipulate global variables within a local scope**"
   ]
  },
  {
   "cell_type": "code",
   "execution_count": 6,
   "metadata": {
    "colab": {
     "base_uri": "https://localhost:8080/",
     "height": 52
    },
    "executionInfo": {
     "elapsed": 520,
     "status": "ok",
     "timestamp": 1571958570456,
     "user": {
      "displayName": "Benedict Paten",
      "photoUrl": "https://lh3.googleusercontent.com/a-/AAuE7mBMnWy8dDR7jyTHNy9tPaRx6DCyA3QKrIcuQ7R4=s64",
      "userId": "06399644931392855882"
     },
     "user_tz": 420
    },
    "id": "ZO2_F4rx2kC8",
    "outputId": "14f98509-4be8-4164-d00b-64f371a9d698",
    "slideshow": {
     "slide_type": "subslide"
    }
   },
   "outputs": [
    {
     "name": "stdout",
     "output_type": "stream",
     "text": [
      "Went looking for shapes in a function, seenAShape: True\n",
      "Finished look for shapes, outside the function, seenAShape: False\n"
     ]
    }
   ],
   "source": [
    "# Scope rules can do some things that might seem unexpected\n",
    "\n",
    "seenAShape = False\n",
    "\n",
    "def lookForShapes(sentence):\n",
    "  \"\"\" Function tries to set seenAShape to True if the input sentence contains \n",
    "  a shape word.\n",
    "  \"\"\"\n",
    "  for word in sentence:\n",
    "    if word in [ \"circle\", \"square\", \"rhombus\"]:\n",
    "      seenAShape = True # Assign a new value to seenAShape?\n",
    "  print(\"Went looking for shapes in a function, seenAShape: \" + str(seenAShape))\n",
    "  \n",
    "lookForShapes([\"Looking\", \"for\", \"a\", \"rhombus\"])\n",
    "\n",
    "print(\"Finished look for shapes, outside the function, seenAShape: \" + str(seenAShape))"
   ]
  },
  {
   "cell_type": "markdown",
   "metadata": {
    "id": "UMgjO53o5nQ9",
    "slideshow": {
     "slide_type": "fragment"
    }
   },
   "source": [
    "The assignment of \"seenAShape = True\" does not replace  the global variable seenAShape, rather it creates a local scope copy. If you think about it, this is only way to be consistent with the scope precedence rules.\n",
    "\n",
    "By default, you can inherit variables from the surrounding scope, but you can't reassign variables defined outside your scope."
   ]
  },
  {
   "cell_type": "markdown",
   "metadata": {
    "slideshow": {
     "slide_type": "subslide"
    }
   },
   "source": [
    "# Global\n",
    "\n",
    "Let's fix the example using the **global** keyword:"
   ]
  },
  {
   "cell_type": "code",
   "execution_count": 7,
   "metadata": {
    "colab": {
     "base_uri": "https://localhost:8080/",
     "height": 52
    },
    "executionInfo": {
     "elapsed": 540,
     "status": "ok",
     "timestamp": 1571958694331,
     "user": {
      "displayName": "Benedict Paten",
      "photoUrl": "https://lh3.googleusercontent.com/a-/AAuE7mBMnWy8dDR7jyTHNy9tPaRx6DCyA3QKrIcuQ7R4=s64",
      "userId": "06399644931392855882"
     },
     "user_tz": 420
    },
    "id": "AR4KHFA4dTzV",
    "outputId": "8c89f049-478a-4d56-e15b-27a51f367cb1",
    "scrolled": true,
    "slideshow": {
     "slide_type": "fragment"
    }
   },
   "outputs": [
    {
     "name": "stdout",
     "output_type": "stream",
     "text": [
      "Went looking for shapes, seenAShape: True\n",
      "Finished look for shapes, seenAShape: True\n"
     ]
    }
   ],
   "source": [
    "# To fix the above example we can avoid the local scope variable creation by using the global keyword:\n",
    "\n",
    "seenAShape = False \n",
    "\n",
    "def lookForShapes(sentence):\n",
    "  \"\"\" Function tries to set seenAShape to True is the input sentence contains \n",
    "  a shape word.\n",
    "  \"\"\"\n",
    "  global seenAShape # The global variable seenAShape, not a copy, is now in the namespace of the function\n",
    "  for word in sentence:\n",
    "    if word in [ \"circle\", \"square\", \"rhombus\"]:\n",
    "      seenAShape = True # With global we can now edit the global seenAShape variable\n",
    "  \n",
    "  print(\"Went looking for shapes, seenAShape: \" + str(seenAShape))\n",
    "  \n",
    "lookForShapes([\"Looking\", \"for\", \"a\", \"rhombus\"])\n",
    "\n",
    "print(\"Finished look for shapes, seenAShape: \" + str(seenAShape)) # This behaves as we expect"
   ]
  },
  {
   "cell_type": "markdown",
   "metadata": {
    "id": "QJ71vuuAbinL",
    "slideshow": {
     "slide_type": "fragment"
    }
   },
   "source": [
    "Use the global keyword **sparingly**, in general it is a bad pattern to change global variables within a function. Note, global can be used with a variable that does not exist, the result being to create a global variable.\n",
    "\n",
    "Okay: don't worry if these rules don't click immediately - it takes a little time to get used to scope rules!\n",
    "\n",
    "Finally: note there is a **nonlocal** keyword, which functions similarly to global but for nested functions - I am proposing not covering this as I consider this to be a slightly advanced topic."
   ]
  },
  {
   "cell_type": "markdown",
   "metadata": {
    "slideshow": {
     "slide_type": "subslide"
    }
   },
   "source": [
    "# Challenge 1"
   ]
  },
  {
   "cell_type": "code",
   "execution_count": null,
   "metadata": {
    "slideshow": {
     "slide_type": "fragment"
    }
   },
   "outputs": [],
   "source": [
    "y = 5\n",
    "\n",
    "def adding_xs(x, y):\n",
    "    y = x + y\n",
    "    return y\n",
    "\n",
    "adding_xs(6, 7)\n",
    "\n",
    "# Q1: What is the value of y at this point? (something like this may be on the exam!)\n",
    "\n",
    "y = adding_xs(6, 7)\n",
    "\n",
    "# Q2: And is the value of y now? "
   ]
  },
  {
   "cell_type": "markdown",
   "metadata": {
    "id": "CFyk6QZ6Vad0",
    "slideshow": {
     "slide_type": "slide"
    }
   },
   "source": [
    "# Optional function arguments \n",
    "\n",
    "This is another important piece of syntax that makes Python fun to work with."
   ]
  },
  {
   "cell_type": "code",
   "execution_count": null,
   "metadata": {
    "colab": {
     "base_uri": "https://localhost:8080/"
    },
    "executionInfo": {
     "elapsed": 400,
     "status": "ok",
     "timestamp": 1607650578485,
     "user": {
      "displayName": "Benedict Paten",
      "photoUrl": "https://lh3.googleusercontent.com/a-/AOh14Gh2rYrrH6yoNnUp0Oj4p4ouybc6ZcWGyPmKFtIY=s64",
      "userId": "06399644931392855882"
     },
     "user_tz": 480
    },
    "id": "nyQXT0RwOSh9",
    "outputId": "8aba00b2-be48-4608-8d92-2ff3e78a8879",
    "slideshow": {
     "slide_type": "fragment"
    }
   },
   "outputs": [
    {
     "name": "stdout",
     "output_type": "stream",
     "text": [
      "x is: 5 y is: 10\n"
     ]
    },
    {
     "data": {
      "text/plain": [
       "15"
      ]
     },
     "execution_count": 6,
     "metadata": {
      "tags": []
     },
     "output_type": "execute_result"
    }
   ],
   "source": [
    "\n",
    "def add_to_x_function(x, y=10): # y has a default value, if you don't specify \n",
    "  # it as an argument it is assumed to have the default value\n",
    "  print(\"x is:\", x, \"y is:\", y)\n",
    "  return x + y\n",
    "\n",
    "add_to_x_function(5) # Calling this function with one argument, defaults to filling\n",
    "# in values from left-to-right (so called \"positional arguments\")"
   ]
  },
  {
   "cell_type": "code",
   "execution_count": null,
   "metadata": {
    "colab": {
     "base_uri": "https://localhost:8080/"
    },
    "executionInfo": {
     "elapsed": 425,
     "status": "ok",
     "timestamp": 1607650583256,
     "user": {
      "displayName": "Benedict Paten",
      "photoUrl": "https://lh3.googleusercontent.com/a-/AOh14Gh2rYrrH6yoNnUp0Oj4p4ouybc6ZcWGyPmKFtIY=s64",
      "userId": "06399644931392855882"
     },
     "user_tz": 480
    },
    "id": "zl0QL8w-Pjsy",
    "outputId": "5ee05e22-bda8-4bb3-8ed7-143dc4e6b90c",
    "slideshow": {
     "slide_type": "subslide"
    }
   },
   "outputs": [
    {
     "name": "stdout",
     "output_type": "stream",
     "text": [
      "x is: 5 y is: 1\n"
     ]
    },
    {
     "data": {
      "text/plain": [
       "6"
      ]
     },
     "execution_count": 7,
     "metadata": {
      "tags": []
     },
     "output_type": "execute_result"
    }
   ],
   "source": [
    "# You can also do this, where two arguments are given and the values are\n",
    "# assigned from left to right\n",
    "\n",
    "add_to_x_function(5, 1)"
   ]
  },
  {
   "cell_type": "code",
   "execution_count": null,
   "metadata": {
    "colab": {
     "base_uri": "https://localhost:8080/"
    },
    "executionInfo": {
     "elapsed": 392,
     "status": "ok",
     "timestamp": 1607650589467,
     "user": {
      "displayName": "Benedict Paten",
      "photoUrl": "https://lh3.googleusercontent.com/a-/AOh14Gh2rYrrH6yoNnUp0Oj4p4ouybc6ZcWGyPmKFtIY=s64",
      "userId": "06399644931392855882"
     },
     "user_tz": 480
    },
    "id": "EGsJSIRaPyuK",
    "outputId": "16cbda67-2de1-4362-8d10-ca81581d606a",
    "slideshow": {
     "slide_type": "subslide"
    }
   },
   "outputs": [
    {
     "name": "stdout",
     "output_type": "stream",
     "text": [
      "x is: 5 y is: 10\n"
     ]
    },
    {
     "data": {
      "text/plain": [
       "15"
      ]
     },
     "execution_count": 8,
     "metadata": {
      "tags": []
     },
     "output_type": "execute_result"
    }
   ],
   "source": [
    "# You can also name the arguments if you want to be more explicit\n",
    "\n",
    "add_to_x_function(x=5)"
   ]
  },
  {
   "cell_type": "code",
   "execution_count": null,
   "metadata": {
    "colab": {
     "base_uri": "https://localhost:8080/"
    },
    "executionInfo": {
     "elapsed": 386,
     "status": "ok",
     "timestamp": 1607650593537,
     "user": {
      "displayName": "Benedict Paten",
      "photoUrl": "https://lh3.googleusercontent.com/a-/AOh14Gh2rYrrH6yoNnUp0Oj4p4ouybc6ZcWGyPmKFtIY=s64",
      "userId": "06399644931392855882"
     },
     "user_tz": 480
    },
    "id": "u66ZTZAmQLB0",
    "outputId": "dc26a152-fe54-40c6-aeb6-8d3422741473",
    "slideshow": {
     "slide_type": "subslide"
    }
   },
   "outputs": [
    {
     "name": "stdout",
     "output_type": "stream",
     "text": [
      "x is: 5 y is: 1\n"
     ]
    },
    {
     "data": {
      "text/plain": [
       "6"
      ]
     },
     "execution_count": 9,
     "metadata": {
      "tags": []
     },
     "output_type": "execute_result"
    }
   ],
   "source": [
    "# Similarly...\n",
    "\n",
    "add_to_x_function(y=1, x=5)"
   ]
  },
  {
   "cell_type": "code",
   "execution_count": null,
   "metadata": {
    "colab": {
     "base_uri": "https://localhost:8080/"
    },
    "executionInfo": {
     "elapsed": 416,
     "status": "ok",
     "timestamp": 1607650597278,
     "user": {
      "displayName": "Benedict Paten",
      "photoUrl": "https://lh3.googleusercontent.com/a-/AOh14Gh2rYrrH6yoNnUp0Oj4p4ouybc6ZcWGyPmKFtIY=s64",
      "userId": "06399644931392855882"
     },
     "user_tz": 480
    },
    "id": "mqDh6vQJQn-F",
    "outputId": "2139f007-97db-46d1-e101-51dbeae49582",
    "slideshow": {
     "slide_type": "subslide"
    }
   },
   "outputs": [
    {
     "name": "stdout",
     "output_type": "stream",
     "text": [
      "x is: 5 y is: 1\n"
     ]
    },
    {
     "data": {
      "text/plain": [
       "6"
      ]
     },
     "execution_count": 10,
     "metadata": {
      "tags": []
     },
     "output_type": "execute_result"
    }
   ],
   "source": [
    "# You can also mix named and left-to-right (aka positional) argument assignment, e.g.\n",
    "\n",
    "add_to_x_function(5, y=1)"
   ]
  },
  {
   "cell_type": "code",
   "execution_count": null,
   "metadata": {
    "colab": {
     "base_uri": "https://localhost:8080/",
     "height": 132
    },
    "executionInfo": {
     "elapsed": 402,
     "status": "error",
     "timestamp": 1607650867606,
     "user": {
      "displayName": "Benedict Paten",
      "photoUrl": "https://lh3.googleusercontent.com/a-/AOh14Gh2rYrrH6yoNnUp0Oj4p4ouybc6ZcWGyPmKFtIY=s64",
      "userId": "06399644931392855882"
     },
     "user_tz": 480
    },
    "id": "UUQuyEPZQzlw",
    "outputId": "ca512737-ed1b-4ce7-db2d-f6c1b2fe6bc8",
    "slideshow": {
     "slide_type": "subslide"
    }
   },
   "outputs": [
    {
     "ename": "SyntaxError",
     "evalue": "ignored",
     "output_type": "error",
     "traceback": [
      "\u001b[0;36m  File \u001b[0;32m\"<ipython-input-11-669048f5566c>\"\u001b[0;36m, line \u001b[0;32m4\u001b[0m\n\u001b[0;31m    def add_to_x_function(x=10, y):\u001b[0m\n\u001b[0m                         ^\u001b[0m\n\u001b[0;31mSyntaxError\u001b[0m\u001b[0;31m:\u001b[0m non-default argument follows default argument\n"
     ]
    }
   ],
   "source": [
    "# However, Python insists that once you give named arguments\n",
    "# you must give all remaining arguments values..\n",
    "\n",
    "def add_to_x_function(x=10, y): \n",
    "  return x + y"
   ]
  },
  {
   "cell_type": "code",
   "execution_count": null,
   "metadata": {
    "colab": {
     "base_uri": "https://localhost:8080/",
     "height": 132
    },
    "executionInfo": {
     "elapsed": 415,
     "status": "error",
     "timestamp": 1607650964939,
     "user": {
      "displayName": "Benedict Paten",
      "photoUrl": "https://lh3.googleusercontent.com/a-/AOh14Gh2rYrrH6yoNnUp0Oj4p4ouybc6ZcWGyPmKFtIY=s64",
      "userId": "06399644931392855882"
     },
     "user_tz": 480
    },
    "id": "TiFToKS6ROls",
    "outputId": "d5884236-07ca-4c3c-a31b-08ce91b50727",
    "slideshow": {
     "slide_type": "subslide"
    }
   },
   "outputs": [
    {
     "ename": "SyntaxError",
     "evalue": "ignored",
     "output_type": "error",
     "traceback": [
      "\u001b[0;36m  File \u001b[0;32m\"<ipython-input-12-e4a33d593b6b>\"\u001b[0;36m, line \u001b[0;32m8\u001b[0m\n\u001b[0;31m    add_to_x_function(x=5, 10) # This does not work, presumably because this\u001b[0m\n\u001b[0m                          ^\u001b[0m\n\u001b[0;31mSyntaxError\u001b[0m\u001b[0;31m:\u001b[0m positional argument follows keyword argument\n"
     ]
    }
   ],
   "source": [
    "# Similarly, when you call a function, once you start giving \n",
    "# named arguments all the remaining arguments must be named..\n",
    "\n",
    "def add_to_x_function(x, y=10): \n",
    "  print(\"x is:\", x, \"y is:\", y)\n",
    "  return x + y\n",
    "\n",
    "add_to_x_function(x=5, 10) # This does not work, presumably because this \n",
    "# could be intrepreted using the left-to-right argument assignment rule as trying\n",
    "# to give x two values\n",
    "\n"
   ]
  },
  {
   "cell_type": "markdown",
   "metadata": {
    "id": "mGHcxGrfS9_D",
    "slideshow": {
     "slide_type": "fragment"
    }
   },
   "source": [
    "There are even fancier ways of instantiating the arguments of functions in Python using a dictionary which I will not cover here."
   ]
  },
  {
   "cell_type": "markdown",
   "metadata": {
    "slideshow": {
     "slide_type": "subslide"
    }
   },
   "source": [
    "# Challenge 2"
   ]
  },
  {
   "cell_type": "code",
   "execution_count": 9,
   "metadata": {
    "slideshow": {
     "slide_type": "fragment"
    }
   },
   "outputs": [
    {
     "name": "stdout",
     "output_type": "stream",
     "text": [
      "2\n",
      "9\n"
     ]
    }
   ],
   "source": [
    "# Firstly write a function named 'pow' with two arguments: x and then y.\n",
    "# Give y the default value 2 \n",
    "# The function should return the value of x to the power of y. \n",
    "\n",
    "# Secondly, call pow using named arguments such that x=2 and y=1\n",
    "\n",
    "\n",
    "# Finally, call pow using a single argument 3 (what are the values of x and y in this case?)\n"
   ]
  },
  {
   "cell_type": "markdown",
   "metadata": {
    "id": "JfAlNS5TnfQF",
    "slideshow": {
     "slide_type": "slide"
    }
   },
   "source": [
    "# A Few Common Mistakes About Functions\n",
    "\n",
    "I see these errors often .. don't make these mistakes!"
   ]
  },
  {
   "cell_type": "code",
   "execution_count": 8,
   "metadata": {
    "colab": {
     "base_uri": "https://localhost:8080/"
    },
    "executionInfo": {
     "elapsed": 529,
     "status": "ok",
     "timestamp": 1607651032598,
     "user": {
      "displayName": "Benedict Paten",
      "photoUrl": "https://lh3.googleusercontent.com/a-/AOh14Gh2rYrrH6yoNnUp0Oj4p4ouybc6ZcWGyPmKFtIY=s64",
      "userId": "06399644931392855882"
     },
     "user_tz": 480
    },
    "id": "2WiKGKXwno9c",
    "outputId": "7be121ad-bdda-4f26-b520-093f184bd862",
    "slideshow": {
     "slide_type": "subslide"
    }
   },
   "outputs": [
    {
     "name": "stdout",
     "output_type": "stream",
     "text": [
      "15\n",
      "The return value is: None\n"
     ]
    }
   ],
   "source": [
    "# Return and print are not the same:\n",
    "\n",
    "def sum(x, y):\n",
    "  return print(x + y)\n",
    "\n",
    "\n",
    "z = sum(5, 10)\n",
    "\n",
    "print(\"The return value is:\", z)"
   ]
  },
  {
   "cell_type": "code",
   "execution_count": 17,
   "metadata": {
    "colab": {
     "base_uri": "https://localhost:8080/",
     "height": 201
    },
    "executionInfo": {
     "elapsed": 369,
     "status": "error",
     "timestamp": 1607651153173,
     "user": {
      "displayName": "Benedict Paten",
      "photoUrl": "https://lh3.googleusercontent.com/a-/AOh14Gh2rYrrH6yoNnUp0Oj4p4ouybc6ZcWGyPmKFtIY=s64",
      "userId": "06399644931392855882"
     },
     "user_tz": 480
    },
    "id": "EJdHIO7an4Y9",
    "outputId": "8722d1a4-ce32-4413-ffdf-f710860bdab7",
    "slideshow": {
     "slide_type": "subslide"
    }
   },
   "outputs": [
    {
     "ename": "TypeError",
     "evalue": "kilos_to_pounds() missing 1 required positional argument: 'kilos'",
     "output_type": "error",
     "traceback": [
      "\u001b[0;31m---------------------------------------------------------------------------\u001b[0m",
      "\u001b[0;31mTypeError\u001b[0m                                 Traceback (most recent call last)",
      "\u001b[0;32m/var/folders/ft/hp0lkfys73s96bby40t4tnnr0000gn/T/ipykernel_7047/3976123123.py\u001b[0m in \u001b[0;36m<module>\u001b[0;34m\u001b[0m\n\u001b[1;32m      7\u001b[0m \u001b[0;34m\u001b[0m\u001b[0m\n\u001b[1;32m      8\u001b[0m \u001b[0;34m\u001b[0m\u001b[0m\n\u001b[0;32m----> 9\u001b[0;31m \u001b[0mkilos_to_pounds\u001b[0m\u001b[0;34m(\u001b[0m\u001b[0;34m)\u001b[0m\u001b[0;34m\u001b[0m\u001b[0;34m\u001b[0m\u001b[0m\n\u001b[0m",
      "\u001b[0;31mTypeError\u001b[0m: kilos_to_pounds() missing 1 required positional argument: 'kilos'"
     ]
    }
   ],
   "source": [
    "# Global variables do not automatically substitute for function arguments\n",
    "\n",
    "kilos = 10\n",
    "\n",
    "def kilos_to_pounds(kilos):\n",
    "  return kilos * 2.205\n",
    "\n",
    "\n",
    "kilos_to_pounds()"
   ]
  },
  {
   "cell_type": "markdown",
   "metadata": {
    "slideshow": {
     "slide_type": "slide"
    }
   },
   "source": [
    "# The stack and scope rules"
   ]
  },
  {
   "cell_type": "markdown",
   "metadata": {
    "id": "YF293aEee_r6",
    "slideshow": {
     "slide_type": "subslide"
    }
   },
   "source": [
    "**Okay, now let's revisit the pesky concept of nested function calls but add in the effect of scope rules:**"
   ]
  },
  {
   "cell_type": "code",
   "execution_count": 2,
   "metadata": {
    "slideshow": {
     "slide_type": "fragment"
    }
   },
   "outputs": [
    {
     "name": "stdout",
     "output_type": "stream",
     "text": [
      "in one 30\n",
      "in two 20\n",
      "in one 10\n",
      "in two 0\n",
      "exit two 0\n",
      "exit one 10\n",
      "exit two 20\n",
      "exit one 30\n"
     ]
    }
   ],
   "source": [
    "def one(a):\n",
    "  print(\"in one\", a)\n",
    "  two(a-10)\n",
    "  print(\"exit one\", a)\n",
    "\n",
    "def two(a):\n",
    "  print(\"in two\", a)\n",
    "  if a > 10:\n",
    "    one(a-10)\n",
    "  print(\"exit two\", a)\n",
    "  \n",
    "one(30)"
   ]
  },
  {
   "cell_type": "markdown",
   "metadata": {
    "slideshow": {
     "slide_type": "subslide"
    }
   },
   "source": [
    "<img src=\"https://raw.githubusercontent.com/benedictpaten/intro_python/main/lecture_notebooks/figures/graffles/call%20stack%20with%20args.jpg\" width=1500 height=750 />\n"
   ]
  },
  {
   "cell_type": "markdown",
   "metadata": {
    "slideshow": {
     "slide_type": "fragment"
    }
   },
   "source": [
    "Key idea: **every function call has its own versions of its local variables.** These are different between functions and even between calls of the same function. Think about a function call being defined by (i) the values of the arguments that it is passed and (ii) the location from which it is called (defined by the stack)"
   ]
  },
  {
   "cell_type": "markdown",
   "metadata": {
    "slideshow": {
     "slide_type": "slide"
    }
   },
   "source": [
    "# Challenge 3"
   ]
  },
  {
   "cell_type": "code",
   "execution_count": null,
   "metadata": {
    "colab": {
     "base_uri": "https://localhost:8080/"
    },
    "executionInfo": {
     "elapsed": 507,
     "status": "ok",
     "timestamp": 1607651342713,
     "user": {
      "displayName": "Benedict Paten",
      "photoUrl": "https://lh3.googleusercontent.com/a-/AOh14Gh2rYrrH6yoNnUp0Oj4p4ouybc6ZcWGyPmKFtIY=s64",
      "userId": "06399644931392855882"
     },
     "user_tz": 480
    },
    "id": "bDlZ4SxLF-MW",
    "outputId": "8656b9ec-2713-4162-d918-8b266957b4fd",
    "slideshow": {
     "slide_type": "fragment"
    }
   },
   "outputs": [],
   "source": [
    "# Without running this code write down the output! (NOTE: this may come up in the exam, don't just cheat!)\n",
    "\n",
    "## BTW, this is a look forward to when we'll study how to use this pattern of \"recursion\" to \n",
    "## solve problems that appear, at first, hard to code\n",
    "\n",
    "def firstFunction(a):\n",
    "  print(\"Starting first function, a is: \" + str(a))\n",
    "  if a > 10:\n",
    "    secondFunction(a)\n",
    "  else:\n",
    "    thirdFunction(a)\n",
    "  print(\"Ending first function, a is: \" + str(a))\n",
    "  \n",
    "def secondFunction(a):\n",
    "  print(\"Starting second function, a is: \" + str(a))\n",
    "  a = a - 10\n",
    "  firstFunction(a)\n",
    "  print(\"Ending second function, a is: \" + str(a))\n",
    "  \n",
    "def thirdFunction(a):\n",
    "  print(\"Third function, a is: \" + str(a))\n",
    "\n",
    "firstFunction(20)"
   ]
  },
  {
   "cell_type": "markdown",
   "metadata": {
    "id": "dtBRbb0AT5cA",
    "slideshow": {
     "slide_type": "slide"
    }
   },
   "source": [
    "# Consolidate functions by example"
   ]
  },
  {
   "cell_type": "markdown",
   "metadata": {
    "id": "lo65FcZ4Tx4a",
    "slideshow": {
     "slide_type": "subslide"
    }
   },
   "source": [
    "**Printing multiplication tables** (Note, this is adapted from Chapter 7 of the open textbook)\n",
    "\n",
    "Here's an example of making a table using multiple functions to break the work up and the use of for loops:"
   ]
  },
  {
   "cell_type": "code",
   "execution_count": 1,
   "metadata": {
    "colab": {
     "base_uri": "https://localhost:8080/"
    },
    "executionInfo": {
     "elapsed": 361,
     "status": "ok",
     "timestamp": 1607651224321,
     "user": {
      "displayName": "Benedict Paten",
      "photoUrl": "https://lh3.googleusercontent.com/a-/AOh14Gh2rYrrH6yoNnUp0Oj4p4ouybc6ZcWGyPmKFtIY=s64",
      "userId": "06399644931392855882"
     },
     "user_tz": 480
    },
    "id": "m3prRfUjTrMP",
    "outputId": "1dfda794-b3de-4140-dfb0-4b314949eb5f",
    "slideshow": {
     "slide_type": "fragment"
    }
   },
   "outputs": [
    {
     "name": "stdout",
     "output_type": "stream",
     "text": [
      "5\t10\t15\t20\t25\t30\t35\t40\t45\t50\t\n"
     ]
    }
   ],
   "source": [
    "# Program prints multiplication tables\n",
    "\n",
    "def print_multiples(n, columnNo):\n",
    "  \"\"\" Prints a line giving the multiples of n from 1 to columnNo\n",
    "  \"\"\"\n",
    "  for i in range(1, columnNo+1):\n",
    "    print(n * i, end=\"\\t\") # '\\t' is the code for a tab in a string literal, setting end='\\t'\n",
    "    # makes it so that instead of printing a newline at the end of the print, it prints a tab\n",
    "  print() # Add the new line\n",
    "            \n",
    "print_multiples(5, 10)"
   ]
  },
  {
   "cell_type": "code",
   "execution_count": 2,
   "metadata": {
    "colab": {
     "base_uri": "https://localhost:8080/"
    },
    "executionInfo": {
     "elapsed": 441,
     "status": "ok",
     "timestamp": 1607651226382,
     "user": {
      "displayName": "Benedict Paten",
      "photoUrl": "https://lh3.googleusercontent.com/a-/AOh14Gh2rYrrH6yoNnUp0Oj4p4ouybc6ZcWGyPmKFtIY=s64",
      "userId": "06399644931392855882"
     },
     "user_tz": 480
    },
    "id": "su73Q9PZOazG",
    "outputId": "fc9e8e6f-129f-4522-e977-b87fd879c14d",
    "slideshow": {
     "slide_type": "fragment"
    }
   },
   "outputs": [
    {
     "name": "stdout",
     "output_type": "stream",
     "text": [
      "1\t2\t3\t4\t5\t6\t7\t8\t9\t10\t\n",
      "2\t4\t6\t8\t10\t12\t14\t16\t18\t20\t\n",
      "3\t6\t9\t12\t15\t18\t21\t24\t27\t30\t\n",
      "4\t8\t12\t16\t20\t24\t28\t32\t36\t40\t\n",
      "5\t10\t15\t20\t25\t30\t35\t40\t45\t50\t\n",
      "6\t12\t18\t24\t30\t36\t42\t48\t54\t60\t\n",
      "7\t14\t21\t28\t35\t42\t49\t56\t63\t70\t\n",
      "8\t16\t24\t32\t40\t48\t56\t64\t72\t80\t\n"
     ]
    }
   ],
   "source": [
    "def print_mult_table(rowNo=8, columnNo=10):\n",
    "  \"\"\" Prints a 2-d table with rowNo rows, \n",
    "  where the ith row represents the multiples of i from 1 to columnNo\n",
    "  \"\"\"\n",
    "  for i in range(1, rowNo+1): # Note how we reuse i here, but because of scope rules we know\n",
    "        # it is distinct from the one in print_multiples\n",
    "    print_multiples(i, columnNo)\n",
    "        \n",
    "print_mult_table()"
   ]
  },
  {
   "cell_type": "markdown",
   "metadata": {
    "id": "UxULa5wYE4co",
    "slideshow": {
     "slide_type": "slide"
    }
   },
   "source": [
    "# Challenge 4"
   ]
  },
  {
   "cell_type": "code",
   "execution_count": 5,
   "metadata": {
    "id": "W78Bw4AsYeNq",
    "slideshow": {
     "slide_type": "fragment"
    }
   },
   "outputs": [
    {
     "data": {
      "text/plain": [
       "True"
      ]
     },
     "execution_count": 5,
     "metadata": {},
     "output_type": "execute_result"
    }
   ],
   "source": [
    "# Complete this code!\n",
    "\n",
    "def get_minimum(l):\n",
    "    \"\"\" Returns the minimum element in the list l\"\"\"\n",
    "    # Code to write, do not use builtin / list functions, just iteration\n",
    "    # over the elements in the list\n",
    "\n",
    "    \n",
    "def sort_list(l):\n",
    "    \"\"\" Returns a sorted copy of the list in ascending order. Do not use sorted or sort. \"\"\"\n",
    "    # Code to write, should use calls to get_minimum to construct the\n",
    "    # new list, i.e.:\n",
    "    # While the length of l > 0, remove the minimum of l and append it to a new list l2.\n",
    "    \n",
    "    # Note, it may be useful to use the list remove function and the list append functions to remove\n",
    "    # and add elements to the list, respectively; e.g. l.append(i) to add i to the end of l and\n",
    "    # l.remove(i) to remove i from l\n",
    "\n",
    "\n",
    "sort_list([ 3, -7, 1, 20, 2 ]) == [ -7, 1, 2, 3, 20 ]  \n"
   ]
  },
  {
   "cell_type": "markdown",
   "metadata": {
    "id": "KZP9y5sgyVm8",
    "slideshow": {
     "slide_type": "slide"
    }
   },
   "source": [
    "# Reading\n",
    "\n",
    "* Read chapter 4: http://openbookproject.net/thinkcs/python/english3e/functions.html\n",
    "\n",
    "* Read chapter 6: http://openbookproject.net/thinkcs/python/english3e/fruitful_functions.html\n",
    "\n",
    "\n",
    "# Homework\n",
    "\n",
    "* Zybooks Reading 7\n",
    "* Go to Canvas and complete the lecture quiz, which involves completing each challenge problem\n"
   ]
  },
  {
   "cell_type": "markdown",
   "metadata": {
    "slideshow": {
     "slide_type": "slide"
    }
   },
   "source": [
    "# Practice Problems"
   ]
  },
  {
   "cell_type": "code",
   "execution_count": null,
   "metadata": {},
   "outputs": [],
   "source": [
    "# Problem 1: The Global Keyword\n",
    "# Write two functions:\n",
    "# 1. reset_counter() that creates global count variable called \"count\" and sets it to 0\n",
    "# 2. increment() that increments the global count by 1\n",
    "\n",
    "# Your code here\n",
    "\n",
    "# Tests\n",
    "reset_counter()\n",
    "print(f\"Count is {count}\") # Should print 0\n",
    "increment()\n",
    "increment()\n",
    "print(f\"Count is {count}\") # Should print 2\n",
    "reset_counter()\n",
    "print(f\"Count is {count}\") # Should print 0"
   ]
  },
  {
   "cell_type": "code",
   "execution_count": null,
   "metadata": {
    "slideshow": {
     "slide_type": "subslide"
    }
   },
   "outputs": [],
   "source": [
    "# Problem 2: Optional Arguments\n",
    "# Create a function format_name() that takes first_name and last_name as arguments,\n",
    "# with a final, optional middle_name that defaults to None. The function should return\n",
    "# the full name as a string. If middle_name is provided, include it between\n",
    "# first_name and last_name in the returned string.\n",
    "\n",
    "# Your code here\n",
    "\n",
    "# Test\n",
    "print(format_name(\"John\", \"Smith\"))  # Should print \"John Smith\"\n",
    "print(format_name(\"John\", \"Smith\", \"Robert\"))  # Should print \"John Robert Smith\""
   ]
  },
  {
   "cell_type": "code",
   "execution_count": null,
   "metadata": {
    "slideshow": {
     "slide_type": "subslide"
    }
   },
   "outputs": [],
   "source": [
    "# Problem 3: Multiple Return Points\n",
    "# Write a function grade_exam() that takes a score (0-100) and returns a letter grade as a string.\n",
    "# Use multiple return statements for different grade ranges.\n",
    "# 90-100: 'A', 80-89: 'B', 70-79: 'C', 60-69: 'D', Below 60: 'F'\n",
    "\n",
    "## your code here\n",
    "\n",
    "# Test\n",
    "print(grade_exam(95))  # Should print 'A'\n",
    "print(grade_exam(73))  # Should print 'C'\n",
    "print(grade_exam(45))  # Should print 'F'"
   ]
  }
 ],
 "metadata": {
  "celltoolbar": "Slideshow",
  "colab": {
   "collapsed_sections": [],
   "name": "L07 Functions Continued.ipynb",
   "provenance": []
  },
  "kernelspec": {
   "display_name": "intro_python_env",
   "language": "python",
   "name": "intro_python_env"
  },
  "language_info": {
   "codemirror_mode": {
    "name": "ipython",
    "version": 3
   },
   "file_extension": ".py",
   "mimetype": "text/x-python",
   "name": "python",
   "nbconvert_exporter": "python",
   "pygments_lexer": "ipython3",
   "version": "3.11.9"
  }
 },
 "nbformat": 4,
 "nbformat_minor": 1
}
