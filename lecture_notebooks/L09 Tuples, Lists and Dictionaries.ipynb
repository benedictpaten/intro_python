{
 "cells": [
  {
   "cell_type": "markdown",
   "metadata": {
    "id": "S4CkZnM_4FvB",
    "slideshow": {
     "slide_type": "slide"
    }
   },
   "source": [
    "# Lecture 9 - Tuples, Lists and Dictionaries (https://bit.ly/intro_python_09)\n",
    "\n",
    "Today:\n",
    "* Tuples (recap many things introduced with respect to strings) \n",
    "* Lists \n",
    "* List comprehensions\n",
    "* More Dictionaries\n",
    "* Sets"
   ]
  },
  {
   "cell_type": "markdown",
   "metadata": {
    "id": "L6OFitz0bAgK",
    "slideshow": {
     "slide_type": "slide"
    }
   },
   "source": [
    "# Tuples\n",
    "\n",
    "Tuples are immutable (can't be changed) sequences. Tuples are *everywhere* in Python, and are often defined somewhat implicitly.\n",
    "\n",
    "A lot of this is going to feel like revision from covering strings, because Python is very consistent in handling sequences."
   ]
  },
  {
   "cell_type": "code",
   "execution_count": 15,
   "metadata": {
    "colab": {
     "base_uri": "https://localhost:8080/",
     "height": 34
    },
    "executionInfo": {
     "elapsed": 252,
     "status": "ok",
     "timestamp": 1571783323283,
     "user": {
      "displayName": "Benedict Paten",
      "photoUrl": "https://lh3.googleusercontent.com/a-/AAuE7mBMnWy8dDR7jyTHNy9tPaRx6DCyA3QKrIcuQ7R4=s64",
      "userId": "06399644931392855882"
     },
     "user_tz": 420
    },
    "id": "J2zuhJRobMhC",
    "outputId": "23ed72fa-a7fd-483e-ad2c-063dbfd57c02",
    "slideshow": {
     "slide_type": "fragment"
    }
   },
   "outputs": [
    {
     "data": {
      "text/plain": [
       "tuple"
      ]
     },
     "execution_count": 15,
     "metadata": {},
     "output_type": "execute_result"
    }
   ],
   "source": [
    "# A tuple \n",
    "\n",
    "x = (\"Julia\", \"Roberts\", 1967) # I'm using the examples from the open book, btw\n",
    "\n",
    "type(x)"
   ]
  },
  {
   "cell_type": "markdown",
   "metadata": {
    "id": "XcqhgOmDe_0_",
    "slideshow": {
     "slide_type": "fragment"
    }
   },
   "source": [
    "Tuples are written like lists, except you switch square [] brackets for rounded brackets (), aka parentheses. \n",
    "\n",
    "Like lists, they can have arbitrary length.\n",
    "\n",
    "The rounded brackets are actually optional (but we'll mostly include them for clarity):"
   ]
  },
  {
   "cell_type": "code",
   "execution_count": 3,
   "metadata": {
    "slideshow": {
     "slide_type": "fragment"
    }
   },
   "outputs": [
    {
     "data": {
      "text/plain": [
       "tuple"
      ]
     },
     "execution_count": 3,
     "metadata": {},
     "output_type": "execute_result"
    }
   ],
   "source": [
    "x = \"Julia\", \"Roberts\", 1967\n",
    "\n",
    "type(x)"
   ]
  },
  {
   "cell_type": "code",
   "execution_count": 4,
   "metadata": {
    "colab": {
     "base_uri": "https://localhost:8080/",
     "height": 34
    },
    "executionInfo": {
     "elapsed": 253,
     "status": "ok",
     "timestamp": 1571783357587,
     "user": {
      "displayName": "Benedict Paten",
      "photoUrl": "https://lh3.googleusercontent.com/a-/AAuE7mBMnWy8dDR7jyTHNy9tPaRx6DCyA3QKrIcuQ7R4=s64",
      "userId": "06399644931392855882"
     },
     "user_tz": 420
    },
    "id": "1AudEL1_cgSr",
    "outputId": "92b02e0e-fb17-4e2f-8977-162b35b3df65",
    "slideshow": {
     "slide_type": "subslide"
    }
   },
   "outputs": [
    {
     "data": {
      "text/plain": [
       "'Julia'"
      ]
     },
     "execution_count": 4,
     "metadata": {},
     "output_type": "execute_result"
    }
   ],
   "source": [
    "x = (\"Julia\", \"Roberts\", 1967) # I'm using the examples from the open book, btw\n",
    "\n",
    "x[0] # You can address the members of a tuple using indices, like in\n",
    "# strings and lists"
   ]
  },
  {
   "cell_type": "code",
   "execution_count": 5,
   "metadata": {
    "colab": {
     "base_uri": "https://localhost:8080/",
     "height": 34
    },
    "executionInfo": {
     "elapsed": 256,
     "status": "ok",
     "timestamp": 1571783379889,
     "user": {
      "displayName": "Benedict Paten",
      "photoUrl": "https://lh3.googleusercontent.com/a-/AAuE7mBMnWy8dDR7jyTHNy9tPaRx6DCyA3QKrIcuQ7R4=s64",
      "userId": "06399644931392855882"
     },
     "user_tz": 420
    },
    "id": "WjnZIEkUcrDS",
    "outputId": "e66055b6-ebe0-4cca-b3fd-a187a854f38c",
    "slideshow": {
     "slide_type": "fragment"
    }
   },
   "outputs": [
    {
     "data": {
      "text/plain": [
       "'Roberts'"
      ]
     },
     "execution_count": 5,
     "metadata": {},
     "output_type": "execute_result"
    }
   ],
   "source": [
    "x[1]"
   ]
  },
  {
   "cell_type": "code",
   "execution_count": 14,
   "metadata": {
    "colab": {
     "base_uri": "https://localhost:8080/",
     "height": 34
    },
    "executionInfo": {
     "elapsed": 239,
     "status": "ok",
     "timestamp": 1571783413743,
     "user": {
      "displayName": "Benedict Paten",
      "photoUrl": "https://lh3.googleusercontent.com/a-/AAuE7mBMnWy8dDR7jyTHNy9tPaRx6DCyA3QKrIcuQ7R4=s64",
      "userId": "06399644931392855882"
     },
     "user_tz": 420
    },
    "id": "GHUTdge-zHPA",
    "outputId": "c392c553-3468-4184-c4ef-3f49122e4f2d",
    "slideshow": {
     "slide_type": "subslide"
    }
   },
   "outputs": [
    {
     "data": {
      "text/plain": [
       "tuple"
      ]
     },
     "execution_count": 14,
     "metadata": {},
     "output_type": "execute_result"
    }
   ],
   "source": [
    "# A tuple of length one is specified like this\n",
    "\n",
    "x = (1,)\n",
    "\n",
    "type(x)"
   ]
  },
  {
   "cell_type": "code",
   "execution_count": 20,
   "metadata": {
    "slideshow": {
     "slide_type": "fragment"
    }
   },
   "outputs": [
    {
     "data": {
      "text/plain": [
       "tuple"
      ]
     },
     "execution_count": 20,
     "metadata": {},
     "output_type": "execute_result"
    }
   ],
   "source": [
    "# or just\n",
    "\n",
    "x = 1,\n",
    "\n",
    "type(x)"
   ]
  },
  {
   "cell_type": "code",
   "execution_count": 21,
   "metadata": {
    "colab": {
     "base_uri": "https://localhost:8080/",
     "height": 34
    },
    "executionInfo": {
     "elapsed": 315,
     "status": "ok",
     "timestamp": 1571783435564,
     "user": {
      "displayName": "Benedict Paten",
      "photoUrl": "https://lh3.googleusercontent.com/a-/AAuE7mBMnWy8dDR7jyTHNy9tPaRx6DCyA3QKrIcuQ7R4=s64",
      "userId": "06399644931392855882"
     },
     "user_tz": 420
    },
    "id": "6eejNrBwzLwE",
    "outputId": "ca65fa09-43ec-43c8-8be1-f66500ba9daa",
    "slideshow": {
     "slide_type": "fragment"
    }
   },
   "outputs": [
    {
     "data": {
      "text/plain": [
       "int"
      ]
     },
     "execution_count": 21,
     "metadata": {},
     "output_type": "execute_result"
    }
   ],
   "source": [
    "# Note x is not a tuple here, as the interpretor just simplifies out the brackets\n",
    "\n",
    "x = (1)\n",
    "\n",
    "type(x)"
   ]
  },
  {
   "cell_type": "code",
   "execution_count": 3,
   "metadata": {
    "slideshow": {
     "slide_type": "fragment"
    }
   },
   "outputs": [
    {
     "data": {
      "text/plain": [
       "tuple"
      ]
     },
     "execution_count": 3,
     "metadata": {},
     "output_type": "execute_result"
    }
   ],
   "source": [
    "x = () ## This is a tuple of length 0, it is not (,) or just ',' - they all create syntax errors\n",
    "\n",
    "type(x)"
   ]
  },
  {
   "cell_type": "code",
   "execution_count": 22,
   "metadata": {
    "colab": {
     "base_uri": "https://localhost:8080/",
     "height": 34
    },
    "executionInfo": {
     "elapsed": 247,
     "status": "ok",
     "timestamp": 1571783746159,
     "user": {
      "displayName": "Benedict Paten",
      "photoUrl": "https://lh3.googleusercontent.com/a-/AAuE7mBMnWy8dDR7jyTHNy9tPaRx6DCyA3QKrIcuQ7R4=s64",
      "userId": "06399644931392855882"
     },
     "user_tz": 420
    },
    "id": "siMbTbn1cvDc",
    "outputId": "dba4d2cc-7875-42a6-97b5-217973e2b3be",
    "slideshow": {
     "slide_type": "subslide"
    }
   },
   "outputs": [
    {
     "data": {
      "text/plain": [
       "('sequence', 'of', 'strings')"
      ]
     },
     "execution_count": 22,
     "metadata": {},
     "output_type": "execute_result"
    }
   ],
   "source": [
    "# Slicing works just like with strings:\n",
    "\n",
    "x = (\"a\", \"sequence\", \"of\", \"strings\")\n",
    "\n",
    "x[1:] # If you don't get this, go back to the previous lecture on strings. All the\n",
    "# same slicing things you can do with strings work with tuples"
   ]
  },
  {
   "cell_type": "markdown",
   "metadata": {
    "id": "9AHMno61AUw2",
    "slideshow": {
     "slide_type": "subslide"
    }
   },
   "source": [
    "**Immutable**\n",
    "\n",
    "The key difference between lists and tuples is that tuples are immutable - they can't be edited."
   ]
  },
  {
   "cell_type": "code",
   "execution_count": 23,
   "metadata": {
    "colab": {
     "base_uri": "https://localhost:8080/",
     "height": 179
    },
    "executionInfo": {
     "elapsed": 254,
     "status": "error",
     "timestamp": 1571783523449,
     "user": {
      "displayName": "Benedict Paten",
      "photoUrl": "https://lh3.googleusercontent.com/a-/AAuE7mBMnWy8dDR7jyTHNy9tPaRx6DCyA3QKrIcuQ7R4=s64",
      "userId": "06399644931392855882"
     },
     "user_tz": 420
    },
    "id": "NNFp1tikegYk",
    "outputId": "75faa18d-8283-4bf2-f18a-9956bf84705a",
    "slideshow": {
     "slide_type": "fragment"
    }
   },
   "outputs": [
    {
     "ename": "TypeError",
     "evalue": "'tuple' object does not support item assignment",
     "output_type": "error",
     "traceback": [
      "\u001b[0;31m---------------------------------------------------------------------------\u001b[0m",
      "\u001b[0;31mTypeError\u001b[0m                                 Traceback (most recent call last)",
      "\u001b[0;32m/var/folders/ft/hp0lkfys73s96bby40t4tnnr0000gn/T/ipykernel_97814/2997743413.py\u001b[0m in \u001b[0;36m<module>\u001b[0;34m\u001b[0m\n\u001b[1;32m      3\u001b[0m \u001b[0mx\u001b[0m \u001b[0;34m=\u001b[0m \u001b[0;34m(\u001b[0m\u001b[0;34m\"a\"\u001b[0m\u001b[0;34m,\u001b[0m \u001b[0;34m\"sequence\"\u001b[0m\u001b[0;34m,\u001b[0m \u001b[0;34m\"of\"\u001b[0m\u001b[0;34m,\u001b[0m \u001b[0;34m\"strings\"\u001b[0m\u001b[0;34m)\u001b[0m\u001b[0;34m\u001b[0m\u001b[0;34m\u001b[0m\u001b[0m\n\u001b[1;32m      4\u001b[0m \u001b[0;34m\u001b[0m\u001b[0m\n\u001b[0;32m----> 5\u001b[0;31m \u001b[0mx\u001b[0m\u001b[0;34m[\u001b[0m\u001b[0;36m0\u001b[0m\u001b[0;34m]\u001b[0m \u001b[0;34m=\u001b[0m \u001b[0;34m\"the\"\u001b[0m\u001b[0;34m\u001b[0m\u001b[0;34m\u001b[0m\u001b[0m\n\u001b[0m",
      "\u001b[0;31mTypeError\u001b[0m: 'tuple' object does not support item assignment"
     ]
    }
   ],
   "source": [
    "# Like strings, tuples can't be edited\n",
    "\n",
    "x = (\"a\", \"sequence\", \"of\", \"strings\")\n",
    "\n",
    "x[0] = \"the\""
   ]
  },
  {
   "cell_type": "code",
   "execution_count": 3,
   "metadata": {
    "colab": {
     "base_uri": "https://localhost:8080/",
     "height": 34
    },
    "executionInfo": {
     "elapsed": 241,
     "status": "ok",
     "timestamp": 1571783750956,
     "user": {
      "displayName": "Benedict Paten",
      "photoUrl": "https://lh3.googleusercontent.com/a-/AAuE7mBMnWy8dDR7jyTHNy9tPaRx6DCyA3QKrIcuQ7R4=s64",
      "userId": "06399644931392855882"
     },
     "user_tz": 420
    },
    "id": "ICUm9DrEewDo",
    "outputId": "e1de0dfc-cfc1-470c-91cf-aa788edb7507",
    "slideshow": {
     "slide_type": "subslide"
    }
   },
   "outputs": [
    {
     "data": {
      "text/plain": [
       "('the', 'sequence', 'of', 'strings')"
      ]
     },
     "execution_count": 3,
     "metadata": {},
     "output_type": "execute_result"
    }
   ],
   "source": [
    "# To make edited tuples from existing tuples you therefore slice and dice\n",
    "# them, using the '+' operator, which (as with strings), represents concatenation:\n",
    "\n",
    "x = (\"a\", \"sequence\", \"of\", \"strings\")\n",
    "\n",
    "(\"the\",) + x[1:] # This produces the effect of replacing the first member of x, \n",
    "# creating a new tuple\n",
    "\n"
   ]
  },
  {
   "cell_type": "markdown",
   "metadata": {
    "id": "_jztMzDCffrz",
    "slideshow": {
     "slide_type": "fragment"
    }
   },
   "source": [
    "Again, like with strings, having tuples be immutable is a design choice that\n",
    "makes them easy to share between different parts of a program without\n",
    "worry that they will change. "
   ]
  },
  {
   "cell_type": "markdown",
   "metadata": {
    "id": "UFuGRNskAXua",
    "slideshow": {
     "slide_type": "subslide"
    }
   },
   "source": [
    "**Length**"
   ]
  },
  {
   "cell_type": "code",
   "execution_count": 25,
   "metadata": {
    "colab": {
     "base_uri": "https://localhost:8080/",
     "height": 34
    },
    "executionInfo": {
     "elapsed": 245,
     "status": "ok",
     "timestamp": 1571783801546,
     "user": {
      "displayName": "Benedict Paten",
      "photoUrl": "https://lh3.googleusercontent.com/a-/AAuE7mBMnWy8dDR7jyTHNy9tPaRx6DCyA3QKrIcuQ7R4=s64",
      "userId": "06399644931392855882"
     },
     "user_tz": 420
    },
    "id": "h-F42PYgAZlg",
    "outputId": "bee0c41e-2f3e-4e44-efea-862896d845f9",
    "slideshow": {
     "slide_type": "fragment"
    }
   },
   "outputs": [
    {
     "data": {
      "text/plain": [
       "7"
      ]
     },
     "execution_count": 25,
     "metadata": {},
     "output_type": "execute_result"
    }
   ],
   "source": [
    "julia = (\"Julia\", \"Roberts\", 1967, \"Duplicity\", 2009, \"Actress\", \"Atlanta, Georgia\")\n",
    "\n",
    "len(julia) # The length of the tuple"
   ]
  },
  {
   "cell_type": "markdown",
   "metadata": {
    "id": "ex3Q_qIbAtp0",
    "slideshow": {
     "slide_type": "subslide"
    }
   },
   "source": [
    "**In operator revisited**"
   ]
  },
  {
   "cell_type": "code",
   "execution_count": 26,
   "metadata": {
    "colab": {
     "base_uri": "https://localhost:8080/",
     "height": 34
    },
    "executionInfo": {
     "elapsed": 249,
     "status": "ok",
     "timestamp": 1571783841940,
     "user": {
      "displayName": "Benedict Paten",
      "photoUrl": "https://lh3.googleusercontent.com/a-/AAuE7mBMnWy8dDR7jyTHNy9tPaRx6DCyA3QKrIcuQ7R4=s64",
      "userId": "06399644931392855882"
     },
     "user_tz": 420
    },
    "id": "pgrVwT9pAwy3",
    "outputId": "1dea5e8d-1c7f-4328-f5b8-d46424111c07",
    "slideshow": {
     "slide_type": "fragment"
    }
   },
   "outputs": [
    {
     "data": {
      "text/plain": [
       "True"
      ]
     },
     "execution_count": 26,
     "metadata": {},
     "output_type": "execute_result"
    }
   ],
   "source": [
    "# Like strings we can do search in tuples using the in operator:\n",
    "\n",
    "5 in (1, 2, 3, 4, 5, 6)"
   ]
  },
  {
   "cell_type": "code",
   "execution_count": 27,
   "metadata": {
    "colab": {
     "base_uri": "https://localhost:8080/",
     "height": 34
    },
    "executionInfo": {
     "elapsed": 245,
     "status": "ok",
     "timestamp": 1571783849588,
     "user": {
      "displayName": "Benedict Paten",
      "photoUrl": "https://lh3.googleusercontent.com/a-/AAuE7mBMnWy8dDR7jyTHNy9tPaRx6DCyA3QKrIcuQ7R4=s64",
      "userId": "06399644931392855882"
     },
     "user_tz": 420
    },
    "id": "bAwI7mnfA4mu",
    "outputId": "6f922114-f9de-4beb-9dd6-cf211fcc38bd",
    "slideshow": {
     "slide_type": "fragment"
    }
   },
   "outputs": [
    {
     "data": {
      "text/plain": [
       "False"
      ]
     },
     "execution_count": 27,
     "metadata": {},
     "output_type": "execute_result"
    }
   ],
   "source": [
    "# And its negation (not in):\n",
    "\n",
    "5 not in (1, 2, 3, 4, 5, 6)"
   ]
  },
  {
   "cell_type": "markdown",
   "metadata": {
    "id": "3pAEPQ2CgRWP",
    "slideshow": {
     "slide_type": "subslide"
    }
   },
   "source": [
    "**Tuple assignment**\n",
    "\n",
    "You can unpack the values in a tuple into multiple variables on one line (more nice syntactic sugar):"
   ]
  },
  {
   "cell_type": "code",
   "execution_count": 5,
   "metadata": {
    "colab": {
     "base_uri": "https://localhost:8080/",
     "height": 34
    },
    "executionInfo": {
     "elapsed": 388,
     "status": "ok",
     "timestamp": 1571783942707,
     "user": {
      "displayName": "Benedict Paten",
      "photoUrl": "https://lh3.googleusercontent.com/a-/AAuE7mBMnWy8dDR7jyTHNy9tPaRx6DCyA3QKrIcuQ7R4=s64",
      "userId": "06399644931392855882"
     },
     "user_tz": 420
    },
    "id": "fOstoHkrgWSD",
    "outputId": "fd15467f-d022-463b-b1b5-d09cdaf340af",
    "slideshow": {
     "slide_type": "fragment"
    }
   },
   "outputs": [
    {
     "name": "stdout",
     "output_type": "stream",
     "text": [
      "Roberts\n"
     ]
    }
   ],
   "source": [
    "julia = (\"Julia\", \"Roberts\", 1967, \"Duplicity\", 2009, \"Actress\", \"Atlanta, Georgia\")\n",
    "\n",
    "(name, surname, b_year, movie, m_year, profession, b_place) = julia\n",
    "\n",
    "print(surname)"
   ]
  },
  {
   "cell_type": "code",
   "execution_count": 16,
   "metadata": {
    "colab": {
     "base_uri": "https://localhost:8080/",
     "height": 34
    },
    "executionInfo": {
     "elapsed": 275,
     "status": "ok",
     "timestamp": 1571784052033,
     "user": {
      "displayName": "Benedict Paten",
      "photoUrl": "https://lh3.googleusercontent.com/a-/AAuE7mBMnWy8dDR7jyTHNy9tPaRx6DCyA3QKrIcuQ7R4=s64",
      "userId": "06399644931392855882"
     },
     "user_tz": 420
    },
    "id": "OkddWAu4hIkT",
    "outputId": "a035e627-095e-4f74-ab49-4a5431a72f6c",
    "slideshow": {
     "slide_type": "subslide"
    }
   },
   "outputs": [
    {
     "name": "stdout",
     "output_type": "stream",
     "text": [
      "10 5\n",
      "5 10\n",
      "10 5\n"
     ]
    }
   ],
   "source": [
    "# This allows you to do neat variable value swaps on one line:\n",
    "\n",
    "x = 10\n",
    "y = 5\n",
    "\n",
    "print(x, y)\n",
    "\n",
    "# Instead of:\n",
    "z = x\n",
    "x = y\n",
    "y = z\n",
    "\n",
    "print(x, y)\n",
    "\n",
    "# You can do:\n",
    "\n",
    "(x, y) = (y, x) # Which is clearer, less code and doesn't make a needless extra\n",
    "# variable\n",
    "\n",
    "print(x, y)"
   ]
  },
  {
   "cell_type": "code",
   "execution_count": 30,
   "metadata": {
    "colab": {
     "base_uri": "https://localhost:8080/",
     "height": 50
    },
    "executionInfo": {
     "elapsed": 245,
     "status": "ok",
     "timestamp": 1571784191948,
     "user": {
      "displayName": "Benedict Paten",
      "photoUrl": "https://lh3.googleusercontent.com/a-/AAuE7mBMnWy8dDR7jyTHNy9tPaRx6DCyA3QKrIcuQ7R4=s64",
      "userId": "06399644931392855882"
     },
     "user_tz": 420
    },
    "id": "cr23iGl8hoc5",
    "outputId": "17aa30fb-f516-4673-fdaf-2714dbc4226c",
    "slideshow": {
     "slide_type": "fragment"
    }
   },
   "outputs": [
    {
     "name": "stdout",
     "output_type": "stream",
     "text": [
      "5 10\n",
      "10 5\n"
     ]
    }
   ],
   "source": [
    "# You actually don't even need the brackets, the tuples are implicit:\n",
    "\n",
    "x, y = 5, 10 # This is the same as (x, y) = (5, 10)\n",
    "\n",
    "print(x,  y)\n",
    "\n",
    "x, y = y, x # Here the parentheses are again implicit\n",
    "\n",
    "print(x,  y)"
   ]
  },
  {
   "cell_type": "markdown",
   "metadata": {
    "id": "mAHc6nzZiElK",
    "slideshow": {
     "slide_type": "subslide"
    }
   },
   "source": [
    "**Multiple return values**"
   ]
  },
  {
   "cell_type": "code",
   "execution_count": 3,
   "metadata": {
    "colab": {
     "base_uri": "https://localhost:8080/"
    },
    "executionInfo": {
     "elapsed": 2538,
     "status": "ok",
     "timestamp": 1607735726198,
     "user": {
      "displayName": "Benedict Paten",
      "photoUrl": "https://lh3.googleusercontent.com/a-/AOh14Gh2rYrrH6yoNnUp0Oj4p4ouybc6ZcWGyPmKFtIY=s64",
      "userId": "06399644931392855882"
     },
     "user_tz": 480
    },
    "id": "F5BOVqGJiI-_",
    "outputId": "969a6887-3ba5-4d3a-a9ea-8fbd4f9a817f",
    "slideshow": {
     "slide_type": "fragment"
    }
   },
   "outputs": [
    {
     "name": "stdout",
     "output_type": "stream",
     "text": [
      "Enter a radius: 5\n",
      "Radius is 5.0 Circumference is 31.41592653589793  area is  78.53981633974483\n"
     ]
    }
   ],
   "source": [
    "# Tuples allow you to return multiple values from a function\n",
    "\n",
    "import math # don't worry about this, its a module import, we'll\n",
    "# cover this shortly\n",
    "\n",
    "def f(r):\n",
    "    \"\"\" Return (circumference, area) of a circle of radius r \"\"\"\n",
    "    \n",
    "    c = 2 * math.pi * r # Circumference \n",
    "    a = math.pi * r * r # Area \n",
    "    \n",
    "    return (c, a)\n",
    "  \n",
    "r = float(input(\"Enter a radius: \"))\n",
    "\n",
    "c, a = f(r)\n",
    "\n",
    "print(\"Radius is\", r, \"Circumference is\", c, \" area is \", a)\n",
    "  "
   ]
  },
  {
   "cell_type": "markdown",
   "metadata": {
    "id": "wfuIH0fzjtdd",
    "slideshow": {
     "slide_type": "subslide"
    }
   },
   "source": [
    "**Nested / Composed tuples**"
   ]
  },
  {
   "cell_type": "code",
   "execution_count": 32,
   "metadata": {
    "colab": {
     "base_uri": "https://localhost:8080/",
     "height": 54
    },
    "executionInfo": {
     "elapsed": 236,
     "status": "ok",
     "timestamp": 1571784528015,
     "user": {
      "displayName": "Benedict Paten",
      "photoUrl": "https://lh3.googleusercontent.com/a-/AAuE7mBMnWy8dDR7jyTHNy9tPaRx6DCyA3QKrIcuQ7R4=s64",
      "userId": "06399644931392855882"
     },
     "user_tz": 420
    },
    "id": "woXPF83Pjx0D",
    "outputId": "199aa394-11c1-456f-ee32-5c7a64378276",
    "slideshow": {
     "slide_type": "fragment"
    }
   },
   "outputs": [
    {
     "name": "stdout",
     "output_type": "stream",
     "text": [
      "(('Duplicity', 2009), ('Notting Hill', 1999), ('Pretty Woman', 1990), ('Erin Brockovich', 2000), ('Eat Pray Love', 2010), ('Mona Lisa Smile', 2003), ('Oceans Twelve', 2004))\n"
     ]
    }
   ],
   "source": [
    "# The values in a tuple can be any legit Python object.\n",
    "# So you can make complex nested (tree like objects)\n",
    "\n",
    "julia_more_info = ( (\"Julia\", \"Roberts\"), (8, \"October\", 1967),\n",
    "                     \"Actress\", (\"Atlanta\", \"Georgia\"),\n",
    "                     ( (\"Duplicity\", 2009 ),\n",
    "                       (\"Notting Hill\", 1999),\n",
    "                       (\"Pretty Woman\", 1990),\n",
    "                       (\"Erin Brockovich\", 2000),\n",
    "                       (\"Eat Pray Love\", 2010),\n",
    "                       (\"Mona Lisa Smile\", 2003),\n",
    "                       (\"Oceans Twelve\", 2004) ))\n",
    "\n",
    "#print(len(julia_more_info[0]))\n",
    "\n",
    "name, dob, profession, birth_place, bibliography = julia_more_info\n",
    "\n",
    "print(bibliography)"
   ]
  },
  {
   "cell_type": "markdown",
   "metadata": {
    "id": "yfL25TGCkYr9",
    "slideshow": {
     "slide_type": "fragment"
    }
   },
   "source": [
    "The above example is kind of over complicated, we'll see better ways\n",
    "to make complex data like this when we cover Python objects.\n",
    "\n",
    "\n",
    "\n",
    "\n",
    "\n",
    "\n"
   ]
  },
  {
   "cell_type": "markdown",
   "metadata": {
    "id": "emlv74gYi9A-",
    "slideshow": {
     "slide_type": "subslide"
    }
   },
   "source": [
    "**Tuples and Nested Sets**\n",
    "\n",
    "As a quick aside, nested tuples can represent any nested set of sets, e.g.:\n",
    "\n",
    "<img src=\"https://raw.githubusercontent.com/benedictpaten/intro_python/main/lecture_notebooks/figures/graffles/tree%20nested%20sets.jpg\" width=600 height=300 />"
   ]
  },
  {
   "cell_type": "code",
   "execution_count": 33,
   "metadata": {
    "slideshow": {
     "slide_type": "fragment"
    }
   },
   "outputs": [
    {
     "name": "stdout",
     "output_type": "stream",
     "text": [
      "('Bananas',)\n"
     ]
    }
   ],
   "source": [
    "# A tuple representation \n",
    "fruit = (\"Fruit\", (\"Berries\", (\"Bananas\",), (\"Strawberries\",), (\"Raspberries\",)), (\"Citrus\", (\"Lemons\",), (\"Oranges\",)), (\"Apples\",))\n",
    "\n",
    "print(fruit[1][1])"
   ]
  },
  {
   "cell_type": "markdown",
   "metadata": {
    "slideshow": {
     "slide_type": "subslide"
    }
   },
   "source": [
    "Nested sets are equivalent to \"trees\", another important type of graph structure used commonly in computer science:\n",
    "\n",
    "<img src=\"https://raw.githubusercontent.com/benedictpaten/intro_python/main/lecture_notebooks/figures/graffles/tree%20structure.jpg\" width=600 height=300 />"
   ]
  },
  {
   "cell_type": "markdown",
   "metadata": {
    "slideshow": {
     "slide_type": "fragment"
    }
   },
   "source": [
    "**This kind of nested representation pops up many places, for example JSON and XML are both similar nested set structures.**"
   ]
  },
  {
   "cell_type": "markdown",
   "metadata": {
    "id": "04KjIsq6xWCJ",
    "slideshow": {
     "slide_type": "subslide"
    }
   },
   "source": [
    "**Tuple comparison**"
   ]
  },
  {
   "cell_type": "code",
   "execution_count": 34,
   "metadata": {
    "colab": {
     "base_uri": "https://localhost:8080/",
     "height": 34
    },
    "executionInfo": {
     "elapsed": 245,
     "status": "ok",
     "timestamp": 1571784657533,
     "user": {
      "displayName": "Benedict Paten",
      "photoUrl": "https://lh3.googleusercontent.com/a-/AAuE7mBMnWy8dDR7jyTHNy9tPaRx6DCyA3QKrIcuQ7R4=s64",
      "userId": "06399644931392855882"
     },
     "user_tz": 420
    },
    "id": "pU9JsTjexeSR",
    "outputId": "95bec169-9a02-472e-a94a-ecc36c724408",
    "slideshow": {
     "slide_type": "fragment"
    }
   },
   "outputs": [
    {
     "data": {
      "text/plain": [
       "True"
      ]
     },
     "execution_count": 34,
     "metadata": {},
     "output_type": "execute_result"
    }
   ],
   "source": [
    "# Tuples are by default compared lexicographically: https://en.wikipedia.org/wiki/Lexicographical_order\n",
    "\n",
    "a = (5, 7)\n",
    "b = (5, 10)\n",
    "\n",
    "a < b # Yes, because a[0] == b[0] but a[1] < b[1]"
   ]
  },
  {
   "cell_type": "code",
   "execution_count": 35,
   "metadata": {
    "colab": {
     "base_uri": "https://localhost:8080/",
     "height": 34
    },
    "executionInfo": {
     "elapsed": 254,
     "status": "ok",
     "timestamp": 1571784675140,
     "user": {
      "displayName": "Benedict Paten",
      "photoUrl": "https://lh3.googleusercontent.com/a-/AAuE7mBMnWy8dDR7jyTHNy9tPaRx6DCyA3QKrIcuQ7R4=s64",
      "userId": "06399644931392855882"
     },
     "user_tz": 420
    },
    "id": "eMxcO4mgzDYQ",
    "outputId": "cd5ff52e-e67f-413b-82f5-19a0c2a0ecb4",
    "slideshow": {
     "slide_type": "fragment"
    }
   },
   "outputs": [
    {
     "data": {
      "text/plain": [
       "True"
      ]
     },
     "execution_count": 35,
     "metadata": {},
     "output_type": "execute_result"
    }
   ],
   "source": [
    "# Note this works too, just like with a dictionary sort\n",
    "\n",
    "a = (5,)\n",
    "b = (5, 10)\n",
    "\n",
    "a < b # Yes, because a[0] == b[0] and a is shorter than b"
   ]
  },
  {
   "cell_type": "code",
   "execution_count": 8,
   "metadata": {
    "colab": {
     "base_uri": "https://localhost:8080/",
     "height": 196
    },
    "executionInfo": {
     "elapsed": 256,
     "status": "error",
     "timestamp": 1571784710597,
     "user": {
      "displayName": "Benedict Paten",
      "photoUrl": "https://lh3.googleusercontent.com/a-/AAuE7mBMnWy8dDR7jyTHNy9tPaRx6DCyA3QKrIcuQ7R4=s64",
      "userId": "06399644931392855882"
     },
     "user_tz": 420
    },
    "id": "LGQ1eXLrx5PO",
    "outputId": "ef94e8fb-3c4f-477a-f989-8ef002c697b0",
    "slideshow": {
     "slide_type": "subslide"
    }
   },
   "outputs": [
    {
     "ename": "TypeError",
     "evalue": "'<' not supported between instances of 'str' and 'int'",
     "output_type": "error",
     "traceback": [
      "\u001b[0;31m---------------------------------------------------------------------------\u001b[0m",
      "\u001b[0;31mTypeError\u001b[0m                                 Traceback (most recent call last)",
      "\u001b[0;32m/var/folders/ft/hp0lkfys73s96bby40t4tnnr0000gn/T/ipykernel_17422/1668597881.py\u001b[0m in \u001b[0;36m<module>\u001b[0;34m\u001b[0m\n\u001b[1;32m      7\u001b[0m \u001b[0;31m# change them to be comparable by making a new tuple\u001b[0m\u001b[0;34m\u001b[0m\u001b[0;34m\u001b[0m\u001b[0m\n\u001b[1;32m      8\u001b[0m \u001b[0;34m\u001b[0m\u001b[0m\n\u001b[0;32m----> 9\u001b[0;31m \u001b[0ma\u001b[0m \u001b[0;34m<\u001b[0m \u001b[0mb\u001b[0m\u001b[0;34m\u001b[0m\u001b[0;34m\u001b[0m\u001b[0m\n\u001b[0m",
      "\u001b[0;31mTypeError\u001b[0m: '<' not supported between instances of 'str' and 'int'"
     ]
    }
   ],
   "source": [
    "# Tuples can only be compared if their corresponding elements are comparable\n",
    "\n",
    "a = (\"5\", 7)\n",
    "b = (5, 10)\n",
    "\n",
    "#a = (int(a[0]), a[1])  ## if we want to make a and b comparable we need\n",
    "# change them to be comparable by making a new tuple\n",
    "\n",
    "a < b"
   ]
  },
  {
   "cell_type": "code",
   "execution_count": 9,
   "metadata": {
    "colab": {
     "base_uri": "https://localhost:8080/",
     "height": 34
    },
    "executionInfo": {
     "elapsed": 226,
     "status": "ok",
     "timestamp": 1571784760797,
     "user": {
      "displayName": "Benedict Paten",
      "photoUrl": "https://lh3.googleusercontent.com/a-/AAuE7mBMnWy8dDR7jyTHNy9tPaRx6DCyA3QKrIcuQ7R4=s64",
      "userId": "06399644931392855882"
     },
     "user_tz": 420
    },
    "id": "KvQ5_ac79vET",
    "outputId": "939a4c38-dee9-43d5-a268-3534d3c2bf69",
    "slideshow": {
     "slide_type": "subslide"
    }
   },
   "outputs": [
    {
     "name": "stdout",
     "output_type": "stream",
     "text": [
      "2\n"
     ]
    },
    {
     "data": {
      "text/plain": [
       "True"
      ]
     },
     "execution_count": 9,
     "metadata": {},
     "output_type": "execute_result"
    }
   ],
   "source": [
    "# Comparisons can be nested\n",
    "\n",
    "a = ((1, 2), 3) \n",
    "b = ((1, 3), 3)  \n",
    "\n",
    "a < b # True because the a[0] < b[0] because (1, 2) < (1, 3)"
   ]
  },
  {
   "cell_type": "markdown",
   "metadata": {
    "slideshow": {
     "slide_type": "subslide"
    }
   },
   "source": [
    "# Challenge 1"
   ]
  },
  {
   "cell_type": "code",
   "execution_count": 19,
   "metadata": {
    "slideshow": {
     "slide_type": "fragment"
    }
   },
   "outputs": [
    {
     "name": "stdout",
     "output_type": "stream",
     "text": [
      "0 10\n"
     ]
    }
   ],
   "source": [
    "# Write a function min_max that takes a list or tuple and \n",
    "# returns the minimum and maximum values in the sequence as a tuple\n",
    "\n",
    "#### Write your code here\n",
    "\n",
    "l = (4, 7, 2, 0, 10, 8)\n",
    "x, y = min_max(l) # should return (0, 10)\n",
    "print(x, y)"
   ]
  },
  {
   "cell_type": "markdown",
   "metadata": {
    "id": "bbALFw0ilBFr",
    "slideshow": {
     "slide_type": "slide"
    }
   },
   "source": [
    "# Lists (again)\n",
    "\n",
    "We started covering lists earlier, let's now fill in the missing details.\n",
    "\n",
    "Given that we've covered strings and tuples, many of the details will be the same and should feel consistent and the same (and somewhat repetitive), which is why we'll only briefly review them."
   ]
  },
  {
   "cell_type": "markdown",
   "metadata": {
    "id": "6vjBqTtrxLhQ",
    "slideshow": {
     "slide_type": "subslide"
    }
   },
   "source": [
    "**Slicing and length**"
   ]
  },
  {
   "cell_type": "code",
   "execution_count": 38,
   "metadata": {
    "colab": {
     "base_uri": "https://localhost:8080/",
     "height": 34
    },
    "executionInfo": {
     "elapsed": 248,
     "status": "ok",
     "timestamp": 1571784826584,
     "user": {
      "displayName": "Benedict Paten",
      "photoUrl": "https://lh3.googleusercontent.com/a-/AAuE7mBMnWy8dDR7jyTHNy9tPaRx6DCyA3QKrIcuQ7R4=s64",
      "userId": "06399644931392855882"
     },
     "user_tz": 420
    },
    "id": "8WdM2h7f_1J3",
    "outputId": "92733f36-4603-41fe-e697-f2b759f9ed07",
    "slideshow": {
     "slide_type": "notes"
    }
   },
   "outputs": [
    {
     "data": {
      "text/plain": [
       "'hello'"
      ]
     },
     "execution_count": 38,
     "metadata": {},
     "output_type": "execute_result"
    }
   ],
   "source": [
    "x = [\"hello\", 2.0, 5, [10, 20]] # A list, containing 4 elements. The last \n",
    "# element is itself a list with two elements\n",
    "\n",
    "x[0] # First element"
   ]
  },
  {
   "cell_type": "code",
   "execution_count": 39,
   "metadata": {
    "colab": {
     "base_uri": "https://localhost:8080/",
     "height": 34
    },
    "executionInfo": {
     "elapsed": 242,
     "status": "ok",
     "timestamp": 1571784846758,
     "user": {
      "displayName": "Benedict Paten",
      "photoUrl": "https://lh3.googleusercontent.com/a-/AAuE7mBMnWy8dDR7jyTHNy9tPaRx6DCyA3QKrIcuQ7R4=s64",
      "userId": "06399644931392855882"
     },
     "user_tz": 420
    },
    "id": "Rml6aNfQBQ9I",
    "outputId": "f6325e6e-13a9-4220-aaba-fcfe677e6816",
    "slideshow": {
     "slide_type": "notes"
    }
   },
   "outputs": [
    {
     "data": {
      "text/plain": [
       "[10, 20]"
      ]
     },
     "execution_count": 39,
     "metadata": {},
     "output_type": "execute_result"
    }
   ],
   "source": [
    "x[-1] # Last element"
   ]
  },
  {
   "cell_type": "code",
   "execution_count": 40,
   "metadata": {
    "colab": {
     "base_uri": "https://localhost:8080/",
     "height": 34
    },
    "executionInfo": {
     "elapsed": 244,
     "status": "ok",
     "timestamp": 1571784862204,
     "user": {
      "displayName": "Benedict Paten",
      "photoUrl": "https://lh3.googleusercontent.com/a-/AAuE7mBMnWy8dDR7jyTHNy9tPaRx6DCyA3QKrIcuQ7R4=s64",
      "userId": "06399644931392855882"
     },
     "user_tz": 420
    },
    "id": "oHgsFXrmBSIs",
    "outputId": "01158533-f723-47a5-a987-dd8ce1e9f025",
    "slideshow": {
     "slide_type": "notes"
    }
   },
   "outputs": [
    {
     "data": {
      "text/plain": [
       "4"
      ]
     },
     "execution_count": 40,
     "metadata": {},
     "output_type": "execute_result"
    }
   ],
   "source": [
    "len(x) # Length of a list"
   ]
  },
  {
   "cell_type": "code",
   "execution_count": 41,
   "metadata": {
    "colab": {
     "base_uri": "https://localhost:8080/",
     "height": 34
    },
    "executionInfo": {
     "elapsed": 272,
     "status": "ok",
     "timestamp": 1571784867826,
     "user": {
      "displayName": "Benedict Paten",
      "photoUrl": "https://lh3.googleusercontent.com/a-/AAuE7mBMnWy8dDR7jyTHNy9tPaRx6DCyA3QKrIcuQ7R4=s64",
      "userId": "06399644931392855882"
     },
     "user_tz": 420
    },
    "id": "1NKFTU-5BbBB",
    "outputId": "5acd65d1-2483-4a2f-80a2-acec5124bfb7",
    "slideshow": {
     "slide_type": "notes"
    }
   },
   "outputs": [
    {
     "data": {
      "text/plain": [
       "[10, 20]"
      ]
     },
     "execution_count": 41,
     "metadata": {},
     "output_type": "execute_result"
    }
   ],
   "source": [
    "x[len(x)-1] # Same as x[-1] (which is clearer)"
   ]
  },
  {
   "cell_type": "code",
   "execution_count": 42,
   "metadata": {
    "colab": {
     "base_uri": "https://localhost:8080/",
     "height": 34
    },
    "executionInfo": {
     "elapsed": 249,
     "status": "ok",
     "timestamp": 1571784888924,
     "user": {
      "displayName": "Benedict Paten",
      "photoUrl": "https://lh3.googleusercontent.com/a-/AAuE7mBMnWy8dDR7jyTHNy9tPaRx6DCyA3QKrIcuQ7R4=s64",
      "userId": "06399644931392855882"
     },
     "user_tz": 420
    },
    "id": "R0syg2jUBgSa",
    "outputId": "3a0117c7-9466-44fc-987b-83a0ba378d44",
    "slideshow": {
     "slide_type": "fragment"
    }
   },
   "outputs": [
    {
     "data": {
      "text/plain": [
       "[2.0, 5, [10, 20]]"
      ]
     },
     "execution_count": 42,
     "metadata": {},
     "output_type": "execute_result"
    }
   ],
   "source": [
    "x[1:] # Yup, slicing works the same as with strings and tuples. \n",
    "\n",
    "# This consistency among basic data types is part of why Python\n",
    "# is so nice to use. Again, if this isn't clear to you play with the slicing\n",
    "# examples on strings and try them with lists and tuples - they work the same."
   ]
  },
  {
   "cell_type": "markdown",
   "metadata": {
    "id": "YPyPX8MqKkkc",
    "slideshow": {
     "slide_type": "subslide"
    }
   },
   "source": [
    "**Concatenate operator**"
   ]
  },
  {
   "cell_type": "code",
   "execution_count": 43,
   "metadata": {
    "colab": {
     "base_uri": "https://localhost:8080/",
     "height": 34
    },
    "executionInfo": {
     "elapsed": 245,
     "status": "ok",
     "timestamp": 1571784907779,
     "user": {
      "displayName": "Benedict Paten",
      "photoUrl": "https://lh3.googleusercontent.com/a-/AAuE7mBMnWy8dDR7jyTHNy9tPaRx6DCyA3QKrIcuQ7R4=s64",
      "userId": "06399644931392855882"
     },
     "user_tz": 420
    },
    "id": "oCVJLoGZKsYu",
    "outputId": "8e296998-e66a-48ff-bbf7-1bfffa9641d4",
    "slideshow": {
     "slide_type": "fragment"
    }
   },
   "outputs": [
    {
     "data": {
      "text/plain": [
       "[1, 2, 3, 4, 5]"
      ]
     },
     "execution_count": 43,
     "metadata": {},
     "output_type": "execute_result"
    }
   ],
   "source": [
    "[ 1, 2, 3 ] + [ 4, 5 ] # Here + concatenates the two lists, creating a new list, just like \n",
    "# with strings and tuples"
   ]
  },
  {
   "cell_type": "markdown",
   "metadata": {
    "id": "vEOF9gKfxOPy",
    "slideshow": {
     "slide_type": "notes"
    }
   },
   "source": [
    "**In operator**"
   ]
  },
  {
   "cell_type": "code",
   "execution_count": 44,
   "metadata": {
    "colab": {
     "base_uri": "https://localhost:8080/",
     "height": 34
    },
    "executionInfo": {
     "elapsed": 254,
     "status": "ok",
     "timestamp": 1571784916515,
     "user": {
      "displayName": "Benedict Paten",
      "photoUrl": "https://lh3.googleusercontent.com/a-/AAuE7mBMnWy8dDR7jyTHNy9tPaRx6DCyA3QKrIcuQ7R4=s64",
      "userId": "06399644931392855882"
     },
     "user_tz": 420
    },
    "id": "V-GcxAThCIZC",
    "outputId": "4047dc71-9769-4297-f551-4f2d711d6688",
    "slideshow": {
     "slide_type": "notes"
    }
   },
   "outputs": [
    {
     "data": {
      "text/plain": [
       "True"
      ]
     },
     "execution_count": 44,
     "metadata": {},
     "output_type": "execute_result"
    }
   ],
   "source": [
    "# Yup, the \"in\" operator works on lists the way you'd expect\n",
    "\n",
    "x = [\"hello\", 2.0, 5, [10, 20]]\n",
    "\n",
    "5 in x"
   ]
  },
  {
   "cell_type": "code",
   "execution_count": 45,
   "metadata": {
    "colab": {
     "base_uri": "https://localhost:8080/",
     "height": 34
    },
    "executionInfo": {
     "elapsed": 247,
     "status": "ok",
     "timestamp": 1571784924765,
     "user": {
      "displayName": "Benedict Paten",
      "photoUrl": "https://lh3.googleusercontent.com/a-/AAuE7mBMnWy8dDR7jyTHNy9tPaRx6DCyA3QKrIcuQ7R4=s64",
      "userId": "06399644931392855882"
     },
     "user_tz": 420
    },
    "id": "7KXu-ULPCSK0",
    "outputId": "efc20e24-1857-48fe-9626-837f98348a1f",
    "slideshow": {
     "slide_type": "notes"
    }
   },
   "outputs": [
    {
     "data": {
      "text/plain": [
       "True"
      ]
     },
     "execution_count": 45,
     "metadata": {},
     "output_type": "execute_result"
    }
   ],
   "source": [
    "\"monkey\" not in x"
   ]
  },
  {
   "cell_type": "markdown",
   "metadata": {
    "id": "Yf7QhuEwxR6k",
    "slideshow": {
     "slide_type": "notes"
    }
   },
   "source": [
    "**Comparison**"
   ]
  },
  {
   "cell_type": "code",
   "execution_count": 46,
   "metadata": {
    "colab": {
     "base_uri": "https://localhost:8080/",
     "height": 34
    },
    "executionInfo": {
     "elapsed": 250,
     "status": "ok",
     "timestamp": 1571784928475,
     "user": {
      "displayName": "Benedict Paten",
      "photoUrl": "https://lh3.googleusercontent.com/a-/AAuE7mBMnWy8dDR7jyTHNy9tPaRx6DCyA3QKrIcuQ7R4=s64",
      "userId": "06399644931392855882"
     },
     "user_tz": 420
    },
    "id": "VHVYFFwSCbKA",
    "outputId": "8ed646ff-5011-4ddc-804f-7e8524d78288",
    "slideshow": {
     "slide_type": "notes"
    }
   },
   "outputs": [
    {
     "data": {
      "text/plain": [
       "True"
      ]
     },
     "execution_count": 46,
     "metadata": {},
     "output_type": "execute_result"
    }
   ],
   "source": [
    "# This works using the same lexicographic method\n",
    "\n",
    "x = [1, 2, 3]\n",
    "y = [2, 5]\n",
    "\n",
    "x < y"
   ]
  },
  {
   "cell_type": "code",
   "execution_count": 47,
   "metadata": {
    "colab": {
     "base_uri": "https://localhost:8080/",
     "height": 201
    },
    "executionInfo": {
     "elapsed": 641,
     "status": "error",
     "timestamp": 1607736523258,
     "user": {
      "displayName": "Benedict Paten",
      "photoUrl": "https://lh3.googleusercontent.com/a-/AOh14Gh2rYrrH6yoNnUp0Oj4p4ouybc6ZcWGyPmKFtIY=s64",
      "userId": "06399644931392855882"
     },
     "user_tz": 480
    },
    "id": "kRzv4R7LDdau",
    "outputId": "d3ded2dc-fc19-4576-db24-503ea7e33480",
    "slideshow": {
     "slide_type": "notes"
    }
   },
   "outputs": [
    {
     "ename": "TypeError",
     "evalue": "'<' not supported between instances of 'int' and 'list'",
     "output_type": "error",
     "traceback": [
      "\u001b[0;31m---------------------------------------------------------------------------\u001b[0m",
      "\u001b[0;31mTypeError\u001b[0m                                 Traceback (most recent call last)",
      "\u001b[0;32m/var/folders/ft/hp0lkfys73s96bby40t4tnnr0000gn/T/ipykernel_97814/1380913592.py\u001b[0m in \u001b[0;36m<module>\u001b[0;34m\u001b[0m\n\u001b[1;32m      4\u001b[0m \u001b[0my\u001b[0m \u001b[0;34m=\u001b[0m \u001b[0;34m[\u001b[0m\u001b[0;36m1\u001b[0m\u001b[0;34m,\u001b[0m \u001b[0;36m2\u001b[0m\u001b[0;34m,\u001b[0m \u001b[0;34m[\u001b[0m\u001b[0;34m]\u001b[0m\u001b[0;34m]\u001b[0m\u001b[0;34m\u001b[0m\u001b[0;34m\u001b[0m\u001b[0m\n\u001b[1;32m      5\u001b[0m \u001b[0;34m\u001b[0m\u001b[0m\n\u001b[0;32m----> 6\u001b[0;31m \u001b[0mx\u001b[0m \u001b[0;34m<\u001b[0m \u001b[0my\u001b[0m\u001b[0;34m\u001b[0m\u001b[0;34m\u001b[0m\u001b[0m\n\u001b[0m",
      "\u001b[0;31mTypeError\u001b[0m: '<' not supported between instances of 'int' and 'list'"
     ]
    }
   ],
   "source": [
    "# Again, it only works if the items themselves can be compared\n",
    "\n",
    "x = [1, 2, 3]\n",
    "y = [1, 2, []]\n",
    "\n",
    "x < y"
   ]
  },
  {
   "cell_type": "markdown",
   "metadata": {
    "id": "LfpO4SSF_mfk",
    "slideshow": {
     "slide_type": "slide"
    }
   },
   "source": [
    "# Lists are mutable"
   ]
  },
  {
   "cell_type": "code",
   "execution_count": 48,
   "metadata": {
    "colab": {
     "base_uri": "https://localhost:8080/",
     "height": 34
    },
    "executionInfo": {
     "elapsed": 261,
     "status": "ok",
     "timestamp": 1571785142249,
     "user": {
      "displayName": "Benedict Paten",
      "photoUrl": "https://lh3.googleusercontent.com/a-/AAuE7mBMnWy8dDR7jyTHNy9tPaRx6DCyA3QKrIcuQ7R4=s64",
      "userId": "06399644931392855882"
     },
     "user_tz": 420
    },
    "id": "1ygkdENuDvH2",
    "outputId": "3b11d052-f85d-4b9f-a04a-a053e6db45d1",
    "slideshow": {
     "slide_type": "fragment"
    }
   },
   "outputs": [
    {
     "name": "stdout",
     "output_type": "stream",
     "text": [
      "[3, 2, 3]\n"
     ]
    }
   ],
   "source": [
    "# Lists, unlike strings, ints, floats and tuples, are mutable\n",
    "\n",
    "x = [1, 2, 3]\n",
    "\n",
    "x[0] = 3\n",
    "\n",
    "print(x)"
   ]
  },
  {
   "cell_type": "markdown",
   "metadata": {
    "slideshow": {
     "slide_type": "subslide"
    }
   },
   "source": [
    "**Lists can be edited using slices**"
   ]
  },
  {
   "cell_type": "code",
   "execution_count": 7,
   "metadata": {
    "colab": {
     "base_uri": "https://localhost:8080/",
     "height": 34
    },
    "executionInfo": {
     "elapsed": 257,
     "status": "ok",
     "timestamp": 1571785196421,
     "user": {
      "displayName": "Benedict Paten",
      "photoUrl": "https://lh3.googleusercontent.com/a-/AAuE7mBMnWy8dDR7jyTHNy9tPaRx6DCyA3QKrIcuQ7R4=s64",
      "userId": "06399644931392855882"
     },
     "user_tz": 420
    },
    "id": "-qd9idIREjyy",
    "outputId": "f295a82c-599e-431c-cc87-0db7f0b6d3f0",
    "slideshow": {
     "slide_type": "fragment"
    }
   },
   "outputs": [
    {
     "name": "stdout",
     "output_type": "stream",
     "text": [
      "[1, 8, 9, 4, 5, 6, 7]\n"
     ]
    }
   ],
   "source": [
    "# We can use slices to insert, replace and remove elements\n",
    "\n",
    "x = [1, 2, 3, 4, 5, 6, 7]\n",
    "\n",
    "x[1:3] = [8, 9] # Replace the second and third elements in the list (2 and 3)\n",
    "# with 8 and 9\n",
    "\n",
    "print(x)"
   ]
  },
  {
   "cell_type": "code",
   "execution_count": 50,
   "metadata": {
    "colab": {
     "base_uri": "https://localhost:8080/",
     "height": 34
    },
    "executionInfo": {
     "elapsed": 260,
     "status": "ok",
     "timestamp": 1571785234891,
     "user": {
      "displayName": "Benedict Paten",
      "photoUrl": "https://lh3.googleusercontent.com/a-/AAuE7mBMnWy8dDR7jyTHNy9tPaRx6DCyA3QKrIcuQ7R4=s64",
      "userId": "06399644931392855882"
     },
     "user_tz": 420
    },
    "id": "AD-kpOJ3E35t",
    "outputId": "c4fd1dfc-9135-421d-f6dc-8fc1f736d33e",
    "slideshow": {
     "slide_type": "fragment"
    }
   },
   "outputs": [
    {
     "name": "stdout",
     "output_type": "stream",
     "text": [
      "[1, 4, 5, 6, 7]\n"
     ]
    }
   ],
   "source": [
    "x = [1, 2, 3, 4, 5, 6, 7]\n",
    "\n",
    "x[1:3] = [] # Replace the second and third elements with an empty list, so removing them\n",
    "\n",
    "print(x)"
   ]
  },
  {
   "cell_type": "code",
   "execution_count": 8,
   "metadata": {
    "colab": {
     "base_uri": "https://localhost:8080/",
     "height": 34
    },
    "executionInfo": {
     "elapsed": 267,
     "status": "ok",
     "timestamp": 1571785550128,
     "user": {
      "displayName": "Benedict Paten",
      "photoUrl": "https://lh3.googleusercontent.com/a-/AAuE7mBMnWy8dDR7jyTHNy9tPaRx6DCyA3QKrIcuQ7R4=s64",
      "userId": "06399644931392855882"
     },
     "user_tz": 420
    },
    "id": "g5VngVvNIWFy",
    "outputId": "16c5946b-b1b3-4a6f-fd80-5af06de2e7d0",
    "slideshow": {
     "slide_type": "fragment"
    }
   },
   "outputs": [
    {
     "name": "stdout",
     "output_type": "stream",
     "text": [
      "[1, 8, 9, 10, 4, 5, 6, 7]\n"
     ]
    }
   ],
   "source": [
    "x = [1, 2, 3, 4, 5, 6, 7]\n",
    "\n",
    "x[1:3] = [8, 9, 10] # Replace the second and third elements with an larger \n",
    "# list, so inserting elements\n",
    "\n",
    "print(x)"
   ]
  },
  {
   "cell_type": "markdown",
   "metadata": {
    "slideshow": {
     "slide_type": "subslide"
    }
   },
   "source": [
    "**Methods to add elements to the end of a list**"
   ]
  },
  {
   "cell_type": "code",
   "execution_count": 12,
   "metadata": {
    "colab": {
     "base_uri": "https://localhost:8080/",
     "height": 34
    },
    "executionInfo": {
     "elapsed": 278,
     "status": "ok",
     "timestamp": 1571785401620,
     "user": {
      "displayName": "Benedict Paten",
      "photoUrl": "https://lh3.googleusercontent.com/a-/AAuE7mBMnWy8dDR7jyTHNy9tPaRx6DCyA3QKrIcuQ7R4=s64",
      "userId": "06399644931392855882"
     },
     "user_tz": 420
    },
    "id": "GjE9wOh0D6ir",
    "outputId": "88d007c0-17a7-4207-9463-f89b71730a4d",
    "slideshow": {
     "slide_type": "fragment"
    }
   },
   "outputs": [
    {
     "name": "stdout",
     "output_type": "stream",
     "text": [
      "[1, 8, 9, 10, 4, 5, 6, 7, 5]\n"
     ]
    }
   ],
   "source": [
    "# Append method lets us add an element to the end of a list\n",
    "\n",
    "x = [1, 8, 9, 10, 4, 5, 6, 7] \n",
    "\n",
    "x.append(5)\n",
    "\n",
    "print(x)"
   ]
  },
  {
   "cell_type": "code",
   "execution_count": 10,
   "metadata": {
    "colab": {
     "base_uri": "https://localhost:8080/",
     "height": 34
    },
    "executionInfo": {
     "elapsed": 251,
     "status": "ok",
     "timestamp": 1571785418663,
     "user": {
      "displayName": "Benedict Paten",
      "photoUrl": "https://lh3.googleusercontent.com/a-/AAuE7mBMnWy8dDR7jyTHNy9tPaRx6DCyA3QKrIcuQ7R4=s64",
      "userId": "06399644931392855882"
     },
     "user_tz": 420
    },
    "id": "Jjq2cGivJygZ",
    "outputId": "ae9260ce-590a-44f5-ad7c-53cb61574cf6",
    "slideshow": {
     "slide_type": "fragment"
    }
   },
   "outputs": [
    {
     "name": "stdout",
     "output_type": "stream",
     "text": [
      "[1, 8, 9, 10, 4, 5, 6, 7, 5, 4, 5, 6]\n"
     ]
    }
   ],
   "source": [
    "# You can add multiple elements to the end of a list using extend()\n",
    "\n",
    "x.extend([4, 5, 6]) # This takes the input list and adds its elements\n",
    "# to x in order at the end\n",
    "\n",
    "print(x)"
   ]
  },
  {
   "cell_type": "markdown",
   "metadata": {
    "slideshow": {
     "slide_type": "subslide"
    }
   },
   "source": [
    "**Lists methods to remove elements**"
   ]
  },
  {
   "cell_type": "code",
   "execution_count": 17,
   "metadata": {
    "colab": {
     "base_uri": "https://localhost:8080/",
     "height": 34
    },
    "executionInfo": {
     "elapsed": 253,
     "status": "ok",
     "timestamp": 1571785432743,
     "user": {
      "displayName": "Benedict Paten",
      "photoUrl": "https://lh3.googleusercontent.com/a-/AAuE7mBMnWy8dDR7jyTHNy9tPaRx6DCyA3QKrIcuQ7R4=s64",
      "userId": "06399644931392855882"
     },
     "user_tz": 420
    },
    "id": "fjuqf4C4EDyh",
    "outputId": "b9373117-df4a-4ea7-f9de-729c3f1fde70",
    "slideshow": {
     "slide_type": "fragment"
    }
   },
   "outputs": [
    {
     "name": "stdout",
     "output_type": "stream",
     "text": [
      "[1, 8, 9, 4, 5, 6, 7, 5, 4, 5, 6, 10]\n"
     ]
    }
   ],
   "source": [
    "x = [1, 8, 9, 10, 4, 5, 6, 7, 5, 4, 5, 6, 10]\n",
    "\n",
    "# Remove\n",
    "\n",
    "x.remove(10) # Removes the first instance of 10\n",
    "\n",
    "print(x)\n"
   ]
  },
  {
   "cell_type": "code",
   "execution_count": 18,
   "metadata": {
    "colab": {
     "base_uri": "https://localhost:8080/",
     "height": 213
    },
    "executionInfo": {
     "elapsed": 305,
     "status": "error",
     "timestamp": 1571785541739,
     "user": {
      "displayName": "Benedict Paten",
      "photoUrl": "https://lh3.googleusercontent.com/a-/AAuE7mBMnWy8dDR7jyTHNy9tPaRx6DCyA3QKrIcuQ7R4=s64",
      "userId": "06399644931392855882"
     },
     "user_tz": 420
    },
    "id": "1INhFKyEJLyt",
    "outputId": "90158021-a501-4ade-d072-cb7e7a6252c8",
    "slideshow": {
     "slide_type": "fragment"
    }
   },
   "outputs": [
    {
     "name": "stdout",
     "output_type": "stream",
     "text": [
      "[8, 9, 4, 5, 6, 7, 5, 4, 5, 6, 10]\n"
     ]
    }
   ],
   "source": [
    "# You can also use \"del\"\n",
    "\n",
    "del x[0] # Remove the first element of the list\n",
    "\n",
    "print(x)"
   ]
  },
  {
   "cell_type": "code",
   "execution_count": 19,
   "metadata": {},
   "outputs": [
    {
     "name": "stdout",
     "output_type": "stream",
     "text": [
      "[8, 5, 6, 7, 5, 4, 5, 6, 10]\n"
     ]
    }
   ],
   "source": [
    "del x[1:3] # Can delete ranges (here removing the 2 and 3rd elements)\n",
    "\n",
    "print(x)"
   ]
  },
  {
   "cell_type": "code",
   "execution_count": 20,
   "metadata": {
    "colab": {
     "base_uri": "https://localhost:8080/",
     "height": 34
    },
    "executionInfo": {
     "elapsed": 318,
     "status": "ok",
     "timestamp": 1571785563681,
     "user": {
      "displayName": "Benedict Paten",
      "photoUrl": "https://lh3.googleusercontent.com/a-/AAuE7mBMnWy8dDR7jyTHNy9tPaRx6DCyA3QKrIcuQ7R4=s64",
      "userId": "06399644931392855882"
     },
     "user_tz": 420
    },
    "id": "mx1YrvNxoxje",
    "outputId": "69d04194-a8e1-460f-8e2d-0023650f8a24",
    "slideshow": {
     "slide_type": "fragment"
    }
   },
   "outputs": [
    {
     "name": "stdout",
     "output_type": "stream",
     "text": [
      "[8, 5, 6, 7, 5, 4, 5, 6]\n"
     ]
    }
   ],
   "source": [
    "# Remove the last element of the list:\n",
    "\n",
    "x.pop()\n",
    "\n",
    "print(x)"
   ]
  },
  {
   "cell_type": "markdown",
   "metadata": {
    "slideshow": {
     "slide_type": "subslide"
    }
   },
   "source": [
    "**Inserting into a list**"
   ]
  },
  {
   "cell_type": "code",
   "execution_count": 57,
   "metadata": {
    "colab": {
     "base_uri": "https://localhost:8080/",
     "height": 34
    },
    "executionInfo": {
     "elapsed": 243,
     "status": "ok",
     "timestamp": 1571785585058,
     "user": {
      "displayName": "Benedict Paten",
      "photoUrl": "https://lh3.googleusercontent.com/a-/AAuE7mBMnWy8dDR7jyTHNy9tPaRx6DCyA3QKrIcuQ7R4=s64",
      "userId": "06399644931392855882"
     },
     "user_tz": 420
    },
    "id": "pL2FVUFuER7S",
    "outputId": "dcc552fb-8d06-46ea-ff78-55b44a87c3c6",
    "slideshow": {
     "slide_type": "fragment"
    }
   },
   "outputs": [
    {
     "name": "stdout",
     "output_type": "stream",
     "text": [
      "[1, 2, 'boo', 3, 4, 5, 6, 7]\n"
     ]
    }
   ],
   "source": [
    "# Insert \n",
    "\n",
    "x = [1, 2, 3, 4, 5, 6, 7]\n",
    "\n",
    "x.insert(2, \"boo\") # Insert an element at the 3rd position, shifting the existing\n",
    "# list up\n",
    "\n",
    "print(x)"
   ]
  },
  {
   "cell_type": "markdown",
   "metadata": {
    "id": "y_CmPhlEDsZp",
    "slideshow": {
     "slide_type": "subslide"
    }
   },
   "source": [
    "**Other useful list functions**"
   ]
  },
  {
   "cell_type": "code",
   "execution_count": 58,
   "metadata": {
    "colab": {
     "base_uri": "https://localhost:8080/",
     "height": 34
    },
    "executionInfo": {
     "elapsed": 232,
     "status": "ok",
     "timestamp": 1571785667331,
     "user": {
      "displayName": "Benedict Paten",
      "photoUrl": "https://lh3.googleusercontent.com/a-/AAuE7mBMnWy8dDR7jyTHNy9tPaRx6DCyA3QKrIcuQ7R4=s64",
      "userId": "06399644931392855882"
     },
     "user_tz": 420
    },
    "id": "8ugFjkOXK6vo",
    "outputId": "ccd56bc4-1ea7-40ae-a06e-04a18478b18f",
    "slideshow": {
     "slide_type": "fragment"
    }
   },
   "outputs": [
    {
     "data": {
      "text/plain": [
       "(1, 2, 3, 4)"
      ]
     },
     "execution_count": 58,
     "metadata": {},
     "output_type": "execute_result"
    }
   ],
   "source": [
    "# Python provides lots of useful list functions, non-exhaustively:\n",
    "\n",
    "x = [1, 2, 3, 4]\n",
    "\n",
    "# Type conversion from list to tuple\n",
    "tuple(x)"
   ]
  },
  {
   "cell_type": "code",
   "execution_count": 59,
   "metadata": {
    "colab": {
     "base_uri": "https://localhost:8080/",
     "height": 34
    },
    "executionInfo": {
     "elapsed": 253,
     "status": "ok",
     "timestamp": 1571785686565,
     "user": {
      "displayName": "Benedict Paten",
      "photoUrl": "https://lh3.googleusercontent.com/a-/AAuE7mBMnWy8dDR7jyTHNy9tPaRx6DCyA3QKrIcuQ7R4=s64",
      "userId": "06399644931392855882"
     },
     "user_tz": 420
    },
    "id": "8AjbGgxjL1GD",
    "outputId": "bec53d8a-aa11-41c5-e82c-26ba630a328e",
    "slideshow": {
     "slide_type": "fragment"
    }
   },
   "outputs": [
    {
     "data": {
      "text/plain": [
       "[1, 2, 3, 4]"
      ]
     },
     "execution_count": 59,
     "metadata": {},
     "output_type": "execute_result"
    }
   ],
   "source": [
    "x = (1, 2, 3, 4)\n",
    "\n",
    "# Type conversion from tuple to list \n",
    "list(x)"
   ]
  },
  {
   "cell_type": "code",
   "execution_count": 60,
   "metadata": {
    "colab": {
     "base_uri": "https://localhost:8080/",
     "height": 34
    },
    "executionInfo": {
     "elapsed": 253,
     "status": "ok",
     "timestamp": 1571785700646,
     "user": {
      "displayName": "Benedict Paten",
      "photoUrl": "https://lh3.googleusercontent.com/a-/AAuE7mBMnWy8dDR7jyTHNy9tPaRx6DCyA3QKrIcuQ7R4=s64",
      "userId": "06399644931392855882"
     },
     "user_tz": 420
    },
    "id": "dShr80p9MCz-",
    "outputId": "673ca2ca-b7a1-4014-dfc8-d5edbe486ccf",
    "slideshow": {
     "slide_type": "fragment"
    }
   },
   "outputs": [
    {
     "name": "stdout",
     "output_type": "stream",
     "text": [
      "[4, 3, 2, 1]\n"
     ]
    }
   ],
   "source": [
    "x = [1, 2, 3, 4]\n",
    "\n",
    "x.reverse() # Reverses the elements of the list in place (this doesn't make a new\n",
    "# list, it just reverses the sequence of the elements in x)\n",
    "\n",
    "print(x)"
   ]
  },
  {
   "cell_type": "markdown",
   "metadata": {
    "id": "nq1Tm84MMZtj",
    "slideshow": {
     "slide_type": "subslide"
    }
   },
   "source": [
    "**Nesting and Matrices**"
   ]
  },
  {
   "cell_type": "code",
   "execution_count": 61,
   "metadata": {
    "colab": {
     "base_uri": "https://localhost:8080/",
     "height": 34
    },
    "executionInfo": {
     "elapsed": 262,
     "status": "ok",
     "timestamp": 1571785797577,
     "user": {
      "displayName": "Benedict Paten",
      "photoUrl": "https://lh3.googleusercontent.com/a-/AAuE7mBMnWy8dDR7jyTHNy9tPaRx6DCyA3QKrIcuQ7R4=s64",
      "userId": "06399644931392855882"
     },
     "user_tz": 420
    },
    "id": "K85A5Oh5Meuf",
    "outputId": "7e74b826-1698-48e4-b563-f300622e6755",
    "slideshow": {
     "slide_type": "fragment"
    }
   },
   "outputs": [
    {
     "data": {
      "text/plain": [
       "2"
      ]
     },
     "execution_count": 61,
     "metadata": {},
     "output_type": "execute_result"
    }
   ],
   "source": [
    "# We have seen examples of nested lists/tuples, e.g.\n",
    "\n",
    "x = [ 1, 2, [ 4, 5 ]]\n",
    "\n",
    "# A matrix is just a 2D 'list of lists', a special case of this\n",
    "\n",
    "x = [ [ 1, 2], [3, 4]]\n",
    "\n",
    "# You can access it using nested array accesses\n",
    "x[0][1] "
   ]
  },
  {
   "cell_type": "markdown",
   "metadata": {
    "id": "nqHUMrSyNKGZ",
    "slideshow": {
     "slide_type": "fragment"
    }
   },
   "source": [
    "Matrices and arrays are important data types of many kinds of scientific and mathematical computing. At the end of the course (time permitting), we'll look at specialized packages, like Numpy, for representing this kind of data more efficiently than \"lists of lists\", and which can be used for doing math stuff, e.g. linear algebra, machine learning, etc."
   ]
  },
  {
   "cell_type": "markdown",
   "metadata": {
    "slideshow": {
     "slide_type": "subslide"
    }
   },
   "source": [
    "# Challenge 2"
   ]
  },
  {
   "cell_type": "code",
   "execution_count": 20,
   "metadata": {
    "slideshow": {
     "slide_type": "fragment"
    }
   },
   "outputs": [
    {
     "name": "stdout",
     "output_type": "stream",
     "text": [
      "[1, 2, 3, 8, 9, 10, 4, 5, 6, 7]\n"
     ]
    }
   ],
   "source": [
    "x = [1, 2, 3, 4, 5, 6, 7]\n",
    "\n",
    "# Use a list slice operation to insert the sequence 8, 9, 10\n",
    "# between the third and fourth element in the list, i.e so that x = [ 1, 2, 3, 8, 9, 10, 4, 5, 6, 7 ]\n",
    "\n",
    "\n",
    "\n",
    "print(x)"
   ]
  },
  {
   "cell_type": "markdown",
   "metadata": {
    "id": "its87A0BTYHF",
    "slideshow": {
     "slide_type": "slide"
    }
   },
   "source": [
    "# List comprehensions\n",
    "\n",
    "These are a super useful mashup of a for loop, a list and conditionals. I use these *all* the time."
   ]
  },
  {
   "cell_type": "code",
   "execution_count": 16,
   "metadata": {
    "colab": {
     "base_uri": "https://localhost:8080/"
    },
    "executionInfo": {
     "elapsed": 550,
     "status": "ok",
     "timestamp": 1607737295522,
     "user": {
      "displayName": "Benedict Paten",
      "photoUrl": "https://lh3.googleusercontent.com/a-/AOh14Gh2rYrrH6yoNnUp0Oj4p4ouybc6ZcWGyPmKFtIY=s64",
      "userId": "06399644931392855882"
     },
     "user_tz": 480
    },
    "id": "7zfvW0nkm91n",
    "outputId": "618aa080-9876-43e1-ee19-ebcfa22747d5",
    "slideshow": {
     "slide_type": "fragment"
    }
   },
   "outputs": [
    {
     "name": "stdout",
     "output_type": "stream",
     "text": [
      "[2, 4, 6, 8, 10]\n"
     ]
    }
   ],
   "source": [
    "x = [ 1, 2, 3, 4, 5 ]\n",
    "\n",
    "y = [ i * 2 for i in x ]\n",
    "\n",
    "## Is the same as:\n",
    "# y = []\n",
    "# for i in x:\n",
    "#     y.append(i*2)\n",
    "\n",
    "print(y)"
   ]
  },
  {
   "cell_type": "code",
   "execution_count": null,
   "metadata": {
    "id": "ctAGluJXnHJo",
    "slideshow": {
     "slide_type": "fragment"
    }
   },
   "outputs": [],
   "source": [
    "# The basic structure of the simplest form is:\n",
    "[ EXPRESSION1 for x in ITERABLE ]\n",
    "\n",
    "# it is equivalent to writing:\n",
    "# l = []\n",
    "# for x in ITERABLE:\n",
    "#   l.append(EXPRESSION1)"
   ]
  },
  {
   "cell_type": "markdown",
   "metadata": {
    "id": "KgDsDemJnRmB",
    "slideshow": {
     "slide_type": "subslide"
    }
   },
   "source": [
    "Such expressions are really useful for systematically modifying the elements in a list. Here are a couple more examples:"
   ]
  },
  {
   "cell_type": "code",
   "execution_count": 64,
   "metadata": {
    "colab": {
     "base_uri": "https://localhost:8080/"
    },
    "executionInfo": {
     "elapsed": 648,
     "status": "ok",
     "timestamp": 1607737467878,
     "user": {
      "displayName": "Benedict Paten",
      "photoUrl": "https://lh3.googleusercontent.com/a-/AOh14Gh2rYrrH6yoNnUp0Oj4p4ouybc6ZcWGyPmKFtIY=s64",
      "userId": "06399644931392855882"
     },
     "user_tz": 480
    },
    "id": "P0E0Vumsnary",
    "outputId": "831a40b5-6ef3-49c1-d506-28a6e2a1a39b",
    "slideshow": {
     "slide_type": "fragment"
    }
   },
   "outputs": [
    {
     "name": "stdout",
     "output_type": "stream",
     "text": [
      "['/my_dir/essay.doc', '/my_dir/draft.xls', '/my_dir/funny.jpg']\n"
     ]
    }
   ],
   "source": [
    "# Append a prefix string to a set of strings:\n",
    "\n",
    "x = [ \"essay.doc\", \"draft.xls\", \"funny.jpg\"] # Suppose we have a list of file names\n",
    "\n",
    "y = [ \"/my_dir/\" + i for i in x ]\n",
    "\n",
    "print(y)"
   ]
  },
  {
   "cell_type": "code",
   "execution_count": 65,
   "metadata": {
    "colab": {
     "base_uri": "https://localhost:8080/"
    },
    "executionInfo": {
     "elapsed": 521,
     "status": "ok",
     "timestamp": 1607737594833,
     "user": {
      "displayName": "Benedict Paten",
      "photoUrl": "https://lh3.googleusercontent.com/a-/AOh14Gh2rYrrH6yoNnUp0Oj4p4ouybc6ZcWGyPmKFtIY=s64",
      "userId": "06399644931392855882"
     },
     "user_tz": 480
    },
    "id": "jicsLbQmn0Zo",
    "outputId": "12d858d5-5f4e-4df9-cf45-a91c840606ff",
    "slideshow": {
     "slide_type": "fragment"
    }
   },
   "outputs": [
    {
     "name": "stdout",
     "output_type": "stream",
     "text": [
      "['tail', 'head', 'tail', 'tail', 'tail', 'tail', 'head', 'head', 'head', 'tail']\n"
     ]
    }
   ],
   "source": [
    "import random # this is a module for making random numbers, etc.\n",
    "\n",
    "y = [ \"head\" if random.random() > 0.5 else \"tail\" for i in range(10) ]\n",
    "\n",
    "print(y) # A sequence of random coin tosses"
   ]
  },
  {
   "cell_type": "markdown",
   "metadata": {
    "id": "qQRCtbt3oQvT",
    "slideshow": {
     "slide_type": "subslide"
    }
   },
   "source": [
    "The syntax also allows for a conditional in a list comprehension:"
   ]
  },
  {
   "cell_type": "code",
   "execution_count": 66,
   "metadata": {
    "colab": {
     "base_uri": "https://localhost:8080/"
    },
    "executionInfo": {
     "elapsed": 554,
     "status": "ok",
     "timestamp": 1607736658629,
     "user": {
      "displayName": "Benedict Paten",
      "photoUrl": "https://lh3.googleusercontent.com/a-/AOh14Gh2rYrrH6yoNnUp0Oj4p4ouybc6ZcWGyPmKFtIY=s64",
      "userId": "06399644931392855882"
     },
     "user_tz": 480
    },
    "id": "nHxDTSOgV_0y",
    "outputId": "dc0bad39-525c-425b-9a3f-88f225bc569e",
    "slideshow": {
     "slide_type": "fragment"
    }
   },
   "outputs": [
    {
     "name": "stdout",
     "output_type": "stream",
     "text": [
      "['a', 'list']\n"
     ]
    }
   ],
   "source": [
    "x = [ \"a\", 1, 2, \"list\"]\n",
    "\n",
    "l = [ i for i in x if type(i) == str ] # Makes a new list, l, containing only the strings\n",
    "# in x\n",
    "\n",
    "print(l)"
   ]
  },
  {
   "cell_type": "code",
   "execution_count": null,
   "metadata": {
    "id": "um2Ud7OckpGp",
    "slideshow": {
     "slide_type": "fragment"
    }
   },
   "outputs": [],
   "source": [
    "# The basic structure is:\n",
    "[ EXPRESSION1 for x in ITERABLE (optionally) if EXPRESSION2 ]\n",
    "\n",
    "# it is equivalent to writing:\n",
    "# l = []\n",
    "# for x in ITERABLE:\n",
    "#   if EXPRESSION2:\n",
    "#       l.append(EXPRESSION1)"
   ]
  },
  {
   "cell_type": "markdown",
   "metadata": {
    "id": "eos0g3HqXvRW",
    "slideshow": {
     "slide_type": "fragment"
    }
   },
   "source": [
    "You can always do this with more code, but these shorthands are succinct and save code.\n",
    "\n",
    "Here's one more example:"
   ]
  },
  {
   "cell_type": "code",
   "execution_count": 6,
   "metadata": {
    "colab": {
     "base_uri": "https://localhost:8080/"
    },
    "executionInfo": {
     "elapsed": 543,
     "status": "ok",
     "timestamp": 1607737831584,
     "user": {
      "displayName": "Benedict Paten",
      "photoUrl": "https://lh3.googleusercontent.com/a-/AOh14Gh2rYrrH6yoNnUp0Oj4p4ouybc6ZcWGyPmKFtIY=s64",
      "userId": "06399644931392855882"
     },
     "user_tz": 480
    },
    "id": "BoiDUhozYDff",
    "outputId": "09c88139-6660-4d7f-b0fc-fe96331982ba",
    "slideshow": {
     "slide_type": "subslide"
    }
   },
   "outputs": [
    {
     "data": {
      "text/plain": [
       "2"
      ]
     },
     "execution_count": 6,
     "metadata": {},
     "output_type": "execute_result"
    }
   ],
   "source": [
    "def how_many_strings(x):\n",
    "  \"\"\" Returns the number of strings in x, where x is a list or equivalent. \"\"\"\n",
    "  j = 0\n",
    "  for i in x:\n",
    "    if type(i) == str:\n",
    "      j += 1\n",
    "  return j\n",
    "\n",
    "# This can be accomplished equivalently:\n",
    "\n",
    "def how_many_strings2(x):\n",
    "  \"\"\" Returns the number of strings in x, where x is a list or equivalent. \"\"\"\n",
    "  return len([ None for i in x if type(i) == str ])\n",
    "\n",
    "\n",
    "how_many_strings2([ 1, \"a\", \"string\", 6, (7,), [ 5, 6] ])\n"
   ]
  },
  {
   "cell_type": "markdown",
   "metadata": {
    "id": "eos0g3HqXvRW",
    "slideshow": {
     "slide_type": "notes"
    }
   },
   "source": [
    "Here's another interesting example:"
   ]
  },
  {
   "cell_type": "code",
   "execution_count": 12,
   "metadata": {
    "colab": {
     "base_uri": "https://localhost:8080/"
    },
    "executionInfo": {
     "elapsed": 543,
     "status": "ok",
     "timestamp": 1607737831584,
     "user": {
      "displayName": "Benedict Paten",
      "photoUrl": "https://lh3.googleusercontent.com/a-/AOh14Gh2rYrrH6yoNnUp0Oj4p4ouybc6ZcWGyPmKFtIY=s64",
      "userId": "06399644931392855882"
     },
     "user_tz": 480
    },
    "id": "BoiDUhozYDff",
    "outputId": "09c88139-6660-4d7f-b0fc-fe96331982ba",
    "slideshow": {
     "slide_type": "notes"
    }
   },
   "outputs": [
    {
     "name": "stdout",
     "output_type": "stream",
     "text": [
      "[1, 2, 3, 4, 5, 6, 7]\n"
     ]
    }
   ],
   "source": [
    "def flat_list_elements(x):\n",
    "  \"\"\" Returns the flattened version of one level nested list. \"\"\"\n",
    "  new_list = []\n",
    "  for i in x:\n",
    "    if type(i) == list:\n",
    "      new_list.extend(i)\n",
    "    else:\n",
    "      new_list.append(i)\n",
    "  return new_list\n",
    "\n",
    "# This can be accomplished equivalently:\n",
    "\n",
    "def flat_list_elements2(x):\n",
    "  \"\"\" Returns the flatted version of one level nested list. \"\"\"\n",
    "  new_list = []\n",
    "  [new_list.extend(i) if type(i) == list else new_list.append(i) for i in x] # In this case the list created\n",
    "  # is a side effect and not used\n",
    "  return new_list\n",
    "\n",
    "\n",
    "print(flat_list_elements2([[1], [2, 3], 4, [5, 6, 7]]))\n"
   ]
  },
  {
   "cell_type": "markdown",
   "metadata": {
    "slideshow": {
     "slide_type": "subslide"
    }
   },
   "source": [
    "# Challenge 3"
   ]
  },
  {
   "cell_type": "code",
   "execution_count": 21,
   "metadata": {
    "slideshow": {
     "slide_type": "fragment"
    }
   },
   "outputs": [
    {
     "name": "stdout",
     "output_type": "stream",
     "text": [
      "[0, 1, 4, 9, 16, 25, 36, 49, 64, 81]\n",
      "[0, 4, 16, 36, 64]\n"
     ]
    }
   ],
   "source": [
    "# (Q1) Write a list comprehension to calculate the first 10 square numbers.\n",
    "\n",
    "print(x)\n",
    "\n",
    "# (Q2) Write a list comprehension that produces a modified list excluding any odd numbers.\n",
    "\n",
    "print(y)"
   ]
  },
  {
   "cell_type": "markdown",
   "metadata": {
    "id": "VUnSbmkzyKwd",
    "slideshow": {
     "slide_type": "slide"
    }
   },
   "source": [
    "# More Dictionaries\n",
    "\n",
    "Reminder: Dictionaries are maps from a set of keys to a set of values\n",
    "\n",
    "* Dictionaries are defined by curly braces {}\n",
    "\n",
    "* They are a collection of key:value pairs, each pair separated by a comma.\n",
    "\n",
    "* Keys and values can be most Python objects, e.g: { 1:\"hello\", \"two\":True }\n",
    "\n",
    "* You look up elements in a dictionary using square bracket notation:"
   ]
  },
  {
   "cell_type": "code",
   "execution_count": 68,
   "metadata": {
    "id": "Fv6ucZiFYbG9",
    "slideshow": {
     "slide_type": "fragment"
    }
   },
   "outputs": [],
   "source": [
    "english_to_spanish = {\"two\": \"dos\", \"one\": \"uno\", \"three\":\"tres\"}\n",
    "\n",
    "fruit_costs = {\"apples\": 430, \"bananas\": 312, \"oranges\": 525, \"pears\": 217}"
   ]
  },
  {
   "cell_type": "markdown",
   "metadata": {
    "id": "4AG7-8nxG72y",
    "slideshow": {
     "slide_type": "fragment"
    }
   },
   "source": [
    "As a reminder:\n",
    "\n",
    "* **No duplicate keys**: You can't have duplicate keys in a dictionary\n",
    "\n",
    "* **Duplicate values are allowed**\n",
    "\n",
    "* **Dictionaries are mutable**"
   ]
  },
  {
   "cell_type": "markdown",
   "metadata": {
    "id": "cllbkzV11E5m",
    "slideshow": {
     "slide_type": "slide"
    }
   },
   "source": [
    "# Why use dictionaries?\n",
    "\n",
    "* Dictionaries are convenient - it is surprising how often we want to create maps from one set to another.\n",
    "\n",
    "* Dictionaries are fast: \n",
    "    * The cost of looking up a key value pair in a dictionary is a constant time operation (denoted O(1) - we'll get into this a bit more later). In contrast checking if something is in a list costs N operations where N is the length of the list (denoted O(N)). \n",
    "    * Addition, removal and update operations are all O(1) on dictionaries.\n",
    "\n",
    "\n",
    "\n",
    "\n",
    "\n"
   ]
  },
  {
   "cell_type": "markdown",
   "metadata": {
    "id": "y447PK6z97Q-",
    "slideshow": {
     "slide_type": "notes"
    }
   },
   "source": [
    "# How do dictionaries work?\n",
    "\n",
    "* AFAIK, all Python Dictionaries are implemented as hash tables. Hash tables are a fundamental data structure that use a \"hash function\".\n",
    "\n",
    "* A hash function is a function that maps from a set of keys to some finite number of addresses (think a discrete interval of memory)\n",
    "\n",
    "* In a hash table each address of the codomain of the hash function has an associated bucket\n",
    "\n",
    "* To lookup an element in a hash table the value of the hash function for a given key is computed and the resulting value is used to look up a corresponding bucket where the value is stored. Collisions (where two keys map to the same bucket), are dealt with by comparing entries for equality. \n",
    "\n",
    "\n",
    "<img src=\"https://upload.wikimedia.org/wikipedia/commons/thumb/7/7d/Hash_table_3_1_1_0_1_0_0_SP.svg/1920px-Hash_table_3_1_1_0_1_0_0_SP.svg.png\" width=400 height=200 />\n",
    "\n",
    "* Assuming collisions are rare, hash tables have O(1) performance. \n",
    "\n",
    "* For details: https://en.wikipedia.org/wiki/Hash_table\n",
    "  \n"
   ]
  },
  {
   "cell_type": "markdown",
   "metadata": {
    "id": "DgeYKrJr73pH",
    "slideshow": {
     "slide_type": "slide"
    }
   },
   "source": [
    "# More Dictionary Odds and Ends\n",
    "\n",
    "**Some types can't be keys**:"
   ]
  },
  {
   "cell_type": "code",
   "execution_count": 3,
   "metadata": {
    "colab": {
     "base_uri": "https://localhost:8080/",
     "height": 164
    },
    "executionInfo": {
     "elapsed": 1117,
     "status": "error",
     "timestamp": 1606701189298,
     "user": {
      "displayName": "Benedict Paten",
      "photoUrl": "https://lh3.googleusercontent.com/a-/AOh14Gh2rYrrH6yoNnUp0Oj4p4ouybc6ZcWGyPmKFtIY=s64",
      "userId": "06399644931392855882"
     },
     "user_tz": 480
    },
    "id": "C28zdECb79aj",
    "outputId": "265eb2f4-febf-4c52-f7bc-47e9510cd64a",
    "slideshow": {
     "slide_type": "fragment"
    }
   },
   "outputs": [
    {
     "ename": "TypeError",
     "evalue": "unhashable type: 'list'",
     "output_type": "error",
     "traceback": [
      "\u001b[0;31m---------------------------------------------------------------------------\u001b[0m",
      "\u001b[0;31mTypeError\u001b[0m                                 Traceback (most recent call last)",
      "\u001b[0;32m/var/folders/ft/hp0lkfys73s96bby40t4tnnr0000gn/T/ipykernel_97814/3999791386.py\u001b[0m in \u001b[0;36m<module>\u001b[0;34m\u001b[0m\n\u001b[0;32m----> 1\u001b[0;31m \u001b[0;34m{\u001b[0m \u001b[0;34m[\u001b[0m \u001b[0;36m1\u001b[0m\u001b[0;34m,\u001b[0m \u001b[0;34m]\u001b[0m\u001b[0;34m:\u001b[0m\u001b[0;34m\"hello\"\u001b[0m\u001b[0;34m}\u001b[0m \u001b[0;31m# Lists can't be keys because they are mutable\u001b[0m\u001b[0;34m\u001b[0m\u001b[0;34m\u001b[0m\u001b[0m\n\u001b[0m",
      "\u001b[0;31mTypeError\u001b[0m: unhashable type: 'list'"
     ]
    }
   ],
   "source": [
    "{ [ 1, ]:\"hello\"} # Lists can't be keys because they are mutable"
   ]
  },
  {
   "cell_type": "code",
   "execution_count": 4,
   "metadata": {
    "id": "9nRKbe1W8Kco",
    "slideshow": {
     "slide_type": "fragment"
    }
   },
   "outputs": [
    {
     "data": {
      "text/plain": [
       "{(1,): 'hello'}"
      ]
     },
     "execution_count": 4,
     "metadata": {},
     "output_type": "execute_result"
    }
   ],
   "source": [
    "{ (1,):\"hello\"} # However, tuples, being immutable, can - another reason to use tuples"
   ]
  },
  {
   "cell_type": "markdown",
   "metadata": {
    "id": "WBx9Zb0w2hR3",
    "slideshow": {
     "slide_type": "subslide"
    }
   },
   "source": [
    "**Get the Keys**: To get the set of keys in a dictionary do this:"
   ]
  },
  {
   "cell_type": "code",
   "execution_count": 5,
   "metadata": {
    "id": "v8-YP9Q92mHv",
    "slideshow": {
     "slide_type": "fragment"
    }
   },
   "outputs": [
    {
     "data": {
      "text/plain": [
       "dict_keys(['apples', 'bananas', 'oranges', 'pears'])"
      ]
     },
     "execution_count": 5,
     "metadata": {},
     "output_type": "execute_result"
    }
   ],
   "source": [
    "fruit_costs = {\"apples\": 430, \"bananas\": 312, \"oranges\": 525, \"pears\": 217}\n",
    "\n",
    "fruit_costs.keys() # This will contain no duplicates"
   ]
  },
  {
   "cell_type": "markdown",
   "metadata": {
    "id": "MVEmTnsK8pWj",
    "slideshow": {
     "slide_type": "subslide"
    }
   },
   "source": [
    "**Get the Values**:"
   ]
  },
  {
   "cell_type": "code",
   "execution_count": 2,
   "metadata": {
    "id": "1aiUlgD923bE",
    "slideshow": {
     "slide_type": "fragment"
    }
   },
   "outputs": [
    {
     "data": {
      "text/plain": [
       "dict_values([430, 312, 525, 217])"
      ]
     },
     "execution_count": 2,
     "metadata": {},
     "output_type": "execute_result"
    }
   ],
   "source": [
    "fruit_costs = {\"apples\": 430, \"bananas\": 312, \"oranges\": 525, \"pears\": 217}\n",
    "\n",
    "fruit_costs.values() # This could contain duplicates"
   ]
  },
  {
   "cell_type": "markdown",
   "metadata": {
    "id": "fX97c6O3zPdR",
    "slideshow": {
     "slide_type": "subslide"
    }
   },
   "source": [
    "**Dictionary syntax is consistent with other Python types**: Much of the same stuff that works with lists works with dictionaries:\n",
    "\n",
    "(I'm not covering every function and keyword here - but use you knowledge and intuition to test what works)"
   ]
  },
  {
   "cell_type": "code",
   "execution_count": 7,
   "metadata": {
    "id": "xJYUeoLr0hu1",
    "slideshow": {
     "slide_type": "fragment"
    }
   },
   "outputs": [
    {
     "data": {
      "text/plain": [
       "4"
      ]
     },
     "execution_count": 7,
     "metadata": {},
     "output_type": "execute_result"
    }
   ],
   "source": [
    "fruit_costs = {\"apples\": 430, \"bananas\": 312, \"oranges\": 525, \"pears\": 217}\n",
    "\n",
    "len(fruit_costs) # The number of key value pairs in a"
   ]
  },
  {
   "cell_type": "code",
   "execution_count": 8,
   "metadata": {
    "id": "HrwojH_m0i1j",
    "slideshow": {
     "slide_type": "fragment"
    }
   },
   "outputs": [
    {
     "name": "stdout",
     "output_type": "stream",
     "text": [
      "{'bananas': 312, 'oranges': 525, 'pears': 217}\n"
     ]
    }
   ],
   "source": [
    "del fruit_costs[\"apples\"] # Removes the key value pair 1:\"hello\"\n",
    "\n",
    "print(fruit_costs)"
   ]
  },
  {
   "cell_type": "code",
   "execution_count": 9,
   "metadata": {
    "id": "w5ZWTNvE03a0",
    "slideshow": {
     "slide_type": "fragment"
    }
   },
   "outputs": [
    {
     "name": "stdout",
     "output_type": "stream",
     "text": [
      "{'bananas': 312, 'pears': 217}\n"
     ]
    }
   ],
   "source": [
    "fruit_costs.pop(\"oranges\") # This is like del\n",
    "\n",
    "print(fruit_costs)"
   ]
  },
  {
   "cell_type": "markdown",
   "metadata": {
    "slideshow": {
     "slide_type": "subslide"
    }
   },
   "source": [
    "**For loops on dictionaries**"
   ]
  },
  {
   "cell_type": "code",
   "execution_count": 10,
   "metadata": {
    "id": "WLbV_bCJ3ix2",
    "slideshow": {
     "slide_type": "fragment"
    }
   },
   "outputs": [
    {
     "name": "stdout",
     "output_type": "stream",
     "text": [
      "apples 430\n",
      "bananas 312\n",
      "oranges 525\n",
      "pears 217\n"
     ]
    }
   ],
   "source": [
    "fruit_costs = {\"apples\": 430, \"bananas\": 312, \"oranges\": 525, \"pears\": 217}\n",
    "\n",
    "for i in fruit_costs: # A for loop over the keys in the dictionary\n",
    "   print(i, fruit_costs[i])"
   ]
  },
  {
   "cell_type": "markdown",
   "metadata": {
    "slideshow": {
     "slide_type": "subslide"
    }
   },
   "source": [
    "**Testing key membership**"
   ]
  },
  {
   "cell_type": "code",
   "execution_count": 11,
   "metadata": {
    "id": "xoprZtmkDZ1w",
    "slideshow": {
     "slide_type": "fragment"
    }
   },
   "outputs": [
    {
     "data": {
      "text/plain": [
       "True"
      ]
     },
     "execution_count": 11,
     "metadata": {},
     "output_type": "execute_result"
    }
   ],
   "source": [
    "fruit_costs = {\"apples\": 430, \"bananas\": 312, \"oranges\": 525, \"pears\": 217}\n",
    "\n",
    "# Test for key membership using \"in\" and \"not in\"\n",
    "\n",
    "\"apples\" in fruit_costs"
   ]
  },
  {
   "cell_type": "code",
   "execution_count": 12,
   "metadata": {
    "id": "JFQBHSPKDubU",
    "slideshow": {
     "slide_type": "fragment"
    }
   },
   "outputs": [
    {
     "data": {
      "text/plain": [
       "True"
      ]
     },
     "execution_count": 12,
     "metadata": {},
     "output_type": "execute_result"
    }
   ],
   "source": [
    "\"passion fruit\" not in fruit_costs # Not in"
   ]
  },
  {
   "cell_type": "code",
   "execution_count": 13,
   "metadata": {
    "id": "Uqgqwm80Dl4p",
    "slideshow": {
     "slide_type": "fragment"
    }
   },
   "outputs": [
    {
     "data": {
      "text/plain": [
       "False"
      ]
     },
     "execution_count": 13,
     "metadata": {},
     "output_type": "execute_result"
    }
   ],
   "source": [
    "217 in fruit_costs # This is membership of the set of keys, not the values!"
   ]
  },
  {
   "cell_type": "markdown",
   "metadata": {
    "slideshow": {
     "slide_type": "subslide"
    }
   },
   "source": [
    "**Dictionary comprehensions**\n",
    "\n",
    "Lastly, like list comprehensions, Python provides a convenient syntax for mashing up loops, conditionals and dictionaries - dictionary comprehensions."
   ]
  },
  {
   "cell_type": "code",
   "execution_count": 18,
   "metadata": {
    "colab": {
     "base_uri": "https://localhost:8080/"
    },
    "executionInfo": {
     "elapsed": 556,
     "status": "ok",
     "timestamp": 1607824477813,
     "user": {
      "displayName": "Benedict Paten",
      "photoUrl": "https://lh3.googleusercontent.com/a-/AOh14Gh2rYrrH6yoNnUp0Oj4p4ouybc6ZcWGyPmKFtIY=s64",
      "userId": "06399644931392855882"
     },
     "user_tz": 480
    },
    "id": "oCraFP6uzjDn",
    "outputId": "dec8281e-db88-448d-ac17-4272a12130c5",
    "slideshow": {
     "slide_type": "fragment"
    }
   },
   "outputs": [
    {
     "data": {
      "text/plain": [
       "{0: 0, 1: 2, 2: 4, 3: 6, 4: 8, 5: 10, 6: 12, 7: 14, 8: 16, 9: 18}"
      ]
     },
     "execution_count": 18,
     "metadata": {},
     "output_type": "execute_result"
    }
   ],
   "source": [
    "# Dictionary comprehension\n",
    "\n",
    "{ i : i*2 for i in range(10) } # Like a list comprehension, \n",
    "# but instead you iterate to produce a sequence of key:value pairs"
   ]
  },
  {
   "cell_type": "code",
   "execution_count": null,
   "metadata": {
    "slideshow": {
     "slide_type": "fragment"
    }
   },
   "outputs": [],
   "source": [
    "# The basic structure is:\n",
    "{ KEY:VALUE for x in ITERABLE (optionally) if EXPRESSION2 }\n",
    "\n",
    "# it is equivalent to writing:\n",
    "# d = {}\n",
    "# for x in ITERABLE:\n",
    "#   if EXPRESSION2:\n",
    "#       d[KEY] = VALUE"
   ]
  },
  {
   "cell_type": "markdown",
   "metadata": {
    "slideshow": {
     "slide_type": "subslide"
    }
   },
   "source": [
    "# Challenge 4"
   ]
  },
  {
   "cell_type": "code",
   "execution_count": 24,
   "metadata": {
    "slideshow": {
     "slide_type": "fragment"
    }
   },
   "outputs": [
    {
     "name": "stdout",
     "output_type": "stream",
     "text": [
      "{'Dave': '831-123-4567', 'Mobin': '821-678-1234', 'Marina': '805-789-3456'}\n",
      "{'Dave': '831-123-4567', 'Mobin': '821-678-1234', 'Marina': '805-789-3456'}\n"
     ]
    }
   ],
   "source": [
    "x = [ (\"Dave\", \"Davies\", \"831-123-4567\"), (\"Mobin\", \"Shafin\", \"821-678-1234\"), (\"Marina\", \"Chang\", \"805-789-3456\")]\n",
    "\n",
    "# Q1: Use a for loop to build a dictionary, d, of first names to \n",
    "# phone numbers from x, note each tuple in x is (first name, last name, phone number)\n",
    "\n",
    "\n",
    "# Q2: Use a dictionary comphrehension to do the same thing as in Q1.\n"
   ]
  },
  {
   "cell_type": "markdown",
   "metadata": {
    "id": "nUHlh0rO4BbL",
    "slideshow": {
     "slide_type": "slide"
    }
   },
   "source": [
    "# Sets"
   ]
  },
  {
   "cell_type": "markdown",
   "metadata": {
    "id": "quX1f5Ef4DX_",
    "slideshow": {
     "slide_type": "fragment"
    }
   },
   "source": [
    "* In Python, sets are collections of **unique, unordered** elements. \n",
    "\n",
    "* Like dictionaries, sets are (AFAIK), hash based, so they offer constant time (O(1)) cost membership operations.\n",
    "\n",
    "* If you've done any discrete math, you'll appreciate Python provides awesome set functionality."
   ]
  },
  {
   "cell_type": "code",
   "execution_count": 5,
   "metadata": {
    "colab": {
     "base_uri": "https://localhost:8080/"
    },
    "executionInfo": {
     "elapsed": 785,
     "status": "ok",
     "timestamp": 1607824753189,
     "user": {
      "displayName": "Benedict Paten",
      "photoUrl": "https://lh3.googleusercontent.com/a-/AOh14Gh2rYrrH6yoNnUp0Oj4p4ouybc6ZcWGyPmKFtIY=s64",
      "userId": "06399644931392855882"
     },
     "user_tz": 480
    },
    "id": "QrIsxGIjODvd",
    "outputId": "44f3b77c-1b09-426e-c4dd-136dc7d4f7e5",
    "slideshow": {
     "slide_type": "fragment"
    }
   },
   "outputs": [
    {
     "name": "stdout",
     "output_type": "stream",
     "text": [
      "The tokenized alice text ['Alice', 'was', 'beginning', 'to', 'get', 'very', 'tired', 'of', 'sitting', 'by', 'her', 'sister', 'on', 'the', 'bank,', 'and', 'of', 'having', 'nothing', 'to', 'do:', 'once', 'or', 'twice', 'she', 'had', 'peeped', 'into', 'the', 'book', 'her', 'sister', 'was', 'reading,', 'but', 'it', 'had', 'no', 'pictures', 'or', 'conversations', 'in', 'it,', '`and', 'what', 'is', 'the', 'use', 'of', 'a', \"book,'\", 'thought', 'Alice', '`without', 'pictures', 'or', \"conversation?'\"]\n",
      "{'twice', 'what', 'of', 'bank,', 'is', 'tired', '`and', 'book', 'but', 'thought', 'pictures', 'it,', 'sitting', 'sister', 'once', 'on', 'do:', 'very', 'by', 'and', 'conversations', 'in', 'peeped', \"book,'\", 'beginning', \"conversation?'\", 'having', 'was', 'Alice', 'reading,', 'get', '`without', 'or', 'had', 'to', 'no', 'her', 'into', 'a', 'nothing', 'she', 'use', 'the', 'it'}\n",
      "In Alice there are 57 words and 44 unique words\n"
     ]
    }
   ],
   "source": [
    "alice_text = \"\"\"Alice was beginning to get very tired of sitting by her sister on the bank, \n",
    "and of having nothing to do: once or twice she had peeped into the book her sister was reading, \n",
    "but it had no pictures or conversations in it, `and what is the use of a book,' \n",
    "thought Alice `without pictures or conversation?'\"\"\"\n",
    "\n",
    "alice_words = alice_text.split() # This breaks up alice into a sequence of word, removing\n",
    "# the white space\n",
    "\n",
    "print(\"The tokenized alice text\", alice_words)\n",
    "\n",
    "s = set(alice_words)\n",
    "\n",
    "print(s)\n",
    "\n",
    "print(\"In Alice there are {} words and {} unique words\".format(len(alice_words), len(s)))\n"
   ]
  },
  {
   "cell_type": "markdown",
   "metadata": {
    "slideshow": {
     "slide_type": "subslide"
    }
   },
   "source": [
    "**Sets can be created using curly brackets**\n",
    "\n",
    "Like dictionaries, you can create a set with curly brackets, the difference being with sets you omit the colons to indicate key-value pairs."
   ]
  },
  {
   "cell_type": "code",
   "execution_count": 3,
   "metadata": {
    "slideshow": {
     "slide_type": "fragment"
    }
   },
   "outputs": [
    {
     "name": "stdout",
     "output_type": "stream",
     "text": [
      "{'did', 'a', 'lot', 'good', 'of', 'that'}\n"
     ]
    }
   ],
   "source": [
    "s2 = { \"a\", \"lot\", \"of\", \"good\", \"that\", \"did\", \"a\", \"lot\"}\n",
    "\n",
    "print(s2) # Note, sets are unordered"
   ]
  },
  {
   "cell_type": "code",
   "execution_count": 11,
   "metadata": {
    "slideshow": {
     "slide_type": "fragment"
    }
   },
   "outputs": [
    {
     "data": {
      "text/plain": [
       "dict"
      ]
     },
     "execution_count": 11,
     "metadata": {},
     "output_type": "execute_result"
    }
   ],
   "source": [
    "# Note, if you want to create an empty set do this:\n",
    "\n",
    "x = set()  \n",
    "\n",
    "# If you write:\n",
    "\n",
    "x = {}\n",
    "\n",
    "type(x) # You make an empty dictionary instead"
   ]
  },
  {
   "cell_type": "markdown",
   "metadata": {
    "id": "HP_pAkCjOjfU",
    "slideshow": {
     "slide_type": "subslide"
    }
   },
   "source": [
    "**All the basic Python op things work with sets:**"
   ]
  },
  {
   "cell_type": "code",
   "execution_count": 74,
   "metadata": {
    "colab": {
     "base_uri": "https://localhost:8080/"
    },
    "executionInfo": {
     "elapsed": 866,
     "status": "ok",
     "timestamp": 1607825419135,
     "user": {
      "displayName": "Benedict Paten",
      "photoUrl": "https://lh3.googleusercontent.com/a-/AOh14Gh2rYrrH6yoNnUp0Oj4p4ouybc6ZcWGyPmKFtIY=s64",
      "userId": "06399644931392855882"
     },
     "user_tz": 480
    },
    "id": "o-YI_JoHPc8_",
    "outputId": "97631102-6e70-4356-858c-d425cf0e2749",
    "slideshow": {
     "slide_type": "fragment"
    }
   },
   "outputs": [
    {
     "data": {
      "text/plain": [
       "True"
      ]
     },
     "execution_count": 74,
     "metadata": {},
     "output_type": "execute_result"
    }
   ],
   "source": [
    "\"Alice\" in s"
   ]
  },
  {
   "cell_type": "code",
   "execution_count": 75,
   "metadata": {
    "colab": {
     "base_uri": "https://localhost:8080/"
    },
    "executionInfo": {
     "elapsed": 534,
     "status": "ok",
     "timestamp": 1607824712106,
     "user": {
      "displayName": "Benedict Paten",
      "photoUrl": "https://lh3.googleusercontent.com/a-/AOh14Gh2rYrrH6yoNnUp0Oj4p4ouybc6ZcWGyPmKFtIY=s64",
      "userId": "06399644931392855882"
     },
     "user_tz": 480
    },
    "id": "7NaxiefNPGD7",
    "outputId": "26db2131-3a11-4e78-fd05-28a581c6c567",
    "slideshow": {
     "slide_type": "fragment"
    }
   },
   "outputs": [
    {
     "name": "stdout",
     "output_type": "stream",
     "text": [
      "nothing\n",
      "Alice\n",
      "pictures\n",
      "get\n",
      "tired\n",
      "`and\n",
      "no\n",
      "her\n",
      "into\n",
      "on\n",
      "very\n",
      "conversations\n",
      "by\n",
      "book,'\n",
      "or\n",
      "and\n",
      "bank,\n",
      "in\n",
      "but\n",
      "was\n",
      "the\n",
      "`without\n",
      "it\n",
      "she\n",
      "what\n",
      "beginning\n",
      "it,\n",
      "is\n",
      "book\n",
      "twice\n",
      "to\n",
      "do:\n",
      "use\n",
      "of\n",
      "once\n",
      "a\n",
      "had\n",
      "sitting\n",
      "peeped\n",
      "conversation?'\n",
      "reading,\n",
      "having\n",
      "sister\n",
      "thought\n"
     ]
    }
   ],
   "source": [
    "for i in s: #Yup, for loops\n",
    "  print(i)"
   ]
  },
  {
   "cell_type": "markdown",
   "metadata": {
    "id": "QdkNn4NsQvlo",
    "slideshow": {
     "slide_type": "subslide"
    }
   },
   "source": [
    "**Don't expect the ordering to be meaningful:**"
   ]
  },
  {
   "cell_type": "code",
   "execution_count": 5,
   "metadata": {
    "colab": {
     "base_uri": "https://localhost:8080/"
    },
    "executionInfo": {
     "elapsed": 820,
     "status": "ok",
     "timestamp": 1607825432511,
     "user": {
      "displayName": "Benedict Paten",
      "photoUrl": "https://lh3.googleusercontent.com/a-/AOh14Gh2rYrrH6yoNnUp0Oj4p4ouybc6ZcWGyPmKFtIY=s64",
      "userId": "06399644931392855882"
     },
     "user_tz": 480
    },
    "id": "9JJHsd7sQ0C4",
    "outputId": "566edb42-0738-42dd-fab7-eac47f632bf6",
    "slideshow": {
     "slide_type": "fragment"
    }
   },
   "outputs": [
    {
     "name": "stdout",
     "output_type": "stream",
     "text": [
      "{'list', 'of', 'strings', 'a'}\n"
     ]
    }
   ],
   "source": [
    "x = { \"a\", \"list\", \"of\", \"strings\" }\n",
    "\n",
    "print(x) # Sets are unordered"
   ]
  },
  {
   "cell_type": "markdown",
   "metadata": {
    "id": "csBfbr6cP51c",
    "slideshow": {
     "slide_type": "subslide"
    }
   },
   "source": [
    "**Python offers set theoretic ops:**"
   ]
  },
  {
   "cell_type": "code",
   "execution_count": 7,
   "metadata": {
    "colab": {
     "base_uri": "https://localhost:8080/"
    },
    "executionInfo": {
     "elapsed": 728,
     "status": "ok",
     "timestamp": 1607825435549,
     "user": {
      "displayName": "Benedict Paten",
      "photoUrl": "https://lh3.googleusercontent.com/a-/AOh14Gh2rYrrH6yoNnUp0Oj4p4ouybc6ZcWGyPmKFtIY=s64",
      "userId": "06399644931392855882"
     },
     "user_tz": 480
    },
    "id": "Qkg1hkvQQbKy",
    "outputId": "3a4b8134-1e65-4371-8641-d840cadf97f3",
    "slideshow": {
     "slide_type": "fragment"
    }
   },
   "outputs": [
    {
     "name": "stdout",
     "output_type": "stream",
     "text": [
      "{1, 2, 3, 4, 5, 6}\n"
     ]
    }
   ],
   "source": [
    "x = { 1, 2, 3, 4 }\n",
    "y = { 3, 4, 5, 6 }\n",
    "\n",
    "print(x.union(y)) # Set union\n"
   ]
  },
  {
   "cell_type": "code",
   "execution_count": 78,
   "metadata": {
    "colab": {
     "base_uri": "https://localhost:8080/",
     "height": 34
    },
    "executionInfo": {
     "elapsed": 427,
     "status": "ok",
     "timestamp": 1572999693052,
     "user": {
      "displayName": "Benedict Paten",
      "photoUrl": "https://lh3.googleusercontent.com/a-/AAuE7mBMnWy8dDR7jyTHNy9tPaRx6DCyA3QKrIcuQ7R4=s64",
      "userId": "06399644931392855882"
     },
     "user_tz": 480
    },
    "id": "aNupDOm6RFm9",
    "outputId": "522805b4-3dc5-4343-aced-bdce879919b9",
    "slideshow": {
     "slide_type": "fragment"
    }
   },
   "outputs": [
    {
     "name": "stdout",
     "output_type": "stream",
     "text": [
      "{3, 4}\n"
     ]
    }
   ],
   "source": [
    "print(x.intersection(y)) # Set intersection"
   ]
  },
  {
   "cell_type": "code",
   "execution_count": 79,
   "metadata": {
    "colab": {
     "base_uri": "https://localhost:8080/",
     "height": 34
    },
    "executionInfo": {
     "elapsed": 347,
     "status": "ok",
     "timestamp": 1572999697132,
     "user": {
      "displayName": "Benedict Paten",
      "photoUrl": "https://lh3.googleusercontent.com/a-/AAuE7mBMnWy8dDR7jyTHNy9tPaRx6DCyA3QKrIcuQ7R4=s64",
      "userId": "06399644931392855882"
     },
     "user_tz": 480
    },
    "id": "jALlNbiARLlU",
    "outputId": "9c8ca8ac-3953-4a99-e820-fae8858fc62c",
    "slideshow": {
     "slide_type": "fragment"
    }
   },
   "outputs": [
    {
     "name": "stdout",
     "output_type": "stream",
     "text": [
      "{1, 2}\n"
     ]
    }
   ],
   "source": [
    "print(x.difference(y)) # This is x - y"
   ]
  },
  {
   "cell_type": "markdown",
   "metadata": {
    "slideshow": {
     "slide_type": "subslide"
    }
   },
   "source": [
    "**You can also do set comprehensions**"
   ]
  },
  {
   "cell_type": "code",
   "execution_count": 10,
   "metadata": {
    "slideshow": {
     "slide_type": "fragment"
    }
   },
   "outputs": [
    {
     "data": {
      "text/plain": [
       "{'A',\n",
       " 'ALICE',\n",
       " 'AND',\n",
       " 'BANK,',\n",
       " 'BEGINNING',\n",
       " 'BOOK',\n",
       " \"BOOK,'\",\n",
       " 'BUT',\n",
       " 'BY',\n",
       " \"CONVERSATION?'\",\n",
       " 'CONVERSATIONS',\n",
       " 'DO:',\n",
       " 'GET',\n",
       " 'HAD',\n",
       " 'HAVING',\n",
       " 'HER',\n",
       " 'IN',\n",
       " 'INTO',\n",
       " 'IS',\n",
       " 'IT',\n",
       " 'IT,',\n",
       " 'NO',\n",
       " 'NOTHING',\n",
       " 'OF',\n",
       " 'ON',\n",
       " 'ONCE',\n",
       " 'OR',\n",
       " 'PEEPED',\n",
       " 'PICTURES',\n",
       " 'READING,',\n",
       " 'SHE',\n",
       " 'SISTER',\n",
       " 'SITTING',\n",
       " 'THE',\n",
       " 'THOUGHT',\n",
       " 'TIRED',\n",
       " 'TO',\n",
       " 'TWICE',\n",
       " 'USE',\n",
       " 'VERY',\n",
       " 'WAS',\n",
       " 'WHAT',\n",
       " '`AND',\n",
       " '`WITHOUT'}"
      ]
     },
     "execution_count": 10,
     "metadata": {},
     "output_type": "execute_result"
    }
   ],
   "source": [
    "{ a.upper() for a in alice_words } # Alice, but shouting"
   ]
  },
  {
   "cell_type": "code",
   "execution_count": null,
   "metadata": {},
   "outputs": [],
   "source": [
    "# The general format is like a list comprehension, but instead with the curly brackets\n",
    "\n",
    "# The basic structure is:\n",
    "{ EXPRESSION1 for x in ITERABLE (optionally) if EXPRESSION2 }\n",
    "\n",
    "# it is equivalent to writing:\n",
    "# l = set()\n",
    "# for x in ITERABLE:\n",
    "#   if EXPRESSION2:\n",
    "#       l.add(EXPRESSION1)"
   ]
  },
  {
   "cell_type": "markdown",
   "metadata": {
    "slideshow": {
     "slide_type": "subslide"
    }
   },
   "source": [
    "# Challenge 5"
   ]
  },
  {
   "cell_type": "code",
   "execution_count": 7,
   "metadata": {
    "slideshow": {
     "slide_type": "fragment"
    }
   },
   "outputs": [
    {
     "name": "stdout",
     "output_type": "stream",
     "text": [
      "There are 13 words in both alice and dickens\n",
      "There are 187 words in both alice and dickens\n"
     ]
    }
   ],
   "source": [
    "dickens_text = \"\"\"My father’s family name being Pirrip, and my Christian name Philip, \n",
    "my infant tongue could make of both names nothing longer or more explicit than Pip. \n",
    "So, I called myself Pip, and came to be called Pip.I give Pirrip as my father’s family name, \n",
    "on the authority of his tombstone and my sister,—Mrs. Joe Gargery, who married the blacksmith. \n",
    "As I never saw my father or my mother, and never saw any likeness of either of them \n",
    "(for their days were long before the days of photographs), my first fancies regarding what they \n",
    "were like were unreasonably derived from their tombstones. \n",
    "The shape of the letters on my father’s, gave me an odd idea that he was a square, stout, \n",
    "dark man, with curly black hair. From the character and turn of the inscription, \n",
    "“Also Georgiana Wife of the Above,” I drew a childish conclusion that my mother was freckled and sickly. \n",
    "To five little stone lozenges, each about a foot and a half long, which were arranged in a neat \n",
    "row beside their grave, and were sacred to the memory of five little brothers of mine,—who gave up trying to \n",
    "get a living, exceedingly early in that universal struggle,—I am indebted for a belief I religiously \n",
    "entertained that they had all been born on their backs with their hands in their trousers-pockets, \n",
    "and had never taken them out in this state of existence.\"\"\"\n",
    "\n",
    "# Q1: Calculate how many unique words are shared (common to both) in dickens_text and alice_text.\n",
    "\n",
    "# Q2: Calculate how many unique words are present (found in either) in dickens_text and/or alice_text.\n"
   ]
  },
  {
   "cell_type": "markdown",
   "metadata": {
    "id": "KZP9y5sgyVm8",
    "slideshow": {
     "slide_type": "slide"
    }
   },
   "source": [
    "# Reading\n",
    "\n",
    "* Read Chapter 9 (tuples): http://openbookproject.net/thinkcs/python/english3e/tuples.html\n",
    "* Read Chapter 11 (lists): http://openbookproject.net/thinkcs/python/english3e/lists.html\n",
    "\n",
    "# Homework\n",
    "\n",
    "* Go to Canvas and complete the lecture quiz, which involves completing each challenge problem\n",
    "* ZyBook Reading 9\n"
   ]
  },
  {
   "cell_type": "markdown",
   "metadata": {
    "slideshow": {
     "slide_type": "slide"
    }
   },
   "source": [
    "# Practice Problems"
   ]
  },
  {
   "cell_type": "code",
   "execution_count": null,
   "metadata": {
    "slideshow": {
     "slide_type": "slide"
    }
   },
   "outputs": [],
   "source": [
    "\"\"\"\n",
    "Problem 1: Tuple Manipulation\n",
    "Write a function that takes a tuple t and returns a new tuple with the first \n",
    "and last elements swapped. If the tuple has length less than 2, return the original tuple.\n",
    "\"\"\"\n",
    "\n",
    "def swap_ends(t):\n",
    "    # Your code here\n",
    "    pass\n",
    "\n",
    "# Test cases\n",
    "assert swap_ends((1, 2, 3, 4)) == (4, 2, 3, 1)\n",
    "assert swap_ends((1,)) == (1,)\n",
    "assert swap_ends(('a', 'b', 'c')) == ('c', 'b', 'a')\n",
    "print(\"All test cases passed for Problem 1!\")"
   ]
  },
  {
   "cell_type": "code",
   "execution_count": null,
   "metadata": {
    "slideshow": {
     "slide_type": "slide"
    }
   },
   "outputs": [],
   "source": [
    "\"\"\"\n",
    "Problem 2: List Filtering\n",
    "Write a function that takes a list and returns a new list with duplicate elements \n",
    "removed while preserving the original order of elements (first occurrence is kept).\n",
    "\"\"\"\n",
    "def remove_duplicates(lst):\n",
    "    # Your code here\n",
    "    pass\n",
    "\n",
    "# Test cases\n",
    "assert remove_duplicates([1, 2, 3, 2, 4, 1, 5]) == [1, 2, 3, 4, 5]\n",
    "assert remove_duplicates(['a', 'b', 'a', 'c', 'b']) == ['a', 'b', 'c']\n",
    "assert remove_duplicates([]) == []\n",
    "print(\"All test cases passed for Problem 2!\")"
   ]
  },
  {
   "cell_type": "code",
   "execution_count": null,
   "metadata": {
    "slideshow": {
     "slide_type": "slide"
    }
   },
   "outputs": [],
   "source": [
    "\"\"\"\n",
    "Problem 3: Dictionary Merging\n",
    "Write a function that takes two dictionaries and returns a new dictionary containing \n",
    "all key-value pairs from both dictionaries. If a key exists in both dictionaries, \n",
    "the value from dict2 should override the value from dict1.\n",
    "\"\"\"\n",
    "def merge_dicts(dict1, dict2):\n",
    "    # Your code here\n",
    "    pass\n",
    "\n",
    "# Test cases\n",
    "d1 = {'a': 1, 'b': 2, 'c': 3}\n",
    "d2 = {'b': 4, 'd': 5}\n",
    "assert merge_dicts(d1, d2) == {'a': 1, 'b': 4, 'c': 3, 'd': 5}\n",
    "assert merge_dicts({'x': 1}, {}) == {'x': 1}\n",
    "assert merge_dicts({}, {'y': 2}) == {'y': 2}\n",
    "print(\"All test cases passed for Problem 3!\")"
   ]
  },
  {
   "cell_type": "code",
   "execution_count": null,
   "metadata": {
    "slideshow": {
     "slide_type": "slide"
    }
   },
   "outputs": [],
   "source": [
    "\"\"\"\n",
    "Problem 4: Lists and Dictionaries\n",
    "Write a function that takes a list of strings and returns a dictionary where \n",
    "the keys are word lengths and the values are lists of words of that length.\n",
    "\"\"\"\n",
    "def group_by_length(words):\n",
    "    # Your code here\n",
    "    pass\n",
    "\n",
    "# Test cases\n",
    "words = ['cat', 'dog', 'apple', 'fish', 'elephant', 'ant']\n",
    "result = group_by_length(words)\n",
    "assert result[3] == ['cat', 'dog', 'ant']\n",
    "assert result[4] == ['fish']\n",
    "assert result[5] == ['apple']\n",
    "assert result[8] == ['elephant']\n",
    "assert group_by_length([]) == {}\n",
    "print(\"All test cases passed for Problem 4!\")"
   ]
  },
  {
   "cell_type": "code",
   "execution_count": null,
   "metadata": {
    "slideshow": {
     "slide_type": "slide"
    }
   },
   "outputs": [],
   "source": [
    "\"\"\"\n",
    "Problem 5: Nested List Manipulation\n",
    "Write a function that calculates the sum of all numbers in a nested list \n",
    "structure of arbitrary depth. The list may contain numbers and other lists.\n",
    "\"\"\"\n",
    "def nested_sum(lst):\n",
    "    # Your code here\n",
    "    pass\n",
    "\n",
    "# Test cases\n",
    "assert nested_sum([1, [2, 3], [4, [5, 6]], 7]) == 28\n",
    "assert nested_sum([1, 2, [3, 4, [5]]]) == 15\n",
    "assert nested_sum([]) == 0\n",
    "assert nested_sum([1, [], [2, []], [], 3]) == 6\n",
    "print(\"All test cases passed for Problem 5!\")"
   ]
  }
 ],
 "metadata": {
  "celltoolbar": "Slideshow",
  "colab": {
   "collapsed_sections": [],
   "name": "L09 Tuples, Lists and Dictionaries.ipynb",
   "provenance": []
  },
  "kernelspec": {
   "display_name": "intro_python_env",
   "language": "python",
   "name": "intro_python_env"
  },
  "language_info": {
   "codemirror_mode": {
    "name": "ipython",
    "version": 3
   },
   "file_extension": ".py",
   "mimetype": "text/x-python",
   "name": "python",
   "nbconvert_exporter": "python",
   "pygments_lexer": "ipython3",
   "version": "3.11.9"
  }
 },
 "nbformat": 4,
 "nbformat_minor": 1
}
